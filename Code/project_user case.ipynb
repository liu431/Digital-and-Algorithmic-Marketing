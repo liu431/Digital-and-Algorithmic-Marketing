{
 "cells": [
  {
   "cell_type": "markdown",
   "metadata": {},
   "source": [
    "## Ranking & Outputs"
   ]
  },
  {
   "cell_type": "code",
   "execution_count": 38,
   "metadata": {},
   "outputs": [
    {
     "data": {
      "application/javascript": [
       "\n",
       "        if (window._pyforest_update_imports_cell) { window._pyforest_update_imports_cell('import pandas as pd\\nimport pickle\\nimport matplotlib.pyplot as plt\\nimport numpy as np'); }\n",
       "    "
      ],
      "text/plain": [
       "<IPython.core.display.Javascript object>"
      ]
     },
     "metadata": {},
     "output_type": "display_data"
    },
    {
     "data": {
      "application/javascript": [
       "\n",
       "        if (window._pyforest_update_imports_cell) { window._pyforest_update_imports_cell('import pandas as pd\\nimport pickle\\nimport matplotlib.pyplot as plt\\nimport numpy as np'); }\n",
       "    "
      ],
      "text/plain": [
       "<IPython.core.display.Javascript object>"
      ]
     },
     "metadata": {},
     "output_type": "display_data"
    }
   ],
   "source": [
    "XX = pd.read_csv(\"user_features.csv\")\n",
    "restaurants = pd.read_csv(\"restaurants.csv\")"
   ]
  },
  {
   "cell_type": "code",
   "execution_count": 39,
   "metadata": {},
   "outputs": [
    {
     "data": {
      "text/plain": [
       "(3778, 15)"
      ]
     },
     "execution_count": 39,
     "metadata": {},
     "output_type": "execute_result"
    }
   ],
   "source": [
    "XX.shape"
   ]
  },
  {
   "cell_type": "code",
   "execution_count": 40,
   "metadata": {},
   "outputs": [
    {
     "data": {
      "text/plain": [
       "(3990, 25)"
      ]
     },
     "execution_count": 40,
     "metadata": {},
     "output_type": "execute_result"
    }
   ],
   "source": [
    "restaurants.shape"
   ]
  },
  {
   "cell_type": "code",
   "execution_count": 54,
   "metadata": {},
   "outputs": [
    {
     "data": {
      "text/plain": [
       "Index(['key_0', 'business_id', 'name', 'neighborhood', 'address', 'latitude',\n",
       "       'longitude', 'stars', 'review_count', 'categories', 'popular', 'gender',\n",
       "       'weekend', 'vegan', 'kid', 'group', 'Ameri', 'Europ', 'SouAM', 'Asian',\n",
       "       'Indian', 'Chinese', 'MidEas', 'Drinks', 'utility', 'distance'],\n",
       "      dtype='object')"
      ]
     },
     "execution_count": 54,
     "metadata": {},
     "output_type": "execute_result"
    }
   ],
   "source": [
    "restaurants.columns"
   ]
  },
  {
   "cell_type": "code",
   "execution_count": 113,
   "metadata": {},
   "outputs": [
    {
     "data": {
      "text/plain": [
       "Index(['popular', 'gender', 'weekend', 'vegan', 'kid', 'group', 'Ameri',\n",
       "       'Europ', 'SouAM', 'Asian', 'Indian', 'Chinese', 'MidEas', 'Drinks',\n",
       "       'utility'],\n",
       "      dtype='object')"
      ]
     },
     "execution_count": 113,
     "metadata": {},
     "output_type": "execute_result"
    }
   ],
   "source": [
    "XX.columns"
   ]
  },
  {
   "cell_type": "markdown",
   "metadata": {},
   "source": [
    "## Starting location: Flamingo Las Vegas (36.116111, -115.170556)\n",
    "\n",
    "Assuming one person's walking speed is 0.1km per minute."
   ]
  },
  {
   "cell_type": "code",
   "execution_count": 152,
   "metadata": {},
   "outputs": [
    {
     "data": {
      "application/javascript": [
       "\n",
       "        if (window._pyforest_update_imports_cell) { window._pyforest_update_imports_cell('import pandas as pd\\nimport pickle\\nimport matplotlib.pyplot as plt\\nimport numpy as np'); }\n",
       "    "
      ],
      "text/plain": [
       "<IPython.core.display.Javascript object>"
      ]
     },
     "metadata": {},
     "output_type": "display_data"
    }
   ],
   "source": [
    "loc = [36.116111, -115.170556]\n",
    "restaurants['distance'] = np.sqrt((restaurants['latitude'] - loc[0])**2 + (restaurants['longitude'] - loc[1])**2)\n",
    "restaurants['distance_walking'] = abs(restaurants['latitude'] - loc[0]) + abs(restaurants['longitude'] - loc[1])\n",
    "restaurants['walking_minutes'] = restaurants['distance_walking']*10"
   ]
  },
  {
   "cell_type": "markdown",
   "metadata": {},
   "source": [
    "### Default ranking"
   ]
  },
  {
   "cell_type": "markdown",
   "metadata": {},
   "source": [
    "#### Rank by utilities"
   ]
  },
  {
   "cell_type": "code",
   "execution_count": 59,
   "metadata": {},
   "outputs": [
    {
     "data": {
      "text/html": [
       "<div>\n",
       "<style scoped>\n",
       "    .dataframe tbody tr th:only-of-type {\n",
       "        vertical-align: middle;\n",
       "    }\n",
       "\n",
       "    .dataframe tbody tr th {\n",
       "        vertical-align: top;\n",
       "    }\n",
       "\n",
       "    .dataframe thead th {\n",
       "        text-align: right;\n",
       "    }\n",
       "</style>\n",
       "<table border=\"1\" class=\"dataframe\">\n",
       "  <thead>\n",
       "    <tr style=\"text-align: right;\">\n",
       "      <th></th>\n",
       "      <th>name</th>\n",
       "      <th>address</th>\n",
       "      <th>utility</th>\n",
       "    </tr>\n",
       "  </thead>\n",
       "  <tbody>\n",
       "    <tr>\n",
       "      <th>339</th>\n",
       "      <td>\"Meraki Greek Grill\"</td>\n",
       "      <td>\"4950 S Rainbow Blvd, Ste 160\"</td>\n",
       "      <td>56.945889</td>\n",
       "    </tr>\n",
       "    <tr>\n",
       "      <th>92</th>\n",
       "      <td>\"Lucki Thai\"</td>\n",
       "      <td>\"467 E Silverado Ranch Blvd\"</td>\n",
       "      <td>55.816374</td>\n",
       "    </tr>\n",
       "    <tr>\n",
       "      <th>3310</th>\n",
       "      <td>\"Island Style Restaurant\"</td>\n",
       "      <td>\"3909 W Sahara Ave, Ste 1\"</td>\n",
       "      <td>55.593310</td>\n",
       "    </tr>\n",
       "    <tr>\n",
       "      <th>1320</th>\n",
       "      <td>\"Ramen Tatsu\"</td>\n",
       "      <td>\"3400 S Jones Blvd, Ste 6\"</td>\n",
       "      <td>55.522444</td>\n",
       "    </tr>\n",
       "    <tr>\n",
       "      <th>3953</th>\n",
       "      <td>\"Ronald's Donuts\"</td>\n",
       "      <td>\"4600 Spring Mountain Rd\"</td>\n",
       "      <td>55.362644</td>\n",
       "    </tr>\n",
       "    <tr>\n",
       "      <th>3027</th>\n",
       "      <td>\"Zaytoon Restaurant\"</td>\n",
       "      <td>\"3655 S Durango Dr, Ste 11-14\"</td>\n",
       "      <td>55.290851</td>\n",
       "    </tr>\n",
       "    <tr>\n",
       "      <th>895</th>\n",
       "      <td>\"Veggie House\"</td>\n",
       "      <td>\"5115 Spring Mountain Rd, Ste 203\"</td>\n",
       "      <td>55.202285</td>\n",
       "    </tr>\n",
       "    <tr>\n",
       "      <th>1238</th>\n",
       "      <td>\"Yassou\"</td>\n",
       "      <td>\"7871 W Charleston Blvd\"</td>\n",
       "      <td>55.149574</td>\n",
       "    </tr>\n",
       "    <tr>\n",
       "      <th>3070</th>\n",
       "      <td>\"Firefly\"</td>\n",
       "      <td>\"3824 Paradise Rd\"</td>\n",
       "      <td>55.110550</td>\n",
       "    </tr>\n",
       "    <tr>\n",
       "      <th>1390</th>\n",
       "      <td>\"é by José Andrés\"</td>\n",
       "      <td>\"3708 Las Vegas Blvd S\"</td>\n",
       "      <td>55.082319</td>\n",
       "    </tr>\n",
       "  </tbody>\n",
       "</table>\n",
       "</div>"
      ],
      "text/plain": [
       "                           name                             address    utility\n",
       "339        \"Meraki Greek Grill\"      \"4950 S Rainbow Blvd, Ste 160\"  56.945889\n",
       "92                 \"Lucki Thai\"        \"467 E Silverado Ranch Blvd\"  55.816374\n",
       "3310  \"Island Style Restaurant\"          \"3909 W Sahara Ave, Ste 1\"  55.593310\n",
       "1320              \"Ramen Tatsu\"          \"3400 S Jones Blvd, Ste 6\"  55.522444\n",
       "3953          \"Ronald's Donuts\"           \"4600 Spring Mountain Rd\"  55.362644\n",
       "3027       \"Zaytoon Restaurant\"      \"3655 S Durango Dr, Ste 11-14\"  55.290851\n",
       "895              \"Veggie House\"  \"5115 Spring Mountain Rd, Ste 203\"  55.202285\n",
       "1238                   \"Yassou\"            \"7871 W Charleston Blvd\"  55.149574\n",
       "3070                  \"Firefly\"                  \"3824 Paradise Rd\"  55.110550\n",
       "1390         \"é by José Andrés\"             \"3708 Las Vegas Blvd S\"  55.082319"
      ]
     },
     "execution_count": 59,
     "metadata": {},
     "output_type": "execute_result"
    }
   ],
   "source": [
    "restaurants.sort_values(by='utility', ascending = False)[['name', 'address', 'utility']].head(10)"
   ]
  },
  {
   "cell_type": "markdown",
   "metadata": {},
   "source": [
    "#### Rank by distance"
   ]
  },
  {
   "cell_type": "code",
   "execution_count": 58,
   "metadata": {},
   "outputs": [
    {
     "data": {
      "text/html": [
       "<div>\n",
       "<style scoped>\n",
       "    .dataframe tbody tr th:only-of-type {\n",
       "        vertical-align: middle;\n",
       "    }\n",
       "\n",
       "    .dataframe tbody tr th {\n",
       "        vertical-align: top;\n",
       "    }\n",
       "\n",
       "    .dataframe thead th {\n",
       "        text-align: right;\n",
       "    }\n",
       "</style>\n",
       "<table border=\"1\" class=\"dataframe\">\n",
       "  <thead>\n",
       "    <tr style=\"text-align: right;\">\n",
       "      <th></th>\n",
       "      <th>name</th>\n",
       "      <th>address</th>\n",
       "      <th>distance</th>\n",
       "    </tr>\n",
       "  </thead>\n",
       "  <tbody>\n",
       "    <tr>\n",
       "      <th>682</th>\n",
       "      <td>\"Carlos'n Charlie's\"</td>\n",
       "      <td>\"3555 S Las Vegas Blvd\"</td>\n",
       "      <td>0.000847</td>\n",
       "    </tr>\n",
       "    <tr>\n",
       "      <th>789</th>\n",
       "      <td>\"Paradise Garden Buffet\"</td>\n",
       "      <td>\"3555 Las Vegas Blvd S\"</td>\n",
       "      <td>0.000938</td>\n",
       "    </tr>\n",
       "    <tr>\n",
       "      <th>3031</th>\n",
       "      <td>\"Flour &amp; Barley\"</td>\n",
       "      <td>\"3545 Las Vegas Blvd S\"</td>\n",
       "      <td>0.001257</td>\n",
       "    </tr>\n",
       "    <tr>\n",
       "      <th>31</th>\n",
       "      <td>\"Tilted Kilt Pub &amp; Eatery\"</td>\n",
       "      <td>\"3545 Las Vegas Blvd, Unit L-26\"</td>\n",
       "      <td>0.001295</td>\n",
       "    </tr>\n",
       "    <tr>\n",
       "      <th>1047</th>\n",
       "      <td>\"In-N-Out Burger\"</td>\n",
       "      <td>\"3545 S Las Vegas Blvd, Ste L24\"</td>\n",
       "      <td>0.001367</td>\n",
       "    </tr>\n",
       "    <tr>\n",
       "      <th>3667</th>\n",
       "      <td>\"Jaburritos\"</td>\n",
       "      <td>\"3535 S Las Vegas Blvd\"</td>\n",
       "      <td>0.001488</td>\n",
       "    </tr>\n",
       "    <tr>\n",
       "      <th>2737</th>\n",
       "      <td>\"Bonanno's New York Pizzeria\"</td>\n",
       "      <td>\"Flamingo Hotel and Casino, 3555 Las Vegas Blv...</td>\n",
       "      <td>0.001508</td>\n",
       "    </tr>\n",
       "    <tr>\n",
       "      <th>3304</th>\n",
       "      <td>\"Pan Asian Express\"</td>\n",
       "      <td>\"Flamingo Hotel and Casino, 3555 Las Vegas Blv...</td>\n",
       "      <td>0.001520</td>\n",
       "    </tr>\n",
       "    <tr>\n",
       "      <th>415</th>\n",
       "      <td>\"Virgil's Real Barbecue - Las Vegas\"</td>\n",
       "      <td>\"3545 Las Vegas Blvd\"</td>\n",
       "      <td>0.001556</td>\n",
       "    </tr>\n",
       "    <tr>\n",
       "      <th>582</th>\n",
       "      <td>\"LA Subs &amp; Salads\"</td>\n",
       "      <td>\"Flamingo Hotel and Casino, 3555 Las Vegas Blv...</td>\n",
       "      <td>0.001583</td>\n",
       "    </tr>\n",
       "  </tbody>\n",
       "</table>\n",
       "</div>"
      ],
      "text/plain": [
       "                                      name  \\\n",
       "682                   \"Carlos'n Charlie's\"   \n",
       "789               \"Paradise Garden Buffet\"   \n",
       "3031                      \"Flour & Barley\"   \n",
       "31              \"Tilted Kilt Pub & Eatery\"   \n",
       "1047                     \"In-N-Out Burger\"   \n",
       "3667                          \"Jaburritos\"   \n",
       "2737         \"Bonanno's New York Pizzeria\"   \n",
       "3304                   \"Pan Asian Express\"   \n",
       "415   \"Virgil's Real Barbecue - Las Vegas\"   \n",
       "582                     \"LA Subs & Salads\"   \n",
       "\n",
       "                                                address  distance  \n",
       "682                             \"3555 S Las Vegas Blvd\"  0.000847  \n",
       "789                             \"3555 Las Vegas Blvd S\"  0.000938  \n",
       "3031                            \"3545 Las Vegas Blvd S\"  0.001257  \n",
       "31                     \"3545 Las Vegas Blvd, Unit L-26\"  0.001295  \n",
       "1047                   \"3545 S Las Vegas Blvd, Ste L24\"  0.001367  \n",
       "3667                            \"3535 S Las Vegas Blvd\"  0.001488  \n",
       "2737  \"Flamingo Hotel and Casino, 3555 Las Vegas Blv...  0.001508  \n",
       "3304  \"Flamingo Hotel and Casino, 3555 Las Vegas Blv...  0.001520  \n",
       "415                               \"3545 Las Vegas Blvd\"  0.001556  \n",
       "582   \"Flamingo Hotel and Casino, 3555 Las Vegas Blv...  0.001583  "
      ]
     },
     "execution_count": 58,
     "metadata": {},
     "output_type": "execute_result"
    }
   ],
   "source": [
    "restaurants.sort_values(by='distance', ascending = True)[['name', 'address', 'distance']].head(10)"
   ]
  },
  {
   "cell_type": "markdown",
   "metadata": {},
   "source": [
    "#### Rank by kids-friendly"
   ]
  },
  {
   "cell_type": "code",
   "execution_count": 57,
   "metadata": {},
   "outputs": [
    {
     "data": {
      "text/html": [
       "<div>\n",
       "<style scoped>\n",
       "    .dataframe tbody tr th:only-of-type {\n",
       "        vertical-align: middle;\n",
       "    }\n",
       "\n",
       "    .dataframe tbody tr th {\n",
       "        vertical-align: top;\n",
       "    }\n",
       "\n",
       "    .dataframe thead th {\n",
       "        text-align: right;\n",
       "    }\n",
       "</style>\n",
       "<table border=\"1\" class=\"dataframe\">\n",
       "  <thead>\n",
       "    <tr style=\"text-align: right;\">\n",
       "      <th></th>\n",
       "      <th>name</th>\n",
       "      <th>address</th>\n",
       "      <th>kid</th>\n",
       "    </tr>\n",
       "  </thead>\n",
       "  <tbody>\n",
       "    <tr>\n",
       "      <th>998</th>\n",
       "      <td>\"Big Horn Cafe\"</td>\n",
       "      <td>\"6725 Lee Canyon Rd\"</td>\n",
       "      <td>1.000000</td>\n",
       "    </tr>\n",
       "    <tr>\n",
       "      <th>2911</th>\n",
       "      <td>\"Angel &amp; Willy's Roadhouse Grill\"</td>\n",
       "      <td>\"10950 State Hwy 160\"</td>\n",
       "      <td>1.000000</td>\n",
       "    </tr>\n",
       "    <tr>\n",
       "      <th>2585</th>\n",
       "      <td>\"Chinese New Year Celebration\"</td>\n",
       "      <td>\"4205 Spring Mountain Rd\"</td>\n",
       "      <td>1.000000</td>\n",
       "    </tr>\n",
       "    <tr>\n",
       "      <th>3249</th>\n",
       "      <td>\"Buck's Tavern\"</td>\n",
       "      <td>\"1204 N Nellis Blvd\"</td>\n",
       "      <td>1.000000</td>\n",
       "    </tr>\n",
       "    <tr>\n",
       "      <th>2744</th>\n",
       "      <td>\"Chuck E. Cheese's\"</td>\n",
       "      <td>\"9230 S Eastern Ave, Ste 100\"</td>\n",
       "      <td>0.777778</td>\n",
       "    </tr>\n",
       "    <tr>\n",
       "      <th>3861</th>\n",
       "      <td>\"LOL Kids Club\"</td>\n",
       "      <td>\"7460 S Rainbow Blvd, Unit 130\"</td>\n",
       "      <td>0.761905</td>\n",
       "    </tr>\n",
       "    <tr>\n",
       "      <th>154</th>\n",
       "      <td>\"McDonald's\"</td>\n",
       "      <td>\"7200 Arroyo Crossing Pkwy\"</td>\n",
       "      <td>0.666667</td>\n",
       "    </tr>\n",
       "    <tr>\n",
       "      <th>3176</th>\n",
       "      <td>\"Red Shrimp Company\"</td>\n",
       "      <td>\"4060 S Jones Blvd\"</td>\n",
       "      <td>0.666667</td>\n",
       "    </tr>\n",
       "    <tr>\n",
       "      <th>1692</th>\n",
       "      <td>\"Chuck E. Cheese's\"</td>\n",
       "      <td>\"7381 W Lake Mead Blvd\"</td>\n",
       "      <td>0.652174</td>\n",
       "    </tr>\n",
       "    <tr>\n",
       "      <th>2491</th>\n",
       "      <td>\"Cobrinha Brazilian Jiu Jitsu Academy\"</td>\n",
       "      <td>\"321 N Buffalo Dr, Ste 120\"</td>\n",
       "      <td>0.538462</td>\n",
       "    </tr>\n",
       "  </tbody>\n",
       "</table>\n",
       "</div>"
      ],
      "text/plain": [
       "                                        name                          address  \\\n",
       "998                          \"Big Horn Cafe\"             \"6725 Lee Canyon Rd\"   \n",
       "2911       \"Angel & Willy's Roadhouse Grill\"            \"10950 State Hwy 160\"   \n",
       "2585          \"Chinese New Year Celebration\"        \"4205 Spring Mountain Rd\"   \n",
       "3249                         \"Buck's Tavern\"             \"1204 N Nellis Blvd\"   \n",
       "2744                     \"Chuck E. Cheese's\"    \"9230 S Eastern Ave, Ste 100\"   \n",
       "3861                         \"LOL Kids Club\"  \"7460 S Rainbow Blvd, Unit 130\"   \n",
       "154                             \"McDonald's\"      \"7200 Arroyo Crossing Pkwy\"   \n",
       "3176                    \"Red Shrimp Company\"              \"4060 S Jones Blvd\"   \n",
       "1692                     \"Chuck E. Cheese's\"          \"7381 W Lake Mead Blvd\"   \n",
       "2491  \"Cobrinha Brazilian Jiu Jitsu Academy\"      \"321 N Buffalo Dr, Ste 120\"   \n",
       "\n",
       "           kid  \n",
       "998   1.000000  \n",
       "2911  1.000000  \n",
       "2585  1.000000  \n",
       "3249  1.000000  \n",
       "2744  0.777778  \n",
       "3861  0.761905  \n",
       "154   0.666667  \n",
       "3176  0.666667  \n",
       "1692  0.652174  \n",
       "2491  0.538462  "
      ]
     },
     "execution_count": 57,
     "metadata": {},
     "output_type": "execute_result"
    }
   ],
   "source": [
    "restaurants.sort_values(by='kid', ascending = False)[['name', 'address', 'kid']].head(10)"
   ]
  },
  {
   "cell_type": "markdown",
   "metadata": {},
   "source": [
    "### Personalized Ranking"
   ]
  },
  {
   "cell_type": "markdown",
   "metadata": {},
   "source": [
    "__Suresh__: male, prefer Indian and Asian food, vegan (important), prefer nearby restaurants\n",
    "\n",
    "__Suresh's kids__: need kids food (very important)\n",
    "\n",
    "__Li__: male, prefer Chinese and Europ food, non-vegan (not important), prefer nearby restaurants\n",
    "\n",
    "__Xi__: female, prefer Chinese and SouAm food, non-vegan (not important), prefer nearby restaurants\n",
    "\n",
    "They go out for eat on the weekend, leaving from Flamingo Las Vegas (36.116111, -115.170556)."
   ]
  },
  {
   "cell_type": "markdown",
   "metadata": {},
   "source": [
    "|  | popular | gender | weekend | vegan | kid | group | Ameri | Europ | SouAM | Asian | Indian | Chinese | MidEas| Drinks |\n",
    "| --- | --- | --- | --- | --- | --- | --- | --- | --- | -- | --- | --- | --- | --- | --- | \n",
    "| Suresh (with kids) | 1 | 0 | 1 | 1 (important) | 1(important) | 1 | 0 | 0 | 1 | 1 | 1 | 0 | 0 | 0 |\n",
    "| Li                 | 1 | 0 | 1 | 0 | 0 | 1 | 1 | 1 | 0 | 1 | 1 | 1 | 0 | 0 |\n",
    "| Xi                 | 1 | 1 | 1 | 0 | 0 | 1 | 0 | 1 | 0 | 0 | 0 | 1 | 1 | 1 |\n",
    "|Aggregated(G)       | 1 | 1/3 | 1 | 1 | 1 | 1 | 1/3 | 2/3 | 1/3 | 2/3 | 2/3 | 2/3 | 1/3 | 1/3 |"
   ]
  },
  {
   "cell_type": "code",
   "execution_count": 84,
   "metadata": {},
   "outputs": [],
   "source": [
    "def similarity(restaurants, **kwargs):\n",
    "    score = 0\n",
    "    \n",
    "    for feature in kwargs:\n",
    "        score += (restaurants[feature]-kwargs[feature])**2\n",
    "        \n",
    "    return score"
   ]
  },
  {
   "cell_type": "code",
   "execution_count": 143,
   "metadata": {},
   "outputs": [],
   "source": [
    "restaurants['similarity'] = restaurants.apply(similarity, popular = 1, gender = 0.33, \n",
    "                                              weekend = 1, vegan = 1, kid = 1, group = 1, Ameri = 0.33,\n",
    "                                              Europ = 0.67, SouAM = 0.33, Asian = 0.67, Indian = 0.67, \n",
    "                                              Chinese = 0.67, MidEas = 0.33, Drinks = 0.33, axis=1)"
   ]
  },
  {
   "cell_type": "code",
   "execution_count": 144,
   "metadata": {},
   "outputs": [],
   "source": [
    "restaurants['utility_reweighted'] = restaurants['utility']/restaurants['similarity']"
   ]
  },
  {
   "cell_type": "markdown",
   "metadata": {},
   "source": [
    "#### Ranking "
   ]
  },
  {
   "cell_type": "code",
   "execution_count": 145,
   "metadata": {},
   "outputs": [
    {
     "data": {
      "application/javascript": [
       "\n",
       "        if (window._pyforest_update_imports_cell) { window._pyforest_update_imports_cell('import pandas as pd\\nimport pickle\\nimport matplotlib.pyplot as plt\\nimport numpy as np'); }\n",
       "    "
      ],
      "text/plain": [
       "<IPython.core.display.Javascript object>"
      ]
     },
     "metadata": {},
     "output_type": "display_data"
    },
    {
     "data": {
      "application/javascript": [
       "\n",
       "        if (window._pyforest_update_imports_cell) { window._pyforest_update_imports_cell('import pandas as pd\\nimport pickle\\nimport matplotlib.pyplot as plt\\nimport numpy as np'); }\n",
       "    "
      ],
      "text/plain": [
       "<IPython.core.display.Javascript object>"
      ]
     },
     "metadata": {},
     "output_type": "display_data"
    }
   ],
   "source": [
    "rank = restaurants.sort_values(by='utility_reweighted', ascending = False)[['name', 'address', 'similarity',\n",
    "                                                                    'utility_reweighted', 'distance',\n",
    "                                                                            'walking_minutes']].head(10)\n",
    "rank.index = pd.Index([int(i) for i in np.linspace(1, 10, 10)])"
   ]
  },
  {
   "cell_type": "code",
   "execution_count": 151,
   "metadata": {},
   "outputs": [
    {
     "data": {
      "text/html": [
       "<div>\n",
       "<style scoped>\n",
       "    .dataframe tbody tr th:only-of-type {\n",
       "        vertical-align: middle;\n",
       "    }\n",
       "\n",
       "    .dataframe tbody tr th {\n",
       "        vertical-align: top;\n",
       "    }\n",
       "\n",
       "    .dataframe thead th {\n",
       "        text-align: right;\n",
       "    }\n",
       "</style>\n",
       "<table border=\"1\" class=\"dataframe\">\n",
       "  <thead>\n",
       "    <tr style=\"text-align: right;\">\n",
       "      <th></th>\n",
       "      <th>name</th>\n",
       "      <th>address</th>\n",
       "      <th>similarity</th>\n",
       "      <th>utility_reweighted</th>\n",
       "      <th>distance</th>\n",
       "      <th>walking_minutes</th>\n",
       "    </tr>\n",
       "  </thead>\n",
       "  <tbody>\n",
       "    <tr>\n",
       "      <th>1</th>\n",
       "      <td>\"Veggie House\"</td>\n",
       "      <td>\"5115 Spring Mountain Rd, Ste 203\"</td>\n",
       "      <td>3.53</td>\n",
       "      <td>15.65</td>\n",
       "      <td>0.04</td>\n",
       "      <td>0.50</td>\n",
       "    </tr>\n",
       "    <tr>\n",
       "      <th>2</th>\n",
       "      <td>\"Raku\"</td>\n",
       "      <td>\"5030 Spring Mountain Rd, Ste 2\"</td>\n",
       "      <td>3.67</td>\n",
       "      <td>14.91</td>\n",
       "      <td>0.04</td>\n",
       "      <td>0.50</td>\n",
       "    </tr>\n",
       "    <tr>\n",
       "      <th>3</th>\n",
       "      <td>\"Chubby Cattle\"</td>\n",
       "      <td>\"3400 S Jones Blvd, Ste 15\"</td>\n",
       "      <td>3.68</td>\n",
       "      <td>14.71</td>\n",
       "      <td>0.05</td>\n",
       "      <td>0.65</td>\n",
       "    </tr>\n",
       "    <tr>\n",
       "      <th>4</th>\n",
       "      <td>\"Nittaya's Secret Kitchen\"</td>\n",
       "      <td>\"2110 N Rampart, Ste 110\"</td>\n",
       "      <td>3.69</td>\n",
       "      <td>14.63</td>\n",
       "      <td>0.14</td>\n",
       "      <td>1.94</td>\n",
       "    </tr>\n",
       "    <tr>\n",
       "      <th>5</th>\n",
       "      <td>\"Trattoria Nakamura-Ya\"</td>\n",
       "      <td>\"5040 W Spring Mountain Rd, Ste 5\"</td>\n",
       "      <td>3.81</td>\n",
       "      <td>14.16</td>\n",
       "      <td>0.04</td>\n",
       "      <td>0.50</td>\n",
       "    </tr>\n",
       "    <tr>\n",
       "      <th>6</th>\n",
       "      <td>\"Meraki Greek Grill\"</td>\n",
       "      <td>\"4950 S Rainbow Blvd, Ste 160\"</td>\n",
       "      <td>4.06</td>\n",
       "      <td>14.01</td>\n",
       "      <td>0.07</td>\n",
       "      <td>0.89</td>\n",
       "    </tr>\n",
       "    <tr>\n",
       "      <th>7</th>\n",
       "      <td>\"Cleo\"</td>\n",
       "      <td>\"2535 S Las Vegas Blvd\"</td>\n",
       "      <td>3.88</td>\n",
       "      <td>13.97</td>\n",
       "      <td>0.03</td>\n",
       "      <td>0.40</td>\n",
       "    </tr>\n",
       "    <tr>\n",
       "      <th>8</th>\n",
       "      <td>\"Big Wong Restaurant\"</td>\n",
       "      <td>\"5040 Spring Mountain Rd\"</td>\n",
       "      <td>3.58</td>\n",
       "      <td>13.96</td>\n",
       "      <td>0.04</td>\n",
       "      <td>0.50</td>\n",
       "    </tr>\n",
       "    <tr>\n",
       "      <th>9</th>\n",
       "      <td>\"Shang Artisan Noodle\"</td>\n",
       "      <td>\"4983 W Flamingo Rd, Ste B\"</td>\n",
       "      <td>3.84</td>\n",
       "      <td>13.93</td>\n",
       "      <td>0.04</td>\n",
       "      <td>0.40</td>\n",
       "    </tr>\n",
       "    <tr>\n",
       "      <th>10</th>\n",
       "      <td>\"Estiatorio Milos\"</td>\n",
       "      <td>\"3708 Las Vegas Blvd S\"</td>\n",
       "      <td>3.81</td>\n",
       "      <td>13.93</td>\n",
       "      <td>0.01</td>\n",
       "      <td>0.10</td>\n",
       "    </tr>\n",
       "  </tbody>\n",
       "</table>\n",
       "</div>"
      ],
      "text/plain": [
       "                          name                             address  \\\n",
       "1               \"Veggie House\"  \"5115 Spring Mountain Rd, Ste 203\"   \n",
       "2                       \"Raku\"    \"5030 Spring Mountain Rd, Ste 2\"   \n",
       "3              \"Chubby Cattle\"         \"3400 S Jones Blvd, Ste 15\"   \n",
       "4   \"Nittaya's Secret Kitchen\"           \"2110 N Rampart, Ste 110\"   \n",
       "5      \"Trattoria Nakamura-Ya\"  \"5040 W Spring Mountain Rd, Ste 5\"   \n",
       "6         \"Meraki Greek Grill\"      \"4950 S Rainbow Blvd, Ste 160\"   \n",
       "7                       \"Cleo\"             \"2535 S Las Vegas Blvd\"   \n",
       "8        \"Big Wong Restaurant\"           \"5040 Spring Mountain Rd\"   \n",
       "9       \"Shang Artisan Noodle\"         \"4983 W Flamingo Rd, Ste B\"   \n",
       "10          \"Estiatorio Milos\"             \"3708 Las Vegas Blvd S\"   \n",
       "\n",
       "    similarity  utility_reweighted  distance  walking_minutes  \n",
       "1         3.53               15.65      0.04             0.50  \n",
       "2         3.67               14.91      0.04             0.50  \n",
       "3         3.68               14.71      0.05             0.65  \n",
       "4         3.69               14.63      0.14             1.94  \n",
       "5         3.81               14.16      0.04             0.50  \n",
       "6         4.06               14.01      0.07             0.89  \n",
       "7         3.88               13.97      0.03             0.40  \n",
       "8         3.58               13.96      0.04             0.50  \n",
       "9         3.84               13.93      0.04             0.40  \n",
       "10        3.81               13.93      0.01             0.10  "
      ]
     },
     "execution_count": 151,
     "metadata": {},
     "output_type": "execute_result"
    }
   ],
   "source": [
    "rank.round(2)"
   ]
  },
  {
   "cell_type": "code",
   "execution_count": 106,
   "metadata": {},
   "outputs": [
    {
     "data": {
      "text/html": [
       "<div>\n",
       "<style scoped>\n",
       "    .dataframe tbody tr th:only-of-type {\n",
       "        vertical-align: middle;\n",
       "    }\n",
       "\n",
       "    .dataframe tbody tr th {\n",
       "        vertical-align: top;\n",
       "    }\n",
       "\n",
       "    .dataframe thead th {\n",
       "        text-align: right;\n",
       "    }\n",
       "</style>\n",
       "<table border=\"1\" class=\"dataframe\">\n",
       "  <thead>\n",
       "    <tr style=\"text-align: right;\">\n",
       "      <th></th>\n",
       "      <th>name</th>\n",
       "      <th>address</th>\n",
       "      <th>similarity</th>\n",
       "      <th>utility_reweighted</th>\n",
       "      <th>distance</th>\n",
       "    </tr>\n",
       "  </thead>\n",
       "  <tbody>\n",
       "    <tr>\n",
       "      <th>1903</th>\n",
       "      <td>\"Fogo de Chão Brazilian Steakhouse\"</td>\n",
       "      <td>\"360 E Flamingo Rd\"</td>\n",
       "      <td>2.874644</td>\n",
       "      <td>18.076145</td>\n",
       "      <td>0.014144</td>\n",
       "    </tr>\n",
       "    <tr>\n",
       "      <th>711</th>\n",
       "      <td>\"Del Frisco's Double Eagle Steak House\"</td>\n",
       "      <td>\"3925 Paradise Rd\"</td>\n",
       "      <td>2.941861</td>\n",
       "      <td>18.444544</td>\n",
       "      <td>0.015233</td>\n",
       "    </tr>\n",
       "    <tr>\n",
       "      <th>770</th>\n",
       "      <td>\"Joyful House Chinese Cuisine\"</td>\n",
       "      <td>\"4601 Spring Mountain Rd\"</td>\n",
       "      <td>2.669235</td>\n",
       "      <td>18.589845</td>\n",
       "      <td>0.034318</td>\n",
       "    </tr>\n",
       "    <tr>\n",
       "      <th>3953</th>\n",
       "      <td>\"Ronald's Donuts\"</td>\n",
       "      <td>\"4600 Spring Mountain Rd\"</td>\n",
       "      <td>2.922497</td>\n",
       "      <td>18.943611</td>\n",
       "      <td>0.035252</td>\n",
       "    </tr>\n",
       "    <tr>\n",
       "      <th>895</th>\n",
       "      <td>\"Veggie House\"</td>\n",
       "      <td>\"5115 Spring Mountain Rd, Ste 203\"</td>\n",
       "      <td>2.228397</td>\n",
       "      <td>24.772192</td>\n",
       "      <td>0.042045</td>\n",
       "    </tr>\n",
       "    <tr>\n",
       "      <th>2882</th>\n",
       "      <td>\"Texas de Brazil\"</td>\n",
       "      <td>\"6533 Las Vegas Blvd S\"</td>\n",
       "      <td>2.614818</td>\n",
       "      <td>20.173661</td>\n",
       "      <td>0.046224</td>\n",
       "    </tr>\n",
       "    <tr>\n",
       "      <th>2292</th>\n",
       "      <td>\"Simply Pure by Chef Stacey Dougan\"</td>\n",
       "      <td>\"707 Fremont St, Ste 1310\"</td>\n",
       "      <td>2.607002</td>\n",
       "      <td>20.137686</td>\n",
       "      <td>0.061099</td>\n",
       "    </tr>\n",
       "    <tr>\n",
       "      <th>2148</th>\n",
       "      <td>\"Downtown Container Park\"</td>\n",
       "      <td>\"707 Fremont St\"</td>\n",
       "      <td>2.532746</td>\n",
       "      <td>18.279102</td>\n",
       "      <td>0.061245</td>\n",
       "    </tr>\n",
       "    <tr>\n",
       "      <th>1923</th>\n",
       "      <td>\"The Hush Puppy\"</td>\n",
       "      <td>\"7185 W Charleston Blvd\"</td>\n",
       "      <td>2.769837</td>\n",
       "      <td>17.873966</td>\n",
       "      <td>0.090315</td>\n",
       "    </tr>\n",
       "    <tr>\n",
       "      <th>769</th>\n",
       "      <td>\"Echo &amp; Rig\"</td>\n",
       "      <td>\"440 S Rampart Blvd\"</td>\n",
       "      <td>2.989858</td>\n",
       "      <td>18.382212</td>\n",
       "      <td>0.126205</td>\n",
       "    </tr>\n",
       "  </tbody>\n",
       "</table>\n",
       "</div>"
      ],
      "text/plain": [
       "                                         name  \\\n",
       "1903      \"Fogo de Chão Brazilian Steakhouse\"   \n",
       "711   \"Del Frisco's Double Eagle Steak House\"   \n",
       "770            \"Joyful House Chinese Cuisine\"   \n",
       "3953                        \"Ronald's Donuts\"   \n",
       "895                            \"Veggie House\"   \n",
       "2882                        \"Texas de Brazil\"   \n",
       "2292      \"Simply Pure by Chef Stacey Dougan\"   \n",
       "2148                \"Downtown Container Park\"   \n",
       "1923                         \"The Hush Puppy\"   \n",
       "769                              \"Echo & Rig\"   \n",
       "\n",
       "                                 address  similarity  utility_reweighted  \\\n",
       "1903                 \"360 E Flamingo Rd\"    2.874644           18.076145   \n",
       "711                   \"3925 Paradise Rd\"    2.941861           18.444544   \n",
       "770            \"4601 Spring Mountain Rd\"    2.669235           18.589845   \n",
       "3953           \"4600 Spring Mountain Rd\"    2.922497           18.943611   \n",
       "895   \"5115 Spring Mountain Rd, Ste 203\"    2.228397           24.772192   \n",
       "2882             \"6533 Las Vegas Blvd S\"    2.614818           20.173661   \n",
       "2292          \"707 Fremont St, Ste 1310\"    2.607002           20.137686   \n",
       "2148                    \"707 Fremont St\"    2.532746           18.279102   \n",
       "1923            \"7185 W Charleston Blvd\"    2.769837           17.873966   \n",
       "769                 \"440 S Rampart Blvd\"    2.989858           18.382212   \n",
       "\n",
       "      distance  \n",
       "1903  0.014144  \n",
       "711   0.015233  \n",
       "770   0.034318  \n",
       "3953  0.035252  \n",
       "895   0.042045  \n",
       "2882  0.046224  \n",
       "2292  0.061099  \n",
       "2148  0.061245  \n",
       "1923  0.090315  \n",
       "769   0.126205  "
      ]
     },
     "execution_count": 106,
     "metadata": {},
     "output_type": "execute_result"
    }
   ],
   "source": [
    "top10.sort_values(by='distance', ascending = True)[['name', 'address', 'similarity', 'utility_reweighted', 'distance']]"
   ]
  }
 ],
 "metadata": {
  "kernelspec": {
   "display_name": "Python 3",
   "language": "python",
   "name": "python3"
  },
  "language_info": {
   "codemirror_mode": {
    "name": "ipython",
    "version": 3
   },
   "file_extension": ".py",
   "mimetype": "text/x-python",
   "name": "python",
   "nbconvert_exporter": "python",
   "pygments_lexer": "ipython3",
   "version": "3.7.2"
  },
  "toc": {
   "base_numbering": 1,
   "nav_menu": {},
   "number_sections": true,
   "sideBar": true,
   "skip_h1_title": false,
   "title_cell": "Table of Contents",
   "title_sidebar": "Contents",
   "toc_cell": false,
   "toc_position": {},
   "toc_section_display": true,
   "toc_window_display": false
  }
 },
 "nbformat": 4,
 "nbformat_minor": 2
}
