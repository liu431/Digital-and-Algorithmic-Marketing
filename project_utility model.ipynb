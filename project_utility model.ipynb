{
 "cells": [
  {
   "cell_type": "markdown",
   "metadata": {},
   "source": [
    "## Preference-Based Recommendation System for Groups\n",
    "\n",
    "Algorithmic Marketing Class Project\n",
    "\n",
    "Name: Li Liu, Suresh Govindaraj, Xi Zhao\n",
    "\n",
    "Date: March 2020"
   ]
  },
  {
   "cell_type": "markdown",
   "metadata": {},
   "source": [
    "A group of people wanted to have an amazing restaurant dining experience in Las Vegas. Some of them were attracted by a French restaurant 30 min away. Some of them thought the nearby sushi place was good enough. They opened Yelp and set the filters. But it didn't help them decide because the app showed each of them very different results.\n",
    "\n",
    "Here comes our system. We want to help them decide which ones work best for them all.\n",
    "\n",
    "Using our utility maximization framework, our system recommends the restaurants that will most likely maximize their total utilities.\n",
    "\n",
    "Suppose we have three people: A, B, C are choosing from N restaurants (R indicates restaurants factors).\n",
    "\n",
    "For each restaurant i (i=1...N), each person would have a utility for i: $u_A(R_i)$, $u_B(R_i)$, $u_C(R_i)$\n",
    "\n",
    "We need to have a match function for predicting the total utilities from eating at this restaurant, such that $m_{R_i}(A,B,C) = U_{i}(u(R_i), R_i, Weights, Preferences)$\n",
    "\n",
    "Our core algorithm will account for the following factors:\n",
    "\n",
    "* Each restaurant has a baseline utility for the group (Think of $\\beta_0$). We use machine learning to predict this utility by using the existing _**Yelp reviews data**_.\n",
    "\n",
    "Then we will use _**users' input data**_ to adjust the baseline utility based on the groups' preferences and consensus ($\\sum_k(\\prod_m(p_m*w_m)X_k)$): \n",
    "\n",
    "* People have different voting weights (Ex. parents make the final decision instead of kids)\n",
    "\n",
    "* People have own preferences (Ex. not important at all, neutral, very important)\n",
    "\n",
    "* People care about others. The total utility depends on others' preference. If A knows B and C hate pizza, the utility for A to choose a pizza place will be lower than the case if A dining alone. \n",
    "\n",
    "When A, B, C open the system, they will be asked to choose their preferences for distance and cuisine types. If the factor is not important for A at all, the $p_{A}=0.1$. If the factor is neutral for A, the $p_{A}=0.5$. If the factor is very important for A, the $p_{A}=1$. Also, they have different voting weights w, $w_A, w_b, w_C$, and $w_A+w_b+w_C=1$, \n",
    "\n",
    "Generally, suppose we have M (m=1...M) people to choose from N (i=1...N) restaurants and the system asks them to answer K (k=1...K) questions:\n",
    "\n",
    "$$U_{i} = \\beta_0 + \\beta_1X_1+ \\beta_2X_2+...+\\beta_kX_k+\\epsilon$$\n",
    "$$\\hat{U_{i}}= \\hat{f}(Restaurant Reputations, Weekend, Group...) + \\sum_k(\\prod_m(p_m*w_m)X_k)$$\n",
    "\n",
    "Then we have scores for all restaurants from i=1 to N. We can sort them and recommend the top ones for the group."
   ]
  },
  {
   "cell_type": "code",
   "execution_count": null,
   "metadata": {},
   "outputs": [],
   "source": []
  },
  {
   "cell_type": "markdown",
   "metadata": {},
   "source": [
    "#### Import packages"
   ]
  },
  {
   "cell_type": "code",
   "execution_count": 16,
   "metadata": {},
   "outputs": [],
   "source": [
    "import numpy as np\n",
    "import pandas as pd\n",
    "import matplotlib.pyplot as plt\n",
    "import seaborn as sns\n",
    "%matplotlib inline\n",
    "from wordcloud.wordcloud import WordCloud, STOPWORDS\n",
    "from PIL import Image\n",
    "from vaderSentiment.vaderSentiment import SentimentIntensityAnalyzer\n",
    "analyser = SentimentIntensityAnalyzer()\n",
    "import gender_guesser.detector as gender\n",
    "import warnings\n",
    "warnings.filterwarnings(\"ignore\")\n",
    "from dask import compute, delayed\n",
    "import dask.multiprocessing\n",
    "import multiprocessing\n",
    "import time\n",
    "from sklearn.model_selection import train_test_split\n",
    "from sklearn.preprocessing import MinMaxScaler\n",
    "import six\n",
    "import statsmodels.api as sm\n",
    "from sklearn.tree import export_graphviz\n",
    "import graphviz\n",
    "from scipy.stats import randint as sp_randint\n",
    "from scipy.stats import uniform as sp_uniform\n",
    "from sklearn.model_selection import RandomizedSearchCV\n",
    "from scipy import stats\n",
    "from sklearn.tree import DecisionTreeRegressor\n",
    "from sklearn.ensemble import RandomForestRegressor, GradientBoostingRegressor, AdaBoostRegressor\n",
    "from sklearn.linear_model import LinearRegression, Ridge, Lasso, ElasticNet, BayesianRidge\n",
    "from sklearn.model_selection import train_test_split, KFold, cross_val_score, cross_val_predict\n",
    "from sklearn.metrics import mean_squared_error\n",
    "from sklearn.model_selection import RandomizedSearchCV, GridSearchCV\n",
    "from sklearn.preprocessing import StandardScaler\n",
    "sns.set_style(\"white\")\n",
    "plt.style.use('seaborn-deep')\n",
    "\n",
    "start=time.time()"
   ]
  },
  {
   "cell_type": "markdown",
   "metadata": {},
   "source": [
    "#### Read in data"
   ]
  },
  {
   "cell_type": "code",
   "execution_count": 17,
   "metadata": {},
   "outputs": [
    {
     "name": "stdout",
     "output_type": "stream",
     "text": [
      "total review text (5261668, 9)\n"
     ]
    },
    {
     "data": {
      "text/html": [
       "<div>\n",
       "<style scoped>\n",
       "    .dataframe tbody tr th:only-of-type {\n",
       "        vertical-align: middle;\n",
       "    }\n",
       "\n",
       "    .dataframe tbody tr th {\n",
       "        vertical-align: top;\n",
       "    }\n",
       "\n",
       "    .dataframe thead th {\n",
       "        text-align: right;\n",
       "    }\n",
       "</style>\n",
       "<table border=\"1\" class=\"dataframe\">\n",
       "  <thead>\n",
       "    <tr style=\"text-align: right;\">\n",
       "      <th></th>\n",
       "      <th>review_id</th>\n",
       "      <th>user_id</th>\n",
       "      <th>business_id</th>\n",
       "      <th>stars</th>\n",
       "      <th>date</th>\n",
       "      <th>text</th>\n",
       "      <th>useful</th>\n",
       "      <th>funny</th>\n",
       "      <th>cool</th>\n",
       "    </tr>\n",
       "  </thead>\n",
       "  <tbody>\n",
       "    <tr>\n",
       "      <th>0</th>\n",
       "      <td>vkVSCC7xljjrAI4UGfnKEQ</td>\n",
       "      <td>bv2nCi5Qv5vroFiqKGopiw</td>\n",
       "      <td>AEx2SYEUJmTxVVB18LlCwA</td>\n",
       "      <td>5</td>\n",
       "      <td>2016-05-28</td>\n",
       "      <td>Super simple place but amazing nonetheless. It...</td>\n",
       "      <td>0</td>\n",
       "      <td>0</td>\n",
       "      <td>0</td>\n",
       "    </tr>\n",
       "    <tr>\n",
       "      <th>1</th>\n",
       "      <td>n6QzIUObkYshz4dz2QRJTw</td>\n",
       "      <td>bv2nCi5Qv5vroFiqKGopiw</td>\n",
       "      <td>VR6GpWIda3SfvPC-lg9H3w</td>\n",
       "      <td>5</td>\n",
       "      <td>2016-05-28</td>\n",
       "      <td>Small unassuming place that changes their menu...</td>\n",
       "      <td>0</td>\n",
       "      <td>0</td>\n",
       "      <td>0</td>\n",
       "    </tr>\n",
       "  </tbody>\n",
       "</table>\n",
       "</div>"
      ],
      "text/plain": [
       "                review_id                 user_id             business_id  \\\n",
       "0  vkVSCC7xljjrAI4UGfnKEQ  bv2nCi5Qv5vroFiqKGopiw  AEx2SYEUJmTxVVB18LlCwA   \n",
       "1  n6QzIUObkYshz4dz2QRJTw  bv2nCi5Qv5vroFiqKGopiw  VR6GpWIda3SfvPC-lg9H3w   \n",
       "\n",
       "   stars        date                                               text  \\\n",
       "0      5  2016-05-28  Super simple place but amazing nonetheless. It...   \n",
       "1      5  2016-05-28  Small unassuming place that changes their menu...   \n",
       "\n",
       "   useful  funny  cool  \n",
       "0       0      0     0  \n",
       "1       0      0     0  "
      ]
     },
     "execution_count": 17,
     "metadata": {},
     "output_type": "execute_result"
    }
   ],
   "source": [
    "# review \n",
    "rev = pd.read_csv(\"yelp_review.csv\")\n",
    "print(\"total review text\", rev.shape)\n",
    "rev.head(2)"
   ]
  },
  {
   "cell_type": "markdown",
   "metadata": {},
   "source": [
    "#### Subset the data \n",
    "\n",
    "1. Only restaurants in Las Vegas\n",
    "\n",
    "2. Join data from business and users"
   ]
  },
  {
   "cell_type": "code",
   "execution_count": 18,
   "metadata": {},
   "outputs": [
    {
     "name": "stdout",
     "output_type": "stream",
     "text": [
      "total business (174567, 13)\n",
      "total open restaurants (3990, 9)\n"
     ]
    }
   ],
   "source": [
    "# business\n",
    "bus = pd.read_csv(\"yelp_business.csv\")\n",
    "print(\"total business\",bus.shape)\n",
    "\n",
    "# select restaurants in LV\n",
    "LV = bus[bus[\"city\"] == \"Las Vegas\"]\n",
    "LVR = LV[LV['categories'].str.contains('Restaurants') == True] \n",
    "\n",
    "# select only open restaurants; drop uninformative features\n",
    "LVR = LVR[LVR[\"is_open\"] == 1]\n",
    "LVR = LVR.drop([\"city\", \"state\", \"postal_code\", \"is_open\"], axis = 1)\n",
    "\n",
    "print(\"total open restaurants\", LVR.shape)"
   ]
  },
  {
   "cell_type": "code",
   "execution_count": 19,
   "metadata": {},
   "outputs": [
    {
     "data": {
      "text/plain": [
       "(1326100, 22)"
      ]
     },
     "execution_count": 19,
     "metadata": {},
     "output_type": "execute_result"
    }
   ],
   "source": [
    "# user data\n",
    "user = pd.read_csv(\"yelp_user.csv\")\n",
    "user.shape"
   ]
  },
  {
   "cell_type": "code",
   "execution_count": 20,
   "metadata": {},
   "outputs": [
    {
     "data": {
      "text/plain": [
       "Index(['user_id', 'name', 'review_count', 'yelping_since', 'friends', 'useful',\n",
       "       'funny', 'cool', 'fans', 'elite', 'average_stars', 'compliment_hot',\n",
       "       'compliment_more', 'compliment_profile', 'compliment_cute',\n",
       "       'compliment_list', 'compliment_note', 'compliment_plain',\n",
       "       'compliment_cool', 'compliment_funny', 'compliment_writer',\n",
       "       'compliment_photos'],\n",
       "      dtype='object')"
      ]
     },
     "execution_count": 20,
     "metadata": {},
     "output_type": "execute_result"
    }
   ],
   "source": [
    "user.columns"
   ]
  },
  {
   "cell_type": "markdown",
   "metadata": {},
   "source": [
    "##### Aggregate data \n",
    "Each line represents a review for a restaurant by one user"
   ]
  },
  {
   "cell_type": "code",
   "execution_count": 21,
   "metadata": {},
   "outputs": [
    {
     "data": {
      "text/plain": [
       "(795588, 38)"
      ]
     },
     "execution_count": 21,
     "metadata": {},
     "output_type": "execute_result"
    }
   ],
   "source": [
    "agg = pd.merge(LVR, rev, how = \"left\", on = \"business_id\")\n",
    "agg = pd.merge(agg, user, how = \"left\", on = \"user_id\")\n",
    "agg.rename(columns = {'stars_x':\"star_bus\", \"review_count_x\": \"cts_bus\",\n",
    "                      \"stars_y\": \"star_customer\"},\n",
    "           inplace = True)\n",
    "agg.shape"
   ]
  },
  {
   "cell_type": "markdown",
   "metadata": {},
   "source": [
    "##### Only keep the most relevant reviews\n",
    "\n",
    "Restaurants normally update and improve products and services constantly to satisfy customers' needs, especially at Las Vegas. We will only keep the reviews in the last year."
   ]
  },
  {
   "cell_type": "code",
   "execution_count": 22,
   "metadata": {},
   "outputs": [],
   "source": [
    "agg[\"DATE\"] = pd.to_datetime(agg[\"date\"], format = '%Y/%m/%d')\n",
    "agg[\"date_yr\"] = agg[\"DATE\"].dt.year\n",
    "agg[\"date_mt\"] = agg[\"DATE\"].dt.month"
   ]
  },
  {
   "cell_type": "code",
   "execution_count": 23,
   "metadata": {},
   "outputs": [
    {
     "data": {
      "text/plain": [
       "count                  795588\n",
       "unique                   4317\n",
       "top       2017-08-12 00:00:00\n",
       "freq                      766\n",
       "first     2005-01-26 00:00:00\n",
       "last      2017-12-11 00:00:00\n",
       "Name: DATE, dtype: object"
      ]
     },
     "execution_count": 23,
     "metadata": {},
     "output_type": "execute_result"
    }
   ],
   "source": [
    "agg[\"DATE\"].describe()"
   ]
  },
  {
   "cell_type": "code",
   "execution_count": 24,
   "metadata": {},
   "outputs": [
    {
     "data": {
      "text/plain": [
       "(181144, 41)"
      ]
     },
     "execution_count": 24,
     "metadata": {},
     "output_type": "execute_result"
    }
   ],
   "source": [
    "agg = agg[agg[\"date_yr\"]>=2017]\n",
    "agg.shape"
   ]
  },
  {
   "cell_type": "code",
   "execution_count": 25,
   "metadata": {},
   "outputs": [
    {
     "data": {
      "text/html": [
       "<div>\n",
       "<style scoped>\n",
       "    .dataframe tbody tr th:only-of-type {\n",
       "        vertical-align: middle;\n",
       "    }\n",
       "\n",
       "    .dataframe tbody tr th {\n",
       "        vertical-align: top;\n",
       "    }\n",
       "\n",
       "    .dataframe thead th {\n",
       "        text-align: right;\n",
       "    }\n",
       "</style>\n",
       "<table border=\"1\" class=\"dataframe\">\n",
       "  <thead>\n",
       "    <tr style=\"text-align: right;\">\n",
       "      <th></th>\n",
       "      <th>business_id</th>\n",
       "      <th>name_x</th>\n",
       "      <th>neighborhood</th>\n",
       "      <th>address</th>\n",
       "      <th>latitude</th>\n",
       "      <th>longitude</th>\n",
       "      <th>star_bus</th>\n",
       "      <th>cts_bus</th>\n",
       "      <th>categories</th>\n",
       "      <th>review_id</th>\n",
       "      <th>...</th>\n",
       "      <th>compliment_list</th>\n",
       "      <th>compliment_note</th>\n",
       "      <th>compliment_plain</th>\n",
       "      <th>compliment_cool</th>\n",
       "      <th>compliment_funny</th>\n",
       "      <th>compliment_writer</th>\n",
       "      <th>compliment_photos</th>\n",
       "      <th>DATE</th>\n",
       "      <th>date_yr</th>\n",
       "      <th>date_mt</th>\n",
       "    </tr>\n",
       "  </thead>\n",
       "  <tbody>\n",
       "    <tr>\n",
       "      <th>0</th>\n",
       "      <td>Pd52CjgyEU3Rb8co6QfTPw</td>\n",
       "      <td>\"Flight Deck Bar &amp; Grill\"</td>\n",
       "      <td>Southeast</td>\n",
       "      <td>\"6730 S Las Vegas Blvd\"</td>\n",
       "      <td>36.066914</td>\n",
       "      <td>-115.170848</td>\n",
       "      <td>4.0</td>\n",
       "      <td>13</td>\n",
       "      <td>Nightlife;Bars;Barbeque;Sports Bars;American (...</td>\n",
       "      <td>aG4aEOW86hut943oqL_DOg</td>\n",
       "      <td>...</td>\n",
       "      <td>0</td>\n",
       "      <td>0</td>\n",
       "      <td>2</td>\n",
       "      <td>1</td>\n",
       "      <td>1</td>\n",
       "      <td>0</td>\n",
       "      <td>0</td>\n",
       "      <td>2017-03-27</td>\n",
       "      <td>2017</td>\n",
       "      <td>3</td>\n",
       "    </tr>\n",
       "    <tr>\n",
       "      <th>14</th>\n",
       "      <td>4srfPk1s8nlm1YusyDUbjg</td>\n",
       "      <td>\"Subway\"</td>\n",
       "      <td>Southeast</td>\n",
       "      <td>\"6889 S Eastern Ave, Ste 101\"</td>\n",
       "      <td>36.064652</td>\n",
       "      <td>-115.118954</td>\n",
       "      <td>2.5</td>\n",
       "      <td>6</td>\n",
       "      <td>Fast Food;Restaurants;Sandwiches</td>\n",
       "      <td>FMRzUXMwjx8vPAy-qgej7A</td>\n",
       "      <td>...</td>\n",
       "      <td>0</td>\n",
       "      <td>22</td>\n",
       "      <td>144</td>\n",
       "      <td>82</td>\n",
       "      <td>82</td>\n",
       "      <td>18</td>\n",
       "      <td>53</td>\n",
       "      <td>2017-09-27</td>\n",
       "      <td>2017</td>\n",
       "      <td>9</td>\n",
       "    </tr>\n",
       "    <tr>\n",
       "      <th>17</th>\n",
       "      <td>4srfPk1s8nlm1YusyDUbjg</td>\n",
       "      <td>\"Subway\"</td>\n",
       "      <td>Southeast</td>\n",
       "      <td>\"6889 S Eastern Ave, Ste 101\"</td>\n",
       "      <td>36.064652</td>\n",
       "      <td>-115.118954</td>\n",
       "      <td>2.5</td>\n",
       "      <td>6</td>\n",
       "      <td>Fast Food;Restaurants;Sandwiches</td>\n",
       "      <td>qLb9CBAIbWcQ3aBoYjc3nQ</td>\n",
       "      <td>...</td>\n",
       "      <td>0</td>\n",
       "      <td>1</td>\n",
       "      <td>3</td>\n",
       "      <td>2</td>\n",
       "      <td>2</td>\n",
       "      <td>2</td>\n",
       "      <td>3</td>\n",
       "      <td>2017-09-14</td>\n",
       "      <td>2017</td>\n",
       "      <td>9</td>\n",
       "    </tr>\n",
       "    <tr>\n",
       "      <th>18</th>\n",
       "      <td>4srfPk1s8nlm1YusyDUbjg</td>\n",
       "      <td>\"Subway\"</td>\n",
       "      <td>Southeast</td>\n",
       "      <td>\"6889 S Eastern Ave, Ste 101\"</td>\n",
       "      <td>36.064652</td>\n",
       "      <td>-115.118954</td>\n",
       "      <td>2.5</td>\n",
       "      <td>6</td>\n",
       "      <td>Fast Food;Restaurants;Sandwiches</td>\n",
       "      <td>b-hPwDTtvj27RTwotZo9Gg</td>\n",
       "      <td>...</td>\n",
       "      <td>0</td>\n",
       "      <td>0</td>\n",
       "      <td>0</td>\n",
       "      <td>0</td>\n",
       "      <td>0</td>\n",
       "      <td>0</td>\n",
       "      <td>0</td>\n",
       "      <td>2017-09-28</td>\n",
       "      <td>2017</td>\n",
       "      <td>9</td>\n",
       "    </tr>\n",
       "    <tr>\n",
       "      <th>23</th>\n",
       "      <td>n7V4cD-KqqE3OXk0irJTyA</td>\n",
       "      <td>\"GameWorks\"</td>\n",
       "      <td>Southeast</td>\n",
       "      <td>\"6587 Las Vegas Blvd S, Ste 171\"</td>\n",
       "      <td>36.068259</td>\n",
       "      <td>-115.178877</td>\n",
       "      <td>3.0</td>\n",
       "      <td>349</td>\n",
       "      <td>Arcades;Arts &amp; Entertainment;Gastropubs;Restau...</td>\n",
       "      <td>HVeoYQNl-O1ufTwkHLgtsg</td>\n",
       "      <td>...</td>\n",
       "      <td>0</td>\n",
       "      <td>0</td>\n",
       "      <td>0</td>\n",
       "      <td>0</td>\n",
       "      <td>0</td>\n",
       "      <td>0</td>\n",
       "      <td>0</td>\n",
       "      <td>2017-03-03</td>\n",
       "      <td>2017</td>\n",
       "      <td>3</td>\n",
       "    </tr>\n",
       "  </tbody>\n",
       "</table>\n",
       "<p>5 rows × 41 columns</p>\n",
       "</div>"
      ],
      "text/plain": [
       "               business_id                     name_x neighborhood  \\\n",
       "0   Pd52CjgyEU3Rb8co6QfTPw  \"Flight Deck Bar & Grill\"    Southeast   \n",
       "14  4srfPk1s8nlm1YusyDUbjg                   \"Subway\"    Southeast   \n",
       "17  4srfPk1s8nlm1YusyDUbjg                   \"Subway\"    Southeast   \n",
       "18  4srfPk1s8nlm1YusyDUbjg                   \"Subway\"    Southeast   \n",
       "23  n7V4cD-KqqE3OXk0irJTyA                \"GameWorks\"    Southeast   \n",
       "\n",
       "                             address   latitude   longitude  star_bus  \\\n",
       "0            \"6730 S Las Vegas Blvd\"  36.066914 -115.170848       4.0   \n",
       "14     \"6889 S Eastern Ave, Ste 101\"  36.064652 -115.118954       2.5   \n",
       "17     \"6889 S Eastern Ave, Ste 101\"  36.064652 -115.118954       2.5   \n",
       "18     \"6889 S Eastern Ave, Ste 101\"  36.064652 -115.118954       2.5   \n",
       "23  \"6587 Las Vegas Blvd S, Ste 171\"  36.068259 -115.178877       3.0   \n",
       "\n",
       "    cts_bus                                         categories  \\\n",
       "0        13  Nightlife;Bars;Barbeque;Sports Bars;American (...   \n",
       "14        6                   Fast Food;Restaurants;Sandwiches   \n",
       "17        6                   Fast Food;Restaurants;Sandwiches   \n",
       "18        6                   Fast Food;Restaurants;Sandwiches   \n",
       "23      349  Arcades;Arts & Entertainment;Gastropubs;Restau...   \n",
       "\n",
       "                 review_id  ... compliment_list  compliment_note  \\\n",
       "0   aG4aEOW86hut943oqL_DOg  ...               0                0   \n",
       "14  FMRzUXMwjx8vPAy-qgej7A  ...               0               22   \n",
       "17  qLb9CBAIbWcQ3aBoYjc3nQ  ...               0                1   \n",
       "18  b-hPwDTtvj27RTwotZo9Gg  ...               0                0   \n",
       "23  HVeoYQNl-O1ufTwkHLgtsg  ...               0                0   \n",
       "\n",
       "   compliment_plain compliment_cool  compliment_funny  compliment_writer  \\\n",
       "0                 2               1                 1                  0   \n",
       "14              144              82                82                 18   \n",
       "17                3               2                 2                  2   \n",
       "18                0               0                 0                  0   \n",
       "23                0               0                 0                  0   \n",
       "\n",
       "    compliment_photos       DATE  date_yr date_mt  \n",
       "0                   0 2017-03-27     2017       3  \n",
       "14                 53 2017-09-27     2017       9  \n",
       "17                  3 2017-09-14     2017       9  \n",
       "18                  0 2017-09-28     2017       9  \n",
       "23                  0 2017-03-03     2017       3  \n",
       "\n",
       "[5 rows x 41 columns]"
      ]
     },
     "execution_count": 25,
     "metadata": {},
     "output_type": "execute_result"
    }
   ],
   "source": [
    "# skim data\n",
    "agg.head(5)"
   ]
  },
  {
   "cell_type": "code",
   "execution_count": 10,
   "metadata": {},
   "outputs": [
    {
     "data": {
      "text/plain": [
       "Index(['business_id', 'name_x', 'neighborhood', 'address', 'latitude',\n",
       "       'longitude', 'star_bus', 'cts_bus', 'is_open', 'categories',\n",
       "       'review_id', 'user_id', 'star_customer', 'date', 'text', 'useful_x',\n",
       "       'funny_x', 'cool_x', 'name_y', 'review_count_y', 'yelping_since',\n",
       "       'friends', 'useful_y', 'funny_y', 'cool_y', 'fans', 'elite',\n",
       "       'average_stars', 'compliment_hot', 'compliment_more',\n",
       "       'compliment_profile', 'compliment_cute', 'compliment_list',\n",
       "       'compliment_note', 'compliment_plain', 'compliment_cool',\n",
       "       'compliment_funny', 'compliment_writer', 'compliment_photos', 'DATE',\n",
       "       'date_yr', 'date_mt'],\n",
       "      dtype='object')"
      ]
     },
     "execution_count": 10,
     "metadata": {},
     "output_type": "execute_result"
    }
   ],
   "source": [
    "# current columns\n",
    "agg.columns"
   ]
  },
  {
   "cell_type": "markdown",
   "metadata": {},
   "source": [
    "###   Predicted utility: rescaled satisfaction scores"
   ]
  },
  {
   "cell_type": "markdown",
   "metadata": {},
   "source": [
    "`star_customer` is customers' rating for a restaurant.\n",
    "\n",
    "`average_stars` is customers' average rating for all teh restaurants they have reviewed.\n",
    "\n",
    "\n",
    "We use the reweighed and rescaled `star_customer` to measure the customer satisfaction. "
   ]
  },
  {
   "cell_type": "code",
   "execution_count": 55,
   "metadata": {},
   "outputs": [
    {
     "data": {
      "text/plain": [
       "0.5476607687570102"
      ]
     },
     "execution_count": 55,
     "metadata": {},
     "output_type": "execute_result"
    }
   ],
   "source": [
    "# individual ratings for particular restaurants are positive correlated with their average ratings for all reviews\n",
    "np.corrcoef(agg['average_stars'],  agg[\"star_customer\"])[0,1]"
   ]
  },
  {
   "cell_type": "code",
   "execution_count": 56,
   "metadata": {},
   "outputs": [
    {
     "data": {
      "text/plain": [
       "Text(0.5, 0.98, 'Hexbin plot of Customer Current and Previous Ratings')"
      ]
     },
     "execution_count": 56,
     "metadata": {},
     "output_type": "execute_result"
    },
    {
     "data": {
      "image/png": "[encoded data removed]",
      "text/plain": [
       "<Figure size 432x432 with 3 Axes>"
      ]
     },
     "metadata": {},
     "output_type": "display_data"
    }
   ],
   "source": [
    "# Hexbin plot\n",
    "agguser = agg.groupby('user_id')[['star_customer', 'average_stars']].mean()\n",
    "\n",
    "sns.jointplot(agguser['average_stars'], agguser[\"star_customer\"], \n",
    "              kind='hex', color = 'maroon')\n",
    "\n",
    "plt.suptitle(\"Hexbin plot of Customer Current and Previous Ratings\", fontsize = 15)\n",
    "#plt.savefig('HexbinPlot of Customer Current and Previous Ratings .png')"
   ]
  },
  {
   "cell_type": "code",
   "execution_count": 57,
   "metadata": {},
   "outputs": [
    {
     "data": {
      "text/html": [
       "<div>\n",
       "<style scoped>\n",
       "    .dataframe tbody tr th:only-of-type {\n",
       "        vertical-align: middle;\n",
       "    }\n",
       "\n",
       "    .dataframe tbody tr th {\n",
       "        vertical-align: top;\n",
       "    }\n",
       "\n",
       "    .dataframe thead th {\n",
       "        text-align: right;\n",
       "    }\n",
       "</style>\n",
       "<table border=\"1\" class=\"dataframe\">\n",
       "  <thead>\n",
       "    <tr style=\"text-align: right;\">\n",
       "      <th></th>\n",
       "      <th>average_stars</th>\n",
       "      <th>star_customer</th>\n",
       "    </tr>\n",
       "  </thead>\n",
       "  <tbody>\n",
       "    <tr>\n",
       "      <th>0</th>\n",
       "      <td>3.00</td>\n",
       "      <td>4</td>\n",
       "    </tr>\n",
       "    <tr>\n",
       "      <th>14</th>\n",
       "      <td>4.58</td>\n",
       "      <td>4</td>\n",
       "    </tr>\n",
       "    <tr>\n",
       "      <th>17</th>\n",
       "      <td>3.74</td>\n",
       "      <td>5</td>\n",
       "    </tr>\n",
       "    <tr>\n",
       "      <th>18</th>\n",
       "      <td>1.89</td>\n",
       "      <td>1</td>\n",
       "    </tr>\n",
       "    <tr>\n",
       "      <th>23</th>\n",
       "      <td>3.83</td>\n",
       "      <td>5</td>\n",
       "    </tr>\n",
       "  </tbody>\n",
       "</table>\n",
       "</div>"
      ],
      "text/plain": [
       "    average_stars  star_customer\n",
       "0            3.00              4\n",
       "14           4.58              4\n",
       "17           3.74              5\n",
       "18           1.89              1\n",
       "23           3.83              5"
      ]
     },
     "execution_count": 57,
     "metadata": {},
     "output_type": "execute_result"
    }
   ],
   "source": [
    "agg[['average_stars',\"star_customer\"]].head(5)"
   ]
  },
  {
   "cell_type": "markdown",
   "metadata": {},
   "source": [
    "#####  Time Series Detrending"
   ]
  },
  {
   "cell_type": "code",
   "execution_count": 58,
   "metadata": {},
   "outputs": [
    {
     "data": {
      "text/html": [
       "<div>\n",
       "<style scoped>\n",
       "    .dataframe tbody tr th:only-of-type {\n",
       "        vertical-align: middle;\n",
       "    }\n",
       "\n",
       "    .dataframe tbody tr th {\n",
       "        vertical-align: top;\n",
       "    }\n",
       "\n",
       "    .dataframe thead th {\n",
       "        text-align: right;\n",
       "    }\n",
       "</style>\n",
       "<table border=\"1\" class=\"dataframe\">\n",
       "  <thead>\n",
       "    <tr style=\"text-align: right;\">\n",
       "      <th></th>\n",
       "      <th>y2</th>\n",
       "      <th>star_bus</th>\n",
       "    </tr>\n",
       "    <tr>\n",
       "      <th>quarter</th>\n",
       "      <th></th>\n",
       "      <th></th>\n",
       "    </tr>\n",
       "  </thead>\n",
       "  <tbody>\n",
       "    <tr>\n",
       "      <th>0</th>\n",
       "      <td>3.876744</td>\n",
       "      <td>3.852100</td>\n",
       "    </tr>\n",
       "    <tr>\n",
       "      <th>1</th>\n",
       "      <td>3.839799</td>\n",
       "      <td>3.848572</td>\n",
       "    </tr>\n",
       "    <tr>\n",
       "      <th>2</th>\n",
       "      <td>3.847568</td>\n",
       "      <td>3.860315</td>\n",
       "    </tr>\n",
       "    <tr>\n",
       "      <th>3</th>\n",
       "      <td>3.874425</td>\n",
       "      <td>3.877037</td>\n",
       "    </tr>\n",
       "  </tbody>\n",
       "</table>\n",
       "</div>"
      ],
      "text/plain": [
       "               y2  star_bus\n",
       "quarter                    \n",
       "0        3.876744  3.852100\n",
       "1        3.839799  3.848572\n",
       "2        3.847568  3.860315\n",
       "3        3.874425  3.877037"
      ]
     },
     "execution_count": 58,
     "metadata": {},
     "output_type": "execute_result"
    }
   ],
   "source": [
    "# create quarter index\n",
    "def quarter(df):\n",
    "    \n",
    "    ind = (df[\"date_yr\"]-2017)*4\n",
    "    \n",
    "    if df[\"date_mt\"] >= 1 and df[\"date_mt\"] <= 3:\n",
    "        return ind + 0\n",
    "    elif df[\"date_mt\"] >= 4 and df[\"date_mt\"] <= 6:\n",
    "        return ind + 1\n",
    "    elif df[\"date_mt\"] >= 7 and df[\"date_mt\"] <= 9:\n",
    "        return ind + 2\n",
    "    else:\n",
    "        return ind + 3\n",
    "    \n",
    "agg[\"quarter\"] = agg.apply(quarter, axis = 1)\n",
    "aggdate = agg.groupby([\"quarter\"])[[\"y2\", \"star_bus\"]].mean()\n",
    "aggdate"
   ]
  },
  {
   "cell_type": "code",
   "execution_count": 63,
   "metadata": {},
   "outputs": [],
   "source": [
    "avg_score_by_quarter =  agg.groupby([\"quarter\"])[[\"y\"]].mean().values\n",
    "\n",
    "# Calculate the average growth rate in salaries across all quarters\n",
    "avg_growth_rate = ((avg_score_by_quarter[1:] - avg_score_by_quarter[:-1]) / avg_score_by_quarter[:-1]).mean()\n",
    "\n",
    "# Divide each salary by (1 + avg_growth_rate) ** (grad_year - baseline)\n",
    "agg['rate'] = (1 + avg_growth_rate) ** (agg.quarter-0)\n",
    "agg['y2'] = agg['y2']/agg['rate']\n",
    "agg['star_bus'] = agg['star_bus']/agg['rate']"
   ]
  },
  {
   "cell_type": "code",
   "execution_count": 65,
   "metadata": {},
   "outputs": [
    {
     "data": {
      "image/png": "[encoded data removed]",
      "text/plain": [
       "<Figure size 432x288 with 1 Axes>"
      ]
     },
     "metadata": {},
     "output_type": "display_data"
    }
   ],
   "source": [
    "aggdate = agg.groupby([\"quarter\"])[[\"y2\", \"star_bus\"]].mean()\n",
    "plt.plot(aggdate.index, aggdate[\"y2\"], '-r', label = 'Consumers Rating')\n",
    "plt.plot(aggdate.index, aggdate[\"star_bus\"], '--b', label = 'Restaurants Rating')\n",
    "plt.suptitle(\"Average Consumers and Business Ratings by Quarters\", fontsize = 15)\n",
    "plt.legend()\n",
    "plt.xlabel(\"Quarters in 2017\")\n",
    "plt.ylabel(\"Score\")\n",
    "plt.savefig(\"Average Consumers and Business Ratings by Quarters.png\")"
   ]
  },
  {
   "cell_type": "markdown",
   "metadata": {},
   "source": [
    "##### Normalization and Rescaling\n",
    "\n",
    "Customers have different rating standards. So a rating of 3 could mean different satisfaction by two customers, if one has average ratings of 5 (implying dissatisfaction) and the other has average rating of 1 (implying satisfaction). We solve this by reweighting the individual ratings by their average ratings."
   ]
  },
  {
   "cell_type": "code",
   "execution_count": 66,
   "metadata": {},
   "outputs": [],
   "source": [
    "# reweighed and rescaled consumer satisfaction measure\n",
    "\n",
    "# a. Account for the \"extra\" part deviated from the average ratings\n",
    "agg['y2'] = agg['star_customer'] + (agg['star_customer']-agg['average_stars'])/agg['average_stars']\n",
    "\n",
    "# b. Normalization\n",
    "agg['normy'] = (agg['y2'] - np.mean(agg['y2']))/np.std(agg['y2'])\n",
    "\n",
    "# c. Rescale to 0-100 \n",
    "agg['y'] = ((100 - 0) / (max(agg['normy'] ) - min(agg['normy'] ))) * (agg['normy'] - min(agg['normy'])) + 0 "
   ]
  },
  {
   "cell_type": "markdown",
   "metadata": {},
   "source": [
    "##### Test cases"
   ]
  },
  {
   "cell_type": "code",
   "execution_count": 67,
   "metadata": {
    "scrolled": true
   },
   "outputs": [
    {
     "data": {
      "text/html": [
       "<div>\n",
       "<style scoped>\n",
       "    .dataframe tbody tr th:only-of-type {\n",
       "        vertical-align: middle;\n",
       "    }\n",
       "\n",
       "    .dataframe tbody tr th {\n",
       "        vertical-align: top;\n",
       "    }\n",
       "\n",
       "    .dataframe thead th {\n",
       "        text-align: right;\n",
       "    }\n",
       "</style>\n",
       "<table border=\"1\" class=\"dataframe\">\n",
       "  <thead>\n",
       "    <tr style=\"text-align: right;\">\n",
       "      <th></th>\n",
       "      <th>average_stars</th>\n",
       "      <th>star_customer</th>\n",
       "      <th>y2</th>\n",
       "      <th>normy</th>\n",
       "      <th>y</th>\n",
       "    </tr>\n",
       "  </thead>\n",
       "  <tbody>\n",
       "    <tr>\n",
       "      <th>116773</th>\n",
       "      <td>1.36</td>\n",
       "      <td>5</td>\n",
       "      <td>7.676471</td>\n",
       "      <td>2.209572</td>\n",
       "      <td>100.0</td>\n",
       "    </tr>\n",
       "  </tbody>\n",
       "</table>\n",
       "</div>"
      ],
      "text/plain": [
       "        average_stars  star_customer        y2     normy      y\n",
       "116773           1.36              5  7.676471  2.209572  100.0"
      ]
     },
     "execution_count": 67,
     "metadata": {},
     "output_type": "execute_result"
    }
   ],
   "source": [
    "# case when relative rating is high\n",
    "agg[['average_stars',\"star_customer\", \"y2\", \"normy\", \"y\"]][agg['y']==100]"
   ]
  },
  {
   "cell_type": "code",
   "execution_count": 68,
   "metadata": {},
   "outputs": [
    {
     "data": {
      "text/html": [
       "<div>\n",
       "<style scoped>\n",
       "    .dataframe tbody tr th:only-of-type {\n",
       "        vertical-align: middle;\n",
       "    }\n",
       "\n",
       "    .dataframe tbody tr th {\n",
       "        vertical-align: top;\n",
       "    }\n",
       "\n",
       "    .dataframe thead th {\n",
       "        text-align: right;\n",
       "    }\n",
       "</style>\n",
       "<table border=\"1\" class=\"dataframe\">\n",
       "  <thead>\n",
       "    <tr style=\"text-align: right;\">\n",
       "      <th></th>\n",
       "      <th>average_stars</th>\n",
       "      <th>star_customer</th>\n",
       "      <th>y2</th>\n",
       "      <th>normy</th>\n",
       "      <th>y</th>\n",
       "    </tr>\n",
       "  </thead>\n",
       "  <tbody>\n",
       "    <tr>\n",
       "      <th>588474</th>\n",
       "      <td>4.9</td>\n",
       "      <td>1</td>\n",
       "      <td>0.204082</td>\n",
       "      <td>-2.11435</td>\n",
       "      <td>0.0</td>\n",
       "    </tr>\n",
       "  </tbody>\n",
       "</table>\n",
       "</div>"
      ],
      "text/plain": [
       "        average_stars  star_customer        y2    normy    y\n",
       "588474            4.9              1  0.204082 -2.11435  0.0"
      ]
     },
     "execution_count": 68,
     "metadata": {},
     "output_type": "execute_result"
    }
   ],
   "source": [
    "# case when relative rating is low\n",
    "agg[['average_stars',\"star_customer\", \"y2\", \"normy\", \"y\"]][agg['y']==0]"
   ]
  },
  {
   "cell_type": "markdown",
   "metadata": {},
   "source": [
    "##### Summary statistics"
   ]
  },
  {
   "cell_type": "code",
   "execution_count": 69,
   "metadata": {},
   "outputs": [
    {
     "data": {
      "text/html": [
       "<div>\n",
       "<style scoped>\n",
       "    .dataframe tbody tr th:only-of-type {\n",
       "        vertical-align: middle;\n",
       "    }\n",
       "\n",
       "    .dataframe tbody tr th {\n",
       "        vertical-align: top;\n",
       "    }\n",
       "\n",
       "    .dataframe thead th {\n",
       "        text-align: right;\n",
       "    }\n",
       "</style>\n",
       "<table border=\"1\" class=\"dataframe\">\n",
       "  <thead>\n",
       "    <tr style=\"text-align: right;\">\n",
       "      <th></th>\n",
       "      <th>star_customer</th>\n",
       "      <th>y</th>\n",
       "    </tr>\n",
       "  </thead>\n",
       "  <tbody>\n",
       "    <tr>\n",
       "      <th>count</th>\n",
       "      <td>181144.000000</td>\n",
       "      <td>181144.000000</td>\n",
       "    </tr>\n",
       "    <tr>\n",
       "      <th>mean</th>\n",
       "      <td>3.847006</td>\n",
       "      <td>48.898888</td>\n",
       "    </tr>\n",
       "    <tr>\n",
       "      <th>std</th>\n",
       "      <td>1.427706</td>\n",
       "      <td>23.127218</td>\n",
       "    </tr>\n",
       "    <tr>\n",
       "      <th>min</th>\n",
       "      <td>1.000000</td>\n",
       "      <td>0.000000</td>\n",
       "    </tr>\n",
       "    <tr>\n",
       "      <th>25%</th>\n",
       "      <td>3.000000</td>\n",
       "      <td>34.516514</td>\n",
       "    </tr>\n",
       "    <tr>\n",
       "      <th>50%</th>\n",
       "      <td>4.000000</td>\n",
       "      <td>55.686422</td>\n",
       "    </tr>\n",
       "    <tr>\n",
       "      <th>75%</th>\n",
       "      <td>5.000000</td>\n",
       "      <td>66.730929</td>\n",
       "    </tr>\n",
       "    <tr>\n",
       "      <th>max</th>\n",
       "      <td>5.000000</td>\n",
       "      <td>100.000000</td>\n",
       "    </tr>\n",
       "  </tbody>\n",
       "</table>\n",
       "</div>"
      ],
      "text/plain": [
       "       star_customer              y\n",
       "count  181144.000000  181144.000000\n",
       "mean        3.847006      48.898888\n",
       "std         1.427706      23.127218\n",
       "min         1.000000       0.000000\n",
       "25%         3.000000      34.516514\n",
       "50%         4.000000      55.686422\n",
       "75%         5.000000      66.730929\n",
       "max         5.000000     100.000000"
      ]
     },
     "execution_count": 69,
     "metadata": {},
     "output_type": "execute_result"
    }
   ],
   "source": [
    "# statistics of original scores and transformed scores\n",
    "agg[['star_customer','y']].describe()"
   ]
  },
  {
   "cell_type": "code",
   "execution_count": 70,
   "metadata": {},
   "outputs": [],
   "source": [
    "# abbreviation\n",
    "\n",
    "# Y is the categorical star rating\n",
    "Y = agg[\"star_customer\"]\n",
    "# y is the reweighted numerical grade with 0-100 scale\n",
    "y = agg['y']"
   ]
  },
  {
   "cell_type": "code",
   "execution_count": 71,
   "metadata": {},
   "outputs": [
    {
     "data": {
      "text/plain": [
       "Text(0.5, 0.98, 'Histogram of the Consumer Satisfaction Score')"
      ]
     },
     "execution_count": 71,
     "metadata": {},
     "output_type": "execute_result"
    },
    {
     "data": {
      "image/png": "[encoded data removed]",
      "text/plain": [
       "<Figure size 432x288 with 1 Axes>"
      ]
     },
     "metadata": {},
     "output_type": "display_data"
    }
   ],
   "source": [
    "kwargs = dict(hist_kws={'alpha':.3}, kde_kws={'linewidth':3})\n",
    "\n",
    "sns.distplot(y, color=\"maroon\", label=\"score\", **kwargs)\n",
    "plt.xlim(0,100)\n",
    "plt.xlabel(\"Score\")\n",
    "plt.suptitle(\"Histogram of the Consumer Satisfaction Score\", fontsize=15)\n",
    "#plt.savefig(\"Histogram of the Consumer Satisfaction Score.png\")"
   ]
  },
  {
   "cell_type": "code",
   "execution_count": 72,
   "metadata": {},
   "outputs": [
    {
     "data": {
      "text/plain": [
       "Text(0.5, 1.0, 'Pie Chart of Stars Ratios')"
      ]
     },
     "execution_count": 72,
     "metadata": {},
     "output_type": "execute_result"
    },
    {
     "data": {
      "image/png": "[encoded data removed]",
      "text/plain": [
       "<Figure size 432x288 with 1 Axes>"
      ]
     },
     "metadata": {},
     "output_type": "display_data"
    }
   ],
   "source": [
    "labels = Y.value_counts().index\n",
    "fig1, ax1 = plt.subplots()\n",
    "explode = (0.1, 0.1, 0.1, 0.1, 0.1)\n",
    "ax1.pie(Y.value_counts(),  explode = explode, labels = Y.value_counts().index,\n",
    "         autopct='%1.0f%%', startangle = 90)\n",
    "ax1.axis('equal') \n",
    "plt.legend()\n",
    "plt.title(\"Pie Chart of Stars Ratios\", fontsize = 15)\n",
    "#plt.savefig(\"Pie Chart of Stars Ratios\")"
   ]
  },
  {
   "cell_type": "markdown",
   "metadata": {},
   "source": [
    "### Independent variables (X: users' inputs)"
   ]
  },
  {
   "cell_type": "markdown",
   "metadata": {},
   "source": [
    "##### Popularity \n",
    "\n",
    "We use `star_bus` (restaurants average ratings) and `cts_bus` (review counts) to measure popularity.  \n",
    "\n",
    "Customers might prefer to choose the restaurants that are popular (above average ratings and review counts)."
   ]
  },
  {
   "cell_type": "code",
   "execution_count": 114,
   "metadata": {},
   "outputs": [
    {
     "data": {
      "image/png": "[encoded data removed]",
      "text/plain": [
       "<Figure size 432x432 with 3 Axes>"
      ]
     },
     "metadata": {},
     "output_type": "display_data"
    }
   ],
   "source": [
    "# hexagonal bins\n",
    "sns.jointplot(bus['stars'], bus['review_count'],kind=\"reg\", color=\"maroon\")\n",
    "plt.suptitle(\"Jointplot of Review Counts and Stars for Restaurants\", fontsize=15)\n",
    "plt.savefig(\"stars_review.png\")"
   ]
  },
  {
   "cell_type": "code",
   "execution_count": 90,
   "metadata": {},
   "outputs": [],
   "source": [
    "X = agg[['cts_bus', 'star_bus']]"
   ]
  },
  {
   "cell_type": "code",
   "execution_count": 91,
   "metadata": {},
   "outputs": [
    {
     "data": {
      "text/plain": [
       "count    181144.000000\n",
       "mean          0.418330\n",
       "std           0.493286\n",
       "min           0.000000\n",
       "25%           0.000000\n",
       "50%           0.000000\n",
       "75%           1.000000\n",
       "max           1.000000\n",
       "Name: popular, dtype: float64"
      ]
     },
     "execution_count": 91,
     "metadata": {},
     "output_type": "execute_result"
    }
   ],
   "source": [
    "X['popular'] = np.where( (X['star_bus'] > np.mean(X['star_bus'])) & (X['cts_bus'] > 0.4*np.mean(X['cts_bus'])), 1, 0)\n",
    "X['popular'] .describe()"
   ]
  },
  {
   "cell_type": "code",
   "execution_count": 92,
   "metadata": {},
   "outputs": [],
   "source": [
    "X = X.drop(['cts_bus', 'star_bus'], axis = 1)"
   ]
  },
  {
   "cell_type": "markdown",
   "metadata": {},
   "source": [
    "##### Gender"
   ]
  },
  {
   "cell_type": "code",
   "execution_count": 94,
   "metadata": {},
   "outputs": [
    {
     "name": "stdout",
     "output_type": "stream",
     "text": [
      "Ratio of females inferred from the names: 0.45\n"
     ]
    }
   ],
   "source": [
    "guess = gender.Detector()\n",
    "agg[\"guess\"] = [guess.get_gender(i) for i in agg[\"name_y\"]]\n",
    "X['gender'] = np.where(agg[\"guess\"].str.contains(\"female\"), 1, 0)\n",
    "print(\"Ratio of females inferred from the names:\",\n",
    "      round(X['gender'].sum()/X.shape[0], 2))"
   ]
  },
  {
   "cell_type": "markdown",
   "metadata": {},
   "source": [
    "##### Weekend "
   ]
  },
  {
   "cell_type": "code",
   "execution_count": 97,
   "metadata": {},
   "outputs": [
    {
     "data": {
      "text/plain": [
       "0     0\n",
       "14    2\n",
       "17    3\n",
       "18    3\n",
       "23    4\n",
       "Name: dayofweek, dtype: int64"
      ]
     },
     "execution_count": 97,
     "metadata": {},
     "output_type": "execute_result"
    }
   ],
   "source": [
    "# Monday 0 to Sunday 6\n",
    "# Hypothesis: reviews written on Friday, Saturday, and Sunday are different from the ones written during weekdays\n",
    "agg[\"dayofweek\"] = agg[\"DATE\"].dt.dayofweek\n",
    "agg[\"dayofweek\"].head()"
   ]
  },
  {
   "cell_type": "code",
   "execution_count": 98,
   "metadata": {},
   "outputs": [],
   "source": [
    "def weekend(df):\n",
    "    \n",
    "    if df[\"dayofweek\"] == 4:\n",
    "        return 1\n",
    "    elif df[\"dayofweek\"] == 5:\n",
    "        return 1\n",
    "    elif df[\"dayofweek\"] == 6:\n",
    "        return 1   \n",
    "    else:\n",
    "        return 0"
   ]
  },
  {
   "cell_type": "code",
   "execution_count": 99,
   "metadata": {},
   "outputs": [
    {
     "data": {
      "text/plain": [
       "0    98722\n",
       "1    82422\n",
       "Name: weekend, dtype: int64"
      ]
     },
     "execution_count": 99,
     "metadata": {},
     "output_type": "execute_result"
    }
   ],
   "source": [
    "X[\"weekend\"] = agg.apply(weekend, axis=1)\n",
    "X[\"weekend\"].value_counts()"
   ]
  },
  {
   "cell_type": "markdown",
   "metadata": {},
   "source": [
    "##### Vegan-friendly"
   ]
  },
  {
   "cell_type": "markdown",
   "metadata": {},
   "source": [
    "Keywords inspired from: https://www.allrecipes.com/recipes/265/everyday-cooking/vegetarian/main-dishes/"
   ]
  },
  {
   "cell_type": "code",
   "execution_count": 100,
   "metadata": {},
   "outputs": [],
   "source": [
    "veg_keywords = [\"vegan\", \"animal-free\", \"vegetarian\",  \n",
    "                \"flexitarian\", \"pescetarian\", \"freegan\", \"veggie\",\n",
    "                \"vegetables\", \"tofu\", \"chickpea\", \"eggplant\", \n",
    "                \"salad\", \"falafels\", \"bean\", \"spinach\", \n",
    "                \"zucchini\", \"spinach\", \"pepper\", \"lentil\", \n",
    "                \"mushroom\", \"onion\"]\n",
    "\n",
    "def vegan(df):\n",
    "    \n",
    "    vocas = [i.lower() for i in df['text'].split()]\n",
    "    \n",
    "    for key in veg_keywords:         \n",
    "        if key in vocas:\n",
    "            return 1  \n",
    "    return 0\n",
    "        \n",
    "# create new column for food categories\n",
    "X[\"vegan\"] = agg.apply(vegan, axis=1)"
   ]
  },
  {
   "cell_type": "code",
   "execution_count": 101,
   "metadata": {},
   "outputs": [
    {
     "data": {
      "text/plain": [
       "0    159734\n",
       "1     21410\n",
       "Name: vegan, dtype: int64"
      ]
     },
     "execution_count": 101,
     "metadata": {},
     "output_type": "execute_result"
    }
   ],
   "source": [
    "X[\"vegan\"].value_counts()"
   ]
  },
  {
   "cell_type": "markdown",
   "metadata": {},
   "source": [
    "##### Kids-friendly"
   ]
  },
  {
   "cell_type": "code",
   "execution_count": 103,
   "metadata": {},
   "outputs": [],
   "source": [
    "kid_keywords = [\"child\", \"children\", \"kid\", \"kids\", \n",
    "                \"kid's\", \"kid-friendly\", \"baby\", \"kid-size\"]\n",
    "\n",
    "def kid(df):\n",
    "    \n",
    "    vocas = [i.lower() for i in df['text'].split()]\n",
    "    \n",
    "    for key in kid_keywords:         \n",
    "        if key in vocas:\n",
    "            return 1  \n",
    "    return 0\n",
    "        \n",
    "# create new column for food categories\n",
    "X[\"kid\"] = agg.apply(kid, axis=1)"
   ]
  },
  {
   "cell_type": "code",
   "execution_count": 104,
   "metadata": {},
   "outputs": [
    {
     "data": {
      "text/plain": [
       "0    176338\n",
       "1      4806\n",
       "Name: kid, dtype: int64"
      ]
     },
     "execution_count": 104,
     "metadata": {},
     "output_type": "execute_result"
    }
   ],
   "source": [
    "X[\"kid\"].value_counts()"
   ]
  },
  {
   "cell_type": "markdown",
   "metadata": {},
   "source": [
    "##### With group"
   ]
  },
  {
   "cell_type": "code",
   "execution_count": 105,
   "metadata": {},
   "outputs": [],
   "source": [
    "keywords = [\"we\", \"our\", \"us\", \"daughter\", \"son\", \"children\", \"kids\", \"family\",\n",
    "           \"friends\", \"friend\", \"guests\", \"buddy\", \"colleagues\", \"wife\", \"husband\",\n",
    "            \"partner\", \"birthday\", \"group\", \"party\"]\n",
    "\n",
    "def withgroup(df):\n",
    "    \n",
    "    vocas = [i.lower() for i in df['text'].split()]\n",
    "    \n",
    "    for key in keywords:         \n",
    "        if key in vocas:\n",
    "            return 1  \n",
    "    return 0\n",
    "        \n",
    "# create new column for food categories\n",
    "X[\"group\"] = agg.apply(withgroup, axis=1)"
   ]
  },
  {
   "cell_type": "code",
   "execution_count": 109,
   "metadata": {},
   "outputs": [
    {
     "data": {
      "text/plain": [
       "1    91905\n",
       "0    89239\n",
       "Name: group, dtype: int64"
      ]
     },
     "execution_count": 109,
     "metadata": {},
     "output_type": "execute_result"
    }
   ],
   "source": [
    "X[\"group\"].value_counts()"
   ]
  },
  {
   "cell_type": "markdown",
   "metadata": {},
   "source": [
    "##### Food Categories"
   ]
  },
  {
   "cell_type": "code",
   "execution_count": 110,
   "metadata": {},
   "outputs": [],
   "source": [
    "Ameri = [\"American (New)\", \"American (Traditional)\", \"Burgers\", \"Chicken Wings\",\n",
    "        \"Fast Food\", \"Hot Dogs\", \"Salad\", \"Sandwiches\", \"Barbeque\"\n",
    "         \"Smokehouse\", \"Pizza\", \"Cheesesteaks\", \"Cafeteria\"]\n",
    "Europ = [\"Italian\", \"French\", \"British\", \"Hungarian\", \"lombian\",\"Portuguese\", \"German\",\n",
    "         \"Russian\", \"Spanish\", \"Ukrainian\", \"Fish & Chips\", \n",
    "         \"Greek\", \"Irish\", \"Modern European\", \"Polish\", \"Bulgarian\", \"Armenian\"]\n",
    "SouAM = [\"Mexican\", \"Argentine\", \"Cajun\", \"Caribbean\", \"Peruvian\",\n",
    "         \"Honduran\", \"Salvadoran\", \"Venezuelan\", \"Puerto Rican\", \"Tex-Mex\", \n",
    "         \"New Mexican Cuisine\", \"Nicaraguan\", \"Tacos\", \"Latin American\"]\n",
    "Asian = [\"Thai\", \"Japanese\", \"Fusion\", \"Korean\",\n",
    "          \"Filipino\", \"Hawaiian\", \"Curry\", \"Asian\", \"Pan Asian\",\n",
    "         \"Soba\", \"Vietnamese\", \"Singaporean\", \"Mongolian\", \n",
    "         \"Guamanian\", \"Himalayan/Nepalese\", \"Malaysian\",\n",
    "         \"Middle Eastern\", \"Sushi Bars\", \"Hong Kong Style Cafe\", \"Bubble Tea\"]\n",
    "Indian = ['Indian']\n",
    "Chinese = [\"Chinese\",  \"Taiwanese\", \"Cantonese\", \"Shanghainese\", \"Szechuan\",\n",
    "          \"Dim Sum\", \"Ramen\", \"Hot Pot\"]\n",
    "MidEas = [\"Mediterranean\",\"Kebab\", \"Pakistani\", \"Persian/Iranian\", \"Falafel\", \"Lebanese\"]\n",
    "Drinks = [\"Beer\", \"Coffee\", \"Wine Bars\", \"Pubs\",  \"Wineries\", \n",
    "          \"Wine & Spirits\", \"Tea Rooms\", \"Irish Pub\", \"Juice Bars & Smoothies\", \"Bars\"]\n",
    "\n",
    "def fooddummy(df, keywords):\n",
    "    for key in keywords: \n",
    "        if key in df['categories']:\n",
    "            return 1     \n",
    "    return 0\n",
    "\n",
    "# Full List (Too slow to run through)\n",
    "FoodCate = [\"Ameri\", \"Europ\", \"SouAM\", \"Asian\", \n",
    "            \"Indian\", \"Chinese\", \"MidEas\", \"Drinks\"]\n",
    "\n",
    "FoodCateKeys = [Ameri, Europ, SouAM, Asian, \n",
    "                Indian, Chinese, MidEas, Drinks]\n",
    "\n",
    "#Simplified List (Just pick two most unique categories)\n",
    "#FoodCate = [\"Asian\", \"Drinks\"]\n",
    "#FoodCateKeys = [Asian, Drinks]\n",
    "\n",
    "#c reate new column for food categories\n",
    "for index, name in enumerate(FoodCate):\n",
    "    X[name] = agg.apply(fooddummy, args=(FoodCateKeys[index],), axis=1)"
   ]
  },
  {
   "cell_type": "code",
   "execution_count": 111,
   "metadata": {},
   "outputs": [],
   "source": [
    "def category(df):\n",
    "    \n",
    "    if df['Ameri'] == 1:\n",
    "        return 'American'\n",
    "    elif df['Europ'] == 1:\n",
    "        return 'Europe'\n",
    "    elif df['SouAM'] == 1:\n",
    "        return 'South American'\n",
    "    elif df['Asian'] == 1:\n",
    "        return 'Asian'\n",
    "    elif df['Indian'] == 1:\n",
    "        return 'Indian'\n",
    "    elif df['Chinese'] == 1:\n",
    "        return 'Chinese'\n",
    "    elif df['MidEas'] == 1:\n",
    "        return 'Middle East'\n",
    "    elif df['Drinks'] == 1:\n",
    "        return 'Bars & Drinks'\n",
    "    else:\n",
    "        return 'Others'\n",
    "    \n",
    "X['category'] = X.apply(category, axis = 1)"
   ]
  },
  {
   "cell_type": "code",
   "execution_count": 112,
   "metadata": {},
   "outputs": [
    {
     "data": {
      "text/plain": [
       "American          88382\n",
       "Asian             34509\n",
       "Europe            15237\n",
       "South American    15033\n",
       "Others            13998\n",
       "Bars & Drinks      6608\n",
       "Chinese            4902\n",
       "Indian             1636\n",
       "Middle East         839\n",
       "Name: category, dtype: int64"
      ]
     },
     "execution_count": 112,
     "metadata": {},
     "output_type": "execute_result"
    }
   ],
   "source": [
    "X['category'].value_counts()"
   ]
  },
  {
   "cell_type": "code",
   "execution_count": 115,
   "metadata": {},
   "outputs": [],
   "source": [
    "X = X.drop([\"category\"], axis=1)"
   ]
  },
  {
   "cell_type": "markdown",
   "metadata": {},
   "source": [
    "### Machine Learning"
   ]
  },
  {
   "cell_type": "markdown",
   "metadata": {},
   "source": [
    "The ML algorithm will predict our satisfaction (utility) from dining at a particular restaurant. The predicted score will be used to rank the filtered options."
   ]
  },
  {
   "cell_type": "markdown",
   "metadata": {},
   "source": [
    "#### Preview data"
   ]
  },
  {
   "cell_type": "code",
   "execution_count": 116,
   "metadata": {},
   "outputs": [
    {
     "data": {
      "text/html": [
       "<div>\n",
       "<style scoped>\n",
       "    .dataframe tbody tr th:only-of-type {\n",
       "        vertical-align: middle;\n",
       "    }\n",
       "\n",
       "    .dataframe tbody tr th {\n",
       "        vertical-align: top;\n",
       "    }\n",
       "\n",
       "    .dataframe thead th {\n",
       "        text-align: right;\n",
       "    }\n",
       "</style>\n",
       "<table border=\"1\" class=\"dataframe\">\n",
       "  <thead>\n",
       "    <tr style=\"text-align: right;\">\n",
       "      <th></th>\n",
       "      <th>popular</th>\n",
       "      <th>gender</th>\n",
       "      <th>weekend</th>\n",
       "      <th>vegan</th>\n",
       "      <th>kid</th>\n",
       "      <th>group</th>\n",
       "      <th>Ameri</th>\n",
       "      <th>Europ</th>\n",
       "      <th>SouAM</th>\n",
       "      <th>Asian</th>\n",
       "      <th>Indian</th>\n",
       "      <th>Chinese</th>\n",
       "      <th>MidEas</th>\n",
       "      <th>Drinks</th>\n",
       "    </tr>\n",
       "  </thead>\n",
       "  <tbody>\n",
       "    <tr>\n",
       "      <th>0</th>\n",
       "      <td>0</td>\n",
       "      <td>1</td>\n",
       "      <td>0</td>\n",
       "      <td>0</td>\n",
       "      <td>0</td>\n",
       "      <td>0</td>\n",
       "      <td>1</td>\n",
       "      <td>0</td>\n",
       "      <td>0</td>\n",
       "      <td>0</td>\n",
       "      <td>0</td>\n",
       "      <td>0</td>\n",
       "      <td>0</td>\n",
       "      <td>1</td>\n",
       "    </tr>\n",
       "    <tr>\n",
       "      <th>14</th>\n",
       "      <td>0</td>\n",
       "      <td>0</td>\n",
       "      <td>0</td>\n",
       "      <td>0</td>\n",
       "      <td>0</td>\n",
       "      <td>1</td>\n",
       "      <td>1</td>\n",
       "      <td>0</td>\n",
       "      <td>0</td>\n",
       "      <td>0</td>\n",
       "      <td>0</td>\n",
       "      <td>0</td>\n",
       "      <td>0</td>\n",
       "      <td>0</td>\n",
       "    </tr>\n",
       "    <tr>\n",
       "      <th>17</th>\n",
       "      <td>0</td>\n",
       "      <td>0</td>\n",
       "      <td>0</td>\n",
       "      <td>0</td>\n",
       "      <td>0</td>\n",
       "      <td>0</td>\n",
       "      <td>1</td>\n",
       "      <td>0</td>\n",
       "      <td>0</td>\n",
       "      <td>0</td>\n",
       "      <td>0</td>\n",
       "      <td>0</td>\n",
       "      <td>0</td>\n",
       "      <td>0</td>\n",
       "    </tr>\n",
       "    <tr>\n",
       "      <th>18</th>\n",
       "      <td>0</td>\n",
       "      <td>0</td>\n",
       "      <td>0</td>\n",
       "      <td>0</td>\n",
       "      <td>0</td>\n",
       "      <td>0</td>\n",
       "      <td>1</td>\n",
       "      <td>0</td>\n",
       "      <td>0</td>\n",
       "      <td>0</td>\n",
       "      <td>0</td>\n",
       "      <td>0</td>\n",
       "      <td>0</td>\n",
       "      <td>0</td>\n",
       "    </tr>\n",
       "    <tr>\n",
       "      <th>23</th>\n",
       "      <td>0</td>\n",
       "      <td>0</td>\n",
       "      <td>1</td>\n",
       "      <td>0</td>\n",
       "      <td>0</td>\n",
       "      <td>0</td>\n",
       "      <td>1</td>\n",
       "      <td>0</td>\n",
       "      <td>0</td>\n",
       "      <td>0</td>\n",
       "      <td>0</td>\n",
       "      <td>0</td>\n",
       "      <td>0</td>\n",
       "      <td>0</td>\n",
       "    </tr>\n",
       "  </tbody>\n",
       "</table>\n",
       "</div>"
      ],
      "text/plain": [
       "    popular  gender  weekend  vegan  kid  group  Ameri  Europ  SouAM  Asian  \\\n",
       "0         0       1        0      0    0      0      1      0      0      0   \n",
       "14        0       0        0      0    0      1      1      0      0      0   \n",
       "17        0       0        0      0    0      0      1      0      0      0   \n",
       "18        0       0        0      0    0      0      1      0      0      0   \n",
       "23        0       0        1      0    0      0      1      0      0      0   \n",
       "\n",
       "    Indian  Chinese  MidEas  Drinks  \n",
       "0        0        0       0       1  \n",
       "14       0        0       0       0  \n",
       "17       0        0       0       0  \n",
       "18       0        0       0       0  \n",
       "23       0        0       0       0  "
      ]
     },
     "execution_count": 116,
     "metadata": {},
     "output_type": "execute_result"
    }
   ],
   "source": [
    "X.head()"
   ]
  },
  {
   "cell_type": "code",
   "execution_count": 119,
   "metadata": {},
   "outputs": [
    {
     "data": {
      "text/html": [
       "<div>\n",
       "<style scoped>\n",
       "    .dataframe tbody tr th:only-of-type {\n",
       "        vertical-align: middle;\n",
       "    }\n",
       "\n",
       "    .dataframe tbody tr th {\n",
       "        vertical-align: top;\n",
       "    }\n",
       "\n",
       "    .dataframe thead th {\n",
       "        text-align: right;\n",
       "    }\n",
       "</style>\n",
       "<table border=\"1\" class=\"dataframe\">\n",
       "  <thead>\n",
       "    <tr style=\"text-align: right;\">\n",
       "      <th></th>\n",
       "      <th>popular</th>\n",
       "      <th>gender</th>\n",
       "      <th>weekend</th>\n",
       "      <th>vegan</th>\n",
       "      <th>kid</th>\n",
       "      <th>group</th>\n",
       "      <th>Ameri</th>\n",
       "      <th>Europ</th>\n",
       "      <th>SouAM</th>\n",
       "      <th>Asian</th>\n",
       "      <th>Indian</th>\n",
       "      <th>Chinese</th>\n",
       "      <th>MidEas</th>\n",
       "      <th>Drinks</th>\n",
       "    </tr>\n",
       "  </thead>\n",
       "  <tbody>\n",
       "    <tr>\n",
       "      <th>count</th>\n",
       "      <td>181144.000000</td>\n",
       "      <td>181144.000000</td>\n",
       "      <td>181144.000000</td>\n",
       "      <td>181144.000000</td>\n",
       "      <td>181144.000000</td>\n",
       "      <td>181144.000000</td>\n",
       "      <td>181144.000000</td>\n",
       "      <td>181144.000000</td>\n",
       "      <td>181144.000000</td>\n",
       "      <td>181144.000000</td>\n",
       "      <td>181144.000000</td>\n",
       "      <td>181144.000000</td>\n",
       "      <td>181144.000000</td>\n",
       "      <td>181144.000000</td>\n",
       "    </tr>\n",
       "    <tr>\n",
       "      <th>mean</th>\n",
       "      <td>0.418330</td>\n",
       "      <td>0.448875</td>\n",
       "      <td>0.455008</td>\n",
       "      <td>0.118193</td>\n",
       "      <td>0.026531</td>\n",
       "      <td>0.507359</td>\n",
       "      <td>0.487910</td>\n",
       "      <td>0.138183</td>\n",
       "      <td>0.120606</td>\n",
       "      <td>0.237849</td>\n",
       "      <td>0.011129</td>\n",
       "      <td>0.075746</td>\n",
       "      <td>0.028833</td>\n",
       "      <td>0.351141</td>\n",
       "    </tr>\n",
       "    <tr>\n",
       "      <th>std</th>\n",
       "      <td>0.493286</td>\n",
       "      <td>0.497381</td>\n",
       "      <td>0.497973</td>\n",
       "      <td>0.322838</td>\n",
       "      <td>0.160710</td>\n",
       "      <td>0.499947</td>\n",
       "      <td>0.499855</td>\n",
       "      <td>0.345093</td>\n",
       "      <td>0.325669</td>\n",
       "      <td>0.425768</td>\n",
       "      <td>0.104907</td>\n",
       "      <td>0.264593</td>\n",
       "      <td>0.167339</td>\n",
       "      <td>0.477328</td>\n",
       "    </tr>\n",
       "    <tr>\n",
       "      <th>min</th>\n",
       "      <td>0.000000</td>\n",
       "      <td>0.000000</td>\n",
       "      <td>0.000000</td>\n",
       "      <td>0.000000</td>\n",
       "      <td>0.000000</td>\n",
       "      <td>0.000000</td>\n",
       "      <td>0.000000</td>\n",
       "      <td>0.000000</td>\n",
       "      <td>0.000000</td>\n",
       "      <td>0.000000</td>\n",
       "      <td>0.000000</td>\n",
       "      <td>0.000000</td>\n",
       "      <td>0.000000</td>\n",
       "      <td>0.000000</td>\n",
       "    </tr>\n",
       "    <tr>\n",
       "      <th>25%</th>\n",
       "      <td>0.000000</td>\n",
       "      <td>0.000000</td>\n",
       "      <td>0.000000</td>\n",
       "      <td>0.000000</td>\n",
       "      <td>0.000000</td>\n",
       "      <td>0.000000</td>\n",
       "      <td>0.000000</td>\n",
       "      <td>0.000000</td>\n",
       "      <td>0.000000</td>\n",
       "      <td>0.000000</td>\n",
       "      <td>0.000000</td>\n",
       "      <td>0.000000</td>\n",
       "      <td>0.000000</td>\n",
       "      <td>0.000000</td>\n",
       "    </tr>\n",
       "    <tr>\n",
       "      <th>50%</th>\n",
       "      <td>0.000000</td>\n",
       "      <td>0.000000</td>\n",
       "      <td>0.000000</td>\n",
       "      <td>0.000000</td>\n",
       "      <td>0.000000</td>\n",
       "      <td>1.000000</td>\n",
       "      <td>0.000000</td>\n",
       "      <td>0.000000</td>\n",
       "      <td>0.000000</td>\n",
       "      <td>0.000000</td>\n",
       "      <td>0.000000</td>\n",
       "      <td>0.000000</td>\n",
       "      <td>0.000000</td>\n",
       "      <td>0.000000</td>\n",
       "    </tr>\n",
       "    <tr>\n",
       "      <th>75%</th>\n",
       "      <td>1.000000</td>\n",
       "      <td>1.000000</td>\n",
       "      <td>1.000000</td>\n",
       "      <td>0.000000</td>\n",
       "      <td>0.000000</td>\n",
       "      <td>1.000000</td>\n",
       "      <td>1.000000</td>\n",
       "      <td>0.000000</td>\n",
       "      <td>0.000000</td>\n",
       "      <td>0.000000</td>\n",
       "      <td>0.000000</td>\n",
       "      <td>0.000000</td>\n",
       "      <td>0.000000</td>\n",
       "      <td>1.000000</td>\n",
       "    </tr>\n",
       "    <tr>\n",
       "      <th>max</th>\n",
       "      <td>1.000000</td>\n",
       "      <td>1.000000</td>\n",
       "      <td>1.000000</td>\n",
       "      <td>1.000000</td>\n",
       "      <td>1.000000</td>\n",
       "      <td>1.000000</td>\n",
       "      <td>1.000000</td>\n",
       "      <td>1.000000</td>\n",
       "      <td>1.000000</td>\n",
       "      <td>1.000000</td>\n",
       "      <td>1.000000</td>\n",
       "      <td>1.000000</td>\n",
       "      <td>1.000000</td>\n",
       "      <td>1.000000</td>\n",
       "    </tr>\n",
       "  </tbody>\n",
       "</table>\n",
       "</div>"
      ],
      "text/plain": [
       "             popular         gender        weekend          vegan  \\\n",
       "count  181144.000000  181144.000000  181144.000000  181144.000000   \n",
       "mean        0.418330       0.448875       0.455008       0.118193   \n",
       "std         0.493286       0.497381       0.497973       0.322838   \n",
       "min         0.000000       0.000000       0.000000       0.000000   \n",
       "25%         0.000000       0.000000       0.000000       0.000000   \n",
       "50%         0.000000       0.000000       0.000000       0.000000   \n",
       "75%         1.000000       1.000000       1.000000       0.000000   \n",
       "max         1.000000       1.000000       1.000000       1.000000   \n",
       "\n",
       "                 kid          group          Ameri          Europ  \\\n",
       "count  181144.000000  181144.000000  181144.000000  181144.000000   \n",
       "mean        0.026531       0.507359       0.487910       0.138183   \n",
       "std         0.160710       0.499947       0.499855       0.345093   \n",
       "min         0.000000       0.000000       0.000000       0.000000   \n",
       "25%         0.000000       0.000000       0.000000       0.000000   \n",
       "50%         0.000000       1.000000       0.000000       0.000000   \n",
       "75%         0.000000       1.000000       1.000000       0.000000   \n",
       "max         1.000000       1.000000       1.000000       1.000000   \n",
       "\n",
       "               SouAM          Asian         Indian        Chinese  \\\n",
       "count  181144.000000  181144.000000  181144.000000  181144.000000   \n",
       "mean        0.120606       0.237849       0.011129       0.075746   \n",
       "std         0.325669       0.425768       0.104907       0.264593   \n",
       "min         0.000000       0.000000       0.000000       0.000000   \n",
       "25%         0.000000       0.000000       0.000000       0.000000   \n",
       "50%         0.000000       0.000000       0.000000       0.000000   \n",
       "75%         0.000000       0.000000       0.000000       0.000000   \n",
       "max         1.000000       1.000000       1.000000       1.000000   \n",
       "\n",
       "              MidEas         Drinks  \n",
       "count  181144.000000  181144.000000  \n",
       "mean        0.028833       0.351141  \n",
       "std         0.167339       0.477328  \n",
       "min         0.000000       0.000000  \n",
       "25%         0.000000       0.000000  \n",
       "50%         0.000000       0.000000  \n",
       "75%         0.000000       1.000000  \n",
       "max         1.000000       1.000000  "
      ]
     },
     "execution_count": 119,
     "metadata": {},
     "output_type": "execute_result"
    }
   ],
   "source": [
    "X.describe()"
   ]
  },
  {
   "cell_type": "code",
   "execution_count": 117,
   "metadata": {},
   "outputs": [
    {
     "data": {
      "text/plain": [
       "0     55.260128\n",
       "14    49.104521\n",
       "17    68.690439\n",
       "18     4.349598\n",
       "23    68.270019\n",
       "35    50.346709\n",
       "40     1.997691\n",
       "48    64.181862\n",
       "53    44.107960\n",
       "55     5.282390\n",
       "Name: y, dtype: float64"
      ]
     },
     "execution_count": 117,
     "metadata": {},
     "output_type": "execute_result"
    }
   ],
   "source": [
    "y[:10]"
   ]
  },
  {
   "cell_type": "code",
   "execution_count": 118,
   "metadata": {},
   "outputs": [
    {
     "data": {
      "text/plain": [
       "((181144, 14), (181144,))"
      ]
     },
     "execution_count": 118,
     "metadata": {},
     "output_type": "execute_result"
    }
   ],
   "source": [
    "# make sure the rows number match!\n",
    "(X.shape,y.shape)"
   ]
  },
  {
   "cell_type": "markdown",
   "metadata": {},
   "source": [
    "#### Predictive Models"
   ]
  },
  {
   "cell_type": "markdown",
   "metadata": {},
   "source": [
    "##### Feature importance using Random Forest"
   ]
  },
  {
   "cell_type": "markdown",
   "metadata": {},
   "source": [
    "Random Forest measures the relative importance of each predictor by counting the number of associated training samples in the 100 trees. "
   ]
  },
  {
   "cell_type": "code",
   "execution_count": 120,
   "metadata": {},
   "outputs": [
    {
     "name": "stdout",
     "output_type": "stream",
     "text": [
      "popular 0.44080247183577087\n",
      "gender 0.04077381158057032\n",
      "weekend 0.043720033351638994\n",
      "vegan 0.03845810634687746\n",
      "kid 0.02597493870919113\n",
      "group 0.05212221888929561\n",
      "Ameri 0.05812343553849789\n",
      "Europ 0.048506785244719124\n",
      "SouAM 0.02686662600977552\n",
      "Asian 0.09135659180694672\n",
      "Indian 0.017424748606530385\n",
      "Chinese 0.03083798895231573\n",
      "MidEas 0.02804069730774118\n",
      "Drinks 0.05699154582012923\n"
     ]
    }
   ],
   "source": [
    "from sklearn.ensemble import RandomForestRegressor\n",
    "rfc = RandomForestRegressor(n_estimators = 100,n_jobs = 4).fit(X, y)\n",
    "\n",
    "for name,score in zip(X.columns, rfc.feature_importances_):\n",
    "    print(name,score)"
   ]
  },
  {
   "cell_type": "code",
   "execution_count": 122,
   "metadata": {},
   "outputs": [],
   "source": [
    "def render_mpl_table(data, col_width = 3.0, row_height = 0.625, font_size = 14,\n",
    "                     header_color = '#40466e', row_colors = ['#f1f1f2', 'w'], edge_color = 'w',\n",
    "                     bbox = [0, 0, 1, 1], header_columns = 0, ax = None, **kwargs):\n",
    "    \n",
    "    if ax is None:\n",
    "        size = (np.array(data.shape[::-1]) + np.array([0, 1])) * np.array([col_width, row_height])\n",
    "        fig, ax = plt.subplots(figsize=size)\n",
    "        ax.axis('off')\n",
    "\n",
    "    mpl_table = ax.table(cellText = data.values, bbox = bbox, colLabels = data.columns, **kwargs)\n",
    "\n",
    "    mpl_table.auto_set_font_size(False)\n",
    "    mpl_table.set_fontsize(font_size)\n",
    "\n",
    "    for k, cell in  six.iteritems(mpl_table._cells):\n",
    "        cell.set_edgecolor(edge_color)\n",
    "        if k[0] == 0 or k[1] < header_columns:\n",
    "            cell.set_text_props(weight = 'bold', color = 'w')\n",
    "            cell.set_facecolor(header_color)\n",
    "        else:\n",
    "            cell.set_facecolor(row_colors[k[0]%len(row_colors) ])\n",
    "    return ax\n",
    "\n",
    "#render_mpl_table(XG, header_columns=0, col_width=2.0)\n",
    "#plt.savefig('gendertable.png')"
   ]
  },
  {
   "cell_type": "code",
   "execution_count": 123,
   "metadata": {
    "scrolled": true
   },
   "outputs": [
    {
     "data": {
      "image/png": "[encoded data removed]",
      "text/plain": [
       "<Figure size 504x675 with 1 Axes>"
      ]
     },
     "metadata": {},
     "output_type": "display_data"
    }
   ],
   "source": [
    "imp = pd.DataFrame({\"features\": X.columns, \"score\": rfc.feature_importances_})\n",
    "imp = imp.sort_values(by='score', ascending=False)\n",
    "imp = imp.round(2)\n",
    "render_mpl_table(imp, header_columns=0, col_width=3.5)\n",
    "plt.savefig('importance.png')"
   ]
  },
  {
   "cell_type": "code",
   "execution_count": 124,
   "metadata": {
    "scrolled": true
   },
   "outputs": [
    {
     "data": {
      "text/plain": [
       "Text(0.5, 0, 'scores')"
      ]
     },
     "execution_count": 124,
     "metadata": {},
     "output_type": "execute_result"
    },
    {
     "data": {
      "image/png": "[encoded data removed]",
      "text/plain": [
       "<Figure size 432x288 with 1 Axes>"
      ]
     },
     "metadata": {},
     "output_type": "display_data"
    }
   ],
   "source": [
    "plt.hlines(y = imp[\"features\"], xmin = 0, xmax = imp['score'],\n",
    "           linestyles = 'dashed', color = 'maroon')\n",
    "\n",
    "plt.plot(imp['score'], imp[\"features\"], \">\", color = 'maroon')\n",
    " \n",
    "plt.yticks(imp[\"features\"])\n",
    "plt.title(\"Relative Features Importance\", loc = 'center', fontsize = 15)\n",
    "plt.xlabel('scores')\n",
    "#plt.savefig(\"Relative Features Importance.png\")"
   ]
  },
  {
   "cell_type": "markdown",
   "metadata": {},
   "source": [
    "##### Training and testing sets"
   ]
  },
  {
   "cell_type": "code",
   "execution_count": 125,
   "metadata": {},
   "outputs": [],
   "source": [
    "# Divide the data into training and test set, with ratio 3:1 (test=25%).\n",
    "X_train, X_test, y_train, y_test = train_test_split(X, y, random_state = 0)\n",
    "scaler = MinMaxScaler()\n",
    "X_train = scaler.fit_transform(X_train)\n",
    "X_test = scaler.fit_transform(X_test)"
   ]
  },
  {
   "cell_type": "markdown",
   "metadata": {},
   "source": [
    "##### Linear Regression"
   ]
  },
  {
   "cell_type": "code",
   "execution_count": 132,
   "metadata": {},
   "outputs": [],
   "source": [
    "lin = LinearRegression().fit(X_train, y_train)"
   ]
  },
  {
   "cell_type": "code",
   "execution_count": 133,
   "metadata": {},
   "outputs": [
    {
     "name": "stdout",
     "output_type": "stream",
     "text": [
      "Mean: 510.17\n",
      "Standard deviation: 2.65\n"
     ]
    }
   ],
   "source": [
    "linkf = cross_val_score(lin, X_train, y_train, cv=5, \n",
    "                      scoring=\"neg_mean_squared_error\")\n",
    "print(\"Mean:\",round(-linkf.mean(),2))\n",
    "print(\"Standard deviation:\",round(linkf.std(),2))"
   ]
  },
  {
   "cell_type": "code",
   "execution_count": 134,
   "metadata": {},
   "outputs": [
    {
     "name": "stdout",
     "output_type": "stream",
     "text": [
      "Mean: 510.98\n",
      "Standard deviation: 12.1\n"
     ]
    }
   ],
   "source": [
    "# What happends if we use the full data: much higher s.d\n",
    "linfull = LinearRegression().fit(X, y)\n",
    "linkffull = cross_val_score(linfull, X, y, cv = 5, \n",
    "                      scoring=\"neg_mean_squared_error\")\n",
    "print(\"Mean:\",round(-linkffull.mean(),2))\n",
    "print(\"Standard deviation:\",round(linkffull.std(),2))"
   ]
  },
  {
   "cell_type": "code",
   "execution_count": 135,
   "metadata": {},
   "outputs": [
    {
     "data": {
      "text/plain": [
       "array([ 8.24566831,  1.11553064, -0.18650831,  1.0592961 , -2.98190953,\n",
       "       -2.05353567, -2.2649311 ,  2.08909316,  0.60199038,  3.14695475,\n",
       "        1.48186688, -2.18265054,  3.42820012,  0.77782632])"
      ]
     },
     "execution_count": 135,
     "metadata": {},
     "output_type": "execute_result"
    }
   ],
   "source": [
    "lin.coef_"
   ]
  },
  {
   "cell_type": "code",
   "execution_count": 136,
   "metadata": {},
   "outputs": [
    {
     "data": {
      "text/plain": [
       "45.82206687037662"
      ]
     },
     "execution_count": 136,
     "metadata": {},
     "output_type": "execute_result"
    }
   ],
   "source": [
    "lin.intercept_"
   ]
  },
  {
   "cell_type": "code",
   "execution_count": 137,
   "metadata": {},
   "outputs": [
    {
     "name": "stdout",
     "output_type": "stream",
     "text": [
      "                            OLS Regression Results                            \n",
      "==============================================================================\n",
      "Dep. Variable:                      y   R-squared:                       0.046\n",
      "Model:                            OLS   Adj. R-squared:                  0.046\n",
      "Method:                 Least Squares   F-statistic:                     468.1\n",
      "Date:                Fri, 20 Mar 2020   Prob (F-statistic):               0.00\n",
      "Time:                        18:02:54   Log-Likelihood:            -6.1628e+05\n",
      "No. Observations:              135858   AIC:                         1.233e+06\n",
      "Df Residuals:                  135843   BIC:                         1.233e+06\n",
      "Df Model:                          14                                         \n",
      "Covariance Type:            nonrobust                                         \n",
      "==============================================================================\n",
      "                 coef    std err          t      P>|t|      [0.025      0.975]\n",
      "------------------------------------------------------------------------------\n",
      "const         45.8221      0.179    256.434      0.000      45.472      46.172\n",
      "x1             8.2457      0.126     65.498      0.000       7.999       8.492\n",
      "x2             1.1155      0.124      8.997      0.000       0.873       1.359\n",
      "x3            -0.1865      0.123     -1.516      0.130      -0.428       0.055\n",
      "x4             1.0593      0.191      5.542      0.000       0.685       1.434\n",
      "x5            -2.9819      0.385     -7.738      0.000      -3.737      -2.227\n",
      "x6            -2.0535      0.125    -16.413      0.000      -2.299      -1.808\n",
      "x7            -2.2649      0.142    -15.960      0.000      -2.543      -1.987\n",
      "x8             2.0891      0.193     10.831      0.000       1.711       2.467\n",
      "x9             0.6020      0.202      2.979      0.003       0.206       0.998\n",
      "x10            3.1470      0.169     18.593      0.000       2.815       3.479\n",
      "x11            1.4819      0.599      2.473      0.013       0.307       2.657\n",
      "x12           -2.1827      0.249     -8.773      0.000      -2.670      -1.695\n",
      "x13            3.4282      0.376      9.116      0.000       2.691       4.165\n",
      "x14            0.7778      0.132      5.894      0.000       0.519       1.036\n",
      "==============================================================================\n",
      "Omnibus:                    14541.207   Durbin-Watson:                   2.002\n",
      "Prob(Omnibus):                  0.000   Jarque-Bera (JB):            17478.235\n",
      "Skew:                          -0.848   Prob(JB):                         0.00\n",
      "Kurtosis:                       2.539   Cond. No.                         15.5\n",
      "==============================================================================\n",
      "\n",
      "Warnings:\n",
      "[1] Standard Errors assume that the covariance matrix of the errors is correctly specified.\n"
     ]
    }
   ],
   "source": [
    "import statsmodels.api as sm\n",
    "X2 = sm.add_constant(X_train)\n",
    "model = sm.OLS(y_train, X2).fit()\n",
    "#predictions = model.predict(X) \n",
    "print_model = model.summary()\n",
    "print(print_model)"
   ]
  },
  {
   "cell_type": "markdown",
   "metadata": {},
   "source": [
    "##### Lasso Regression\n"
   ]
  },
  {
   "cell_type": "code",
   "execution_count": 138,
   "metadata": {},
   "outputs": [],
   "source": [
    "las = Lasso().fit(X_train, y_train)"
   ]
  },
  {
   "cell_type": "code",
   "execution_count": 142,
   "metadata": {},
   "outputs": [
    {
     "name": "stdout",
     "output_type": "stream",
     "text": [
      "GridBestEstimatorLasso= Lasso(alpha=0.0, copy_X=True, fit_intercept=True, max_iter=1000,\n",
      "   normalize=False, positive=False, precompute=False, random_state=None,\n",
      "   selection='cyclic', tol=0.0001, warm_start=False)\n",
      "GridBestParamsLasso= {'alpha': 0.0}\n",
      "GridBestScoreLasso= 510.1674761464418\n"
     ]
    }
   ],
   "source": [
    "alpha_grid = {\"alpha\": np.linspace(0,20,50)}\n",
    "grid_search_las = GridSearchCV(las, param_grid = alpha_grid, n_jobs = 4, cv = 5,\n",
    "                       scoring='neg_mean_squared_error').fit(X_train,y_train)\n",
    "\n",
    "print('GridBestEstimatorLasso=', grid_search_las.best_estimator_)\n",
    "print('GridBestParamsLasso=', grid_search_las.best_params_)\n",
    "print('GridBestScoreLasso=', -grid_search_las.best_score_)"
   ]
  },
  {
   "cell_type": "code",
   "execution_count": 143,
   "metadata": {},
   "outputs": [
    {
     "name": "stdout",
     "output_type": "stream",
     "text": [
      "Mean: 510.17\n",
      "Standard deviation: 2.65\n"
     ]
    }
   ],
   "source": [
    "las = Lasso(alpha = grid_search_las.best_params_['alpha']).fit(X_train, y_train)\n",
    "laskf = cross_val_score(las, X_train, y_train, cv = 5, \n",
    "                      scoring=\"neg_mean_squared_error\")\n",
    "print(\"Mean:\", round(-laskf.mean(),2))\n",
    "print(\"Standard deviation:\",round(laskf.std(),2))"
   ]
  },
  {
   "cell_type": "code",
   "execution_count": 144,
   "metadata": {},
   "outputs": [
    {
     "data": {
      "text/plain": [
       "array([ 8.24566831,  1.11553064, -0.18650831,  1.0592961 , -2.98190953,\n",
       "       -2.05353567, -2.2649311 ,  2.08909316,  0.60199038,  3.14695475,\n",
       "        1.48186688, -2.18265054,  3.42820012,  0.77782632])"
      ]
     },
     "execution_count": 144,
     "metadata": {},
     "output_type": "execute_result"
    }
   ],
   "source": [
    "las.coef_"
   ]
  },
  {
   "cell_type": "markdown",
   "metadata": {},
   "source": [
    "##### Ridge Regression"
   ]
  },
  {
   "cell_type": "code",
   "execution_count": 145,
   "metadata": {},
   "outputs": [],
   "source": [
    "rid = Ridge(alpha = 1).fit(X_train, y_train)"
   ]
  },
  {
   "cell_type": "code",
   "execution_count": 146,
   "metadata": {},
   "outputs": [
    {
     "name": "stdout",
     "output_type": "stream",
     "text": [
      "GridBestEstimatorRidge= Ridge(alpha=20.0, copy_X=True, fit_intercept=True, max_iter=None,\n",
      "   normalize=False, random_state=None, solver='auto', tol=0.001)\n",
      "GridBestParamsRidge {'alpha': 20.0}\n",
      "GridBestScoreRidge= 510.16717038775573\n"
     ]
    }
   ],
   "source": [
    "alpha_grid = {\"alpha\": np.linspace(1,20,50)}\n",
    "grid_search_rid = GridSearchCV(rid, param_grid = alpha_grid, n_jobs = 4, cv = 5,\n",
    "                       scoring='neg_mean_squared_error').fit(X_train,y_train)\n",
    "print('GridBestEstimatorRidge=', grid_search_rid.best_estimator_)\n",
    "print('GridBestParamsRidge', grid_search_rid.best_params_)\n",
    "print('GridBestScoreRidge=', -grid_search_rid.best_score_)"
   ]
  },
  {
   "cell_type": "code",
   "execution_count": 148,
   "metadata": {},
   "outputs": [
    {
     "name": "stdout",
     "output_type": "stream",
     "text": [
      "Mean: 510.17\n",
      "Standard deviation: 2.64\n"
     ]
    }
   ],
   "source": [
    "rid = Ridge(alpha = grid_search_rid.best_params_['alpha']).fit(X_train, y_train)\n",
    "ridkf = cross_val_score(rid, X_train, y_train, cv = 5, scoring = \"neg_mean_squared_error\")\n",
    "print(\"Mean:\", round(-ridkf.mean(),2))\n",
    "print(\"Standard deviation:\", round(ridkf.std(),2))"
   ]
  },
  {
   "cell_type": "markdown",
   "metadata": {},
   "source": [
    "##### Bayesian Ridge Regression"
   ]
  },
  {
   "cell_type": "markdown",
   "metadata": {},
   "source": [
    "https://scikit-learn.org/stable/auto_examples/linear_model/plot_bayesian_ridge.html#sphx-glr-auto-examples-linear-model-plot-bayesian-ridge-py"
   ]
  },
  {
   "cell_type": "markdown",
   "metadata": {},
   "source": [
    "http://citeseerx.ist.psu.edu/viewdoc/download?doi=10.1.1.27.9072&rep=rep1&type=pdf"
   ]
  },
  {
   "cell_type": "code",
   "execution_count": 149,
   "metadata": {},
   "outputs": [
    {
     "name": "stdout",
     "output_type": "stream",
     "text": [
      "Mean: 510.17\n",
      "Standard deviation: 2.64\n"
     ]
    }
   ],
   "source": [
    "bay = BayesianRidge().fit(X_train, y_train)\n",
    "baykf = cross_val_score(bay, X_train, y_train, cv = 5, \n",
    "                      scoring=\"neg_mean_squared_error\")\n",
    "print(\"Mean:\", round(-baykf.mean(),2))\n",
    "print(\"Standard deviation:\", round(baykf.std(),2))"
   ]
  },
  {
   "cell_type": "markdown",
   "metadata": {},
   "source": [
    "##### Elastic Net"
   ]
  },
  {
   "cell_type": "code",
   "execution_count": 150,
   "metadata": {},
   "outputs": [
    {
     "name": "stdout",
     "output_type": "stream",
     "text": [
      "GridBestEstimator= ElasticNet(alpha=0.0, copy_X=True, fit_intercept=True,\n",
      "      l1_ratio=0.6666666666666666, max_iter=1000, normalize=False,\n",
      "      positive=False, precompute=False, random_state=None,\n",
      "      selection='cyclic', tol=0.0001, warm_start=False)\n",
      "GridBestParams= {'l1_ratio': 0.6666666666666666, 'alpha': 0.0}\n",
      "GridBestScore= 510.1674761464418\n",
      "Mean: 510.17\n",
      "Standard deviation: 2.65\n"
     ]
    }
   ],
   "source": [
    "ela = ElasticNet(alpha = 1,l1_ratio = 0.5).fit(X_train, y_train)\n",
    "\n",
    "alpha_ratio_grid = {\"alpha\": np.linspace(0,1,10),\n",
    "                  \"l1_ratio\": np.linspace(0,1,10)}\n",
    "\n",
    "grid_search_ela = RandomizedSearchCV(ela, param_distributions = alpha_ratio_grid, \n",
    "                       n_jobs = 4, cv = 5, random_state = 25,\n",
    "                       scoring='neg_mean_squared_error').fit(X_train,y_train)\n",
    "\n",
    "print('GridBestEstimator=', grid_search_ela.best_estimator_)\n",
    "print('GridBestParams=', grid_search_ela.best_params_)\n",
    "print('GridBestScore=', -grid_search_ela.best_score_)\n",
    "\n",
    "ela = ElasticNet(alpha = grid_search_ela.best_params_['alpha'],\n",
    "                l1_ratio = grid_search_ela.best_params_['l1_ratio']).fit(X_train, y_train)\n",
    "\n",
    "elakf = cross_val_score(ela, X_train, y_train, cv=5, scoring=\"neg_mean_squared_error\")\n",
    "print(\"Mean:\",round(-elakf.mean(),2))\n",
    "print(\"Standard deviation:\",round(elakf.std(),2))"
   ]
  },
  {
   "cell_type": "markdown",
   "metadata": {},
   "source": [
    "##### Decision Tree"
   ]
  },
  {
   "cell_type": "code",
   "execution_count": 151,
   "metadata": {},
   "outputs": [],
   "source": [
    "tree = DecisionTreeRegressor().fit(X_train, y_train)"
   ]
  },
  {
   "cell_type": "code",
   "execution_count": 152,
   "metadata": {},
   "outputs": [
    {
     "name": "stdout",
     "output_type": "stream",
     "text": [
      "RandBestEstimatorTree= DecisionTreeRegressor(criterion='mse', max_depth=49, max_features=None,\n",
      "           max_leaf_nodes=None, min_impurity_decrease=0.0,\n",
      "           min_impurity_split=None, min_samples_leaf=75,\n",
      "           min_samples_split=18, min_weight_fraction_leaf=0.0,\n",
      "           presort=False, random_state=None, splitter='best')\n",
      "RandBestParamsTree= {'max_depth': 49, 'min_samples_leaf': 75, 'min_samples_split': 18}\n",
      "RandBestScoreTree= 505.63380802847365\n"
     ]
    }
   ],
   "source": [
    "param_dist_tree = {'max_depth': sp_randint(2, 100),\n",
    "               'min_samples_split': sp_randint(2, 100),\n",
    "               'min_samples_leaf': sp_randint(2, 100)}\n",
    "\n",
    "random_search_tree = RandomizedSearchCV(tree, param_distributions = param_dist_tree,\n",
    "                       n_jobs = 4, cv = 5, random_state = 25,\n",
    "                       scoring='neg_mean_squared_error').fit(X_train, y_train)\n",
    "\n",
    "print('RandBestEstimatorTree=', random_search_tree.best_estimator_)\n",
    "print('RandBestParamsTree=', random_search_tree.best_params_)\n",
    "print('RandBestScoreTree=', -random_search_tree.best_score_)"
   ]
  },
  {
   "cell_type": "code",
   "execution_count": 153,
   "metadata": {},
   "outputs": [],
   "source": [
    "tree = DecisionTreeRegressor(max_depth = random_search_tree.best_params_['max_depth'],\n",
    "                             min_samples_leaf = random_search_tree.best_params_['min_samples_leaf'],\n",
    "                             min_samples_split = random_search_tree.best_params_['min_samples_split']).fit(X_train, y_train)"
   ]
  },
  {
   "cell_type": "code",
   "execution_count": 154,
   "metadata": {},
   "outputs": [
    {
     "name": "stdout",
     "output_type": "stream",
     "text": [
      "Mean: 505.63\n",
      "Standard deviation: 2.42\n"
     ]
    }
   ],
   "source": [
    "treekf = cross_val_score(tree, X_train, y_train, cv=5, \n",
    "                      scoring=\"neg_mean_squared_error\")\n",
    "print(\"Mean:\",round(-treekf.mean(),2))\n",
    "print(\"Standard deviation:\", round(treekf.std(),2))"
   ]
  },
  {
   "cell_type": "markdown",
   "metadata": {},
   "source": [
    "##### Random Forest"
   ]
  },
  {
   "cell_type": "code",
   "execution_count": 155,
   "metadata": {},
   "outputs": [],
   "source": [
    "rfr = RandomForestRegressor().fit(X_train, y_train)"
   ]
  },
  {
   "cell_type": "code",
   "execution_count": 157,
   "metadata": {},
   "outputs": [
    {
     "name": "stdout",
     "output_type": "stream",
     "text": [
      "RandBestEstimatorrfr= RandomForestRegressor(bootstrap=True, criterion='mse', max_depth=9,\n",
      "           max_features=3, max_leaf_nodes=None, min_impurity_decrease=0.0,\n",
      "           min_impurity_split=None, min_samples_leaf=17,\n",
      "           min_samples_split=14, min_weight_fraction_leaf=0.0,\n",
      "           n_estimators=60, n_jobs=None, oob_score=False,\n",
      "           random_state=None, verbose=0, warm_start=False)\n",
      "RandBestParamsrfr= {'max_depth': 9, 'max_features': 3, 'min_samples_leaf': 17, 'min_samples_split': 14, 'n_estimators': 60}\n",
      "RandBestScorerfr= 505.2190662764719\n"
     ]
    }
   ],
   "source": [
    "param_dist_rfr = {'n_estimators':sp_randint(10, 100),\n",
    "               'max_depth': sp_randint(5, 10),\n",
    "               'min_samples_split': sp_randint(2, 20),\n",
    "               'min_samples_leaf': sp_randint(2, 20),\n",
    "               'max_features':sp_randint(1,5)}\n",
    "\n",
    "random_search_rfr = RandomizedSearchCV(rfr, param_distributions = param_dist_rfr,\n",
    "                        n_jobs = 4, cv = 5, random_state = 25,\n",
    "                       scoring = 'neg_mean_squared_error').fit(X_train, y_train)\n",
    "\n",
    "print('RandBestEstimatorrfr=', random_search_rfr.best_estimator_)\n",
    "print('RandBestParamsrfr=', random_search_rfr.best_params_)\n",
    "print('RandBestScorerfr=', -random_search_rfr.best_score_)"
   ]
  },
  {
   "cell_type": "code",
   "execution_count": 158,
   "metadata": {},
   "outputs": [],
   "source": [
    "bprfr = random_search_rfr.best_params_\n",
    "rfr = RandomForestRegressor(max_depth = bprfr['max_depth'],\n",
    "                             max_features = bprfr['max_features'],\n",
    "                             min_samples_leaf = bprfr['min_samples_leaf'],\n",
    "                             min_samples_split = bprfr['min_samples_split']).fit(X_train, y_train)"
   ]
  },
  {
   "cell_type": "code",
   "execution_count": 159,
   "metadata": {},
   "outputs": [
    {
     "name": "stdout",
     "output_type": "stream",
     "text": [
      "Mean: 505.77\n",
      "Standard deviation: 2.29\n"
     ]
    }
   ],
   "source": [
    "rfrkf = cross_val_score(rfr, X_train, y_train, cv=5, \n",
    "                      scoring=\"neg_mean_squared_error\")\n",
    "print(\"Mean:\",round(-rfrkf.mean(),2))\n",
    "print(\"Standard deviation:\",round(rfrkf.std(),2))"
   ]
  },
  {
   "cell_type": "markdown",
   "metadata": {},
   "source": [
    "##### Gradient Boosting"
   ]
  },
  {
   "cell_type": "code",
   "execution_count": 160,
   "metadata": {},
   "outputs": [
    {
     "name": "stdout",
     "output_type": "stream",
     "text": [
      "Mean: 506.36\n",
      "Standard deviation: 2.21\n"
     ]
    }
   ],
   "source": [
    "gra = GradientBoostingRegressor(random_state=10, n_estimators=50,).fit(X_train,y_train) "
   ]
  },
  {
   "cell_type": "code",
   "execution_count": 161,
   "metadata": {},
   "outputs": [
    {
     "name": "stdout",
     "output_type": "stream",
     "text": [
      "RandBestEstimatorxgb= GradientBoostingRegressor(alpha=0.5111111111111111, criterion='friedman_mse',\n",
      "             init=None, learning_rate=0.6000000000000001, loss='ls',\n",
      "             max_depth=4, max_features=None, max_leaf_nodes=None,\n",
      "             min_impurity_decrease=0.0, min_impurity_split=None,\n",
      "             min_samples_leaf=1, min_samples_split=2,\n",
      "             min_weight_fraction_leaf=0.0, n_estimators=43,\n",
      "             n_iter_no_change=None, presort='auto', random_state=None,\n",
      "             subsample=1.0, tol=0.0001, validation_fraction=0.1, verbose=0,\n",
      "             warm_start=False)\n",
      "RandBestParamsxgb= {'alpha': 0.5111111111111111, 'learning_rate': 0.6000000000000001, 'max_depth': 4, 'n_estimators': 43}\n",
      "RandBestScorexgb= 504.0408555912233\n"
     ]
    }
   ],
   "source": [
    "param_dist_gra = {'max_depth': sp_randint(1, 5),\n",
    "                  'n_estimators': sp_randint(20,100),\n",
    "                   'learning_rate': np.linspace(0.2, 0.8, 10),\n",
    "                   'alpha': np.linspace(0.2, 0.9, 10) }\n",
    "\n",
    "random_search_gra = RandomizedSearchCV(estimator = GradientBoostingRegressor(),\n",
    "                    param_distributions = param_dist_gra, n_jobs = 4,iid=False, \n",
    "                    cv=5, random_state=25, scoring='neg_mean_squared_error').fit(X_train, y_train)\n",
    "\n",
    "print('RandBestEstimatorxgb=', random_search_gra.best_estimator_)\n",
    "print('RandBestParamsxgb=', random_search_gra.best_params_)\n",
    "print('RandBestScorexgb=', -random_search_gra.best_score_)"
   ]
  },
  {
   "cell_type": "code",
   "execution_count": 162,
   "metadata": {},
   "outputs": [],
   "source": [
    "gra = GradientBoostingRegressor(alpha = random_search_gra.best_params_['alpha'],\n",
    "                    learning_rate = random_search_gra.best_params_['learning_rate'],\n",
    "                    max_depth = random_search_gra.best_params_['max_depth'],\n",
    "                    n_estimators = random_search_gra.best_params_['n_estimators']).fit(X_train, y_train)"
   ]
  },
  {
   "cell_type": "code",
   "execution_count": 163,
   "metadata": {},
   "outputs": [
    {
     "name": "stdout",
     "output_type": "stream",
     "text": [
      "Mean: 504.03\n",
      "Standard deviation: 2.32\n"
     ]
    }
   ],
   "source": [
    "grakf = cross_val_score(gra, X_train, y_train, cv = 5, \n",
    "                      scoring=\"neg_mean_squared_error\")\n",
    "print(\"Mean:\", round(-grakf.mean(),2))\n",
    "print(\"Standard deviation:\", round(grakf.std(),2))"
   ]
  },
  {
   "cell_type": "markdown",
   "metadata": {},
   "source": [
    "##### Multi-layer Perceptron"
   ]
  },
  {
   "cell_type": "code",
   "execution_count": 164,
   "metadata": {},
   "outputs": [],
   "source": [
    "from sklearn.neural_network import MLPRegressor\n",
    "mlp= MLPRegressor(activation='tanh', solver='lbfgs', alpha=0.1).fit(X_train, y_train)"
   ]
  },
  {
   "cell_type": "code",
   "execution_count": 165,
   "metadata": {},
   "outputs": [
    {
     "name": "stdout",
     "output_type": "stream",
     "text": [
      "RandBestEstimator5= MLPRegressor(activation='relu', alpha=7.09186237944441, batch_size='auto',\n",
      "       beta_1=0.9, beta_2=0.999, early_stopping=False, epsilon=1e-08,\n",
      "       hidden_layer_sizes=60, learning_rate='constant',\n",
      "       learning_rate_init=0.001, max_iter=200, momentum=0.9,\n",
      "       n_iter_no_change=10, nesterovs_momentum=True, power_t=0.5,\n",
      "       random_state=None, shuffle=True, solver='lbfgs', tol=0.0001,\n",
      "       validation_fraction=0.1, verbose=False, warm_start=False)\n",
      "RandBestParams5= {'activation': 'relu', 'alpha': 7.09186237944441, 'hidden_layer_sizes': 60}\n",
      "RandBestScore5= 504.11394302557187\n"
     ]
    }
   ],
   "source": [
    "param_dist_mlp = {'hidden_layer_sizes':sp_randint(10, 100),\n",
    "               'activation':[\"logistic\", \"relu\"],\n",
    "               'alpha': sp_uniform(0.1, 10.0)}\n",
    "\n",
    "random_search_mlp = RandomizedSearchCV(mlp, param_distributions = param_dist_mlp,\n",
    "                       n_jobs = 4, cv = 5, random_state = 25,\n",
    "                       scoring='neg_mean_squared_error').fit(X_train, y_train)\n",
    "\n",
    "print('RandBestEstimator5=', random_search_mlp.best_estimator_)\n",
    "print('RandBestParams5=', random_search_mlp.best_params_)\n",
    "print('RandBestScore5=', -random_search_mlp.best_score_)"
   ]
  },
  {
   "cell_type": "code",
   "execution_count": 166,
   "metadata": {},
   "outputs": [],
   "source": [
    "mlp = MLPRegressor(hidden_layer_sizes = random_search_mlp.best_params_['hidden_layer_sizes'],\n",
    "                           activation = random_search_mlp.best_params_['activation'],\n",
    "                                alpha = random_search_mlp.best_params_['alpha']).fit(X_train, y_train)"
   ]
  },
  {
   "cell_type": "code",
   "execution_count": 167,
   "metadata": {},
   "outputs": [
    {
     "name": "stdout",
     "output_type": "stream",
     "text": [
      "Mean: 506.5\n",
      "Standard deviation: 2.43\n"
     ]
    }
   ],
   "source": [
    "mlpkf = cross_val_score(mlp, X_train, y_train, cv=5, \n",
    "                      scoring=\"neg_mean_squared_error\")\n",
    "print(\"Mean:\", round(-mlpkf.mean(),2))\n",
    "print(\"Standard deviation:\", round(mlpkf.std(),2))"
   ]
  },
  {
   "cell_type": "markdown",
   "metadata": {},
   "source": [
    "#### Model Comparsion"
   ]
  },
  {
   "cell_type": "markdown",
   "metadata": {},
   "source": [
    "#### Note:\n",
    "Models that we didn't report as they produced higher MSE:\n",
    "KNN, XGboost, Adaboost, SVM"
   ]
  },
  {
   "cell_type": "code",
   "execution_count": 171,
   "metadata": {},
   "outputs": [
    {
     "data": {
      "text/html": [
       "<div>\n",
       "<style scoped>\n",
       "    .dataframe tbody tr th:only-of-type {\n",
       "        vertical-align: middle;\n",
       "    }\n",
       "\n",
       "    .dataframe tbody tr th {\n",
       "        vertical-align: top;\n",
       "    }\n",
       "\n",
       "    .dataframe thead th {\n",
       "        text-align: right;\n",
       "    }\n",
       "</style>\n",
       "<table border=\"1\" class=\"dataframe\">\n",
       "  <thead>\n",
       "    <tr style=\"text-align: right;\">\n",
       "      <th></th>\n",
       "      <th>CV MSE</th>\n",
       "      <th>CV Std</th>\n",
       "      <th>Name</th>\n",
       "      <th>Class</th>\n",
       "    </tr>\n",
       "  </thead>\n",
       "  <tbody>\n",
       "    <tr>\n",
       "      <th>0</th>\n",
       "      <td>505.633796</td>\n",
       "      <td>2.422043</td>\n",
       "      <td>Regression Tree</td>\n",
       "      <td>Tree</td>\n",
       "    </tr>\n",
       "    <tr>\n",
       "      <th>1</th>\n",
       "      <td>505.766610</td>\n",
       "      <td>2.288114</td>\n",
       "      <td>Random Forest</td>\n",
       "      <td>Tree</td>\n",
       "    </tr>\n",
       "    <tr>\n",
       "      <th>2</th>\n",
       "      <td>504.034591</td>\n",
       "      <td>2.318710</td>\n",
       "      <td>Gradient Boosting</td>\n",
       "      <td>Boosting</td>\n",
       "    </tr>\n",
       "    <tr>\n",
       "      <th>3</th>\n",
       "      <td>510.167457</td>\n",
       "      <td>2.646224</td>\n",
       "      <td>Lasso Regression</td>\n",
       "      <td>Linear</td>\n",
       "    </tr>\n",
       "    <tr>\n",
       "      <th>4</th>\n",
       "      <td>510.167152</td>\n",
       "      <td>2.644732</td>\n",
       "      <td>Ridge Regression</td>\n",
       "      <td>Linear</td>\n",
       "    </tr>\n",
       "    <tr>\n",
       "      <th>5</th>\n",
       "      <td>510.166985</td>\n",
       "      <td>2.641920</td>\n",
       "      <td>Bayesian Ridge</td>\n",
       "      <td>Bayeisan</td>\n",
       "    </tr>\n",
       "    <tr>\n",
       "      <th>6</th>\n",
       "      <td>510.167457</td>\n",
       "      <td>2.646224</td>\n",
       "      <td>Elastic Net</td>\n",
       "      <td>Linear</td>\n",
       "    </tr>\n",
       "    <tr>\n",
       "      <th>7</th>\n",
       "      <td>506.496015</td>\n",
       "      <td>2.428958</td>\n",
       "      <td>Multi-layer Perceptrons</td>\n",
       "      <td>Neural Nets</td>\n",
       "    </tr>\n",
       "  </tbody>\n",
       "</table>\n",
       "</div>"
      ],
      "text/plain": [
       "       CV MSE    CV Std                     Name        Class\n",
       "0  505.633796  2.422043          Regression Tree         Tree\n",
       "1  505.766610  2.288114            Random Forest         Tree\n",
       "2  504.034591  2.318710        Gradient Boosting     Boosting\n",
       "3  510.167457  2.646224         Lasso Regression       Linear\n",
       "4  510.167152  2.644732         Ridge Regression       Linear\n",
       "5  510.166985  2.641920           Bayesian Ridge     Bayeisan\n",
       "6  510.167457  2.646224              Elastic Net       Linear\n",
       "7  506.496015  2.428958  Multi-layer Perceptrons  Neural Nets"
      ]
     },
     "execution_count": 171,
     "metadata": {},
     "output_type": "execute_result"
    }
   ],
   "source": [
    "results = pd.DataFrame({'CV MSE':[-treekf.mean(), -rfrkf.mean(), -grakf.mean(),\n",
    "                                -laskf.mean(), -ridkf.mean(), -baykf.mean(), -elakf.mean(), -mlpkf.mean()],\n",
    "                      \n",
    "                      'CV Std':[treekf.std(), rfrkf.std(), grakf.std(), \n",
    "                                laskf.std(), ridkf.std(), baykf.std(), elakf.std(), mlpkf.std()], \n",
    "                      \n",
    "                     'Name':[\"Regression Tree\",\"Random Forest\",\"Gradient Boosting\", \n",
    "                             \"Lasso Regression\", \"Ridge Regression\", \"Bayesian Ridge\", \n",
    "                            \"Elastic Net\",  \"Multi-layer Perceptrons\"],\n",
    "                     \n",
    "                     'Class':['Tree', 'Tree', 'Boosting', 'Linear', 'Linear', \n",
    "                              'Bayeisan', 'Linear', 'Neural Nets'],})\n",
    "                     \n",
    "results"
   ]
  },
  {
   "cell_type": "code",
   "execution_count": 175,
   "metadata": {},
   "outputs": [
    {
     "data": {
      "text/plain": [
       "<Figure size 432x432 with 0 Axes>"
      ]
     },
     "metadata": {},
     "output_type": "display_data"
    },
    {
     "data": {
      "image/png": "[encoded data removed]",
      "text/plain": [
       "<Figure size 432x288 with 1 Axes>"
      ]
     },
     "metadata": {},
     "output_type": "display_data"
    }
   ],
   "source": [
    "#plt.rcdefaults()\n",
    "plt.figure(figsize = (6,6))\n",
    "\n",
    "fig, ax = plt.subplots()\n",
    "\n",
    "ax.barh(results['Name'], results['CV MSE'], xerr = results['CV Std'],\n",
    "        align = 'center', color = 'r', alpha = 0.5, ls = \":\")\n",
    "ax.set_xlim([500, 520])\n",
    "#ax.set_yticklabels(results['Name'])\n",
    "ax.invert_yaxis()  # labels read top-to-bottom\n",
    "ax.set_xlabel('CV MSE')\n",
    "ax.set_title('Model Performance')\n",
    "plt.savefig('Performance.png')"
   ]
  },
  {
   "cell_type": "code",
   "execution_count": 176,
   "metadata": {},
   "outputs": [
    {
     "data": {
      "image/png": "[encoded data removed]",
      "text/plain": [
       "<Figure size 576x576 with 1 Axes>"
      ]
     },
     "metadata": {},
     "output_type": "display_data"
    }
   ],
   "source": [
    "plt.figure(figsize = (8,8))\n",
    "\n",
    "ind = results['Name']\n",
    "mse = results['CV MSE']\n",
    "err = results['CV Std']*1.96/np.sqrt(len(X))\n",
    "\n",
    "plt.errorbar(ind, mse, err, linestyle = 'None', marker = '*',  mfc = 'maroon',\n",
    "         mec='maroon', ms = 10, mew = 1, ls=':')\n",
    "\n",
    "plt.xticks(rotation = 30)\n",
    "plt.ylabel('MSE')\n",
    "plt.title('Model Performance: Confidence Interval of MSE', fontsize = 15)\n",
    "plt.savefig('Model Performance.png')"
   ]
  },
  {
   "cell_type": "markdown",
   "metadata": {},
   "source": [
    "#### Performance on test set"
   ]
  },
  {
   "cell_type": "code",
   "execution_count": 177,
   "metadata": {},
   "outputs": [
    {
     "data": {
      "text/plain": [
       "504.35244675738187"
      ]
     },
     "execution_count": 177,
     "metadata": {},
     "output_type": "execute_result"
    }
   ],
   "source": [
    "mean_squared_error(gra.predict(X_test), y_test)"
   ]
  },
  {
   "cell_type": "code",
   "execution_count": 178,
   "metadata": {},
   "outputs": [
    {
     "name": "stdout",
     "output_type": "stream",
     "text": [
      "Minutes to run 155.24443234602612\n"
     ]
    }
   ],
   "source": [
    "end = time.time()\n",
    "print(\"Minutes to run\",(end-start)/60)"
   ]
  },
  {
   "cell_type": "markdown",
   "metadata": {},
   "source": [
    "### Export data and model"
   ]
  },
  {
   "cell_type": "code",
   "execution_count": 179,
   "metadata": {},
   "outputs": [
    {
     "data": {
      "text/html": [
       "<div>\n",
       "<style scoped>\n",
       "    .dataframe tbody tr th:only-of-type {\n",
       "        vertical-align: middle;\n",
       "    }\n",
       "\n",
       "    .dataframe tbody tr th {\n",
       "        vertical-align: top;\n",
       "    }\n",
       "\n",
       "    .dataframe thead th {\n",
       "        text-align: right;\n",
       "    }\n",
       "</style>\n",
       "<table border=\"1\" class=\"dataframe\">\n",
       "  <thead>\n",
       "    <tr style=\"text-align: right;\">\n",
       "      <th></th>\n",
       "      <th>popular</th>\n",
       "      <th>gender</th>\n",
       "      <th>weekend</th>\n",
       "      <th>vegan</th>\n",
       "      <th>kid</th>\n",
       "      <th>group</th>\n",
       "      <th>Ameri</th>\n",
       "      <th>Europ</th>\n",
       "      <th>SouAM</th>\n",
       "      <th>Asian</th>\n",
       "      <th>Indian</th>\n",
       "      <th>Chinese</th>\n",
       "      <th>MidEas</th>\n",
       "      <th>Drinks</th>\n",
       "    </tr>\n",
       "  </thead>\n",
       "  <tbody>\n",
       "    <tr>\n",
       "      <th>0</th>\n",
       "      <td>0</td>\n",
       "      <td>1</td>\n",
       "      <td>0</td>\n",
       "      <td>0</td>\n",
       "      <td>0</td>\n",
       "      <td>0</td>\n",
       "      <td>1</td>\n",
       "      <td>0</td>\n",
       "      <td>0</td>\n",
       "      <td>0</td>\n",
       "      <td>0</td>\n",
       "      <td>0</td>\n",
       "      <td>0</td>\n",
       "      <td>1</td>\n",
       "    </tr>\n",
       "    <tr>\n",
       "      <th>14</th>\n",
       "      <td>0</td>\n",
       "      <td>0</td>\n",
       "      <td>0</td>\n",
       "      <td>0</td>\n",
       "      <td>0</td>\n",
       "      <td>1</td>\n",
       "      <td>1</td>\n",
       "      <td>0</td>\n",
       "      <td>0</td>\n",
       "      <td>0</td>\n",
       "      <td>0</td>\n",
       "      <td>0</td>\n",
       "      <td>0</td>\n",
       "      <td>0</td>\n",
       "    </tr>\n",
       "    <tr>\n",
       "      <th>17</th>\n",
       "      <td>0</td>\n",
       "      <td>0</td>\n",
       "      <td>0</td>\n",
       "      <td>0</td>\n",
       "      <td>0</td>\n",
       "      <td>0</td>\n",
       "      <td>1</td>\n",
       "      <td>0</td>\n",
       "      <td>0</td>\n",
       "      <td>0</td>\n",
       "      <td>0</td>\n",
       "      <td>0</td>\n",
       "      <td>0</td>\n",
       "      <td>0</td>\n",
       "    </tr>\n",
       "    <tr>\n",
       "      <th>18</th>\n",
       "      <td>0</td>\n",
       "      <td>0</td>\n",
       "      <td>0</td>\n",
       "      <td>0</td>\n",
       "      <td>0</td>\n",
       "      <td>0</td>\n",
       "      <td>1</td>\n",
       "      <td>0</td>\n",
       "      <td>0</td>\n",
       "      <td>0</td>\n",
       "      <td>0</td>\n",
       "      <td>0</td>\n",
       "      <td>0</td>\n",
       "      <td>0</td>\n",
       "    </tr>\n",
       "    <tr>\n",
       "      <th>23</th>\n",
       "      <td>0</td>\n",
       "      <td>0</td>\n",
       "      <td>1</td>\n",
       "      <td>0</td>\n",
       "      <td>0</td>\n",
       "      <td>0</td>\n",
       "      <td>1</td>\n",
       "      <td>0</td>\n",
       "      <td>0</td>\n",
       "      <td>0</td>\n",
       "      <td>0</td>\n",
       "      <td>0</td>\n",
       "      <td>0</td>\n",
       "      <td>0</td>\n",
       "    </tr>\n",
       "  </tbody>\n",
       "</table>\n",
       "</div>"
      ],
      "text/plain": [
       "    popular  gender  weekend  vegan  kid  group  Ameri  Europ  SouAM  Asian  \\\n",
       "0         0       1        0      0    0      0      1      0      0      0   \n",
       "14        0       0        0      0    0      1      1      0      0      0   \n",
       "17        0       0        0      0    0      0      1      0      0      0   \n",
       "18        0       0        0      0    0      0      1      0      0      0   \n",
       "23        0       0        1      0    0      0      1      0      0      0   \n",
       "\n",
       "    Indian  Chinese  MidEas  Drinks  \n",
       "0        0        0       0       1  \n",
       "14       0        0       0       0  \n",
       "17       0        0       0       0  \n",
       "18       0        0       0       0  \n",
       "23       0        0       0       0  "
      ]
     },
     "execution_count": 179,
     "metadata": {},
     "output_type": "execute_result"
    }
   ],
   "source": [
    "X.head()"
   ]
  },
  {
   "cell_type": "code",
   "execution_count": 180,
   "metadata": {},
   "outputs": [],
   "source": [
    "# save X data\n",
    "X.to_csv(\"X.csv\", encoding = 'utf-8', index = False)"
   ]
  },
  {
   "cell_type": "code",
   "execution_count": 182,
   "metadata": {},
   "outputs": [],
   "source": [
    "# save business data\n",
    "agg.to_csv(\"agg.csv\", encoding='utf-8', index = False)"
   ]
  },
  {
   "cell_type": "markdown",
   "metadata": {},
   "source": [
    "save the model to disk\n",
    "\n",
    "https://machinelearningmastery.com/save-load-machine-learning-models-python-scikit-learn/"
   ]
  },
  {
   "cell_type": "code",
   "execution_count": 183,
   "metadata": {},
   "outputs": [
    {
     "data": {
      "application/javascript": [
       "\n",
       "        if (window._pyforest_update_imports_cell) { window._pyforest_update_imports_cell('import pickle'); }\n",
       "    "
      ],
      "text/plain": [
       "<IPython.core.display.Javascript object>"
      ]
     },
     "metadata": {},
     "output_type": "display_data"
    }
   ],
   "source": [
    "pickle.dump(gra, open('gradient_boosting_model.sav', 'wb'))"
   ]
  }
 ],
 "metadata": {
  "kernelspec": {
   "display_name": "Python 3",
   "language": "python",
   "name": "python3"
  },
  "language_info": {
   "codemirror_mode": {
    "name": "ipython",
    "version": 3
   },
   "file_extension": ".py",
   "mimetype": "text/x-python",
   "name": "python",
   "nbconvert_exporter": "python",
   "pygments_lexer": "ipython3",
   "version": "3.7.2"
  },
  "toc": {
   "base_numbering": 1,
   "nav_menu": {
    "height": "663px",
    "width": "372px"
   },
   "number_sections": true,
   "sideBar": true,
   "skip_h1_title": false,
   "title_cell": "Table of Contents",
   "title_sidebar": "Contents",
   "toc_cell": false,
   "toc_position": {},
   "toc_section_display": true,
   "toc_window_display": false
  }
 },
 "nbformat": 4,
 "nbformat_minor": 2
}
