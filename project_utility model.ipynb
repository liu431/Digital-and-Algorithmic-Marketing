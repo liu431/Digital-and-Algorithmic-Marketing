{
 "cells": [
  {
   "cell_type": "markdown",
   "metadata": {},
   "source": [
    "## Preference-Based Recommendation System for Groups\n",
    "\n",
    "Algorithmic Marketing Class Project\n",
    "\n",
    "Name: Li Liu, Suresh Govindaraj, Xi Zhao\n",
    "\n",
    "Date: March 2020"
   ]
  },
  {
   "cell_type": "markdown",
   "metadata": {},
   "source": [
    "A group of people wanted to have an amazing restaurant dining experience in Las Vegas. Some of them were attracted by a French restaurant 30 min away. Some of them thought the nearby sushi place was good enough. They opened Yelp and set the filters. But it didn't help them decide because the app showed each of them very different results.\n",
    "\n",
    "Here comes our system. We want to help them decide which ones work best for them all.\n",
    "\n",
    "Using our utility maximization framework, our system recommends the restaurants that will most likely maximize their total utilities.\n",
    "\n",
    "Suppose we have three people: A, B, C are choosing from N restaurants (R indicates restaurants factors).\n",
    "\n",
    "For each restaurant i (i=1...N), each person would have a utility for i: $u_A(R_i)$, $u_B(R_i)$, $u_C(R_i)$\n",
    "\n",
    "We need to have a match function for predicting the total utilities from eating at this restaurant, such that $m_{R_i}(A,B,C) = U_{i}(u(R_i), R_i, Weights, Preferences)$\n",
    "\n",
    "Our core algorithm will account for the following factors:\n",
    "\n",
    "* Each restaurant has a baseline utility for the group (Think of $\\beta_0$). We use machine learning to predict this utility by using the existing _**Yelp reviews data**_.\n",
    "\n",
    "Then we will use _**users' input data**_ to adjust the baseline utility based on the groups' preferences and consensus ($\\sum_k(\\prod_m(p_m*w_m)X_k)$): \n",
    "\n",
    "* People have different voting weights (Ex. parents make the final decision instead of kids)\n",
    "\n",
    "* People have own preferences (Ex. not important at all, neutral, very important)\n",
    "\n",
    "* People care about others. The total utility depends on others' preference. If A knows B and C hate pizza, the utility for A to choose a pizza place will be lower than the case if A dining alone. \n",
    "\n",
    "When A, B, C open the system, they will be asked to choose their preferences for distance and cuisine types. If the factor is not important for A at all, the $p_{A}=0.1$. If the factor is neutral for A, the $p_{A}=0.5$. If the factor is very important for A, the $p_{A}=1$. Also, they have different voting weights w, $w_A, w_b, w_C$, and $w_A+w_b+w_C=1$, \n",
    "\n",
    "Generally, suppose we have M (m=1...M) people to choose from N (i=1...N) restaurants and the system asks them to answer K (k=1...K) questions:\n",
    "\n",
    "$$U_{i} = \\beta_0 + \\beta_1X_1+ \\beta_2X_2+...+\\beta_kX_k+\\epsilon$$\n",
    "$$\\hat{U_{i}}= \\hat{f}(Restaurant Reputations, Weekend, Group...) + \\sum_k(\\prod_m(p_m*w_m)X_k)$$\n",
    "\n",
    "Then we have scores for all restaurants from i=1 to N. We can sort them and recommend the top ones for the group."
   ]
  },
  {
   "cell_type": "code",
   "execution_count": null,
   "metadata": {},
   "outputs": [],
   "source": []
  },
  {
   "cell_type": "markdown",
   "metadata": {},
   "source": [
    "#### Import packages"
   ]
  },
  {
   "cell_type": "code",
   "execution_count": 541,
   "metadata": {},
   "outputs": [],
   "source": [
    "import numpy as np\n",
    "import pandas as pd\n",
    "import matplotlib.pyplot as plt\n",
    "import seaborn as sns\n",
    "%matplotlib inline\n",
    "from wordcloud.wordcloud import WordCloud, STOPWORDS\n",
    "from PIL import Image\n",
    "from vaderSentiment.vaderSentiment import SentimentIntensityAnalyzer\n",
    "analyser = SentimentIntensityAnalyzer()\n",
    "import gender_guesser.detector as gender\n",
    "import warnings\n",
    "warnings.filterwarnings(\"ignore\")\n",
    "from dask import compute, delayed\n",
    "import dask.multiprocessing\n",
    "import multiprocessing\n",
    "import time\n",
    "from sklearn.model_selection import train_test_split\n",
    "from sklearn.preprocessing import MinMaxScaler\n",
    "import six\n",
    "import statsmodels.api as sm\n",
    "from sklearn.tree import export_graphviz\n",
    "import graphviz\n",
    "from scipy.stats import randint as sp_randint\n",
    "from scipy.stats import uniform as sp_uniform\n",
    "from sklearn.model_selection import RandomizedSearchCV\n",
    "from scipy import stats\n",
    "from sklearn.tree import DecisionTreeRegressor\n",
    "from sklearn.ensemble import RandomForestRegressor, GradientBoostingRegressor, AdaBoostRegressor\n",
    "from sklearn.linear_model import LinearRegression, Ridge, Lasso, ElasticNet, BayesianRidge\n",
    "from sklearn.model_selection import train_test_split, KFold, cross_val_score, cross_val_predict\n",
    "from sklearn.metrics import mean_squared_error\n",
    "from sklearn.model_selection import RandomizedSearchCV, GridSearchCV\n",
    "from sklearn.preprocessing import StandardScaler\n",
    "sns.set_style(\"white\")\n",
    "plt.style.use('seaborn-deep')\n",
    "\n",
    "start=time.time()"
   ]
  },
  {
   "cell_type": "markdown",
   "metadata": {},
   "source": [
    "#### Read in data"
   ]
  },
  {
   "cell_type": "code",
   "execution_count": 542,
   "metadata": {},
   "outputs": [
    {
     "name": "stdout",
     "output_type": "stream",
     "text": [
      "total review text (5261668, 9)\n"
     ]
    },
    {
     "data": {
      "text/html": [
       "<div>\n",
       "<style scoped>\n",
       "    .dataframe tbody tr th:only-of-type {\n",
       "        vertical-align: middle;\n",
       "    }\n",
       "\n",
       "    .dataframe tbody tr th {\n",
       "        vertical-align: top;\n",
       "    }\n",
       "\n",
       "    .dataframe thead th {\n",
       "        text-align: right;\n",
       "    }\n",
       "</style>\n",
       "<table border=\"1\" class=\"dataframe\">\n",
       "  <thead>\n",
       "    <tr style=\"text-align: right;\">\n",
       "      <th></th>\n",
       "      <th>review_id</th>\n",
       "      <th>user_id</th>\n",
       "      <th>business_id</th>\n",
       "      <th>stars</th>\n",
       "      <th>date</th>\n",
       "      <th>text</th>\n",
       "      <th>useful</th>\n",
       "      <th>funny</th>\n",
       "      <th>cool</th>\n",
       "    </tr>\n",
       "  </thead>\n",
       "  <tbody>\n",
       "    <tr>\n",
       "      <th>0</th>\n",
       "      <td>vkVSCC7xljjrAI4UGfnKEQ</td>\n",
       "      <td>bv2nCi5Qv5vroFiqKGopiw</td>\n",
       "      <td>AEx2SYEUJmTxVVB18LlCwA</td>\n",
       "      <td>5</td>\n",
       "      <td>2016-05-28</td>\n",
       "      <td>Super simple place but amazing nonetheless. It...</td>\n",
       "      <td>0</td>\n",
       "      <td>0</td>\n",
       "      <td>0</td>\n",
       "    </tr>\n",
       "    <tr>\n",
       "      <th>1</th>\n",
       "      <td>n6QzIUObkYshz4dz2QRJTw</td>\n",
       "      <td>bv2nCi5Qv5vroFiqKGopiw</td>\n",
       "      <td>VR6GpWIda3SfvPC-lg9H3w</td>\n",
       "      <td>5</td>\n",
       "      <td>2016-05-28</td>\n",
       "      <td>Small unassuming place that changes their menu...</td>\n",
       "      <td>0</td>\n",
       "      <td>0</td>\n",
       "      <td>0</td>\n",
       "    </tr>\n",
       "  </tbody>\n",
       "</table>\n",
       "</div>"
      ],
      "text/plain": [
       "                review_id                 user_id             business_id  \\\n",
       "0  vkVSCC7xljjrAI4UGfnKEQ  bv2nCi5Qv5vroFiqKGopiw  AEx2SYEUJmTxVVB18LlCwA   \n",
       "1  n6QzIUObkYshz4dz2QRJTw  bv2nCi5Qv5vroFiqKGopiw  VR6GpWIda3SfvPC-lg9H3w   \n",
       "\n",
       "   stars        date                                               text  \\\n",
       "0      5  2016-05-28  Super simple place but amazing nonetheless. It...   \n",
       "1      5  2016-05-28  Small unassuming place that changes their menu...   \n",
       "\n",
       "   useful  funny  cool  \n",
       "0       0      0     0  \n",
       "1       0      0     0  "
      ]
     },
     "execution_count": 542,
     "metadata": {},
     "output_type": "execute_result"
    }
   ],
   "source": [
    "# review \n",
    "rev = pd.read_csv(\"yelp_review.csv\")\n",
    "print(\"total review text\", rev.shape)\n",
    "rev.head(2)"
   ]
  },
  {
   "cell_type": "markdown",
   "metadata": {},
   "source": [
    "#### Subset the data \n",
    "\n",
    "1. Only restaurants in Las Vegas\n",
    "\n",
    "2. Join data from business and users"
   ]
  },
  {
   "cell_type": "code",
   "execution_count": 543,
   "metadata": {},
   "outputs": [
    {
     "name": "stdout",
     "output_type": "stream",
     "text": [
      "total business (174567, 13)\n",
      "total open restaurants (3990, 9)\n"
     ]
    }
   ],
   "source": [
    "# business\n",
    "bus = pd.read_csv(\"yelp_business.csv\")\n",
    "print(\"total business\",bus.shape)\n",
    "\n",
    "# select restaurants in LV\n",
    "LV = bus[bus[\"city\"] == \"Las Vegas\"]\n",
    "LVR = LV[LV['categories'].str.contains('Restaurants') == True] \n",
    "\n",
    "# select only open restaurants; drop uninformative features\n",
    "LVR = LVR[LVR[\"is_open\"] == 1]\n",
    "LVR = LVR.drop([\"city\", \"state\", \"postal_code\", \"is_open\"], axis = 1)\n",
    "\n",
    "print(\"total open restaurants\", LVR.shape)"
   ]
  },
  {
   "cell_type": "code",
   "execution_count": 544,
   "metadata": {},
   "outputs": [
    {
     "data": {
      "text/html": [
       "<div>\n",
       "<style scoped>\n",
       "    .dataframe tbody tr th:only-of-type {\n",
       "        vertical-align: middle;\n",
       "    }\n",
       "\n",
       "    .dataframe tbody tr th {\n",
       "        vertical-align: top;\n",
       "    }\n",
       "\n",
       "    .dataframe thead th {\n",
       "        text-align: right;\n",
       "    }\n",
       "</style>\n",
       "<table border=\"1\" class=\"dataframe\">\n",
       "  <thead>\n",
       "    <tr style=\"text-align: right;\">\n",
       "      <th></th>\n",
       "      <th>business_id</th>\n",
       "      <th>name</th>\n",
       "      <th>neighborhood</th>\n",
       "      <th>address</th>\n",
       "      <th>latitude</th>\n",
       "      <th>longitude</th>\n",
       "      <th>stars</th>\n",
       "      <th>review_count</th>\n",
       "      <th>categories</th>\n",
       "    </tr>\n",
       "  </thead>\n",
       "  <tbody>\n",
       "    <tr>\n",
       "      <th>52</th>\n",
       "      <td>Pd52CjgyEU3Rb8co6QfTPw</td>\n",
       "      <td>\"Flight Deck Bar &amp; Grill\"</td>\n",
       "      <td>Southeast</td>\n",
       "      <td>\"6730 S Las Vegas Blvd\"</td>\n",
       "      <td>36.066914</td>\n",
       "      <td>-115.170848</td>\n",
       "      <td>4.0</td>\n",
       "      <td>13</td>\n",
       "      <td>Nightlife;Bars;Barbeque;Sports Bars;American (...</td>\n",
       "    </tr>\n",
       "    <tr>\n",
       "      <th>53</th>\n",
       "      <td>4srfPk1s8nlm1YusyDUbjg</td>\n",
       "      <td>\"Subway\"</td>\n",
       "      <td>Southeast</td>\n",
       "      <td>\"6889 S Eastern Ave, Ste 101\"</td>\n",
       "      <td>36.064652</td>\n",
       "      <td>-115.118954</td>\n",
       "      <td>2.5</td>\n",
       "      <td>6</td>\n",
       "      <td>Fast Food;Restaurants;Sandwiches</td>\n",
       "    </tr>\n",
       "    <tr>\n",
       "      <th>54</th>\n",
       "      <td>n7V4cD-KqqE3OXk0irJTyA</td>\n",
       "      <td>\"GameWorks\"</td>\n",
       "      <td>Southeast</td>\n",
       "      <td>\"6587 Las Vegas Blvd S, Ste 171\"</td>\n",
       "      <td>36.068259</td>\n",
       "      <td>-115.178877</td>\n",
       "      <td>3.0</td>\n",
       "      <td>349</td>\n",
       "      <td>Arcades;Arts &amp; Entertainment;Gastropubs;Restau...</td>\n",
       "    </tr>\n",
       "    <tr>\n",
       "      <th>122</th>\n",
       "      <td>Wpt0sFHcPtV5MO9He7yMKQ</td>\n",
       "      <td>\"McDonald's\"</td>\n",
       "      <td>Eastside</td>\n",
       "      <td>\"3020 E Desert Inn Rd\"</td>\n",
       "      <td>36.130013</td>\n",
       "      <td>-115.109310</td>\n",
       "      <td>2.0</td>\n",
       "      <td>20</td>\n",
       "      <td>Restaurants;Fast Food;Burgers</td>\n",
       "    </tr>\n",
       "    <tr>\n",
       "      <th>133</th>\n",
       "      <td>W1Yr6c2XDx_RBjb6WsV-aQ</td>\n",
       "      <td>\"Divine Cafe at the Springs Preserve\"</td>\n",
       "      <td>Westside</td>\n",
       "      <td>\"333 S Valley View Blvd\"</td>\n",
       "      <td>36.170706</td>\n",
       "      <td>-115.190288</td>\n",
       "      <td>4.0</td>\n",
       "      <td>140</td>\n",
       "      <td>Restaurants;Cafes;American (New);Bars;Nightlif...</td>\n",
       "    </tr>\n",
       "  </tbody>\n",
       "</table>\n",
       "</div>"
      ],
      "text/plain": [
       "                business_id                                   name  \\\n",
       "52   Pd52CjgyEU3Rb8co6QfTPw              \"Flight Deck Bar & Grill\"   \n",
       "53   4srfPk1s8nlm1YusyDUbjg                               \"Subway\"   \n",
       "54   n7V4cD-KqqE3OXk0irJTyA                            \"GameWorks\"   \n",
       "122  Wpt0sFHcPtV5MO9He7yMKQ                           \"McDonald's\"   \n",
       "133  W1Yr6c2XDx_RBjb6WsV-aQ  \"Divine Cafe at the Springs Preserve\"   \n",
       "\n",
       "    neighborhood                           address   latitude   longitude  \\\n",
       "52     Southeast           \"6730 S Las Vegas Blvd\"  36.066914 -115.170848   \n",
       "53     Southeast     \"6889 S Eastern Ave, Ste 101\"  36.064652 -115.118954   \n",
       "54     Southeast  \"6587 Las Vegas Blvd S, Ste 171\"  36.068259 -115.178877   \n",
       "122     Eastside            \"3020 E Desert Inn Rd\"  36.130013 -115.109310   \n",
       "133     Westside          \"333 S Valley View Blvd\"  36.170706 -115.190288   \n",
       "\n",
       "     stars  review_count                                         categories  \n",
       "52     4.0            13  Nightlife;Bars;Barbeque;Sports Bars;American (...  \n",
       "53     2.5             6                   Fast Food;Restaurants;Sandwiches  \n",
       "54     3.0           349  Arcades;Arts & Entertainment;Gastropubs;Restau...  \n",
       "122    2.0            20                      Restaurants;Fast Food;Burgers  \n",
       "133    4.0           140  Restaurants;Cafes;American (New);Bars;Nightlif...  "
      ]
     },
     "execution_count": 544,
     "metadata": {},
     "output_type": "execute_result"
    }
   ],
   "source": [
    "LVR.head()"
   ]
  },
  {
   "cell_type": "code",
   "execution_count": 545,
   "metadata": {},
   "outputs": [
    {
     "data": {
      "text/plain": [
       "(1326100, 22)"
      ]
     },
     "execution_count": 545,
     "metadata": {},
     "output_type": "execute_result"
    }
   ],
   "source": [
    "# user data\n",
    "user = pd.read_csv(\"yelp_user.csv\")\n",
    "user.shape"
   ]
  },
  {
   "cell_type": "code",
   "execution_count": 546,
   "metadata": {},
   "outputs": [
    {
     "data": {
      "text/plain": [
       "Index(['user_id', 'name', 'review_count', 'yelping_since', 'friends', 'useful',\n",
       "       'funny', 'cool', 'fans', 'elite', 'average_stars', 'compliment_hot',\n",
       "       'compliment_more', 'compliment_profile', 'compliment_cute',\n",
       "       'compliment_list', 'compliment_note', 'compliment_plain',\n",
       "       'compliment_cool', 'compliment_funny', 'compliment_writer',\n",
       "       'compliment_photos'],\n",
       "      dtype='object')"
      ]
     },
     "execution_count": 546,
     "metadata": {},
     "output_type": "execute_result"
    }
   ],
   "source": [
    "user.columns"
   ]
  },
  {
   "cell_type": "markdown",
   "metadata": {},
   "source": [
    "##### Aggregate data \n",
    "Each line represents a review for a restaurant by one user"
   ]
  },
  {
   "cell_type": "code",
   "execution_count": 547,
   "metadata": {},
   "outputs": [
    {
     "data": {
      "text/plain": [
       "(795588, 38)"
      ]
     },
     "execution_count": 547,
     "metadata": {},
     "output_type": "execute_result"
    }
   ],
   "source": [
    "agg = pd.merge(LVR, rev, how = \"left\", on = \"business_id\")\n",
    "agg = pd.merge(agg, user, how = \"left\", on = \"user_id\")\n",
    "agg.rename(columns = {'stars_x':\"star_bus\", \"review_count_x\": \"cts_bus\",\n",
    "                      \"stars_y\": \"star_customer\"},\n",
    "           inplace = True)\n",
    "agg.shape"
   ]
  },
  {
   "cell_type": "markdown",
   "metadata": {},
   "source": [
    "##### Only keep the most relevant reviews\n",
    "\n",
    "Restaurants normally update and improve products and services constantly to satisfy customers' needs, especially at Las Vegas. We will only keep the reviews in the last year."
   ]
  },
  {
   "cell_type": "code",
   "execution_count": 548,
   "metadata": {},
   "outputs": [],
   "source": [
    "agg[\"DATE\"] = pd.to_datetime(agg[\"date\"], format = '%Y/%m/%d')\n",
    "agg[\"date_yr\"] = agg[\"DATE\"].dt.year\n",
    "agg[\"date_mt\"] = agg[\"DATE\"].dt.month"
   ]
  },
  {
   "cell_type": "code",
   "execution_count": 549,
   "metadata": {},
   "outputs": [
    {
     "data": {
      "text/plain": [
       "count                  795588\n",
       "unique                   4317\n",
       "top       2017-08-12 00:00:00\n",
       "freq                      766\n",
       "first     2005-01-26 00:00:00\n",
       "last      2017-12-11 00:00:00\n",
       "Name: DATE, dtype: object"
      ]
     },
     "execution_count": 549,
     "metadata": {},
     "output_type": "execute_result"
    }
   ],
   "source": [
    "agg[\"DATE\"].describe()"
   ]
  },
  {
   "cell_type": "code",
   "execution_count": 550,
   "metadata": {},
   "outputs": [
    {
     "data": {
      "text/plain": [
       "(181144, 41)"
      ]
     },
     "execution_count": 550,
     "metadata": {},
     "output_type": "execute_result"
    }
   ],
   "source": [
    "agg = agg[agg[\"date_yr\"]>=2017]\n",
    "agg.shape"
   ]
  },
  {
   "cell_type": "code",
   "execution_count": 551,
   "metadata": {},
   "outputs": [
    {
     "data": {
      "text/html": [
       "<div>\n",
       "<style scoped>\n",
       "    .dataframe tbody tr th:only-of-type {\n",
       "        vertical-align: middle;\n",
       "    }\n",
       "\n",
       "    .dataframe tbody tr th {\n",
       "        vertical-align: top;\n",
       "    }\n",
       "\n",
       "    .dataframe thead th {\n",
       "        text-align: right;\n",
       "    }\n",
       "</style>\n",
       "<table border=\"1\" class=\"dataframe\">\n",
       "  <thead>\n",
       "    <tr style=\"text-align: right;\">\n",
       "      <th></th>\n",
       "      <th>business_id</th>\n",
       "      <th>name_x</th>\n",
       "      <th>neighborhood</th>\n",
       "      <th>address</th>\n",
       "      <th>latitude</th>\n",
       "      <th>longitude</th>\n",
       "      <th>star_bus</th>\n",
       "      <th>cts_bus</th>\n",
       "      <th>categories</th>\n",
       "      <th>review_id</th>\n",
       "      <th>...</th>\n",
       "      <th>compliment_list</th>\n",
       "      <th>compliment_note</th>\n",
       "      <th>compliment_plain</th>\n",
       "      <th>compliment_cool</th>\n",
       "      <th>compliment_funny</th>\n",
       "      <th>compliment_writer</th>\n",
       "      <th>compliment_photos</th>\n",
       "      <th>DATE</th>\n",
       "      <th>date_yr</th>\n",
       "      <th>date_mt</th>\n",
       "    </tr>\n",
       "  </thead>\n",
       "  <tbody>\n",
       "    <tr>\n",
       "      <th>0</th>\n",
       "      <td>Pd52CjgyEU3Rb8co6QfTPw</td>\n",
       "      <td>\"Flight Deck Bar &amp; Grill\"</td>\n",
       "      <td>Southeast</td>\n",
       "      <td>\"6730 S Las Vegas Blvd\"</td>\n",
       "      <td>36.066914</td>\n",
       "      <td>-115.170848</td>\n",
       "      <td>4.0</td>\n",
       "      <td>13</td>\n",
       "      <td>Nightlife;Bars;Barbeque;Sports Bars;American (...</td>\n",
       "      <td>aG4aEOW86hut943oqL_DOg</td>\n",
       "      <td>...</td>\n",
       "      <td>0</td>\n",
       "      <td>0</td>\n",
       "      <td>2</td>\n",
       "      <td>1</td>\n",
       "      <td>1</td>\n",
       "      <td>0</td>\n",
       "      <td>0</td>\n",
       "      <td>2017-03-27</td>\n",
       "      <td>2017</td>\n",
       "      <td>3</td>\n",
       "    </tr>\n",
       "    <tr>\n",
       "      <th>14</th>\n",
       "      <td>4srfPk1s8nlm1YusyDUbjg</td>\n",
       "      <td>\"Subway\"</td>\n",
       "      <td>Southeast</td>\n",
       "      <td>\"6889 S Eastern Ave, Ste 101\"</td>\n",
       "      <td>36.064652</td>\n",
       "      <td>-115.118954</td>\n",
       "      <td>2.5</td>\n",
       "      <td>6</td>\n",
       "      <td>Fast Food;Restaurants;Sandwiches</td>\n",
       "      <td>FMRzUXMwjx8vPAy-qgej7A</td>\n",
       "      <td>...</td>\n",
       "      <td>0</td>\n",
       "      <td>22</td>\n",
       "      <td>144</td>\n",
       "      <td>82</td>\n",
       "      <td>82</td>\n",
       "      <td>18</td>\n",
       "      <td>53</td>\n",
       "      <td>2017-09-27</td>\n",
       "      <td>2017</td>\n",
       "      <td>9</td>\n",
       "    </tr>\n",
       "    <tr>\n",
       "      <th>17</th>\n",
       "      <td>4srfPk1s8nlm1YusyDUbjg</td>\n",
       "      <td>\"Subway\"</td>\n",
       "      <td>Southeast</td>\n",
       "      <td>\"6889 S Eastern Ave, Ste 101\"</td>\n",
       "      <td>36.064652</td>\n",
       "      <td>-115.118954</td>\n",
       "      <td>2.5</td>\n",
       "      <td>6</td>\n",
       "      <td>Fast Food;Restaurants;Sandwiches</td>\n",
       "      <td>qLb9CBAIbWcQ3aBoYjc3nQ</td>\n",
       "      <td>...</td>\n",
       "      <td>0</td>\n",
       "      <td>1</td>\n",
       "      <td>3</td>\n",
       "      <td>2</td>\n",
       "      <td>2</td>\n",
       "      <td>2</td>\n",
       "      <td>3</td>\n",
       "      <td>2017-09-14</td>\n",
       "      <td>2017</td>\n",
       "      <td>9</td>\n",
       "    </tr>\n",
       "    <tr>\n",
       "      <th>18</th>\n",
       "      <td>4srfPk1s8nlm1YusyDUbjg</td>\n",
       "      <td>\"Subway\"</td>\n",
       "      <td>Southeast</td>\n",
       "      <td>\"6889 S Eastern Ave, Ste 101\"</td>\n",
       "      <td>36.064652</td>\n",
       "      <td>-115.118954</td>\n",
       "      <td>2.5</td>\n",
       "      <td>6</td>\n",
       "      <td>Fast Food;Restaurants;Sandwiches</td>\n",
       "      <td>b-hPwDTtvj27RTwotZo9Gg</td>\n",
       "      <td>...</td>\n",
       "      <td>0</td>\n",
       "      <td>0</td>\n",
       "      <td>0</td>\n",
       "      <td>0</td>\n",
       "      <td>0</td>\n",
       "      <td>0</td>\n",
       "      <td>0</td>\n",
       "      <td>2017-09-28</td>\n",
       "      <td>2017</td>\n",
       "      <td>9</td>\n",
       "    </tr>\n",
       "    <tr>\n",
       "      <th>23</th>\n",
       "      <td>n7V4cD-KqqE3OXk0irJTyA</td>\n",
       "      <td>\"GameWorks\"</td>\n",
       "      <td>Southeast</td>\n",
       "      <td>\"6587 Las Vegas Blvd S, Ste 171\"</td>\n",
       "      <td>36.068259</td>\n",
       "      <td>-115.178877</td>\n",
       "      <td>3.0</td>\n",
       "      <td>349</td>\n",
       "      <td>Arcades;Arts &amp; Entertainment;Gastropubs;Restau...</td>\n",
       "      <td>HVeoYQNl-O1ufTwkHLgtsg</td>\n",
       "      <td>...</td>\n",
       "      <td>0</td>\n",
       "      <td>0</td>\n",
       "      <td>0</td>\n",
       "      <td>0</td>\n",
       "      <td>0</td>\n",
       "      <td>0</td>\n",
       "      <td>0</td>\n",
       "      <td>2017-03-03</td>\n",
       "      <td>2017</td>\n",
       "      <td>3</td>\n",
       "    </tr>\n",
       "  </tbody>\n",
       "</table>\n",
       "<p>5 rows × 41 columns</p>\n",
       "</div>"
      ],
      "text/plain": [
       "               business_id                     name_x neighborhood  \\\n",
       "0   Pd52CjgyEU3Rb8co6QfTPw  \"Flight Deck Bar & Grill\"    Southeast   \n",
       "14  4srfPk1s8nlm1YusyDUbjg                   \"Subway\"    Southeast   \n",
       "17  4srfPk1s8nlm1YusyDUbjg                   \"Subway\"    Southeast   \n",
       "18  4srfPk1s8nlm1YusyDUbjg                   \"Subway\"    Southeast   \n",
       "23  n7V4cD-KqqE3OXk0irJTyA                \"GameWorks\"    Southeast   \n",
       "\n",
       "                             address   latitude   longitude  star_bus  \\\n",
       "0            \"6730 S Las Vegas Blvd\"  36.066914 -115.170848       4.0   \n",
       "14     \"6889 S Eastern Ave, Ste 101\"  36.064652 -115.118954       2.5   \n",
       "17     \"6889 S Eastern Ave, Ste 101\"  36.064652 -115.118954       2.5   \n",
       "18     \"6889 S Eastern Ave, Ste 101\"  36.064652 -115.118954       2.5   \n",
       "23  \"6587 Las Vegas Blvd S, Ste 171\"  36.068259 -115.178877       3.0   \n",
       "\n",
       "    cts_bus                                         categories  \\\n",
       "0        13  Nightlife;Bars;Barbeque;Sports Bars;American (...   \n",
       "14        6                   Fast Food;Restaurants;Sandwiches   \n",
       "17        6                   Fast Food;Restaurants;Sandwiches   \n",
       "18        6                   Fast Food;Restaurants;Sandwiches   \n",
       "23      349  Arcades;Arts & Entertainment;Gastropubs;Restau...   \n",
       "\n",
       "                 review_id  ... compliment_list  compliment_note  \\\n",
       "0   aG4aEOW86hut943oqL_DOg  ...               0                0   \n",
       "14  FMRzUXMwjx8vPAy-qgej7A  ...               0               22   \n",
       "17  qLb9CBAIbWcQ3aBoYjc3nQ  ...               0                1   \n",
       "18  b-hPwDTtvj27RTwotZo9Gg  ...               0                0   \n",
       "23  HVeoYQNl-O1ufTwkHLgtsg  ...               0                0   \n",
       "\n",
       "   compliment_plain compliment_cool  compliment_funny  compliment_writer  \\\n",
       "0                 2               1                 1                  0   \n",
       "14              144              82                82                 18   \n",
       "17                3               2                 2                  2   \n",
       "18                0               0                 0                  0   \n",
       "23                0               0                 0                  0   \n",
       "\n",
       "    compliment_photos       DATE  date_yr date_mt  \n",
       "0                   0 2017-03-27     2017       3  \n",
       "14                 53 2017-09-27     2017       9  \n",
       "17                  3 2017-09-14     2017       9  \n",
       "18                  0 2017-09-28     2017       9  \n",
       "23                  0 2017-03-03     2017       3  \n",
       "\n",
       "[5 rows x 41 columns]"
      ]
     },
     "execution_count": 551,
     "metadata": {},
     "output_type": "execute_result"
    }
   ],
   "source": [
    "# skim data\n",
    "agg.head(5)"
   ]
  },
  {
   "cell_type": "code",
   "execution_count": 552,
   "metadata": {},
   "outputs": [
    {
     "data": {
      "text/plain": [
       "Index(['business_id', 'name_x', 'neighborhood', 'address', 'latitude',\n",
       "       'longitude', 'star_bus', 'cts_bus', 'categories', 'review_id',\n",
       "       'user_id', 'star_customer', 'date', 'text', 'useful_x', 'funny_x',\n",
       "       'cool_x', 'name_y', 'review_count_y', 'yelping_since', 'friends',\n",
       "       'useful_y', 'funny_y', 'cool_y', 'fans', 'elite', 'average_stars',\n",
       "       'compliment_hot', 'compliment_more', 'compliment_profile',\n",
       "       'compliment_cute', 'compliment_list', 'compliment_note',\n",
       "       'compliment_plain', 'compliment_cool', 'compliment_funny',\n",
       "       'compliment_writer', 'compliment_photos', 'DATE', 'date_yr', 'date_mt'],\n",
       "      dtype='object')"
      ]
     },
     "execution_count": 552,
     "metadata": {},
     "output_type": "execute_result"
    }
   ],
   "source": [
    "# current columns\n",
    "agg.columns"
   ]
  },
  {
   "cell_type": "markdown",
   "metadata": {},
   "source": [
    "###   Predicted utility: rescaled satisfaction scores"
   ]
  },
  {
   "cell_type": "markdown",
   "metadata": {},
   "source": [
    "`star_customer` is customers' rating for a restaurant.\n",
    "\n",
    "`average_stars` is customers' average rating for all teh restaurants they have reviewed.\n",
    "\n",
    "\n",
    "We use the reweighed and rescaled `star_customer` to measure the customer satisfaction. "
   ]
  },
  {
   "cell_type": "code",
   "execution_count": 553,
   "metadata": {},
   "outputs": [
    {
     "data": {
      "text/plain": [
       "0.5476607687570102"
      ]
     },
     "execution_count": 553,
     "metadata": {},
     "output_type": "execute_result"
    }
   ],
   "source": [
    "# individual ratings for particular restaurants are positive correlated with their average ratings for all reviews\n",
    "np.corrcoef(agg['average_stars'],  agg[\"star_customer\"])[0,1]"
   ]
  },
  {
   "cell_type": "code",
   "execution_count": 554,
   "metadata": {},
   "outputs": [
    {
     "data": {
      "text/plain": [
       "Text(0.5, 0.98, 'Hexbin plot of Customer Current and Previous Ratings')"
      ]
     },
     "execution_count": 554,
     "metadata": {},
     "output_type": "execute_result"
    },
    {
     "data": {
      "image/png": "[encoded data removed]",
      "text/plain": [
       "<Figure size 432x432 with 3 Axes>"
      ]
     },
     "metadata": {},
     "output_type": "display_data"
    }
   ],
   "source": [
    "# Hexbin plot\n",
    "agguser = agg.groupby('user_id')[['star_customer', 'average_stars']].mean()\n",
    "\n",
    "sns.jointplot(agguser['average_stars'], agguser[\"star_customer\"], \n",
    "              kind='hex', color = 'maroon')\n",
    "\n",
    "plt.suptitle(\"Hexbin plot of Customer Current and Previous Ratings\", fontsize = 15)\n",
    "#plt.savefig('HexbinPlot of Customer Current and Previous Ratings .png')"
   ]
  },
  {
   "cell_type": "code",
   "execution_count": 555,
   "metadata": {},
   "outputs": [
    {
     "data": {
      "text/html": [
       "<div>\n",
       "<style scoped>\n",
       "    .dataframe tbody tr th:only-of-type {\n",
       "        vertical-align: middle;\n",
       "    }\n",
       "\n",
       "    .dataframe tbody tr th {\n",
       "        vertical-align: top;\n",
       "    }\n",
       "\n",
       "    .dataframe thead th {\n",
       "        text-align: right;\n",
       "    }\n",
       "</style>\n",
       "<table border=\"1\" class=\"dataframe\">\n",
       "  <thead>\n",
       "    <tr style=\"text-align: right;\">\n",
       "      <th></th>\n",
       "      <th>average_stars</th>\n",
       "      <th>star_customer</th>\n",
       "    </tr>\n",
       "  </thead>\n",
       "  <tbody>\n",
       "    <tr>\n",
       "      <th>0</th>\n",
       "      <td>3.00</td>\n",
       "      <td>4</td>\n",
       "    </tr>\n",
       "    <tr>\n",
       "      <th>14</th>\n",
       "      <td>4.58</td>\n",
       "      <td>4</td>\n",
       "    </tr>\n",
       "    <tr>\n",
       "      <th>17</th>\n",
       "      <td>3.74</td>\n",
       "      <td>5</td>\n",
       "    </tr>\n",
       "    <tr>\n",
       "      <th>18</th>\n",
       "      <td>1.89</td>\n",
       "      <td>1</td>\n",
       "    </tr>\n",
       "    <tr>\n",
       "      <th>23</th>\n",
       "      <td>3.83</td>\n",
       "      <td>5</td>\n",
       "    </tr>\n",
       "  </tbody>\n",
       "</table>\n",
       "</div>"
      ],
      "text/plain": [
       "    average_stars  star_customer\n",
       "0            3.00              4\n",
       "14           4.58              4\n",
       "17           3.74              5\n",
       "18           1.89              1\n",
       "23           3.83              5"
      ]
     },
     "execution_count": 555,
     "metadata": {},
     "output_type": "execute_result"
    }
   ],
   "source": [
    "agg[['average_stars',\"star_customer\"]].head(5)"
   ]
  },
  {
   "cell_type": "markdown",
   "metadata": {},
   "source": [
    "#####  Time Series Detrending"
   ]
  },
  {
   "cell_type": "code",
   "execution_count": 556,
   "metadata": {},
   "outputs": [
    {
     "data": {
      "text/html": [
       "<div>\n",
       "<style scoped>\n",
       "    .dataframe tbody tr th:only-of-type {\n",
       "        vertical-align: middle;\n",
       "    }\n",
       "\n",
       "    .dataframe tbody tr th {\n",
       "        vertical-align: top;\n",
       "    }\n",
       "\n",
       "    .dataframe thead th {\n",
       "        text-align: right;\n",
       "    }\n",
       "</style>\n",
       "<table border=\"1\" class=\"dataframe\">\n",
       "  <thead>\n",
       "    <tr style=\"text-align: right;\">\n",
       "      <th></th>\n",
       "      <th>star_customer</th>\n",
       "    </tr>\n",
       "    <tr>\n",
       "      <th>quarter</th>\n",
       "      <th></th>\n",
       "    </tr>\n",
       "  </thead>\n",
       "  <tbody>\n",
       "    <tr>\n",
       "      <th>0</th>\n",
       "      <td>3.862575</td>\n",
       "    </tr>\n",
       "    <tr>\n",
       "      <th>1</th>\n",
       "      <td>3.830659</td>\n",
       "    </tr>\n",
       "    <tr>\n",
       "      <th>2</th>\n",
       "      <td>3.837612</td>\n",
       "    </tr>\n",
       "    <tr>\n",
       "      <th>3</th>\n",
       "      <td>3.863317</td>\n",
       "    </tr>\n",
       "  </tbody>\n",
       "</table>\n",
       "</div>"
      ],
      "text/plain": [
       "         star_customer\n",
       "quarter               \n",
       "0             3.862575\n",
       "1             3.830659\n",
       "2             3.837612\n",
       "3             3.863317"
      ]
     },
     "execution_count": 556,
     "metadata": {},
     "output_type": "execute_result"
    }
   ],
   "source": [
    "# create quarter index\n",
    "def quarter(df):\n",
    "    \n",
    "    ind = (df[\"date_yr\"]-2017)*4\n",
    "    \n",
    "    if df[\"date_mt\"] >= 1 and df[\"date_mt\"] <= 3:\n",
    "        return ind + 0\n",
    "    elif df[\"date_mt\"] >= 4 and df[\"date_mt\"] <= 6:\n",
    "        return ind + 1\n",
    "    elif df[\"date_mt\"] >= 7 and df[\"date_mt\"] <= 9:\n",
    "        return ind + 2\n",
    "    else:\n",
    "        return ind + 3\n",
    "    \n",
    "agg[\"quarter\"] = agg.apply(quarter, axis = 1)\n",
    "aggdate = agg.groupby([\"quarter\"])[[\"star_customer\"]].mean()\n",
    "aggdate"
   ]
  },
  {
   "cell_type": "code",
   "execution_count": 557,
   "metadata": {},
   "outputs": [
    {
     "data": {
      "text/plain": [
       "Index(['business_id', 'name_x', 'neighborhood', 'address', 'latitude',\n",
       "       'longitude', 'star_bus', 'cts_bus', 'categories', 'review_id',\n",
       "       'user_id', 'star_customer', 'date', 'text', 'useful_x', 'funny_x',\n",
       "       'cool_x', 'name_y', 'review_count_y', 'yelping_since', 'friends',\n",
       "       'useful_y', 'funny_y', 'cool_y', 'fans', 'elite', 'average_stars',\n",
       "       'compliment_hot', 'compliment_more', 'compliment_profile',\n",
       "       'compliment_cute', 'compliment_list', 'compliment_note',\n",
       "       'compliment_plain', 'compliment_cool', 'compliment_funny',\n",
       "       'compliment_writer', 'compliment_photos', 'DATE', 'date_yr', 'date_mt',\n",
       "       'quarter'],\n",
       "      dtype='object')"
      ]
     },
     "execution_count": 557,
     "metadata": {},
     "output_type": "execute_result"
    }
   ],
   "source": [
    "agg.columns"
   ]
  },
  {
   "cell_type": "code",
   "execution_count": 558,
   "metadata": {},
   "outputs": [],
   "source": [
    "avg_score_by_quarter =  agg.groupby([\"quarter\"])[[\"star_customer\"]].mean().values\n",
    "\n",
    "# Calculate the average growth rate in salaries across all quarters\n",
    "avg_growth_rate = ((avg_score_by_quarter[1:] - avg_score_by_quarter[:-1]) / avg_score_by_quarter[:-1]).mean()\n",
    "\n",
    "# Divide each salary by (1 + avg_growth_rate) ** (grad_year - baseline)\n",
    "agg['rate'] = (1 + avg_growth_rate) ** (agg.quarter-0)\n",
    "#agg['star_cus'] = agg['star_bus']/agg['rate']\n",
    "agg['star_customer_2'] = agg['star_customer']/agg['rate']"
   ]
  },
  {
   "cell_type": "code",
   "execution_count": 559,
   "metadata": {},
   "outputs": [
    {
     "data": {
      "image/png": "[encoded data removed]",
      "text/plain": [
       "<Figure size 432x288 with 1 Axes>"
      ]
     },
     "metadata": {},
     "output_type": "display_data"
    }
   ],
   "source": [
    "aggdate = agg.groupby([\"quarter\"])[[\"star_customer\", \"star_customer_2\"]].mean()\n",
    "plt.plot(aggdate.index, aggdate[\"star_customer\"], '-r', label = 'Customers Rating')\n",
    "plt.plot(aggdate.index, aggdate[\"star_customer_2\"], '--b', label = 'Customers Rating Detrended')\n",
    "plt.suptitle(\"Average Consumers and Business Ratings by Quarters\", fontsize = 15)\n",
    "plt.legend()\n",
    "plt.xlabel(\"Quarters in 2017\")\n",
    "plt.ylabel(\"Score\")\n",
    "plt.savefig(\"Average Consumers and Business Ratings by Quarters.png\")"
   ]
  },
  {
   "cell_type": "markdown",
   "metadata": {},
   "source": [
    "##### Normalization and Rescaling\n",
    "\n",
    "Customers have different rating standards. So a rating of 3 could mean different satisfaction by two customers, if one has average ratings of 5 (implying dissatisfaction) and the other has average rating of 1 (implying satisfaction). We solve this by reweighting the individual ratings by their average ratings."
   ]
  },
  {
   "cell_type": "code",
   "execution_count": 560,
   "metadata": {},
   "outputs": [],
   "source": [
    "# reweighed and rescaled consumer satisfaction measure\n",
    "\n",
    "# a. Account for the \"extra\" part deviated from the average ratings\n",
    "agg['y2'] = agg['star_customer'] + (agg['star_customer']-agg['average_stars'])/agg['average_stars']\n",
    "\n",
    "# b. Normalization\n",
    "agg['normy'] = (agg['y2'] - np.mean(agg['y2']))/np.std(agg['y2'])\n",
    "\n",
    "# c. Rescale to 0-100 \n",
    "agg['y'] = ((100 - 0) / (max(agg['normy'] ) - min(agg['normy'] ))) * (agg['normy'] - min(agg['normy'])) + 0 "
   ]
  },
  {
   "cell_type": "markdown",
   "metadata": {},
   "source": [
    "##### Test cases"
   ]
  },
  {
   "cell_type": "code",
   "execution_count": 561,
   "metadata": {
    "scrolled": true
   },
   "outputs": [
    {
     "data": {
      "text/html": [
       "<div>\n",
       "<style scoped>\n",
       "    .dataframe tbody tr th:only-of-type {\n",
       "        vertical-align: middle;\n",
       "    }\n",
       "\n",
       "    .dataframe tbody tr th {\n",
       "        vertical-align: top;\n",
       "    }\n",
       "\n",
       "    .dataframe thead th {\n",
       "        text-align: right;\n",
       "    }\n",
       "</style>\n",
       "<table border=\"1\" class=\"dataframe\">\n",
       "  <thead>\n",
       "    <tr style=\"text-align: right;\">\n",
       "      <th></th>\n",
       "      <th>average_stars</th>\n",
       "      <th>star_customer</th>\n",
       "      <th>y2</th>\n",
       "      <th>normy</th>\n",
       "      <th>y</th>\n",
       "    </tr>\n",
       "  </thead>\n",
       "  <tbody>\n",
       "    <tr>\n",
       "      <th>116773</th>\n",
       "      <td>1.36</td>\n",
       "      <td>5</td>\n",
       "      <td>7.676471</td>\n",
       "      <td>2.209572</td>\n",
       "      <td>100.0</td>\n",
       "    </tr>\n",
       "  </tbody>\n",
       "</table>\n",
       "</div>"
      ],
      "text/plain": [
       "        average_stars  star_customer        y2     normy      y\n",
       "116773           1.36              5  7.676471  2.209572  100.0"
      ]
     },
     "execution_count": 561,
     "metadata": {},
     "output_type": "execute_result"
    }
   ],
   "source": [
    "# case when relative rating is high\n",
    "agg[['average_stars',\"star_customer\", \"y2\", \"normy\", \"y\"]][agg['y']==100]"
   ]
  },
  {
   "cell_type": "code",
   "execution_count": 562,
   "metadata": {},
   "outputs": [
    {
     "data": {
      "text/html": [
       "<div>\n",
       "<style scoped>\n",
       "    .dataframe tbody tr th:only-of-type {\n",
       "        vertical-align: middle;\n",
       "    }\n",
       "\n",
       "    .dataframe tbody tr th {\n",
       "        vertical-align: top;\n",
       "    }\n",
       "\n",
       "    .dataframe thead th {\n",
       "        text-align: right;\n",
       "    }\n",
       "</style>\n",
       "<table border=\"1\" class=\"dataframe\">\n",
       "  <thead>\n",
       "    <tr style=\"text-align: right;\">\n",
       "      <th></th>\n",
       "      <th>average_stars</th>\n",
       "      <th>star_customer</th>\n",
       "      <th>y2</th>\n",
       "      <th>normy</th>\n",
       "      <th>y</th>\n",
       "    </tr>\n",
       "  </thead>\n",
       "  <tbody>\n",
       "    <tr>\n",
       "      <th>588474</th>\n",
       "      <td>4.9</td>\n",
       "      <td>1</td>\n",
       "      <td>0.204082</td>\n",
       "      <td>-2.11435</td>\n",
       "      <td>0.0</td>\n",
       "    </tr>\n",
       "  </tbody>\n",
       "</table>\n",
       "</div>"
      ],
      "text/plain": [
       "        average_stars  star_customer        y2    normy    y\n",
       "588474            4.9              1  0.204082 -2.11435  0.0"
      ]
     },
     "execution_count": 562,
     "metadata": {},
     "output_type": "execute_result"
    }
   ],
   "source": [
    "# case when relative rating is low\n",
    "agg[['average_stars',\"star_customer\", \"y2\", \"normy\", \"y\"]][agg['y']==0]"
   ]
  },
  {
   "cell_type": "markdown",
   "metadata": {},
   "source": [
    "##### Summary statistics"
   ]
  },
  {
   "cell_type": "code",
   "execution_count": 563,
   "metadata": {},
   "outputs": [
    {
     "data": {
      "text/html": [
       "<div>\n",
       "<style scoped>\n",
       "    .dataframe tbody tr th:only-of-type {\n",
       "        vertical-align: middle;\n",
       "    }\n",
       "\n",
       "    .dataframe tbody tr th {\n",
       "        vertical-align: top;\n",
       "    }\n",
       "\n",
       "    .dataframe thead th {\n",
       "        text-align: right;\n",
       "    }\n",
       "</style>\n",
       "<table border=\"1\" class=\"dataframe\">\n",
       "  <thead>\n",
       "    <tr style=\"text-align: right;\">\n",
       "      <th></th>\n",
       "      <th>star_customer</th>\n",
       "      <th>y</th>\n",
       "    </tr>\n",
       "  </thead>\n",
       "  <tbody>\n",
       "    <tr>\n",
       "      <th>count</th>\n",
       "      <td>181144.000000</td>\n",
       "      <td>181144.000000</td>\n",
       "    </tr>\n",
       "    <tr>\n",
       "      <th>mean</th>\n",
       "      <td>3.847006</td>\n",
       "      <td>48.898888</td>\n",
       "    </tr>\n",
       "    <tr>\n",
       "      <th>std</th>\n",
       "      <td>1.427706</td>\n",
       "      <td>23.127218</td>\n",
       "    </tr>\n",
       "    <tr>\n",
       "      <th>min</th>\n",
       "      <td>1.000000</td>\n",
       "      <td>0.000000</td>\n",
       "    </tr>\n",
       "    <tr>\n",
       "      <th>25%</th>\n",
       "      <td>3.000000</td>\n",
       "      <td>34.516514</td>\n",
       "    </tr>\n",
       "    <tr>\n",
       "      <th>50%</th>\n",
       "      <td>4.000000</td>\n",
       "      <td>55.686422</td>\n",
       "    </tr>\n",
       "    <tr>\n",
       "      <th>75%</th>\n",
       "      <td>5.000000</td>\n",
       "      <td>66.730929</td>\n",
       "    </tr>\n",
       "    <tr>\n",
       "      <th>max</th>\n",
       "      <td>5.000000</td>\n",
       "      <td>100.000000</td>\n",
       "    </tr>\n",
       "  </tbody>\n",
       "</table>\n",
       "</div>"
      ],
      "text/plain": [
       "       star_customer              y\n",
       "count  181144.000000  181144.000000\n",
       "mean        3.847006      48.898888\n",
       "std         1.427706      23.127218\n",
       "min         1.000000       0.000000\n",
       "25%         3.000000      34.516514\n",
       "50%         4.000000      55.686422\n",
       "75%         5.000000      66.730929\n",
       "max         5.000000     100.000000"
      ]
     },
     "execution_count": 563,
     "metadata": {},
     "output_type": "execute_result"
    }
   ],
   "source": [
    "# statistics of original scores and transformed scores\n",
    "agg[['star_customer','y']].describe()"
   ]
  },
  {
   "cell_type": "code",
   "execution_count": 564,
   "metadata": {},
   "outputs": [],
   "source": [
    "# abbreviation\n",
    "\n",
    "# Y is the categorical star rating\n",
    "Y = agg[\"star_customer\"]\n",
    "\n",
    "# y is the reweighted numerical grade with 0-100 scale\n",
    "y = agg['y']"
   ]
  },
  {
   "cell_type": "code",
   "execution_count": 565,
   "metadata": {},
   "outputs": [
    {
     "data": {
      "text/plain": [
       "Text(0.5, 0.98, 'Histogram of the Consumer Satisfaction Score')"
      ]
     },
     "execution_count": 565,
     "metadata": {},
     "output_type": "execute_result"
    },
    {
     "data": {
      "image/png": "[encoded data removed]",
      "text/plain": [
       "<Figure size 432x288 with 1 Axes>"
      ]
     },
     "metadata": {},
     "output_type": "display_data"
    }
   ],
   "source": [
    "kwargs = dict(hist_kws={'alpha':.3}, kde_kws={'linewidth':3})\n",
    "\n",
    "sns.distplot(y, color=\"maroon\", label=\"score\", **kwargs)\n",
    "plt.xlim(0,100)\n",
    "plt.xlabel(\"Score\")\n",
    "plt.suptitle(\"Histogram of the Consumer Satisfaction Score\", fontsize=15)\n",
    "#plt.savefig(\"Histogram of the Consumer Satisfaction Score.png\")"
   ]
  },
  {
   "cell_type": "markdown",
   "metadata": {},
   "source": [
    "### Independent variables (X: users' inputs)"
   ]
  },
  {
   "cell_type": "markdown",
   "metadata": {},
   "source": [
    "##### Popularity \n",
    "\n",
    "We use `star_bus` (restaurants average ratings) and `cts_bus` (review counts) to measure popularity.  \n",
    "\n",
    "Customers might prefer to choose the restaurants that are popular (above average ratings and review counts)."
   ]
  },
  {
   "cell_type": "code",
   "execution_count": 566,
   "metadata": {},
   "outputs": [
    {
     "data": {
      "image/png": "[encoded data removed]",
      "text/plain": [
       "<Figure size 432x432 with 3 Axes>"
      ]
     },
     "metadata": {},
     "output_type": "display_data"
    }
   ],
   "source": [
    "# hexagonal bins\n",
    "sns.jointplot(bus['stars'], bus['review_count'],kind = \"reg\", color = \"maroon\")\n",
    "plt.suptitle(\"Jointplot of Review Counts and Stars for Restaurants\", fontsize=15)\n",
    "plt.savefig(\"stars_review.png\")"
   ]
  },
  {
   "cell_type": "code",
   "execution_count": 567,
   "metadata": {},
   "outputs": [],
   "source": [
    "X = agg[['business_id', 'cts_bus', 'star_bus']]\n",
    "X['y'] = y"
   ]
  },
  {
   "cell_type": "code",
   "execution_count": 568,
   "metadata": {},
   "outputs": [
    {
     "data": {
      "text/plain": [
       "count    181144.000000\n",
       "mean          0.418330\n",
       "std           0.493286\n",
       "min           0.000000\n",
       "25%           0.000000\n",
       "50%           0.000000\n",
       "75%           1.000000\n",
       "max           1.000000\n",
       "Name: popular, dtype: float64"
      ]
     },
     "execution_count": 568,
     "metadata": {},
     "output_type": "execute_result"
    }
   ],
   "source": [
    "X['popular'] = np.where( (X['star_bus'] > np.mean(X['star_bus'])) & (X['cts_bus'] > 0.4*np.mean(X['cts_bus'])), 1, 0)\n",
    "X['popular'] .describe()"
   ]
  },
  {
   "cell_type": "code",
   "execution_count": 569,
   "metadata": {},
   "outputs": [],
   "source": [
    "X = X.drop(['cts_bus', 'star_bus'], axis = 1)"
   ]
  },
  {
   "cell_type": "markdown",
   "metadata": {},
   "source": [
    "##### Gender"
   ]
  },
  {
   "cell_type": "code",
   "execution_count": 570,
   "metadata": {},
   "outputs": [
    {
     "name": "stdout",
     "output_type": "stream",
     "text": [
      "Ratio of females inferred from the names: 0.45\n"
     ]
    }
   ],
   "source": [
    "guess = gender.Detector()\n",
    "agg[\"guess\"] = [guess.get_gender(i) for i in agg[\"name_y\"]]\n",
    "X['gender'] = np.where(agg[\"guess\"].str.contains(\"female\"), 1, 0)\n",
    "print(\"Ratio of females inferred from the names:\",\n",
    "      round(X['gender'].sum()/X.shape[0], 2))"
   ]
  },
  {
   "cell_type": "markdown",
   "metadata": {},
   "source": [
    "##### Weekend "
   ]
  },
  {
   "cell_type": "code",
   "execution_count": 571,
   "metadata": {},
   "outputs": [
    {
     "data": {
      "text/plain": [
       "0     0\n",
       "14    2\n",
       "17    3\n",
       "18    3\n",
       "23    4\n",
       "Name: dayofweek, dtype: int64"
      ]
     },
     "execution_count": 571,
     "metadata": {},
     "output_type": "execute_result"
    }
   ],
   "source": [
    "# Monday 0 to Sunday 6\n",
    "# Hypothesis: reviews written on Friday, Saturday, and Sunday are different from the ones written during weekdays\n",
    "agg[\"dayofweek\"] = agg[\"DATE\"].dt.dayofweek\n",
    "agg[\"dayofweek\"].head()"
   ]
  },
  {
   "cell_type": "code",
   "execution_count": 572,
   "metadata": {},
   "outputs": [],
   "source": [
    "def weekend(df):\n",
    "    \n",
    "    if df[\"dayofweek\"] == 4:\n",
    "        return 1\n",
    "    elif df[\"dayofweek\"] == 5:\n",
    "        return 1\n",
    "    elif df[\"dayofweek\"] == 6:\n",
    "        return 1   \n",
    "    else:\n",
    "        return 0"
   ]
  },
  {
   "cell_type": "code",
   "execution_count": 573,
   "metadata": {},
   "outputs": [
    {
     "data": {
      "text/plain": [
       "0    98722\n",
       "1    82422\n",
       "Name: weekend, dtype: int64"
      ]
     },
     "execution_count": 573,
     "metadata": {},
     "output_type": "execute_result"
    }
   ],
   "source": [
    "X[\"weekend\"] = agg.apply(weekend, axis=1)\n",
    "X[\"weekend\"].value_counts()"
   ]
  },
  {
   "cell_type": "markdown",
   "metadata": {},
   "source": [
    "##### Vegan-friendly"
   ]
  },
  {
   "cell_type": "markdown",
   "metadata": {},
   "source": [
    "Keywords inspired from: https://www.allrecipes.com/recipes/265/everyday-cooking/vegetarian/main-dishes/"
   ]
  },
  {
   "cell_type": "code",
   "execution_count": 574,
   "metadata": {},
   "outputs": [],
   "source": [
    "veg_keywords = [\"vegan\", \"animal-free\", \"vegetarian\",  \n",
    "                \"flexitarian\", \"pescetarian\", \"freegan\", \"veggie\",\n",
    "                \"vegetables\", \"tofu\", \"chickpea\", \"eggplant\", \n",
    "                \"salad\", \"falafels\", \"bean\", \"spinach\", \n",
    "                \"zucchini\", \"spinach\", \"pepper\", \"lentil\", \n",
    "                \"mushroom\", \"onion\"]\n",
    "\n",
    "def vegan(df):\n",
    "    \n",
    "    vocas = [i.lower() for i in df['text'].split()]\n",
    "    \n",
    "    for key in veg_keywords:         \n",
    "        if key in vocas:\n",
    "            return 1  \n",
    "    return 0\n",
    "        \n",
    "# create new column for food categories\n",
    "X[\"vegan\"] = agg.apply(vegan, axis=1)"
   ]
  },
  {
   "cell_type": "code",
   "execution_count": 575,
   "metadata": {},
   "outputs": [
    {
     "data": {
      "text/plain": [
       "0    159734\n",
       "1     21410\n",
       "Name: vegan, dtype: int64"
      ]
     },
     "execution_count": 575,
     "metadata": {},
     "output_type": "execute_result"
    }
   ],
   "source": [
    "X[\"vegan\"].value_counts()"
   ]
  },
  {
   "cell_type": "markdown",
   "metadata": {},
   "source": [
    "##### Kids-friendly"
   ]
  },
  {
   "cell_type": "code",
   "execution_count": 576,
   "metadata": {},
   "outputs": [],
   "source": [
    "kid_keywords = [\"child\", \"children\", \"kid\", \"kids\", \n",
    "                \"kid's\", \"kid-friendly\", \"baby\", \"kid-size\"]\n",
    "\n",
    "def kid(df):\n",
    "    \n",
    "    vocas = [i.lower() for i in df['text'].split()]\n",
    "    \n",
    "    for key in kid_keywords:         \n",
    "        if key in vocas:\n",
    "            return 1  \n",
    "    return 0\n",
    "        \n",
    "# create new column for food categories\n",
    "X[\"kid\"] = agg.apply(kid, axis=1)"
   ]
  },
  {
   "cell_type": "code",
   "execution_count": 577,
   "metadata": {},
   "outputs": [
    {
     "data": {
      "text/plain": [
       "0    176338\n",
       "1      4806\n",
       "Name: kid, dtype: int64"
      ]
     },
     "execution_count": 577,
     "metadata": {},
     "output_type": "execute_result"
    }
   ],
   "source": [
    "X[\"kid\"].value_counts()"
   ]
  },
  {
   "cell_type": "markdown",
   "metadata": {},
   "source": [
    "##### With group"
   ]
  },
  {
   "cell_type": "code",
   "execution_count": 578,
   "metadata": {},
   "outputs": [],
   "source": [
    "keywords = [\"we\", \"our\", \"us\", \"daughter\", \"son\", \"children\", \"kids\", \"family\",\n",
    "           \"friends\", \"friend\", \"guests\", \"buddy\", \"colleagues\", \"wife\", \"husband\",\n",
    "            \"partner\", \"birthday\", \"group\", \"party\"]\n",
    "\n",
    "def withgroup(df):\n",
    "    \n",
    "    vocas = [i.lower() for i in df['text'].split()]\n",
    "    \n",
    "    for key in keywords:         \n",
    "        if key in vocas:\n",
    "            return 1  \n",
    "    return 0\n",
    "        \n",
    "# create new column for food categories\n",
    "X[\"group\"] = agg.apply(withgroup, axis=1)"
   ]
  },
  {
   "cell_type": "code",
   "execution_count": 579,
   "metadata": {},
   "outputs": [
    {
     "data": {
      "text/plain": [
       "1    91905\n",
       "0    89239\n",
       "Name: group, dtype: int64"
      ]
     },
     "execution_count": 579,
     "metadata": {},
     "output_type": "execute_result"
    }
   ],
   "source": [
    "X[\"group\"].value_counts()"
   ]
  },
  {
   "cell_type": "markdown",
   "metadata": {},
   "source": [
    "##### Food Categories"
   ]
  },
  {
   "cell_type": "code",
   "execution_count": 580,
   "metadata": {},
   "outputs": [],
   "source": [
    "Ameri = [\"American (New)\", \"American (Traditional)\", \"Burgers\", \"Chicken Wings\",\n",
    "        \"Fast Food\", \"Hot Dogs\", \"Salad\", \"Sandwiches\", \"Barbeque\"\n",
    "         \"Smokehouse\", \"Pizza\", \"Cheesesteaks\", \"Cafeteria\"]\n",
    "Europ = [\"Italian\", \"French\", \"British\", \"Hungarian\", \"lombian\",\"Portuguese\", \"German\",\n",
    "         \"Russian\", \"Spanish\", \"Ukrainian\", \"Fish & Chips\", \n",
    "         \"Greek\", \"Irish\", \"Modern European\", \"Polish\", \"Bulgarian\", \"Armenian\"]\n",
    "SouAM = [\"Mexican\", \"Argentine\", \"Cajun\", \"Caribbean\", \"Peruvian\",\n",
    "         \"Honduran\", \"Salvadoran\", \"Venezuelan\", \"Puerto Rican\", \"Tex-Mex\", \n",
    "         \"New Mexican Cuisine\", \"Nicaraguan\", \"Tacos\", \"Latin American\"]\n",
    "Asian = [\"Thai\", \"Japanese\", \"Fusion\", \"Korean\",\n",
    "          \"Filipino\", \"Hawaiian\", \"Curry\", \"Asian\", \"Pan Asian\",\n",
    "         \"Soba\", \"Vietnamese\", \"Singaporean\", \"Mongolian\", \n",
    "         \"Guamanian\", \"Himalayan/Nepalese\", \"Malaysian\",\n",
    "         \"Middle Eastern\", \"Sushi Bars\", \"Hong Kong Style Cafe\", \"Bubble Tea\"]\n",
    "Indian = ['Indian']\n",
    "Chinese = [\"Chinese\",  \"Taiwanese\", \"Cantonese\", \"Shanghainese\", \"Szechuan\",\n",
    "          \"Dim Sum\", \"Ramen\", \"Hot Pot\"]\n",
    "MidEas = [\"Mediterranean\",\"Kebab\", \"Pakistani\", \"Persian/Iranian\", \"Falafel\", \"Lebanese\"]\n",
    "Drinks = [\"Beer\", \"Coffee\", \"Wine Bars\", \"Pubs\",  \"Wineries\", \n",
    "          \"Wine & Spirits\", \"Tea Rooms\", \"Irish Pub\", \"Juice Bars & Smoothies\", \"Bars\"]\n",
    "\n",
    "def fooddummy(df, keywords):\n",
    "    for key in keywords: \n",
    "        if key in df['categories']:\n",
    "            return 1     \n",
    "    return 0\n",
    "\n",
    "# Full List (Too slow to run through)\n",
    "FoodCate = [\"Ameri\", \"Europ\", \"SouAM\", \"Asian\", \n",
    "            \"Indian\", \"Chinese\", \"MidEas\", \"Drinks\"]\n",
    "\n",
    "FoodCateKeys = [Ameri, Europ, SouAM, Asian, \n",
    "                Indian, Chinese, MidEas, Drinks]\n",
    "\n",
    "#Simplified List (Just pick two most unique categories)\n",
    "#FoodCate = [\"Asian\", \"Drinks\"]\n",
    "#FoodCateKeys = [Asian, Drinks]\n",
    "\n",
    "#c reate new column for food categories\n",
    "for index, name in enumerate(FoodCate):\n",
    "    X[name] = agg.apply(fooddummy, args=(FoodCateKeys[index],), axis=1)"
   ]
  },
  {
   "cell_type": "code",
   "execution_count": 581,
   "metadata": {},
   "outputs": [],
   "source": [
    "def category(df):\n",
    "    \n",
    "    if df['Ameri'] == 1:\n",
    "        return 'American'\n",
    "    elif df['Europ'] == 1:\n",
    "        return 'Europe'\n",
    "    elif df['SouAM'] == 1:\n",
    "        return 'South American'\n",
    "    elif df['Asian'] == 1:\n",
    "        return 'Asian'\n",
    "    elif df['Indian'] == 1:\n",
    "        return 'Indian'\n",
    "    elif df['Chinese'] == 1:\n",
    "        return 'Chinese'\n",
    "    elif df['MidEas'] == 1:\n",
    "        return 'Middle East'\n",
    "    elif df['Drinks'] == 1:\n",
    "        return 'Bars & Drinks'\n",
    "    else:\n",
    "        return 'Others'\n",
    "    \n",
    "X['category'] = X.apply(category, axis = 1)"
   ]
  },
  {
   "cell_type": "code",
   "execution_count": 582,
   "metadata": {},
   "outputs": [
    {
     "data": {
      "text/plain": [
       "American          88382\n",
       "Asian             34509\n",
       "Europe            15237\n",
       "South American    15033\n",
       "Others            13998\n",
       "Bars & Drinks      6608\n",
       "Chinese            4902\n",
       "Indian             1636\n",
       "Middle East         839\n",
       "Name: category, dtype: int64"
      ]
     },
     "execution_count": 582,
     "metadata": {},
     "output_type": "execute_result"
    }
   ],
   "source": [
    "X['category'].value_counts()"
   ]
  },
  {
   "cell_type": "code",
   "execution_count": 583,
   "metadata": {},
   "outputs": [],
   "source": [
    "X = X.drop([\"category\"], axis=1)"
   ]
  },
  {
   "cell_type": "markdown",
   "metadata": {},
   "source": [
    "### Machine Learning"
   ]
  },
  {
   "cell_type": "markdown",
   "metadata": {},
   "source": [
    "The ML algorithm will predict our satisfaction (utility) from dining at a particular restaurant. The predicted score will be used to rank the filtered options."
   ]
  },
  {
   "cell_type": "markdown",
   "metadata": {},
   "source": [
    "#### Preview data"
   ]
  },
  {
   "cell_type": "code",
   "execution_count": 584,
   "metadata": {},
   "outputs": [
    {
     "data": {
      "text/html": [
       "<div>\n",
       "<style scoped>\n",
       "    .dataframe tbody tr th:only-of-type {\n",
       "        vertical-align: middle;\n",
       "    }\n",
       "\n",
       "    .dataframe tbody tr th {\n",
       "        vertical-align: top;\n",
       "    }\n",
       "\n",
       "    .dataframe thead th {\n",
       "        text-align: right;\n",
       "    }\n",
       "</style>\n",
       "<table border=\"1\" class=\"dataframe\">\n",
       "  <thead>\n",
       "    <tr style=\"text-align: right;\">\n",
       "      <th></th>\n",
       "      <th>business_id</th>\n",
       "      <th>y</th>\n",
       "      <th>popular</th>\n",
       "      <th>gender</th>\n",
       "      <th>weekend</th>\n",
       "      <th>vegan</th>\n",
       "      <th>kid</th>\n",
       "      <th>group</th>\n",
       "      <th>Ameri</th>\n",
       "      <th>Europ</th>\n",
       "      <th>SouAM</th>\n",
       "      <th>Asian</th>\n",
       "      <th>Indian</th>\n",
       "      <th>Chinese</th>\n",
       "      <th>MidEas</th>\n",
       "      <th>Drinks</th>\n",
       "    </tr>\n",
       "  </thead>\n",
       "  <tbody>\n",
       "    <tr>\n",
       "      <th>0</th>\n",
       "      <td>Pd52CjgyEU3Rb8co6QfTPw</td>\n",
       "      <td>55.260128</td>\n",
       "      <td>0</td>\n",
       "      <td>1</td>\n",
       "      <td>0</td>\n",
       "      <td>0</td>\n",
       "      <td>0</td>\n",
       "      <td>0</td>\n",
       "      <td>1</td>\n",
       "      <td>0</td>\n",
       "      <td>0</td>\n",
       "      <td>0</td>\n",
       "      <td>0</td>\n",
       "      <td>0</td>\n",
       "      <td>0</td>\n",
       "      <td>1</td>\n",
       "    </tr>\n",
       "    <tr>\n",
       "      <th>14</th>\n",
       "      <td>4srfPk1s8nlm1YusyDUbjg</td>\n",
       "      <td>49.104521</td>\n",
       "      <td>0</td>\n",
       "      <td>0</td>\n",
       "      <td>0</td>\n",
       "      <td>0</td>\n",
       "      <td>0</td>\n",
       "      <td>1</td>\n",
       "      <td>1</td>\n",
       "      <td>0</td>\n",
       "      <td>0</td>\n",
       "      <td>0</td>\n",
       "      <td>0</td>\n",
       "      <td>0</td>\n",
       "      <td>0</td>\n",
       "      <td>0</td>\n",
       "    </tr>\n",
       "    <tr>\n",
       "      <th>17</th>\n",
       "      <td>4srfPk1s8nlm1YusyDUbjg</td>\n",
       "      <td>68.690439</td>\n",
       "      <td>0</td>\n",
       "      <td>0</td>\n",
       "      <td>0</td>\n",
       "      <td>0</td>\n",
       "      <td>0</td>\n",
       "      <td>0</td>\n",
       "      <td>1</td>\n",
       "      <td>0</td>\n",
       "      <td>0</td>\n",
       "      <td>0</td>\n",
       "      <td>0</td>\n",
       "      <td>0</td>\n",
       "      <td>0</td>\n",
       "      <td>0</td>\n",
       "    </tr>\n",
       "    <tr>\n",
       "      <th>18</th>\n",
       "      <td>4srfPk1s8nlm1YusyDUbjg</td>\n",
       "      <td>4.349598</td>\n",
       "      <td>0</td>\n",
       "      <td>0</td>\n",
       "      <td>0</td>\n",
       "      <td>0</td>\n",
       "      <td>0</td>\n",
       "      <td>0</td>\n",
       "      <td>1</td>\n",
       "      <td>0</td>\n",
       "      <td>0</td>\n",
       "      <td>0</td>\n",
       "      <td>0</td>\n",
       "      <td>0</td>\n",
       "      <td>0</td>\n",
       "      <td>0</td>\n",
       "    </tr>\n",
       "    <tr>\n",
       "      <th>23</th>\n",
       "      <td>n7V4cD-KqqE3OXk0irJTyA</td>\n",
       "      <td>68.270019</td>\n",
       "      <td>0</td>\n",
       "      <td>0</td>\n",
       "      <td>1</td>\n",
       "      <td>0</td>\n",
       "      <td>0</td>\n",
       "      <td>0</td>\n",
       "      <td>1</td>\n",
       "      <td>0</td>\n",
       "      <td>0</td>\n",
       "      <td>0</td>\n",
       "      <td>0</td>\n",
       "      <td>0</td>\n",
       "      <td>0</td>\n",
       "      <td>0</td>\n",
       "    </tr>\n",
       "  </tbody>\n",
       "</table>\n",
       "</div>"
      ],
      "text/plain": [
       "               business_id          y  popular  gender  weekend  vegan  kid  \\\n",
       "0   Pd52CjgyEU3Rb8co6QfTPw  55.260128        0       1        0      0    0   \n",
       "14  4srfPk1s8nlm1YusyDUbjg  49.104521        0       0        0      0    0   \n",
       "17  4srfPk1s8nlm1YusyDUbjg  68.690439        0       0        0      0    0   \n",
       "18  4srfPk1s8nlm1YusyDUbjg   4.349598        0       0        0      0    0   \n",
       "23  n7V4cD-KqqE3OXk0irJTyA  68.270019        0       0        1      0    0   \n",
       "\n",
       "    group  Ameri  Europ  SouAM  Asian  Indian  Chinese  MidEas  Drinks  \n",
       "0       0      1      0      0      0       0        0       0       1  \n",
       "14      1      1      0      0      0       0        0       0       0  \n",
       "17      0      1      0      0      0       0        0       0       0  \n",
       "18      0      1      0      0      0       0        0       0       0  \n",
       "23      0      1      0      0      0       0        0       0       0  "
      ]
     },
     "execution_count": 584,
     "metadata": {},
     "output_type": "execute_result"
    }
   ],
   "source": [
    "X.head()"
   ]
  },
  {
   "cell_type": "code",
   "execution_count": 585,
   "metadata": {},
   "outputs": [
    {
     "data": {
      "text/html": [
       "<div>\n",
       "<style scoped>\n",
       "    .dataframe tbody tr th:only-of-type {\n",
       "        vertical-align: middle;\n",
       "    }\n",
       "\n",
       "    .dataframe tbody tr th {\n",
       "        vertical-align: top;\n",
       "    }\n",
       "\n",
       "    .dataframe thead th {\n",
       "        text-align: right;\n",
       "    }\n",
       "</style>\n",
       "<table border=\"1\" class=\"dataframe\">\n",
       "  <thead>\n",
       "    <tr style=\"text-align: right;\">\n",
       "      <th></th>\n",
       "      <th>y</th>\n",
       "      <th>popular</th>\n",
       "      <th>gender</th>\n",
       "      <th>weekend</th>\n",
       "      <th>vegan</th>\n",
       "      <th>kid</th>\n",
       "      <th>group</th>\n",
       "      <th>Ameri</th>\n",
       "      <th>Europ</th>\n",
       "      <th>SouAM</th>\n",
       "      <th>Asian</th>\n",
       "      <th>Indian</th>\n",
       "      <th>Chinese</th>\n",
       "      <th>MidEas</th>\n",
       "      <th>Drinks</th>\n",
       "    </tr>\n",
       "    <tr>\n",
       "      <th>business_id</th>\n",
       "      <th></th>\n",
       "      <th></th>\n",
       "      <th></th>\n",
       "      <th></th>\n",
       "      <th></th>\n",
       "      <th></th>\n",
       "      <th></th>\n",
       "      <th></th>\n",
       "      <th></th>\n",
       "      <th></th>\n",
       "      <th></th>\n",
       "      <th></th>\n",
       "      <th></th>\n",
       "      <th></th>\n",
       "      <th></th>\n",
       "    </tr>\n",
       "  </thead>\n",
       "  <tbody>\n",
       "    <tr>\n",
       "      <th>--9e1ONYQuAa-CB_Rrw7Tw</th>\n",
       "      <td>53.662383</td>\n",
       "      <td>1.0</td>\n",
       "      <td>0.383562</td>\n",
       "      <td>0.486301</td>\n",
       "      <td>0.198630</td>\n",
       "      <td>0.006849</td>\n",
       "      <td>0.698630</td>\n",
       "      <td>0.0</td>\n",
       "      <td>0.0</td>\n",
       "      <td>1.0</td>\n",
       "      <td>0.0</td>\n",
       "      <td>0.0</td>\n",
       "      <td>0.0</td>\n",
       "      <td>0.0</td>\n",
       "      <td>0.0</td>\n",
       "    </tr>\n",
       "    <tr>\n",
       "      <th>-1m9o3vGRA8IBPNvNqKLmA</th>\n",
       "      <td>63.648997</td>\n",
       "      <td>0.0</td>\n",
       "      <td>0.289474</td>\n",
       "      <td>0.473684</td>\n",
       "      <td>0.368421</td>\n",
       "      <td>0.026316</td>\n",
       "      <td>0.684211</td>\n",
       "      <td>1.0</td>\n",
       "      <td>0.0</td>\n",
       "      <td>0.0</td>\n",
       "      <td>0.0</td>\n",
       "      <td>0.0</td>\n",
       "      <td>0.0</td>\n",
       "      <td>0.0</td>\n",
       "      <td>1.0</td>\n",
       "    </tr>\n",
       "    <tr>\n",
       "      <th>-3zffZUHoY8bQjGfPSoBKQ</th>\n",
       "      <td>52.227558</td>\n",
       "      <td>1.0</td>\n",
       "      <td>0.444444</td>\n",
       "      <td>0.444444</td>\n",
       "      <td>0.185185</td>\n",
       "      <td>0.037037</td>\n",
       "      <td>0.722222</td>\n",
       "      <td>1.0</td>\n",
       "      <td>0.0</td>\n",
       "      <td>0.0</td>\n",
       "      <td>0.0</td>\n",
       "      <td>0.0</td>\n",
       "      <td>0.0</td>\n",
       "      <td>0.0</td>\n",
       "      <td>1.0</td>\n",
       "    </tr>\n",
       "    <tr>\n",
       "      <th>-8R_-EkGpUhBk55K9Dd4mg</th>\n",
       "      <td>51.563956</td>\n",
       "      <td>0.0</td>\n",
       "      <td>0.482759</td>\n",
       "      <td>0.310345</td>\n",
       "      <td>0.068966</td>\n",
       "      <td>0.000000</td>\n",
       "      <td>0.275862</td>\n",
       "      <td>0.0</td>\n",
       "      <td>0.0</td>\n",
       "      <td>0.0</td>\n",
       "      <td>1.0</td>\n",
       "      <td>0.0</td>\n",
       "      <td>0.0</td>\n",
       "      <td>0.0</td>\n",
       "      <td>0.0</td>\n",
       "    </tr>\n",
       "    <tr>\n",
       "      <th>-9YyInW1wapzdNZrhQJ9dg</th>\n",
       "      <td>32.578294</td>\n",
       "      <td>0.0</td>\n",
       "      <td>0.305556</td>\n",
       "      <td>0.472222</td>\n",
       "      <td>0.138889</td>\n",
       "      <td>0.027778</td>\n",
       "      <td>0.583333</td>\n",
       "      <td>0.0</td>\n",
       "      <td>0.0</td>\n",
       "      <td>0.0</td>\n",
       "      <td>0.0</td>\n",
       "      <td>0.0</td>\n",
       "      <td>0.0</td>\n",
       "      <td>0.0</td>\n",
       "      <td>0.0</td>\n",
       "    </tr>\n",
       "    <tr>\n",
       "      <th>...</th>\n",
       "      <td>...</td>\n",
       "      <td>...</td>\n",
       "      <td>...</td>\n",
       "      <td>...</td>\n",
       "      <td>...</td>\n",
       "      <td>...</td>\n",
       "      <td>...</td>\n",
       "      <td>...</td>\n",
       "      <td>...</td>\n",
       "      <td>...</td>\n",
       "      <td>...</td>\n",
       "      <td>...</td>\n",
       "      <td>...</td>\n",
       "      <td>...</td>\n",
       "      <td>...</td>\n",
       "    </tr>\n",
       "    <tr>\n",
       "      <th>zp-K5s3pGTWuuaVBWo6WZA</th>\n",
       "      <td>51.030541</td>\n",
       "      <td>0.0</td>\n",
       "      <td>0.700000</td>\n",
       "      <td>0.500000</td>\n",
       "      <td>0.000000</td>\n",
       "      <td>0.000000</td>\n",
       "      <td>0.500000</td>\n",
       "      <td>1.0</td>\n",
       "      <td>0.0</td>\n",
       "      <td>0.0</td>\n",
       "      <td>0.0</td>\n",
       "      <td>0.0</td>\n",
       "      <td>0.0</td>\n",
       "      <td>0.0</td>\n",
       "      <td>0.0</td>\n",
       "    </tr>\n",
       "    <tr>\n",
       "      <th>zpoZ6WyQUYff18-z4ZU1mA</th>\n",
       "      <td>62.801442</td>\n",
       "      <td>1.0</td>\n",
       "      <td>0.400000</td>\n",
       "      <td>0.427586</td>\n",
       "      <td>0.158621</td>\n",
       "      <td>0.000000</td>\n",
       "      <td>0.303448</td>\n",
       "      <td>1.0</td>\n",
       "      <td>0.0</td>\n",
       "      <td>0.0</td>\n",
       "      <td>0.0</td>\n",
       "      <td>0.0</td>\n",
       "      <td>0.0</td>\n",
       "      <td>0.0</td>\n",
       "      <td>0.0</td>\n",
       "    </tr>\n",
       "    <tr>\n",
       "      <th>zsQk990PubOHjr1YcLkQFw</th>\n",
       "      <td>48.176130</td>\n",
       "      <td>0.0</td>\n",
       "      <td>0.458333</td>\n",
       "      <td>0.291667</td>\n",
       "      <td>0.125000</td>\n",
       "      <td>0.000000</td>\n",
       "      <td>0.250000</td>\n",
       "      <td>1.0</td>\n",
       "      <td>0.0</td>\n",
       "      <td>0.0</td>\n",
       "      <td>1.0</td>\n",
       "      <td>0.0</td>\n",
       "      <td>0.0</td>\n",
       "      <td>0.0</td>\n",
       "      <td>0.0</td>\n",
       "    </tr>\n",
       "    <tr>\n",
       "      <th>zuwba6QEBIDZT0tJZmNhdQ</th>\n",
       "      <td>39.457892</td>\n",
       "      <td>0.0</td>\n",
       "      <td>0.437500</td>\n",
       "      <td>0.437500</td>\n",
       "      <td>0.000000</td>\n",
       "      <td>0.000000</td>\n",
       "      <td>0.500000</td>\n",
       "      <td>0.0</td>\n",
       "      <td>0.0</td>\n",
       "      <td>0.0</td>\n",
       "      <td>1.0</td>\n",
       "      <td>0.0</td>\n",
       "      <td>0.0</td>\n",
       "      <td>0.0</td>\n",
       "      <td>1.0</td>\n",
       "    </tr>\n",
       "    <tr>\n",
       "      <th>zwNC-Ow4eIMan2__bS9-rg</th>\n",
       "      <td>47.981205</td>\n",
       "      <td>1.0</td>\n",
       "      <td>0.516667</td>\n",
       "      <td>0.416667</td>\n",
       "      <td>0.150000</td>\n",
       "      <td>0.000000</td>\n",
       "      <td>0.283333</td>\n",
       "      <td>0.0</td>\n",
       "      <td>0.0</td>\n",
       "      <td>1.0</td>\n",
       "      <td>0.0</td>\n",
       "      <td>0.0</td>\n",
       "      <td>0.0</td>\n",
       "      <td>0.0</td>\n",
       "      <td>0.0</td>\n",
       "    </tr>\n",
       "  </tbody>\n",
       "</table>\n",
       "<p>3778 rows × 15 columns</p>\n",
       "</div>"
      ],
      "text/plain": [
       "                                y  popular    gender   weekend     vegan  \\\n",
       "business_id                                                                \n",
       "--9e1ONYQuAa-CB_Rrw7Tw  53.662383      1.0  0.383562  0.486301  0.198630   \n",
       "-1m9o3vGRA8IBPNvNqKLmA  63.648997      0.0  0.289474  0.473684  0.368421   \n",
       "-3zffZUHoY8bQjGfPSoBKQ  52.227558      1.0  0.444444  0.444444  0.185185   \n",
       "-8R_-EkGpUhBk55K9Dd4mg  51.563956      0.0  0.482759  0.310345  0.068966   \n",
       "-9YyInW1wapzdNZrhQJ9dg  32.578294      0.0  0.305556  0.472222  0.138889   \n",
       "...                           ...      ...       ...       ...       ...   \n",
       "zp-K5s3pGTWuuaVBWo6WZA  51.030541      0.0  0.700000  0.500000  0.000000   \n",
       "zpoZ6WyQUYff18-z4ZU1mA  62.801442      1.0  0.400000  0.427586  0.158621   \n",
       "zsQk990PubOHjr1YcLkQFw  48.176130      0.0  0.458333  0.291667  0.125000   \n",
       "zuwba6QEBIDZT0tJZmNhdQ  39.457892      0.0  0.437500  0.437500  0.000000   \n",
       "zwNC-Ow4eIMan2__bS9-rg  47.981205      1.0  0.516667  0.416667  0.150000   \n",
       "\n",
       "                             kid     group  Ameri  Europ  SouAM  Asian  \\\n",
       "business_id                                                              \n",
       "--9e1ONYQuAa-CB_Rrw7Tw  0.006849  0.698630    0.0    0.0    1.0    0.0   \n",
       "-1m9o3vGRA8IBPNvNqKLmA  0.026316  0.684211    1.0    0.0    0.0    0.0   \n",
       "-3zffZUHoY8bQjGfPSoBKQ  0.037037  0.722222    1.0    0.0    0.0    0.0   \n",
       "-8R_-EkGpUhBk55K9Dd4mg  0.000000  0.275862    0.0    0.0    0.0    1.0   \n",
       "-9YyInW1wapzdNZrhQJ9dg  0.027778  0.583333    0.0    0.0    0.0    0.0   \n",
       "...                          ...       ...    ...    ...    ...    ...   \n",
       "zp-K5s3pGTWuuaVBWo6WZA  0.000000  0.500000    1.0    0.0    0.0    0.0   \n",
       "zpoZ6WyQUYff18-z4ZU1mA  0.000000  0.303448    1.0    0.0    0.0    0.0   \n",
       "zsQk990PubOHjr1YcLkQFw  0.000000  0.250000    1.0    0.0    0.0    1.0   \n",
       "zuwba6QEBIDZT0tJZmNhdQ  0.000000  0.500000    0.0    0.0    0.0    1.0   \n",
       "zwNC-Ow4eIMan2__bS9-rg  0.000000  0.283333    0.0    0.0    1.0    0.0   \n",
       "\n",
       "                        Indian  Chinese  MidEas  Drinks  \n",
       "business_id                                              \n",
       "--9e1ONYQuAa-CB_Rrw7Tw     0.0      0.0     0.0     0.0  \n",
       "-1m9o3vGRA8IBPNvNqKLmA     0.0      0.0     0.0     1.0  \n",
       "-3zffZUHoY8bQjGfPSoBKQ     0.0      0.0     0.0     1.0  \n",
       "-8R_-EkGpUhBk55K9Dd4mg     0.0      0.0     0.0     0.0  \n",
       "-9YyInW1wapzdNZrhQJ9dg     0.0      0.0     0.0     0.0  \n",
       "...                        ...      ...     ...     ...  \n",
       "zp-K5s3pGTWuuaVBWo6WZA     0.0      0.0     0.0     0.0  \n",
       "zpoZ6WyQUYff18-z4ZU1mA     0.0      0.0     0.0     0.0  \n",
       "zsQk990PubOHjr1YcLkQFw     0.0      0.0     0.0     0.0  \n",
       "zuwba6QEBIDZT0tJZmNhdQ     0.0      0.0     0.0     1.0  \n",
       "zwNC-Ow4eIMan2__bS9-rg     0.0      0.0     0.0     0.0  \n",
       "\n",
       "[3778 rows x 15 columns]"
      ]
     },
     "execution_count": 585,
     "metadata": {},
     "output_type": "execute_result"
    }
   ],
   "source": [
    "bus_agg = X.groupby('business_id').mean()\n",
    "bus_agg"
   ]
  },
  {
   "cell_type": "code",
   "execution_count": 586,
   "metadata": {},
   "outputs": [],
   "source": [
    "XX = bus_agg.drop(['y'], axis=1)\n",
    "y = bus_agg['y']"
   ]
  },
  {
   "cell_type": "code",
   "execution_count": 587,
   "metadata": {},
   "outputs": [
    {
     "data": {
      "text/html": [
       "<div>\n",
       "<style scoped>\n",
       "    .dataframe tbody tr th:only-of-type {\n",
       "        vertical-align: middle;\n",
       "    }\n",
       "\n",
       "    .dataframe tbody tr th {\n",
       "        vertical-align: top;\n",
       "    }\n",
       "\n",
       "    .dataframe thead th {\n",
       "        text-align: right;\n",
       "    }\n",
       "</style>\n",
       "<table border=\"1\" class=\"dataframe\">\n",
       "  <thead>\n",
       "    <tr style=\"text-align: right;\">\n",
       "      <th></th>\n",
       "      <th>popular</th>\n",
       "      <th>gender</th>\n",
       "      <th>weekend</th>\n",
       "      <th>vegan</th>\n",
       "      <th>kid</th>\n",
       "      <th>group</th>\n",
       "      <th>Ameri</th>\n",
       "      <th>Europ</th>\n",
       "      <th>SouAM</th>\n",
       "      <th>Asian</th>\n",
       "      <th>Indian</th>\n",
       "      <th>Chinese</th>\n",
       "      <th>MidEas</th>\n",
       "      <th>Drinks</th>\n",
       "    </tr>\n",
       "  </thead>\n",
       "  <tbody>\n",
       "    <tr>\n",
       "      <th>count</th>\n",
       "      <td>3778.000000</td>\n",
       "      <td>3778.000000</td>\n",
       "      <td>3778.000000</td>\n",
       "      <td>3778.000000</td>\n",
       "      <td>3778.000000</td>\n",
       "      <td>3778.000000</td>\n",
       "      <td>3778.000000</td>\n",
       "      <td>3778.000000</td>\n",
       "      <td>3778.000000</td>\n",
       "      <td>3778.000000</td>\n",
       "      <td>3778.000000</td>\n",
       "      <td>3778.000000</td>\n",
       "      <td>3778.000000</td>\n",
       "      <td>3778.000000</td>\n",
       "    </tr>\n",
       "    <tr>\n",
       "      <th>mean</th>\n",
       "      <td>0.120699</td>\n",
       "      <td>0.429435</td>\n",
       "      <td>0.460225</td>\n",
       "      <td>0.094083</td>\n",
       "      <td>0.029403</td>\n",
       "      <td>0.409945</td>\n",
       "      <td>0.570143</td>\n",
       "      <td>0.091583</td>\n",
       "      <td>0.157755</td>\n",
       "      <td>0.161196</td>\n",
       "      <td>0.008470</td>\n",
       "      <td>0.078878</td>\n",
       "      <td>0.027263</td>\n",
       "      <td>0.241133</td>\n",
       "    </tr>\n",
       "    <tr>\n",
       "      <th>std</th>\n",
       "      <td>0.325820</td>\n",
       "      <td>0.185518</td>\n",
       "      <td>0.189721</td>\n",
       "      <td>0.121264</td>\n",
       "      <td>0.070822</td>\n",
       "      <td>0.221969</td>\n",
       "      <td>0.495121</td>\n",
       "      <td>0.288474</td>\n",
       "      <td>0.364560</td>\n",
       "      <td>0.367761</td>\n",
       "      <td>0.091655</td>\n",
       "      <td>0.269583</td>\n",
       "      <td>0.162871</td>\n",
       "      <td>0.427827</td>\n",
       "    </tr>\n",
       "    <tr>\n",
       "      <th>min</th>\n",
       "      <td>0.000000</td>\n",
       "      <td>0.000000</td>\n",
       "      <td>0.000000</td>\n",
       "      <td>0.000000</td>\n",
       "      <td>0.000000</td>\n",
       "      <td>0.000000</td>\n",
       "      <td>0.000000</td>\n",
       "      <td>0.000000</td>\n",
       "      <td>0.000000</td>\n",
       "      <td>0.000000</td>\n",
       "      <td>0.000000</td>\n",
       "      <td>0.000000</td>\n",
       "      <td>0.000000</td>\n",
       "      <td>0.000000</td>\n",
       "    </tr>\n",
       "    <tr>\n",
       "      <th>25%</th>\n",
       "      <td>0.000000</td>\n",
       "      <td>0.333333</td>\n",
       "      <td>0.380952</td>\n",
       "      <td>0.000000</td>\n",
       "      <td>0.000000</td>\n",
       "      <td>0.254635</td>\n",
       "      <td>0.000000</td>\n",
       "      <td>0.000000</td>\n",
       "      <td>0.000000</td>\n",
       "      <td>0.000000</td>\n",
       "      <td>0.000000</td>\n",
       "      <td>0.000000</td>\n",
       "      <td>0.000000</td>\n",
       "      <td>0.000000</td>\n",
       "    </tr>\n",
       "    <tr>\n",
       "      <th>50%</th>\n",
       "      <td>0.000000</td>\n",
       "      <td>0.437500</td>\n",
       "      <td>0.461289</td>\n",
       "      <td>0.063830</td>\n",
       "      <td>0.000000</td>\n",
       "      <td>0.418275</td>\n",
       "      <td>1.000000</td>\n",
       "      <td>0.000000</td>\n",
       "      <td>0.000000</td>\n",
       "      <td>0.000000</td>\n",
       "      <td>0.000000</td>\n",
       "      <td>0.000000</td>\n",
       "      <td>0.000000</td>\n",
       "      <td>0.000000</td>\n",
       "    </tr>\n",
       "    <tr>\n",
       "      <th>75%</th>\n",
       "      <td>0.000000</td>\n",
       "      <td>0.500000</td>\n",
       "      <td>0.536585</td>\n",
       "      <td>0.142857</td>\n",
       "      <td>0.032258</td>\n",
       "      <td>0.558285</td>\n",
       "      <td>1.000000</td>\n",
       "      <td>0.000000</td>\n",
       "      <td>0.000000</td>\n",
       "      <td>0.000000</td>\n",
       "      <td>0.000000</td>\n",
       "      <td>0.000000</td>\n",
       "      <td>0.000000</td>\n",
       "      <td>0.000000</td>\n",
       "    </tr>\n",
       "    <tr>\n",
       "      <th>max</th>\n",
       "      <td>1.000000</td>\n",
       "      <td>1.000000</td>\n",
       "      <td>1.000000</td>\n",
       "      <td>1.000000</td>\n",
       "      <td>1.000000</td>\n",
       "      <td>1.000000</td>\n",
       "      <td>1.000000</td>\n",
       "      <td>1.000000</td>\n",
       "      <td>1.000000</td>\n",
       "      <td>1.000000</td>\n",
       "      <td>1.000000</td>\n",
       "      <td>1.000000</td>\n",
       "      <td>1.000000</td>\n",
       "      <td>1.000000</td>\n",
       "    </tr>\n",
       "  </tbody>\n",
       "</table>\n",
       "</div>"
      ],
      "text/plain": [
       "           popular       gender      weekend        vegan          kid  \\\n",
       "count  3778.000000  3778.000000  3778.000000  3778.000000  3778.000000   \n",
       "mean      0.120699     0.429435     0.460225     0.094083     0.029403   \n",
       "std       0.325820     0.185518     0.189721     0.121264     0.070822   \n",
       "min       0.000000     0.000000     0.000000     0.000000     0.000000   \n",
       "25%       0.000000     0.333333     0.380952     0.000000     0.000000   \n",
       "50%       0.000000     0.437500     0.461289     0.063830     0.000000   \n",
       "75%       0.000000     0.500000     0.536585     0.142857     0.032258   \n",
       "max       1.000000     1.000000     1.000000     1.000000     1.000000   \n",
       "\n",
       "             group        Ameri        Europ        SouAM        Asian  \\\n",
       "count  3778.000000  3778.000000  3778.000000  3778.000000  3778.000000   \n",
       "mean      0.409945     0.570143     0.091583     0.157755     0.161196   \n",
       "std       0.221969     0.495121     0.288474     0.364560     0.367761   \n",
       "min       0.000000     0.000000     0.000000     0.000000     0.000000   \n",
       "25%       0.254635     0.000000     0.000000     0.000000     0.000000   \n",
       "50%       0.418275     1.000000     0.000000     0.000000     0.000000   \n",
       "75%       0.558285     1.000000     0.000000     0.000000     0.000000   \n",
       "max       1.000000     1.000000     1.000000     1.000000     1.000000   \n",
       "\n",
       "            Indian      Chinese       MidEas       Drinks  \n",
       "count  3778.000000  3778.000000  3778.000000  3778.000000  \n",
       "mean      0.008470     0.078878     0.027263     0.241133  \n",
       "std       0.091655     0.269583     0.162871     0.427827  \n",
       "min       0.000000     0.000000     0.000000     0.000000  \n",
       "25%       0.000000     0.000000     0.000000     0.000000  \n",
       "50%       0.000000     0.000000     0.000000     0.000000  \n",
       "75%       0.000000     0.000000     0.000000     0.000000  \n",
       "max       1.000000     1.000000     1.000000     1.000000  "
      ]
     },
     "execution_count": 587,
     "metadata": {},
     "output_type": "execute_result"
    }
   ],
   "source": [
    "XX.describe()"
   ]
  },
  {
   "cell_type": "code",
   "execution_count": 588,
   "metadata": {},
   "outputs": [
    {
     "data": {
      "text/plain": [
       "business_id\n",
       "--9e1ONYQuAa-CB_Rrw7Tw    53.662383\n",
       "-1m9o3vGRA8IBPNvNqKLmA    63.648997\n",
       "-3zffZUHoY8bQjGfPSoBKQ    52.227558\n",
       "-8R_-EkGpUhBk55K9Dd4mg    51.563956\n",
       "-9YyInW1wapzdNZrhQJ9dg    32.578294\n",
       "-AD5PiuJHgdUcAK-Vxao2A    49.972100\n",
       "-ADtl9bLp8wNqYX1k3KuxA    53.280407\n",
       "-Bf8BQ3yMk8U2f45r2DRKw    42.256620\n",
       "-Bv-HHUs8aHzDrdWcZHn8w    36.140218\n",
       "-C8sSrFqaCxp51pyo-fQLQ    55.804888\n",
       "Name: y, dtype: float64"
      ]
     },
     "execution_count": 588,
     "metadata": {},
     "output_type": "execute_result"
    }
   ],
   "source": [
    "y[:10]"
   ]
  },
  {
   "cell_type": "code",
   "execution_count": 589,
   "metadata": {},
   "outputs": [
    {
     "data": {
      "text/plain": [
       "((3778, 14), (3778,))"
      ]
     },
     "execution_count": 589,
     "metadata": {},
     "output_type": "execute_result"
    }
   ],
   "source": [
    "# make sure the rows number match!\n",
    "(XX.shape, y.shape)"
   ]
  },
  {
   "cell_type": "code",
   "execution_count": null,
   "metadata": {},
   "outputs": [],
   "source": []
  },
  {
   "cell_type": "markdown",
   "metadata": {},
   "source": [
    "#### Predictive Models"
   ]
  },
  {
   "cell_type": "markdown",
   "metadata": {},
   "source": [
    "##### Feature importance using Random Forest"
   ]
  },
  {
   "cell_type": "markdown",
   "metadata": {},
   "source": [
    "Random Forest measures the relative importance of each predictor by counting the number of associated training samples in the 100 trees. "
   ]
  },
  {
   "cell_type": "code",
   "execution_count": 590,
   "metadata": {},
   "outputs": [
    {
     "name": "stdout",
     "output_type": "stream",
     "text": [
      "popular 0.04407574782482792\n",
      "gender 0.17793705062169654\n",
      "weekend 0.16618971219993978\n",
      "vegan 0.1504590396034719\n",
      "kid 0.07182938840988573\n",
      "group 0.17993214701095417\n",
      "Ameri 0.08896729972186974\n",
      "Europ 0.015687785687992544\n",
      "SouAM 0.028720141974027374\n",
      "Asian 0.018862168443139486\n",
      "Indian 0.0007163967779305\n",
      "Chinese 0.014998956479450255\n",
      "MidEas 0.005654117618205751\n",
      "Drinks 0.03597004762660817\n"
     ]
    }
   ],
   "source": [
    "from sklearn.ensemble import RandomForestRegressor\n",
    "rfc = RandomForestRegressor(n_estimators = 100,n_jobs = 4).fit(XX, y)\n",
    "\n",
    "for name,score in zip(XX.columns, rfc.feature_importances_):\n",
    "    print(name,score)"
   ]
  },
  {
   "cell_type": "code",
   "execution_count": 591,
   "metadata": {},
   "outputs": [],
   "source": [
    "def render_mpl_table(data, col_width = 3.0, row_height = 0.625, font_size = 14,\n",
    "                     header_color = '#40466e', row_colors = ['#f1f1f2', 'w'], edge_color = 'w',\n",
    "                     bbox = [0, 0, 1, 1], header_columns = 0, ax = None, **kwargs):\n",
    "    \n",
    "    if ax is None:\n",
    "        size = (np.array(data.shape[::-1]) + np.array([0, 1])) * np.array([col_width, row_height])\n",
    "        fig, ax = plt.subplots(figsize=size)\n",
    "        ax.axis('off')\n",
    "\n",
    "    mpl_table = ax.table(cellText = data.values, bbox = bbox, colLabels = data.columns, **kwargs)\n",
    "\n",
    "    mpl_table.auto_set_font_size(False)\n",
    "    mpl_table.set_fontsize(font_size)\n",
    "\n",
    "    for k, cell in  six.iteritems(mpl_table._cells):\n",
    "        cell.set_edgecolor(edge_color)\n",
    "        if k[0] == 0 or k[1] < header_columns:\n",
    "            cell.set_text_props(weight = 'bold', color = 'w')\n",
    "            cell.set_facecolor(header_color)\n",
    "        else:\n",
    "            cell.set_facecolor(row_colors[k[0]%len(row_colors) ])\n",
    "    return ax\n",
    "\n",
    "#render_mpl_table(XG, header_columns=0, col_width=2.0)\n",
    "#plt.savefig('gendertable.png')"
   ]
  },
  {
   "cell_type": "code",
   "execution_count": 592,
   "metadata": {
    "scrolled": true
   },
   "outputs": [
    {
     "data": {
      "image/png": "[encoded data removed]",
      "text/plain": [
       "<Figure size 504x675 with 1 Axes>"
      ]
     },
     "metadata": {},
     "output_type": "display_data"
    }
   ],
   "source": [
    "imp = pd.DataFrame({\"features\": XX.columns, \"score\": rfc.feature_importances_})\n",
    "imp = imp.sort_values(by='score', ascending=False)\n",
    "imp = imp.round(2)\n",
    "render_mpl_table(imp, header_columns=0, col_width=3.5)\n",
    "plt.savefig('importance.png')"
   ]
  },
  {
   "cell_type": "code",
   "execution_count": 593,
   "metadata": {
    "scrolled": true
   },
   "outputs": [
    {
     "data": {
      "text/plain": [
       "Text(0.5, 0, 'scores')"
      ]
     },
     "execution_count": 593,
     "metadata": {},
     "output_type": "execute_result"
    },
    {
     "data": {
      "image/png": "[encoded data removed]",
      "text/plain": [
       "<Figure size 432x288 with 1 Axes>"
      ]
     },
     "metadata": {},
     "output_type": "display_data"
    }
   ],
   "source": [
    "plt.hlines(y = imp[\"features\"], xmin = 0, xmax = imp['score'],\n",
    "           linestyles = 'dashed', color = 'maroon')\n",
    "\n",
    "plt.plot(imp['score'], imp[\"features\"], \">\", color = 'maroon')\n",
    " \n",
    "plt.yticks(imp[\"features\"])\n",
    "plt.title(\"Relative Features Importance\", loc = 'center', fontsize = 15)\n",
    "plt.xlabel('scores')\n",
    "#plt.savefig(\"Relative Features Importance.png\")"
   ]
  },
  {
   "cell_type": "markdown",
   "metadata": {},
   "source": [
    "##### Training and testing sets"
   ]
  },
  {
   "cell_type": "code",
   "execution_count": 594,
   "metadata": {},
   "outputs": [],
   "source": [
    "# Divide the data into training and test set, with ratio 3:1 (test=25%).\n",
    "X_train, X_test, y_train, y_test = train_test_split(XX, y, random_state = 0)\n",
    "scaler = MinMaxScaler()\n",
    "X_train = scaler.fit_transform(X_train)\n",
    "X_test = scaler.fit_transform(X_test)"
   ]
  },
  {
   "cell_type": "code",
   "execution_count": 600,
   "metadata": {},
   "outputs": [
    {
     "data": {
      "text/html": [
       "<div>\n",
       "<style scoped>\n",
       "    .dataframe tbody tr th:only-of-type {\n",
       "        vertical-align: middle;\n",
       "    }\n",
       "\n",
       "    .dataframe tbody tr th {\n",
       "        vertical-align: top;\n",
       "    }\n",
       "\n",
       "    .dataframe thead th {\n",
       "        text-align: right;\n",
       "    }\n",
       "</style>\n",
       "<table border=\"1\" class=\"dataframe\">\n",
       "  <thead>\n",
       "    <tr style=\"text-align: right;\">\n",
       "      <th></th>\n",
       "      <th>popular</th>\n",
       "      <th>gender</th>\n",
       "      <th>weekend</th>\n",
       "      <th>vegan</th>\n",
       "      <th>kid</th>\n",
       "      <th>group</th>\n",
       "      <th>Ameri</th>\n",
       "      <th>Europ</th>\n",
       "      <th>SouAM</th>\n",
       "      <th>Asian</th>\n",
       "      <th>Indian</th>\n",
       "      <th>Chinese</th>\n",
       "      <th>MidEas</th>\n",
       "      <th>Drinks</th>\n",
       "    </tr>\n",
       "    <tr>\n",
       "      <th>business_id</th>\n",
       "      <th></th>\n",
       "      <th></th>\n",
       "      <th></th>\n",
       "      <th></th>\n",
       "      <th></th>\n",
       "      <th></th>\n",
       "      <th></th>\n",
       "      <th></th>\n",
       "      <th></th>\n",
       "      <th></th>\n",
       "      <th></th>\n",
       "      <th></th>\n",
       "      <th></th>\n",
       "      <th></th>\n",
       "    </tr>\n",
       "  </thead>\n",
       "  <tbody>\n",
       "    <tr>\n",
       "      <th>--9e1ONYQuAa-CB_Rrw7Tw</th>\n",
       "      <td>1.0</td>\n",
       "      <td>0.383562</td>\n",
       "      <td>0.486301</td>\n",
       "      <td>0.198630</td>\n",
       "      <td>0.006849</td>\n",
       "      <td>0.698630</td>\n",
       "      <td>0.0</td>\n",
       "      <td>0.0</td>\n",
       "      <td>1.0</td>\n",
       "      <td>0.0</td>\n",
       "      <td>0.0</td>\n",
       "      <td>0.0</td>\n",
       "      <td>0.0</td>\n",
       "      <td>0.0</td>\n",
       "    </tr>\n",
       "    <tr>\n",
       "      <th>-1m9o3vGRA8IBPNvNqKLmA</th>\n",
       "      <td>0.0</td>\n",
       "      <td>0.289474</td>\n",
       "      <td>0.473684</td>\n",
       "      <td>0.368421</td>\n",
       "      <td>0.026316</td>\n",
       "      <td>0.684211</td>\n",
       "      <td>1.0</td>\n",
       "      <td>0.0</td>\n",
       "      <td>0.0</td>\n",
       "      <td>0.0</td>\n",
       "      <td>0.0</td>\n",
       "      <td>0.0</td>\n",
       "      <td>0.0</td>\n",
       "      <td>1.0</td>\n",
       "    </tr>\n",
       "    <tr>\n",
       "      <th>-3zffZUHoY8bQjGfPSoBKQ</th>\n",
       "      <td>1.0</td>\n",
       "      <td>0.444444</td>\n",
       "      <td>0.444444</td>\n",
       "      <td>0.185185</td>\n",
       "      <td>0.037037</td>\n",
       "      <td>0.722222</td>\n",
       "      <td>1.0</td>\n",
       "      <td>0.0</td>\n",
       "      <td>0.0</td>\n",
       "      <td>0.0</td>\n",
       "      <td>0.0</td>\n",
       "      <td>0.0</td>\n",
       "      <td>0.0</td>\n",
       "      <td>1.0</td>\n",
       "    </tr>\n",
       "    <tr>\n",
       "      <th>-8R_-EkGpUhBk55K9Dd4mg</th>\n",
       "      <td>0.0</td>\n",
       "      <td>0.482759</td>\n",
       "      <td>0.310345</td>\n",
       "      <td>0.068966</td>\n",
       "      <td>0.000000</td>\n",
       "      <td>0.275862</td>\n",
       "      <td>0.0</td>\n",
       "      <td>0.0</td>\n",
       "      <td>0.0</td>\n",
       "      <td>1.0</td>\n",
       "      <td>0.0</td>\n",
       "      <td>0.0</td>\n",
       "      <td>0.0</td>\n",
       "      <td>0.0</td>\n",
       "    </tr>\n",
       "    <tr>\n",
       "      <th>-9YyInW1wapzdNZrhQJ9dg</th>\n",
       "      <td>0.0</td>\n",
       "      <td>0.305556</td>\n",
       "      <td>0.472222</td>\n",
       "      <td>0.138889</td>\n",
       "      <td>0.027778</td>\n",
       "      <td>0.583333</td>\n",
       "      <td>0.0</td>\n",
       "      <td>0.0</td>\n",
       "      <td>0.0</td>\n",
       "      <td>0.0</td>\n",
       "      <td>0.0</td>\n",
       "      <td>0.0</td>\n",
       "      <td>0.0</td>\n",
       "      <td>0.0</td>\n",
       "    </tr>\n",
       "    <tr>\n",
       "      <th>...</th>\n",
       "      <td>...</td>\n",
       "      <td>...</td>\n",
       "      <td>...</td>\n",
       "      <td>...</td>\n",
       "      <td>...</td>\n",
       "      <td>...</td>\n",
       "      <td>...</td>\n",
       "      <td>...</td>\n",
       "      <td>...</td>\n",
       "      <td>...</td>\n",
       "      <td>...</td>\n",
       "      <td>...</td>\n",
       "      <td>...</td>\n",
       "      <td>...</td>\n",
       "    </tr>\n",
       "    <tr>\n",
       "      <th>zp-K5s3pGTWuuaVBWo6WZA</th>\n",
       "      <td>0.0</td>\n",
       "      <td>0.700000</td>\n",
       "      <td>0.500000</td>\n",
       "      <td>0.000000</td>\n",
       "      <td>0.000000</td>\n",
       "      <td>0.500000</td>\n",
       "      <td>1.0</td>\n",
       "      <td>0.0</td>\n",
       "      <td>0.0</td>\n",
       "      <td>0.0</td>\n",
       "      <td>0.0</td>\n",
       "      <td>0.0</td>\n",
       "      <td>0.0</td>\n",
       "      <td>0.0</td>\n",
       "    </tr>\n",
       "    <tr>\n",
       "      <th>zpoZ6WyQUYff18-z4ZU1mA</th>\n",
       "      <td>1.0</td>\n",
       "      <td>0.400000</td>\n",
       "      <td>0.427586</td>\n",
       "      <td>0.158621</td>\n",
       "      <td>0.000000</td>\n",
       "      <td>0.303448</td>\n",
       "      <td>1.0</td>\n",
       "      <td>0.0</td>\n",
       "      <td>0.0</td>\n",
       "      <td>0.0</td>\n",
       "      <td>0.0</td>\n",
       "      <td>0.0</td>\n",
       "      <td>0.0</td>\n",
       "      <td>0.0</td>\n",
       "    </tr>\n",
       "    <tr>\n",
       "      <th>zsQk990PubOHjr1YcLkQFw</th>\n",
       "      <td>0.0</td>\n",
       "      <td>0.458333</td>\n",
       "      <td>0.291667</td>\n",
       "      <td>0.125000</td>\n",
       "      <td>0.000000</td>\n",
       "      <td>0.250000</td>\n",
       "      <td>1.0</td>\n",
       "      <td>0.0</td>\n",
       "      <td>0.0</td>\n",
       "      <td>1.0</td>\n",
       "      <td>0.0</td>\n",
       "      <td>0.0</td>\n",
       "      <td>0.0</td>\n",
       "      <td>0.0</td>\n",
       "    </tr>\n",
       "    <tr>\n",
       "      <th>zuwba6QEBIDZT0tJZmNhdQ</th>\n",
       "      <td>0.0</td>\n",
       "      <td>0.437500</td>\n",
       "      <td>0.437500</td>\n",
       "      <td>0.000000</td>\n",
       "      <td>0.000000</td>\n",
       "      <td>0.500000</td>\n",
       "      <td>0.0</td>\n",
       "      <td>0.0</td>\n",
       "      <td>0.0</td>\n",
       "      <td>1.0</td>\n",
       "      <td>0.0</td>\n",
       "      <td>0.0</td>\n",
       "      <td>0.0</td>\n",
       "      <td>1.0</td>\n",
       "    </tr>\n",
       "    <tr>\n",
       "      <th>zwNC-Ow4eIMan2__bS9-rg</th>\n",
       "      <td>1.0</td>\n",
       "      <td>0.516667</td>\n",
       "      <td>0.416667</td>\n",
       "      <td>0.150000</td>\n",
       "      <td>0.000000</td>\n",
       "      <td>0.283333</td>\n",
       "      <td>0.0</td>\n",
       "      <td>0.0</td>\n",
       "      <td>1.0</td>\n",
       "      <td>0.0</td>\n",
       "      <td>0.0</td>\n",
       "      <td>0.0</td>\n",
       "      <td>0.0</td>\n",
       "      <td>0.0</td>\n",
       "    </tr>\n",
       "  </tbody>\n",
       "</table>\n",
       "<p>3778 rows × 14 columns</p>\n",
       "</div>"
      ],
      "text/plain": [
       "                        popular    gender   weekend     vegan       kid  \\\n",
       "business_id                                                               \n",
       "--9e1ONYQuAa-CB_Rrw7Tw      1.0  0.383562  0.486301  0.198630  0.006849   \n",
       "-1m9o3vGRA8IBPNvNqKLmA      0.0  0.289474  0.473684  0.368421  0.026316   \n",
       "-3zffZUHoY8bQjGfPSoBKQ      1.0  0.444444  0.444444  0.185185  0.037037   \n",
       "-8R_-EkGpUhBk55K9Dd4mg      0.0  0.482759  0.310345  0.068966  0.000000   \n",
       "-9YyInW1wapzdNZrhQJ9dg      0.0  0.305556  0.472222  0.138889  0.027778   \n",
       "...                         ...       ...       ...       ...       ...   \n",
       "zp-K5s3pGTWuuaVBWo6WZA      0.0  0.700000  0.500000  0.000000  0.000000   \n",
       "zpoZ6WyQUYff18-z4ZU1mA      1.0  0.400000  0.427586  0.158621  0.000000   \n",
       "zsQk990PubOHjr1YcLkQFw      0.0  0.458333  0.291667  0.125000  0.000000   \n",
       "zuwba6QEBIDZT0tJZmNhdQ      0.0  0.437500  0.437500  0.000000  0.000000   \n",
       "zwNC-Ow4eIMan2__bS9-rg      1.0  0.516667  0.416667  0.150000  0.000000   \n",
       "\n",
       "                           group  Ameri  Europ  SouAM  Asian  Indian  Chinese  \\\n",
       "business_id                                                                     \n",
       "--9e1ONYQuAa-CB_Rrw7Tw  0.698630    0.0    0.0    1.0    0.0     0.0      0.0   \n",
       "-1m9o3vGRA8IBPNvNqKLmA  0.684211    1.0    0.0    0.0    0.0     0.0      0.0   \n",
       "-3zffZUHoY8bQjGfPSoBKQ  0.722222    1.0    0.0    0.0    0.0     0.0      0.0   \n",
       "-8R_-EkGpUhBk55K9Dd4mg  0.275862    0.0    0.0    0.0    1.0     0.0      0.0   \n",
       "-9YyInW1wapzdNZrhQJ9dg  0.583333    0.0    0.0    0.0    0.0     0.0      0.0   \n",
       "...                          ...    ...    ...    ...    ...     ...      ...   \n",
       "zp-K5s3pGTWuuaVBWo6WZA  0.500000    1.0    0.0    0.0    0.0     0.0      0.0   \n",
       "zpoZ6WyQUYff18-z4ZU1mA  0.303448    1.0    0.0    0.0    0.0     0.0      0.0   \n",
       "zsQk990PubOHjr1YcLkQFw  0.250000    1.0    0.0    0.0    1.0     0.0      0.0   \n",
       "zuwba6QEBIDZT0tJZmNhdQ  0.500000    0.0    0.0    0.0    1.0     0.0      0.0   \n",
       "zwNC-Ow4eIMan2__bS9-rg  0.283333    0.0    0.0    1.0    0.0     0.0      0.0   \n",
       "\n",
       "                        MidEas  Drinks  \n",
       "business_id                             \n",
       "--9e1ONYQuAa-CB_Rrw7Tw     0.0     0.0  \n",
       "-1m9o3vGRA8IBPNvNqKLmA     0.0     1.0  \n",
       "-3zffZUHoY8bQjGfPSoBKQ     0.0     1.0  \n",
       "-8R_-EkGpUhBk55K9Dd4mg     0.0     0.0  \n",
       "-9YyInW1wapzdNZrhQJ9dg     0.0     0.0  \n",
       "...                        ...     ...  \n",
       "zp-K5s3pGTWuuaVBWo6WZA     0.0     0.0  \n",
       "zpoZ6WyQUYff18-z4ZU1mA     0.0     0.0  \n",
       "zsQk990PubOHjr1YcLkQFw     0.0     0.0  \n",
       "zuwba6QEBIDZT0tJZmNhdQ     0.0     1.0  \n",
       "zwNC-Ow4eIMan2__bS9-rg     0.0     0.0  \n",
       "\n",
       "[3778 rows x 14 columns]"
      ]
     },
     "execution_count": 600,
     "metadata": {},
     "output_type": "execute_result"
    }
   ],
   "source": [
    "XX"
   ]
  },
  {
   "cell_type": "markdown",
   "metadata": {},
   "source": [
    "##### Linear Regression"
   ]
  },
  {
   "cell_type": "code",
   "execution_count": 601,
   "metadata": {},
   "outputs": [],
   "source": [
    "lin = LinearRegression().fit(X_train, y_train)"
   ]
  },
  {
   "cell_type": "code",
   "execution_count": 602,
   "metadata": {},
   "outputs": [
    {
     "name": "stdout",
     "output_type": "stream",
     "text": [
      "Mean: 211.23\n",
      "Standard deviation: 9.14\n"
     ]
    }
   ],
   "source": [
    "linkf = cross_val_score(lin, X_train, y_train, cv=5, \n",
    "                      scoring=\"neg_mean_squared_error\")\n",
    "print(\"Mean:\",round(-linkf.mean(),2))\n",
    "print(\"Standard deviation:\",round(linkf.std(),2))"
   ]
  },
  {
   "cell_type": "code",
   "execution_count": 604,
   "metadata": {},
   "outputs": [
    {
     "name": "stdout",
     "output_type": "stream",
     "text": [
      "Mean: 216.61\n",
      "Standard deviation: 6.18\n"
     ]
    }
   ],
   "source": [
    "# What happends if we use the full data: much higher s.d\n",
    "linfull = LinearRegression().fit(XX, y)\n",
    "linkffull = cross_val_score(linfull, XX, y, cv = 5, \n",
    "                      scoring = \"neg_mean_squared_error\")\n",
    "print(\"Mean:\",round(-linkffull.mean(),2))\n",
    "print(\"Standard deviation:\",round(linkffull.std(),2))"
   ]
  },
  {
   "cell_type": "code",
   "execution_count": 605,
   "metadata": {},
   "outputs": [
    {
     "data": {
      "text/plain": [
       "array([  8.4242329 ,   2.15133536,  -3.5276035 ,  11.01617932,\n",
       "       -21.05550855,   8.04501439,  -6.3856036 ,   1.34823088,\n",
       "         1.03609374,   3.25140727,   0.67469591,  -1.73286128,\n",
       "         4.90343466,   3.07366556])"
      ]
     },
     "execution_count": 605,
     "metadata": {},
     "output_type": "execute_result"
    }
   ],
   "source": [
    "lin.coef_"
   ]
  },
  {
   "cell_type": "code",
   "execution_count": 606,
   "metadata": {},
   "outputs": [
    {
     "data": {
      "text/plain": [
       "40.23633622491625"
      ]
     },
     "execution_count": 606,
     "metadata": {},
     "output_type": "execute_result"
    }
   ],
   "source": [
    "lin.intercept_"
   ]
  },
  {
   "cell_type": "code",
   "execution_count": 607,
   "metadata": {},
   "outputs": [
    {
     "name": "stdout",
     "output_type": "stream",
     "text": [
      "                            OLS Regression Results                            \n",
      "==============================================================================\n",
      "Dep. Variable:                      y   R-squared:                       0.178\n",
      "Model:                            OLS   Adj. R-squared:                  0.174\n",
      "Method:                 Least Squares   F-statistic:                     43.53\n",
      "Date:                Fri, 20 Mar 2020   Prob (F-statistic):          5.58e-109\n",
      "Time:                        23:49:35   Log-Likelihood:                -11582.\n",
      "No. Observations:                2833   AIC:                         2.319e+04\n",
      "Df Residuals:                    2818   BIC:                         2.328e+04\n",
      "Df Model:                          14                                         \n",
      "Covariance Type:            nonrobust                                         \n",
      "==============================================================================\n",
      "                 coef    std err          t      P>|t|      [0.025      0.975]\n",
      "------------------------------------------------------------------------------\n",
      "const         40.2363      1.205     33.389      0.000      37.873      42.599\n",
      "x1             8.4242      0.884      9.528      0.000       6.691      10.158\n",
      "x2             2.1513      1.503      1.431      0.152      -0.796       5.098\n",
      "x3            -3.5276      1.442     -2.447      0.014      -6.354      -0.701\n",
      "x4            11.0162      2.317      4.754      0.000       6.473      15.560\n",
      "x5           -21.0555      3.987     -5.281      0.000     -28.873     -13.238\n",
      "x6             8.0450      1.334      6.031      0.000       5.429      10.661\n",
      "x7            -6.3856      0.644     -9.920      0.000      -7.648      -5.123\n",
      "x8             1.3482      1.006      1.341      0.180      -0.624       3.320\n",
      "x9             1.0361      0.823      1.259      0.208      -0.578       2.650\n",
      "x10            3.2514      0.828      3.929      0.000       1.629       4.874\n",
      "x11            0.6747      3.304      0.204      0.838      -5.804       7.153\n",
      "x12           -1.7329      1.038     -1.670      0.095      -3.768       0.302\n",
      "x13            4.9034      1.750      2.802      0.005       1.472       8.335\n",
      "x14            3.0737      0.663      4.634      0.000       1.773       4.374\n",
      "==============================================================================\n",
      "Omnibus:                       37.527   Durbin-Watson:                   1.973\n",
      "Prob(Omnibus):                  0.000   Jarque-Bera (JB):               38.784\n",
      "Skew:                          -0.275   Prob(JB):                     3.79e-09\n",
      "Kurtosis:                       3.158   Cond. No.                         21.3\n",
      "==============================================================================\n",
      "\n",
      "Warnings:\n",
      "[1] Standard Errors assume that the covariance matrix of the errors is correctly specified.\n"
     ]
    }
   ],
   "source": [
    "import statsmodels.api as sm\n",
    "X2 = sm.add_constant(X_train)\n",
    "model = sm.OLS(y_train, X2).fit()\n",
    "#predictions = model.predict(X) \n",
    "print_model = model.summary()\n",
    "print(print_model)"
   ]
  },
  {
   "cell_type": "markdown",
   "metadata": {},
   "source": [
    "##### Lasso Regression\n"
   ]
  },
  {
   "cell_type": "code",
   "execution_count": 608,
   "metadata": {},
   "outputs": [],
   "source": [
    "las = Lasso().fit(X_train, y_train)"
   ]
  },
  {
   "cell_type": "code",
   "execution_count": 609,
   "metadata": {},
   "outputs": [
    {
     "name": "stdout",
     "output_type": "stream",
     "text": [
      "GridBestEstimatorLasso= Lasso(alpha=0.0, copy_X=True, fit_intercept=True, max_iter=1000,\n",
      "   normalize=False, positive=False, precompute=False, random_state=None,\n",
      "   selection='cyclic', tol=0.0001, warm_start=False)\n",
      "GridBestParamsLasso= {'alpha': 0.0}\n",
      "GridBestScoreLasso= 211.22414704575408\n"
     ]
    }
   ],
   "source": [
    "alpha_grid = {\"alpha\": np.linspace(0,20,50)}\n",
    "grid_search_las = GridSearchCV(las, param_grid = alpha_grid, n_jobs = 4, cv = 5,\n",
    "                       scoring='neg_mean_squared_error').fit(X_train,y_train)\n",
    "\n",
    "print('GridBestEstimatorLasso=', grid_search_las.best_estimator_)\n",
    "print('GridBestParamsLasso=', grid_search_las.best_params_)\n",
    "print('GridBestScoreLasso=', -grid_search_las.best_score_)"
   ]
  },
  {
   "cell_type": "code",
   "execution_count": 610,
   "metadata": {},
   "outputs": [
    {
     "name": "stdout",
     "output_type": "stream",
     "text": [
      "Mean: 211.23\n",
      "Standard deviation: 9.14\n"
     ]
    }
   ],
   "source": [
    "las = Lasso(alpha = grid_search_las.best_params_['alpha']).fit(X_train, y_train)\n",
    "laskf = cross_val_score(las, X_train, y_train, cv = 5, \n",
    "                      scoring=\"neg_mean_squared_error\")\n",
    "print(\"Mean:\", round(-laskf.mean(),2))\n",
    "print(\"Standard deviation:\",round(laskf.std(),2))"
   ]
  },
  {
   "cell_type": "code",
   "execution_count": 611,
   "metadata": {},
   "outputs": [
    {
     "data": {
      "text/plain": [
       "array([  8.4242329 ,   2.15133536,  -3.5276035 ,  11.01617932,\n",
       "       -21.05550855,   8.04501439,  -6.3856036 ,   1.34823088,\n",
       "         1.03609374,   3.25140727,   0.67469591,  -1.73286128,\n",
       "         4.90343466,   3.07366556])"
      ]
     },
     "execution_count": 611,
     "metadata": {},
     "output_type": "execute_result"
    }
   ],
   "source": [
    "las.coef_"
   ]
  },
  {
   "cell_type": "markdown",
   "metadata": {},
   "source": [
    "##### Ridge Regression"
   ]
  },
  {
   "cell_type": "code",
   "execution_count": 612,
   "metadata": {},
   "outputs": [],
   "source": [
    "rid = Ridge(alpha = 1).fit(X_train, y_train)"
   ]
  },
  {
   "cell_type": "code",
   "execution_count": 613,
   "metadata": {},
   "outputs": [
    {
     "name": "stdout",
     "output_type": "stream",
     "text": [
      "GridBestEstimatorRidge= Ridge(alpha=2.5510204081632653, copy_X=True, fit_intercept=True,\n",
      "   max_iter=None, normalize=False, random_state=None, solver='auto',\n",
      "   tol=0.001)\n",
      "GridBestParamsRidge {'alpha': 2.5510204081632653}\n",
      "GridBestScoreRidge= 211.12848756133656\n"
     ]
    }
   ],
   "source": [
    "alpha_grid = {\"alpha\": np.linspace(1,20,50)}\n",
    "grid_search_rid = GridSearchCV(rid, param_grid = alpha_grid, n_jobs = 4, cv = 5,\n",
    "                       scoring='neg_mean_squared_error').fit(X_train,y_train)\n",
    "print('GridBestEstimatorRidge=', grid_search_rid.best_estimator_)\n",
    "print('GridBestParamsRidge', grid_search_rid.best_params_)\n",
    "print('GridBestScoreRidge=', -grid_search_rid.best_score_)"
   ]
  },
  {
   "cell_type": "code",
   "execution_count": 614,
   "metadata": {},
   "outputs": [
    {
     "name": "stdout",
     "output_type": "stream",
     "text": [
      "Mean: 211.13\n",
      "Standard deviation: 8.97\n"
     ]
    }
   ],
   "source": [
    "rid = Ridge(alpha = grid_search_rid.best_params_['alpha']).fit(X_train, y_train)\n",
    "ridkf = cross_val_score(rid, X_train, y_train, cv = 5, scoring = \"neg_mean_squared_error\")\n",
    "print(\"Mean:\", round(-ridkf.mean(),2))\n",
    "print(\"Standard deviation:\", round(ridkf.std(),2))"
   ]
  },
  {
   "cell_type": "markdown",
   "metadata": {},
   "source": [
    "##### Bayesian Ridge Regression"
   ]
  },
  {
   "cell_type": "markdown",
   "metadata": {},
   "source": [
    "https://scikit-learn.org/stable/auto_examples/linear_model/plot_bayesian_ridge.html#sphx-glr-auto-examples-linear-model-plot-bayesian-ridge-py"
   ]
  },
  {
   "cell_type": "markdown",
   "metadata": {},
   "source": [
    "http://citeseerx.ist.psu.edu/viewdoc/download?doi=10.1.1.27.9072&rep=rep1&type=pdf"
   ]
  },
  {
   "cell_type": "code",
   "execution_count": 615,
   "metadata": {},
   "outputs": [
    {
     "name": "stdout",
     "output_type": "stream",
     "text": [
      "Mean: 211.3\n",
      "Standard deviation: 8.83\n"
     ]
    }
   ],
   "source": [
    "bay = BayesianRidge().fit(X_train, y_train)\n",
    "baykf = cross_val_score(bay, X_train, y_train, cv = 5, \n",
    "                      scoring=\"neg_mean_squared_error\")\n",
    "print(\"Mean:\", round(-baykf.mean(),2))\n",
    "print(\"Standard deviation:\", round(baykf.std(),2))"
   ]
  },
  {
   "cell_type": "markdown",
   "metadata": {},
   "source": [
    "##### Elastic Net"
   ]
  },
  {
   "cell_type": "code",
   "execution_count": 616,
   "metadata": {},
   "outputs": [
    {
     "name": "stdout",
     "output_type": "stream",
     "text": [
      "GridBestEstimator= ElasticNet(alpha=0.0, copy_X=True, fit_intercept=True,\n",
      "      l1_ratio=0.6666666666666666, max_iter=1000, normalize=False,\n",
      "      positive=False, precompute=False, random_state=None,\n",
      "      selection='cyclic', tol=0.0001, warm_start=False)\n",
      "GridBestParams= {'l1_ratio': 0.6666666666666666, 'alpha': 0.0}\n",
      "GridBestScore= 211.22414704575408\n",
      "Mean: 211.23\n",
      "Standard deviation: 9.14\n"
     ]
    }
   ],
   "source": [
    "ela = ElasticNet(alpha = 1,l1_ratio = 0.5).fit(X_train, y_train)\n",
    "\n",
    "alpha_ratio_grid = {\"alpha\": np.linspace(0,1,10),\n",
    "                  \"l1_ratio\": np.linspace(0,1,10)}\n",
    "\n",
    "grid_search_ela = RandomizedSearchCV(ela, param_distributions = alpha_ratio_grid, \n",
    "                       n_jobs = 4, cv = 5, random_state = 25,\n",
    "                       scoring='neg_mean_squared_error').fit(X_train,y_train)\n",
    "\n",
    "print('GridBestEstimator=', grid_search_ela.best_estimator_)\n",
    "print('GridBestParams=', grid_search_ela.best_params_)\n",
    "print('GridBestScore=', -grid_search_ela.best_score_)\n",
    "\n",
    "ela = ElasticNet(alpha = grid_search_ela.best_params_['alpha'],\n",
    "                l1_ratio = grid_search_ela.best_params_['l1_ratio']).fit(X_train, y_train)\n",
    "\n",
    "elakf = cross_val_score(ela, X_train, y_train, cv=5, scoring=\"neg_mean_squared_error\")\n",
    "print(\"Mean:\",round(-elakf.mean(),2))\n",
    "print(\"Standard deviation:\",round(elakf.std(),2))"
   ]
  },
  {
   "cell_type": "markdown",
   "metadata": {},
   "source": [
    "##### Decision Tree"
   ]
  },
  {
   "cell_type": "code",
   "execution_count": 617,
   "metadata": {},
   "outputs": [],
   "source": [
    "tree = DecisionTreeRegressor().fit(X_train, y_train)"
   ]
  },
  {
   "cell_type": "code",
   "execution_count": 618,
   "metadata": {},
   "outputs": [
    {
     "name": "stdout",
     "output_type": "stream",
     "text": [
      "RandBestEstimatorTree= DecisionTreeRegressor(criterion='mse', max_depth=49, max_features=None,\n",
      "           max_leaf_nodes=None, min_impurity_decrease=0.0,\n",
      "           min_impurity_split=None, min_samples_leaf=75,\n",
      "           min_samples_split=18, min_weight_fraction_leaf=0.0,\n",
      "           presort=False, random_state=None, splitter='best')\n",
      "RandBestParamsTree= {'max_depth': 49, 'min_samples_leaf': 75, 'min_samples_split': 18}\n",
      "RandBestScoreTree= 208.12134954903203\n"
     ]
    }
   ],
   "source": [
    "param_dist_tree = {'max_depth': sp_randint(2, 100),\n",
    "               'min_samples_split': sp_randint(2, 100),\n",
    "               'min_samples_leaf': sp_randint(2, 100)}\n",
    "\n",
    "random_search_tree = RandomizedSearchCV(tree, param_distributions = param_dist_tree,\n",
    "                       n_jobs = 4, cv = 5, random_state = 25,\n",
    "                       scoring='neg_mean_squared_error').fit(X_train, y_train)\n",
    "\n",
    "print('RandBestEstimatorTree=', random_search_tree.best_estimator_)\n",
    "print('RandBestParamsTree=', random_search_tree.best_params_)\n",
    "print('RandBestScoreTree=', -random_search_tree.best_score_)"
   ]
  },
  {
   "cell_type": "code",
   "execution_count": 619,
   "metadata": {},
   "outputs": [],
   "source": [
    "tree = DecisionTreeRegressor(max_depth = random_search_tree.best_params_['max_depth'],\n",
    "                             min_samples_leaf = random_search_tree.best_params_['min_samples_leaf'],\n",
    "                             min_samples_split = random_search_tree.best_params_['min_samples_split']).fit(X_train, y_train)"
   ]
  },
  {
   "cell_type": "code",
   "execution_count": 620,
   "metadata": {},
   "outputs": [
    {
     "name": "stdout",
     "output_type": "stream",
     "text": [
      "Mean: 208.12\n",
      "Standard deviation: 15.49\n"
     ]
    }
   ],
   "source": [
    "treekf = cross_val_score(tree, X_train, y_train, cv=5, \n",
    "                      scoring=\"neg_mean_squared_error\")\n",
    "print(\"Mean:\",round(-treekf.mean(),2))\n",
    "print(\"Standard deviation:\", round(treekf.std(),2))"
   ]
  },
  {
   "cell_type": "markdown",
   "metadata": {},
   "source": [
    "##### Random Forest"
   ]
  },
  {
   "cell_type": "code",
   "execution_count": 621,
   "metadata": {},
   "outputs": [],
   "source": [
    "rfr = RandomForestRegressor().fit(X_train, y_train)"
   ]
  },
  {
   "cell_type": "code",
   "execution_count": 622,
   "metadata": {},
   "outputs": [
    {
     "name": "stdout",
     "output_type": "stream",
     "text": [
      "RandBestEstimatorrfr= RandomForestRegressor(bootstrap=True, criterion='mse', max_depth=8,\n",
      "           max_features=3, max_leaf_nodes=None, min_impurity_decrease=0.0,\n",
      "           min_impurity_split=None, min_samples_leaf=12,\n",
      "           min_samples_split=19, min_weight_fraction_leaf=0.0,\n",
      "           n_estimators=24, n_jobs=None, oob_score=False,\n",
      "           random_state=None, verbose=0, warm_start=False)\n",
      "RandBestParamsrfr= {'max_depth': 8, 'max_features': 3, 'min_samples_leaf': 12, 'min_samples_split': 19, 'n_estimators': 24}\n",
      "RandBestScorerfr= 200.1814528379231\n"
     ]
    }
   ],
   "source": [
    "param_dist_rfr = {'n_estimators':sp_randint(10, 100),\n",
    "               'max_depth': sp_randint(5, 10),\n",
    "               'min_samples_split': sp_randint(2, 20),\n",
    "               'min_samples_leaf': sp_randint(2, 20),\n",
    "               'max_features':sp_randint(1,5)}\n",
    "\n",
    "random_search_rfr = RandomizedSearchCV(rfr, param_distributions = param_dist_rfr,\n",
    "                        n_jobs = 4, cv = 5, random_state = 25,\n",
    "                       scoring = 'neg_mean_squared_error').fit(X_train, y_train)\n",
    "\n",
    "print('RandBestEstimatorrfr=', random_search_rfr.best_estimator_)\n",
    "print('RandBestParamsrfr=', random_search_rfr.best_params_)\n",
    "print('RandBestScorerfr=', -random_search_rfr.best_score_)"
   ]
  },
  {
   "cell_type": "code",
   "execution_count": 623,
   "metadata": {},
   "outputs": [],
   "source": [
    "bprfr = random_search_rfr.best_params_\n",
    "rfr = RandomForestRegressor(max_depth = bprfr['max_depth'],\n",
    "                             max_features = bprfr['max_features'],\n",
    "                             min_samples_leaf = bprfr['min_samples_leaf'],\n",
    "                             min_samples_split = bprfr['min_samples_split']).fit(X_train, y_train)"
   ]
  },
  {
   "cell_type": "code",
   "execution_count": 624,
   "metadata": {},
   "outputs": [
    {
     "name": "stdout",
     "output_type": "stream",
     "text": [
      "Mean: 201.96\n",
      "Standard deviation: 10.79\n"
     ]
    }
   ],
   "source": [
    "rfrkf = cross_val_score(rfr, X_train, y_train, cv=5, \n",
    "                      scoring=\"neg_mean_squared_error\")\n",
    "print(\"Mean:\",round(-rfrkf.mean(),2))\n",
    "print(\"Standard deviation:\",round(rfrkf.std(),2))"
   ]
  },
  {
   "cell_type": "markdown",
   "metadata": {},
   "source": [
    "##### Gradient Boosting"
   ]
  },
  {
   "cell_type": "code",
   "execution_count": 625,
   "metadata": {},
   "outputs": [],
   "source": [
    "gra = GradientBoostingRegressor(random_state=10, n_estimators=50,).fit(X_train,y_train) "
   ]
  },
  {
   "cell_type": "code",
   "execution_count": 626,
   "metadata": {},
   "outputs": [
    {
     "name": "stdout",
     "output_type": "stream",
     "text": [
      "RandBestEstimatorxgb= GradientBoostingRegressor(alpha=0.43333333333333335, criterion='friedman_mse',\n",
      "             init=None, learning_rate=0.46666666666666673, loss='ls',\n",
      "             max_depth=2, max_features=None, max_leaf_nodes=None,\n",
      "             min_impurity_decrease=0.0, min_impurity_split=None,\n",
      "             min_samples_leaf=1, min_samples_split=2,\n",
      "             min_weight_fraction_leaf=0.0, n_estimators=23,\n",
      "             n_iter_no_change=None, presort='auto', random_state=None,\n",
      "             subsample=1.0, tol=0.0001, validation_fraction=0.1, verbose=0,\n",
      "             warm_start=False)\n",
      "RandBestParamsxgb= {'alpha': 0.43333333333333335, 'learning_rate': 0.46666666666666673, 'max_depth': 2, 'n_estimators': 23}\n",
      "RandBestScorexgb= 201.41925302500016\n"
     ]
    }
   ],
   "source": [
    "param_dist_gra = {'max_depth': sp_randint(1, 5),\n",
    "                  'n_estimators': sp_randint(20,100),\n",
    "                   'learning_rate': np.linspace(0.2, 0.8, 10),\n",
    "                   'alpha': np.linspace(0.2, 0.9, 10) }\n",
    "\n",
    "random_search_gra = RandomizedSearchCV(estimator = GradientBoostingRegressor(),\n",
    "                    param_distributions = param_dist_gra, n_jobs = 4,iid=False, \n",
    "                    cv=5, random_state=25, scoring='neg_mean_squared_error').fit(X_train, y_train)\n",
    "\n",
    "print('RandBestEstimatorxgb=', random_search_gra.best_estimator_)\n",
    "print('RandBestParamsxgb=', random_search_gra.best_params_)\n",
    "print('RandBestScorexgb=', -random_search_gra.best_score_)"
   ]
  },
  {
   "cell_type": "code",
   "execution_count": 627,
   "metadata": {},
   "outputs": [],
   "source": [
    "gra = GradientBoostingRegressor(alpha = random_search_gra.best_params_['alpha'],\n",
    "                    learning_rate = random_search_gra.best_params_['learning_rate'],\n",
    "                    max_depth = random_search_gra.best_params_['max_depth'],\n",
    "                    n_estimators = random_search_gra.best_params_['n_estimators']).fit(X_train, y_train)"
   ]
  },
  {
   "cell_type": "code",
   "execution_count": 628,
   "metadata": {},
   "outputs": [
    {
     "name": "stdout",
     "output_type": "stream",
     "text": [
      "Mean: 201.48\n",
      "Standard deviation: 11.16\n"
     ]
    }
   ],
   "source": [
    "grakf = cross_val_score(gra, X_train, y_train, cv = 5, \n",
    "                      scoring=\"neg_mean_squared_error\")\n",
    "print(\"Mean:\", round(-grakf.mean(),2))\n",
    "print(\"Standard deviation:\", round(grakf.std(),2))"
   ]
  },
  {
   "cell_type": "markdown",
   "metadata": {},
   "source": [
    "##### Multi-layer Perceptron"
   ]
  },
  {
   "cell_type": "code",
   "execution_count": 629,
   "metadata": {},
   "outputs": [],
   "source": [
    "from sklearn.neural_network import MLPRegressor\n",
    "mlp= MLPRegressor(activation='tanh', solver='lbfgs', alpha=0.1).fit(X_train, y_train)"
   ]
  },
  {
   "cell_type": "code",
   "execution_count": 630,
   "metadata": {},
   "outputs": [
    {
     "name": "stdout",
     "output_type": "stream",
     "text": [
      "RandBestEstimator5= MLPRegressor(activation='logistic', alpha=5.954451165110356,\n",
      "       batch_size='auto', beta_1=0.9, beta_2=0.999, early_stopping=False,\n",
      "       epsilon=1e-08, hidden_layer_sizes=11, learning_rate='constant',\n",
      "       learning_rate_init=0.001, max_iter=200, momentum=0.9,\n",
      "       n_iter_no_change=10, nesterovs_momentum=True, power_t=0.5,\n",
      "       random_state=None, shuffle=True, solver='lbfgs', tol=0.0001,\n",
      "       validation_fraction=0.1, verbose=False, warm_start=False)\n",
      "RandBestParams5= {'activation': 'logistic', 'alpha': 5.954451165110356, 'hidden_layer_sizes': 11}\n",
      "RandBestScore5= 207.06814386864818\n"
     ]
    }
   ],
   "source": [
    "param_dist_mlp = {'hidden_layer_sizes':sp_randint(10, 100),\n",
    "               'activation':[\"logistic\", \"relu\"],\n",
    "               'alpha': sp_uniform(0.1, 10.0)}\n",
    "\n",
    "random_search_mlp = RandomizedSearchCV(mlp, param_distributions = param_dist_mlp,\n",
    "                       n_jobs = 4, cv = 5, random_state = 25,\n",
    "                       scoring='neg_mean_squared_error').fit(X_train, y_train)\n",
    "\n",
    "print('RandBestEstimator5=', random_search_mlp.best_estimator_)\n",
    "print('RandBestParams5=', random_search_mlp.best_params_)\n",
    "print('RandBestScore5=', -random_search_mlp.best_score_)"
   ]
  },
  {
   "cell_type": "code",
   "execution_count": 631,
   "metadata": {},
   "outputs": [],
   "source": [
    "mlp = MLPRegressor(hidden_layer_sizes = random_search_mlp.best_params_['hidden_layer_sizes'],\n",
    "                           activation = random_search_mlp.best_params_['activation'],\n",
    "                                alpha = random_search_mlp.best_params_['alpha']).fit(X_train, y_train)"
   ]
  },
  {
   "cell_type": "code",
   "execution_count": 632,
   "metadata": {},
   "outputs": [
    {
     "name": "stdout",
     "output_type": "stream",
     "text": [
      "Mean: 500.09\n",
      "Standard deviation: 22.16\n"
     ]
    }
   ],
   "source": [
    "mlpkf = cross_val_score(mlp, X_train, y_train, cv=5, \n",
    "                      scoring=\"neg_mean_squared_error\")\n",
    "print(\"Mean:\", round(-mlpkf.mean(),2))\n",
    "print(\"Standard deviation:\", round(mlpkf.std(),2))"
   ]
  },
  {
   "cell_type": "markdown",
   "metadata": {},
   "source": [
    "#### Model Comparsion"
   ]
  },
  {
   "cell_type": "markdown",
   "metadata": {},
   "source": [
    "#### Note:\n",
    "Models that we didn't report as they produced higher MSE:\n",
    "KNN, XGboost, Adaboost, SVM"
   ]
  },
  {
   "cell_type": "code",
   "execution_count": 633,
   "metadata": {},
   "outputs": [
    {
     "data": {
      "text/html": [
       "<div>\n",
       "<style scoped>\n",
       "    .dataframe tbody tr th:only-of-type {\n",
       "        vertical-align: middle;\n",
       "    }\n",
       "\n",
       "    .dataframe tbody tr th {\n",
       "        vertical-align: top;\n",
       "    }\n",
       "\n",
       "    .dataframe thead th {\n",
       "        text-align: right;\n",
       "    }\n",
       "</style>\n",
       "<table border=\"1\" class=\"dataframe\">\n",
       "  <thead>\n",
       "    <tr style=\"text-align: right;\">\n",
       "      <th></th>\n",
       "      <th>CV MSE</th>\n",
       "      <th>CV Std</th>\n",
       "      <th>Name</th>\n",
       "      <th>Class</th>\n",
       "    </tr>\n",
       "  </thead>\n",
       "  <tbody>\n",
       "    <tr>\n",
       "      <th>0</th>\n",
       "      <td>208.124713</td>\n",
       "      <td>15.485800</td>\n",
       "      <td>Decision Tree</td>\n",
       "      <td>Tree</td>\n",
       "    </tr>\n",
       "    <tr>\n",
       "      <th>1</th>\n",
       "      <td>201.959606</td>\n",
       "      <td>10.786036</td>\n",
       "      <td>Random Forest</td>\n",
       "      <td>Tree</td>\n",
       "    </tr>\n",
       "    <tr>\n",
       "      <th>2</th>\n",
       "      <td>201.480665</td>\n",
       "      <td>11.160468</td>\n",
       "      <td>Gradient Boosting</td>\n",
       "      <td>Boosting</td>\n",
       "    </tr>\n",
       "    <tr>\n",
       "      <th>3</th>\n",
       "      <td>211.228956</td>\n",
       "      <td>9.140622</td>\n",
       "      <td>Lasso Regression</td>\n",
       "      <td>Linear</td>\n",
       "    </tr>\n",
       "    <tr>\n",
       "      <th>4</th>\n",
       "      <td>211.133601</td>\n",
       "      <td>8.966146</td>\n",
       "      <td>Ridge Regression</td>\n",
       "      <td>Linear</td>\n",
       "    </tr>\n",
       "    <tr>\n",
       "      <th>5</th>\n",
       "      <td>211.302140</td>\n",
       "      <td>8.834460</td>\n",
       "      <td>Bayesian Ridge</td>\n",
       "      <td>Bayeisan</td>\n",
       "    </tr>\n",
       "    <tr>\n",
       "      <th>6</th>\n",
       "      <td>211.228956</td>\n",
       "      <td>9.140622</td>\n",
       "      <td>Elastic Net</td>\n",
       "      <td>Linear</td>\n",
       "    </tr>\n",
       "    <tr>\n",
       "      <th>7</th>\n",
       "      <td>500.091499</td>\n",
       "      <td>22.155300</td>\n",
       "      <td>Multi-layer Perceptrons</td>\n",
       "      <td>Neural Nets</td>\n",
       "    </tr>\n",
       "  </tbody>\n",
       "</table>\n",
       "</div>"
      ],
      "text/plain": [
       "       CV MSE     CV Std                     Name        Class\n",
       "0  208.124713  15.485800            Decision Tree         Tree\n",
       "1  201.959606  10.786036            Random Forest         Tree\n",
       "2  201.480665  11.160468        Gradient Boosting     Boosting\n",
       "3  211.228956   9.140622         Lasso Regression       Linear\n",
       "4  211.133601   8.966146         Ridge Regression       Linear\n",
       "5  211.302140   8.834460           Bayesian Ridge     Bayeisan\n",
       "6  211.228956   9.140622              Elastic Net       Linear\n",
       "7  500.091499  22.155300  Multi-layer Perceptrons  Neural Nets"
      ]
     },
     "execution_count": 633,
     "metadata": {},
     "output_type": "execute_result"
    }
   ],
   "source": [
    "results = pd.DataFrame({'CV MSE':[-treekf.mean(), -rfrkf.mean(), -grakf.mean(),\n",
    "                                -laskf.mean(), -ridkf.mean(), -baykf.mean(), -elakf.mean(), -mlpkf.mean()],\n",
    "                      \n",
    "                      'CV Std':[treekf.std(), rfrkf.std(), grakf.std(), \n",
    "                                laskf.std(), ridkf.std(), baykf.std(), elakf.std(), mlpkf.std()], \n",
    "                      \n",
    "                     'Name':[\"Decision Tree\",\"Random Forest\",\"Gradient Boosting\", \n",
    "                             \"Lasso Regression\", \"Ridge Regression\", \"Bayesian Ridge\", \n",
    "                            \"Elastic Net\",  \"Multi-layer Perceptrons\"],\n",
    "                     \n",
    "                     'Class':['Tree', 'Tree', 'Boosting', 'Linear', 'Linear', \n",
    "                              'Bayeisan', 'Linear', 'Neural Nets'],})\n",
    "                     \n",
    "results"
   ]
  },
  {
   "cell_type": "code",
   "execution_count": 634,
   "metadata": {},
   "outputs": [
    {
     "data": {
      "text/plain": [
       "<Figure size 432x432 with 0 Axes>"
      ]
     },
     "metadata": {},
     "output_type": "display_data"
    },
    {
     "data": {
      "image/png": "[encoded data removed]",
      "text/plain": [
       "<Figure size 432x288 with 1 Axes>"
      ]
     },
     "metadata": {},
     "output_type": "display_data"
    }
   ],
   "source": [
    "#plt.rcdefaults()\n",
    "plt.figure(figsize = (6,6))\n",
    "\n",
    "fig, ax = plt.subplots()\n",
    "\n",
    "ax.barh(results['Name'], results['CV MSE'], xerr = results['CV Std'],\n",
    "        align = 'center', color = 'r', alpha = 0.5, ls = \":\")\n",
    "ax.set_xlim([200, 250])\n",
    "#ax.set_yticklabels(results['Name'])\n",
    "ax.invert_yaxis()  # labels read top-to-bottom\n",
    "ax.set_xlabel('CV MSE')\n",
    "ax.set_title('Model Performance')\n",
    "plt.savefig('Performance.png')"
   ]
  },
  {
   "cell_type": "code",
   "execution_count": 635,
   "metadata": {},
   "outputs": [
    {
     "data": {
      "image/png": "[encoded data removed]",
      "text/plain": [
       "<Figure size 576x576 with 1 Axes>"
      ]
     },
     "metadata": {},
     "output_type": "display_data"
    }
   ],
   "source": [
    "plt.figure(figsize = (8,8))\n",
    "\n",
    "ind = results['Name']\n",
    "mse = results['CV MSE']\n",
    "err = results['CV Std']*1.96/np.sqrt(len(X))\n",
    "\n",
    "plt.errorbar(ind, mse, err, linestyle = 'None', marker = '*',  mfc = 'maroon',\n",
    "         mec='maroon', ms = 10, mew = 1, ls=':')\n",
    "\n",
    "plt.xticks(rotation = 30)\n",
    "plt.ylabel('MSE')\n",
    "plt.title('Model Performance: Confidence Interval of MSE', fontsize = 15)\n",
    "plt.savefig('Model Performance.png')"
   ]
  },
  {
   "cell_type": "markdown",
   "metadata": {},
   "source": [
    "Random forest performs the best!"
   ]
  },
  {
   "cell_type": "markdown",
   "metadata": {},
   "source": [
    "#### Performance on test set"
   ]
  },
  {
   "cell_type": "code",
   "execution_count": 636,
   "metadata": {},
   "outputs": [
    {
     "data": {
      "text/plain": [
       "224.43736257168092"
      ]
     },
     "execution_count": 636,
     "metadata": {},
     "output_type": "execute_result"
    }
   ],
   "source": [
    "mean_squared_error(rfr.predict(X_test), y_test)"
   ]
  },
  {
   "cell_type": "code",
   "execution_count": 637,
   "metadata": {},
   "outputs": [
    {
     "name": "stdout",
     "output_type": "stream",
     "text": [
      "Minutes to run 6.214104314645131\n"
     ]
    }
   ],
   "source": [
    "end = time.time()\n",
    "print(\"Minutes to run\",(end-start)/60)"
   ]
  },
  {
   "cell_type": "markdown",
   "metadata": {},
   "source": [
    "### Predict the scores"
   ]
  },
  {
   "cell_type": "code",
   "execution_count": 638,
   "metadata": {},
   "outputs": [],
   "source": [
    "XX['utility'] = rfr.predict(XX)"
   ]
  },
  {
   "cell_type": "code",
   "execution_count": 639,
   "metadata": {},
   "outputs": [
    {
     "data": {
      "text/plain": [
       "0.5149654872146346"
      ]
     },
     "execution_count": 639,
     "metadata": {},
     "output_type": "execute_result"
    }
   ],
   "source": [
    "np.corrcoef(XX['utility'],y)[0,1]"
   ]
  },
  {
   "cell_type": "code",
   "execution_count": 640,
   "metadata": {},
   "outputs": [
    {
     "data": {
      "text/plain": [
       "(3990, 9)"
      ]
     },
     "execution_count": 640,
     "metadata": {},
     "output_type": "execute_result"
    }
   ],
   "source": [
    "LVR.shape"
   ]
  },
  {
   "cell_type": "code",
   "execution_count": 641,
   "metadata": {},
   "outputs": [
    {
     "data": {
      "text/plain": [
       "(3778, 15)"
      ]
     },
     "execution_count": 641,
     "metadata": {},
     "output_type": "execute_result"
    }
   ],
   "source": [
    "XX.shape"
   ]
  },
  {
   "cell_type": "code",
   "execution_count": 642,
   "metadata": {},
   "outputs": [],
   "source": [
    "restaurants = pd.merge(LVR, XX, how = 'left', left_on = LVR['business_id'], right_on = XX.index)"
   ]
  },
  {
   "cell_type": "markdown",
   "metadata": {},
   "source": [
    "### Export data and model"
   ]
  },
  {
   "cell_type": "code",
   "execution_count": 643,
   "metadata": {},
   "outputs": [
    {
     "data": {
      "text/html": [
       "<div>\n",
       "<style scoped>\n",
       "    .dataframe tbody tr th:only-of-type {\n",
       "        vertical-align: middle;\n",
       "    }\n",
       "\n",
       "    .dataframe tbody tr th {\n",
       "        vertical-align: top;\n",
       "    }\n",
       "\n",
       "    .dataframe thead th {\n",
       "        text-align: right;\n",
       "    }\n",
       "</style>\n",
       "<table border=\"1\" class=\"dataframe\">\n",
       "  <thead>\n",
       "    <tr style=\"text-align: right;\">\n",
       "      <th></th>\n",
       "      <th>popular</th>\n",
       "      <th>gender</th>\n",
       "      <th>weekend</th>\n",
       "      <th>vegan</th>\n",
       "      <th>kid</th>\n",
       "      <th>group</th>\n",
       "      <th>Ameri</th>\n",
       "      <th>Europ</th>\n",
       "      <th>SouAM</th>\n",
       "      <th>Asian</th>\n",
       "      <th>Indian</th>\n",
       "      <th>Chinese</th>\n",
       "      <th>MidEas</th>\n",
       "      <th>Drinks</th>\n",
       "      <th>utility</th>\n",
       "    </tr>\n",
       "    <tr>\n",
       "      <th>business_id</th>\n",
       "      <th></th>\n",
       "      <th></th>\n",
       "      <th></th>\n",
       "      <th></th>\n",
       "      <th></th>\n",
       "      <th></th>\n",
       "      <th></th>\n",
       "      <th></th>\n",
       "      <th></th>\n",
       "      <th></th>\n",
       "      <th></th>\n",
       "      <th></th>\n",
       "      <th></th>\n",
       "      <th></th>\n",
       "      <th></th>\n",
       "    </tr>\n",
       "  </thead>\n",
       "  <tbody>\n",
       "    <tr>\n",
       "      <th>--9e1ONYQuAa-CB_Rrw7Tw</th>\n",
       "      <td>1.0</td>\n",
       "      <td>0.383562</td>\n",
       "      <td>0.486301</td>\n",
       "      <td>0.198630</td>\n",
       "      <td>0.006849</td>\n",
       "      <td>0.698630</td>\n",
       "      <td>0.0</td>\n",
       "      <td>0.0</td>\n",
       "      <td>1.0</td>\n",
       "      <td>0.0</td>\n",
       "      <td>0.0</td>\n",
       "      <td>0.0</td>\n",
       "      <td>0.0</td>\n",
       "      <td>0.0</td>\n",
       "      <td>53.441547</td>\n",
       "    </tr>\n",
       "    <tr>\n",
       "      <th>-1m9o3vGRA8IBPNvNqKLmA</th>\n",
       "      <td>0.0</td>\n",
       "      <td>0.289474</td>\n",
       "      <td>0.473684</td>\n",
       "      <td>0.368421</td>\n",
       "      <td>0.026316</td>\n",
       "      <td>0.684211</td>\n",
       "      <td>1.0</td>\n",
       "      <td>0.0</td>\n",
       "      <td>0.0</td>\n",
       "      <td>0.0</td>\n",
       "      <td>0.0</td>\n",
       "      <td>0.0</td>\n",
       "      <td>0.0</td>\n",
       "      <td>1.0</td>\n",
       "      <td>42.919872</td>\n",
       "    </tr>\n",
       "    <tr>\n",
       "      <th>-3zffZUHoY8bQjGfPSoBKQ</th>\n",
       "      <td>1.0</td>\n",
       "      <td>0.444444</td>\n",
       "      <td>0.444444</td>\n",
       "      <td>0.185185</td>\n",
       "      <td>0.037037</td>\n",
       "      <td>0.722222</td>\n",
       "      <td>1.0</td>\n",
       "      <td>0.0</td>\n",
       "      <td>0.0</td>\n",
       "      <td>0.0</td>\n",
       "      <td>0.0</td>\n",
       "      <td>0.0</td>\n",
       "      <td>0.0</td>\n",
       "      <td>1.0</td>\n",
       "      <td>50.631174</td>\n",
       "    </tr>\n",
       "    <tr>\n",
       "      <th>-8R_-EkGpUhBk55K9Dd4mg</th>\n",
       "      <td>0.0</td>\n",
       "      <td>0.482759</td>\n",
       "      <td>0.310345</td>\n",
       "      <td>0.068966</td>\n",
       "      <td>0.000000</td>\n",
       "      <td>0.275862</td>\n",
       "      <td>0.0</td>\n",
       "      <td>0.0</td>\n",
       "      <td>0.0</td>\n",
       "      <td>1.0</td>\n",
       "      <td>0.0</td>\n",
       "      <td>0.0</td>\n",
       "      <td>0.0</td>\n",
       "      <td>0.0</td>\n",
       "      <td>47.136232</td>\n",
       "    </tr>\n",
       "    <tr>\n",
       "      <th>-9YyInW1wapzdNZrhQJ9dg</th>\n",
       "      <td>0.0</td>\n",
       "      <td>0.305556</td>\n",
       "      <td>0.472222</td>\n",
       "      <td>0.138889</td>\n",
       "      <td>0.027778</td>\n",
       "      <td>0.583333</td>\n",
       "      <td>0.0</td>\n",
       "      <td>0.0</td>\n",
       "      <td>0.0</td>\n",
       "      <td>0.0</td>\n",
       "      <td>0.0</td>\n",
       "      <td>0.0</td>\n",
       "      <td>0.0</td>\n",
       "      <td>0.0</td>\n",
       "      <td>45.814922</td>\n",
       "    </tr>\n",
       "  </tbody>\n",
       "</table>\n",
       "</div>"
      ],
      "text/plain": [
       "                        popular    gender   weekend     vegan       kid  \\\n",
       "business_id                                                               \n",
       "--9e1ONYQuAa-CB_Rrw7Tw      1.0  0.383562  0.486301  0.198630  0.006849   \n",
       "-1m9o3vGRA8IBPNvNqKLmA      0.0  0.289474  0.473684  0.368421  0.026316   \n",
       "-3zffZUHoY8bQjGfPSoBKQ      1.0  0.444444  0.444444  0.185185  0.037037   \n",
       "-8R_-EkGpUhBk55K9Dd4mg      0.0  0.482759  0.310345  0.068966  0.000000   \n",
       "-9YyInW1wapzdNZrhQJ9dg      0.0  0.305556  0.472222  0.138889  0.027778   \n",
       "\n",
       "                           group  Ameri  Europ  SouAM  Asian  Indian  Chinese  \\\n",
       "business_id                                                                     \n",
       "--9e1ONYQuAa-CB_Rrw7Tw  0.698630    0.0    0.0    1.0    0.0     0.0      0.0   \n",
       "-1m9o3vGRA8IBPNvNqKLmA  0.684211    1.0    0.0    0.0    0.0     0.0      0.0   \n",
       "-3zffZUHoY8bQjGfPSoBKQ  0.722222    1.0    0.0    0.0    0.0     0.0      0.0   \n",
       "-8R_-EkGpUhBk55K9Dd4mg  0.275862    0.0    0.0    0.0    1.0     0.0      0.0   \n",
       "-9YyInW1wapzdNZrhQJ9dg  0.583333    0.0    0.0    0.0    0.0     0.0      0.0   \n",
       "\n",
       "                        MidEas  Drinks    utility  \n",
       "business_id                                        \n",
       "--9e1ONYQuAa-CB_Rrw7Tw     0.0     0.0  53.441547  \n",
       "-1m9o3vGRA8IBPNvNqKLmA     0.0     1.0  42.919872  \n",
       "-3zffZUHoY8bQjGfPSoBKQ     0.0     1.0  50.631174  \n",
       "-8R_-EkGpUhBk55K9Dd4mg     0.0     0.0  47.136232  \n",
       "-9YyInW1wapzdNZrhQJ9dg     0.0     0.0  45.814922  "
      ]
     },
     "execution_count": 643,
     "metadata": {},
     "output_type": "execute_result"
    }
   ],
   "source": [
    "XX.head()"
   ]
  },
  {
   "cell_type": "code",
   "execution_count": 644,
   "metadata": {},
   "outputs": [],
   "source": [
    "# save X data\n",
    "XX.to_csv(\"user_features.csv\", encoding = 'utf-8', index = False)"
   ]
  },
  {
   "cell_type": "code",
   "execution_count": 645,
   "metadata": {},
   "outputs": [],
   "source": [
    "# save business data\n",
    "restaurants.to_csv(\"restaurants.csv\", encoding='utf-8', index = False)"
   ]
  },
  {
   "cell_type": "markdown",
   "metadata": {},
   "source": [
    "save the model to disk\n",
    "\n",
    "https://machinelearningmastery.com/save-load-machine-learning-models-python-scikit-learn/"
   ]
  },
  {
   "cell_type": "code",
   "execution_count": 646,
   "metadata": {},
   "outputs": [
    {
     "data": {
      "application/javascript": [
       "\n",
       "        if (window._pyforest_update_imports_cell) { window._pyforest_update_imports_cell('import pickle'); }\n",
       "    "
      ],
      "text/plain": [
       "<IPython.core.display.Javascript object>"
      ]
     },
     "metadata": {},
     "output_type": "display_data"
    }
   ],
   "source": [
    "pickle.dump(rfr, open('random_forest_model.sav', 'wb'))"
   ]
  }
 ],
 "metadata": {
  "kernelspec": {
   "display_name": "Python 3",
   "language": "python",
   "name": "python3"
  },
  "language_info": {
   "codemirror_mode": {
    "name": "ipython",
    "version": 3
   },
   "file_extension": ".py",
   "mimetype": "text/x-python",
   "name": "python",
   "nbconvert_exporter": "python",
   "pygments_lexer": "ipython3",
   "version": "3.7.2"
  },
  "toc": {
   "base_numbering": 1,
   "nav_menu": {
    "height": "663px",
    "width": "372px"
   },
   "number_sections": true,
   "sideBar": true,
   "skip_h1_title": false,
   "title_cell": "Table of Contents",
   "title_sidebar": "Contents",
   "toc_cell": false,
   "toc_position": {},
   "toc_section_display": true,
   "toc_window_display": false
  }
 },
 "nbformat": 4,
 "nbformat_minor": 2
}
