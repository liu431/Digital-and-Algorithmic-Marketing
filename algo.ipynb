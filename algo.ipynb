{
 "cells": [
  {
   "cell_type": "markdown",
   "metadata": {},
   "source": [
    "## Preference-Based Recommendation System for Groups\n",
    "\n",
    "Algorithmic Marketing Class Project\n",
    "\n",
    "Name: Li Liu, Suresh Govindaraj, Xi Zhao\n",
    "\n",
    "Date: March 2020"
   ]
  },
  {
   "cell_type": "markdown",
   "metadata": {},
   "source": [
    "A group of people wanted to have an amazing restaurant dining experience in Las Vegas. Some of them were attracted by a French restaurant 30 min away. Some of them thought the nearby sushi place was good enough. They opened Yelp and set the filters. But it didn't help them decide because the app showed each of them very different results.\n",
    "\n",
    "Here comes our system. We want to help them decide which ones work best for them all.\n",
    "\n",
    "Using our utility maximization framework, our system recommends the restaurants that will most likely maximize their total utilities.\n",
    "\n",
    "Suppose we have three people: A, B, C are choosing from N restaurants (R indicates restaurants factors).\n",
    "\n",
    "For each restaurant i (i=1...N), each person would have a utility for i: $u_A(R_i)$, $u_B(R_i)$, $u_C(R_i)$\n",
    "\n",
    "We need to have a match function for predicting the total utilities from eating at this restaurant, such that $m_{R_i}(A,B,C) = U_{i}(u(R_i), R_i, Weights, Preferences)$\n",
    "\n",
    "Our core algorithm will account for the following factors:\n",
    "\n",
    "* Each restaurant has a baseline utility for the group (Think of $\\beta_0$). We use machine learning to predict this utility by using the existing _**Yelp reviews data**_.\n",
    "\n",
    "Then we will use _**users' input data**_ to adjust the baseline utility based on the groups' preferences and consensus ($\\sum_k(\\prod_m(p_m*w_m)X_k)$): \n",
    "\n",
    "* People have different voting weights (Ex. parents make the final decision instead of kids)\n",
    "\n",
    "* People have own preferences (Ex. not important at all, neutral, very important)\n",
    "\n",
    "* People care about others. The total utility depends on others' preference. If A knows B and C hate pizza, the utility for A to choose a pizza place will be lower than the case if A dining alone. \n",
    "\n",
    "When A, B, C open the system, they will be asked to choose their preferences for distance and cuisine types. If the factor is not important for A at all, the $p_{A}=0.1$. If the factor is neutral for A, the $p_{A}=0.5$. If the factor is very important for A, the $p_{A}=1$. Also, they have different voting weights w, $w_A, w_b, w_C$, and $w_A+w_b+w_C=1$, \n",
    "\n",
    "Generally, suppose we have M (m=1...M) people to choose from N (i=1...N) restaurants and the system asks them to answer K (k=1...K) questions:\n",
    "\n",
    "$$U_{i} = \\beta_0 + \\beta_1X_1+ \\beta_2X_2+...+\\beta_kX_k+\\epsilon$$\n",
    "$$\\hat{U_{i}}= \\hat{f}(Restaurant Reputations, Weekend, Group...) + \\sum_k(\\prod_m(p_m*w_m)X_k)$$\n",
    "\n",
    "Then we have scores for all restaurants from i=1 to N. We can sort them and recommend the top ones for the group."
   ]
  },
  {
   "cell_type": "code",
   "execution_count": null,
   "metadata": {},
   "outputs": [],
   "source": []
  },
  {
   "cell_type": "markdown",
   "metadata": {},
   "source": [
    "#### Import packages"
   ]
  },
  {
   "cell_type": "code",
   "execution_count": 42,
   "metadata": {},
   "outputs": [],
   "source": [
    "import numpy as np\n",
    "import pandas as pd\n",
    "import matplotlib.pyplot as plt\n",
    "import seaborn as sns\n",
    "%matplotlib inline\n",
    "from wordcloud.wordcloud import WordCloud, STOPWORDS\n",
    "from PIL import Image\n",
    "from vaderSentiment.vaderSentiment import SentimentIntensityAnalyzer\n",
    "analyser = SentimentIntensityAnalyzer()\n",
    "import gender_guesser.detector as gender\n",
    "import warnings\n",
    "warnings.filterwarnings(\"ignore\")\n",
    "from dask import compute, delayed\n",
    "import dask.multiprocessing\n",
    "import multiprocessing\n",
    "import time\n",
    "from sklearn.model_selection import train_test_split\n",
    "from sklearn.preprocessing import MinMaxScaler\n",
    "import six\n",
    "import statsmodels.api as sm\n",
    "from sklearn.tree import export_graphviz\n",
    "import graphviz\n",
    "from scipy.stats import randint as sp_randint\n",
    "from scipy.stats import uniform as sp_uniform\n",
    "from sklearn.model_selection import RandomizedSearchCV\n",
    "from scipy import stats\n",
    "from sklearn.tree import DecisionTreeRegressor\n",
    "from sklearn.ensemble import RandomForestRegressor, GradientBoostingRegressor, AdaBoostRegressor\n",
    "from sklearn.linear_model import LinearRegression, Ridge, Lasso, ElasticNet, BayesianRidge\n",
    "from sklearn.model_selection import train_test_split, KFold, cross_val_score, cross_val_predict\n",
    "from sklearn.metrics import mean_squared_error\n",
    "from sklearn.model_selection import RandomizedSearchCV, GridSearchCV\n",
    "from sklearn.preprocessing import StandardScaler\n",
    "sns.set_style(\"white\")\n",
    "plt.style.use('seaborn-deep')\n",
    "\n",
    "start=time.time()"
   ]
  },
  {
   "cell_type": "markdown",
   "metadata": {},
   "source": [
    "#### Read in data"
   ]
  },
  {
   "cell_type": "code",
   "execution_count": 1,
   "metadata": {},
   "outputs": [
    {
     "data": {
      "application/javascript": [
       "\n",
       "        if (window._pyforest_update_imports_cell) { window._pyforest_update_imports_cell('import pandas as pd'); }\n",
       "    "
      ],
      "text/plain": [
       "<IPython.core.display.Javascript object>"
      ]
     },
     "metadata": {},
     "output_type": "display_data"
    },
    {
     "name": "stdout",
     "output_type": "stream",
     "text": [
      "total review text (5261668, 9)\n"
     ]
    },
    {
     "data": {
      "text/html": [
       "<div>\n",
       "<style scoped>\n",
       "    .dataframe tbody tr th:only-of-type {\n",
       "        vertical-align: middle;\n",
       "    }\n",
       "\n",
       "    .dataframe tbody tr th {\n",
       "        vertical-align: top;\n",
       "    }\n",
       "\n",
       "    .dataframe thead th {\n",
       "        text-align: right;\n",
       "    }\n",
       "</style>\n",
       "<table border=\"1\" class=\"dataframe\">\n",
       "  <thead>\n",
       "    <tr style=\"text-align: right;\">\n",
       "      <th></th>\n",
       "      <th>review_id</th>\n",
       "      <th>user_id</th>\n",
       "      <th>business_id</th>\n",
       "      <th>stars</th>\n",
       "      <th>date</th>\n",
       "      <th>text</th>\n",
       "      <th>useful</th>\n",
       "      <th>funny</th>\n",
       "      <th>cool</th>\n",
       "    </tr>\n",
       "  </thead>\n",
       "  <tbody>\n",
       "    <tr>\n",
       "      <th>0</th>\n",
       "      <td>vkVSCC7xljjrAI4UGfnKEQ</td>\n",
       "      <td>bv2nCi5Qv5vroFiqKGopiw</td>\n",
       "      <td>AEx2SYEUJmTxVVB18LlCwA</td>\n",
       "      <td>5</td>\n",
       "      <td>2016-05-28</td>\n",
       "      <td>Super simple place but amazing nonetheless. It...</td>\n",
       "      <td>0</td>\n",
       "      <td>0</td>\n",
       "      <td>0</td>\n",
       "    </tr>\n",
       "    <tr>\n",
       "      <th>1</th>\n",
       "      <td>n6QzIUObkYshz4dz2QRJTw</td>\n",
       "      <td>bv2nCi5Qv5vroFiqKGopiw</td>\n",
       "      <td>VR6GpWIda3SfvPC-lg9H3w</td>\n",
       "      <td>5</td>\n",
       "      <td>2016-05-28</td>\n",
       "      <td>Small unassuming place that changes their menu...</td>\n",
       "      <td>0</td>\n",
       "      <td>0</td>\n",
       "      <td>0</td>\n",
       "    </tr>\n",
       "  </tbody>\n",
       "</table>\n",
       "</div>"
      ],
      "text/plain": [
       "                review_id                 user_id             business_id  \\\n",
       "0  vkVSCC7xljjrAI4UGfnKEQ  bv2nCi5Qv5vroFiqKGopiw  AEx2SYEUJmTxVVB18LlCwA   \n",
       "1  n6QzIUObkYshz4dz2QRJTw  bv2nCi5Qv5vroFiqKGopiw  VR6GpWIda3SfvPC-lg9H3w   \n",
       "\n",
       "   stars        date                                               text  \\\n",
       "0      5  2016-05-28  Super simple place but amazing nonetheless. It...   \n",
       "1      5  2016-05-28  Small unassuming place that changes their menu...   \n",
       "\n",
       "   useful  funny  cool  \n",
       "0       0      0     0  \n",
       "1       0      0     0  "
      ]
     },
     "execution_count": 1,
     "metadata": {},
     "output_type": "execute_result"
    }
   ],
   "source": [
    "# review \n",
    "rev = pd.read_csv(\"yelp_review.csv\")\n",
    "print(\"total review text\", rev.shape)\n",
    "rev.head(2)"
   ]
  },
  {
   "cell_type": "markdown",
   "metadata": {},
   "source": [
    "#### Subset the data \n",
    "\n",
    "1. Only restaurants in Las Vegas\n",
    "\n",
    "2. Join data from business and users"
   ]
  },
  {
   "cell_type": "code",
   "execution_count": 2,
   "metadata": {},
   "outputs": [
    {
     "data": {
      "application/javascript": [
       "\n",
       "        if (window._pyforest_update_imports_cell) { window._pyforest_update_imports_cell('import pandas as pd'); }\n",
       "    "
      ],
      "text/plain": [
       "<IPython.core.display.Javascript object>"
      ]
     },
     "metadata": {},
     "output_type": "display_data"
    },
    {
     "name": "stdout",
     "output_type": "stream",
     "text": [
      "total business (174567, 13)\n",
      "total open restaurants (3990, 10)\n"
     ]
    }
   ],
   "source": [
    "# business\n",
    "bus = pd.read_csv(\"yelp_business.csv\")\n",
    "print(\"total business\",bus.shape)\n",
    "\n",
    "# select restaurants in LV\n",
    "LV = bus[bus[\"city\"] == \"Las Vegas\"]\n",
    "LVR = LV[LV['categories'].str.contains('Restaurants') == True] \n",
    "\n",
    "# select only open restaurants; drop uninformative features\n",
    "LVR = LVR[LVR[\"is_open\"]==1]\n",
    "LVR = LVR.drop([\"city\", \"state\", \"postal_code\"], axis=1)\n",
    "\n",
    "print(\"total open restaurants\", LVR.shape)"
   ]
  },
  {
   "cell_type": "code",
   "execution_count": 3,
   "metadata": {},
   "outputs": [
    {
     "data": {
      "application/javascript": [
       "\n",
       "        if (window._pyforest_update_imports_cell) { window._pyforest_update_imports_cell('import pandas as pd'); }\n",
       "    "
      ],
      "text/plain": [
       "<IPython.core.display.Javascript object>"
      ]
     },
     "metadata": {},
     "output_type": "display_data"
    },
    {
     "data": {
      "text/plain": [
       "(1326100, 22)"
      ]
     },
     "execution_count": 3,
     "metadata": {},
     "output_type": "execute_result"
    }
   ],
   "source": [
    "# user data\n",
    "user = pd.read_csv(\"yelp_user.csv\")\n",
    "user.shape"
   ]
  },
  {
   "cell_type": "code",
   "execution_count": 4,
   "metadata": {},
   "outputs": [
    {
     "data": {
      "text/plain": [
       "Index(['user_id', 'name', 'review_count', 'yelping_since', 'friends', 'useful',\n",
       "       'funny', 'cool', 'fans', 'elite', 'average_stars', 'compliment_hot',\n",
       "       'compliment_more', 'compliment_profile', 'compliment_cute',\n",
       "       'compliment_list', 'compliment_note', 'compliment_plain',\n",
       "       'compliment_cool', 'compliment_funny', 'compliment_writer',\n",
       "       'compliment_photos'],\n",
       "      dtype='object')"
      ]
     },
     "execution_count": 4,
     "metadata": {},
     "output_type": "execute_result"
    }
   ],
   "source": [
    "user.columns"
   ]
  },
  {
   "cell_type": "markdown",
   "metadata": {},
   "source": [
    "##### Aggregate data \n",
    "Each line represents a review for a restaurant by one user"
   ]
  },
  {
   "cell_type": "code",
   "execution_count": 5,
   "metadata": {},
   "outputs": [
    {
     "data": {
      "application/javascript": [
       "\n",
       "        if (window._pyforest_update_imports_cell) { window._pyforest_update_imports_cell('import pandas as pd'); }\n",
       "    "
      ],
      "text/plain": [
       "<IPython.core.display.Javascript object>"
      ]
     },
     "metadata": {},
     "output_type": "display_data"
    },
    {
     "data": {
      "application/javascript": [
       "\n",
       "        if (window._pyforest_update_imports_cell) { window._pyforest_update_imports_cell('import pandas as pd'); }\n",
       "    "
      ],
      "text/plain": [
       "<IPython.core.display.Javascript object>"
      ]
     },
     "metadata": {},
     "output_type": "display_data"
    },
    {
     "data": {
      "text/plain": [
       "(795588, 39)"
      ]
     },
     "execution_count": 5,
     "metadata": {},
     "output_type": "execute_result"
    }
   ],
   "source": [
    "agg = pd.merge(LVR, rev, how=\"left\", on=\"business_id\")\n",
    "agg = pd.merge(agg, user, how=\"left\", on=\"user_id\")\n",
    "agg.rename(columns = {'stars_x':\"star_bus\", \"review_count_x\": \"cts_bus\",\n",
    "                      \"stars_y\": \"star_customer\"},\n",
    "           inplace = True)\n",
    "agg.shape"
   ]
  },
  {
   "cell_type": "markdown",
   "metadata": {},
   "source": [
    "##### Only keep the most relevant reviews\n",
    "\n",
    "Restaurants normally update and improve products and services constantly to satisfy customers' needs, especially at Las Vegas. We will only keep the reviews in the last year."
   ]
  },
  {
   "cell_type": "code",
   "execution_count": 6,
   "metadata": {},
   "outputs": [
    {
     "data": {
      "application/javascript": [
       "\n",
       "        if (window._pyforest_update_imports_cell) { window._pyforest_update_imports_cell('import pandas as pd'); }\n",
       "    "
      ],
      "text/plain": [
       "<IPython.core.display.Javascript object>"
      ]
     },
     "metadata": {},
     "output_type": "display_data"
    }
   ],
   "source": [
    "agg[\"DATE\"] = pd.to_datetime(agg[\"date\"], format = '%Y/%m/%d')\n",
    "agg[\"date_yr\"] = agg[\"DATE\"].dt.year\n",
    "agg[\"date_mt\"] = agg[\"DATE\"].dt.month"
   ]
  },
  {
   "cell_type": "code",
   "execution_count": 7,
   "metadata": {},
   "outputs": [
    {
     "data": {
      "text/plain": [
       "count                  795588\n",
       "unique                   4317\n",
       "top       2017-08-12 00:00:00\n",
       "freq                      766\n",
       "first     2005-01-26 00:00:00\n",
       "last      2017-12-11 00:00:00\n",
       "Name: DATE, dtype: object"
      ]
     },
     "execution_count": 7,
     "metadata": {},
     "output_type": "execute_result"
    }
   ],
   "source": [
    "agg[\"DATE\"].describe()"
   ]
  },
  {
   "cell_type": "code",
   "execution_count": 12,
   "metadata": {},
   "outputs": [
    {
     "data": {
      "text/plain": [
       "(181144, 42)"
      ]
     },
     "execution_count": 12,
     "metadata": {},
     "output_type": "execute_result"
    }
   ],
   "source": [
    "agg = agg[agg[\"date_yr\"]>=2017]\n",
    "agg.shape"
   ]
  },
  {
   "cell_type": "code",
   "execution_count": 13,
   "metadata": {},
   "outputs": [
    {
     "data": {
      "text/html": [
       "<div>\n",
       "<style scoped>\n",
       "    .dataframe tbody tr th:only-of-type {\n",
       "        vertical-align: middle;\n",
       "    }\n",
       "\n",
       "    .dataframe tbody tr th {\n",
       "        vertical-align: top;\n",
       "    }\n",
       "\n",
       "    .dataframe thead th {\n",
       "        text-align: right;\n",
       "    }\n",
       "</style>\n",
       "<table border=\"1\" class=\"dataframe\">\n",
       "  <thead>\n",
       "    <tr style=\"text-align: right;\">\n",
       "      <th></th>\n",
       "      <th>business_id</th>\n",
       "      <th>name_x</th>\n",
       "      <th>neighborhood</th>\n",
       "      <th>address</th>\n",
       "      <th>latitude</th>\n",
       "      <th>longitude</th>\n",
       "      <th>star_bus</th>\n",
       "      <th>cts_bus</th>\n",
       "      <th>is_open</th>\n",
       "      <th>categories</th>\n",
       "      <th>...</th>\n",
       "      <th>compliment_list</th>\n",
       "      <th>compliment_note</th>\n",
       "      <th>compliment_plain</th>\n",
       "      <th>compliment_cool</th>\n",
       "      <th>compliment_funny</th>\n",
       "      <th>compliment_writer</th>\n",
       "      <th>compliment_photos</th>\n",
       "      <th>DATE</th>\n",
       "      <th>date_yr</th>\n",
       "      <th>date_mt</th>\n",
       "    </tr>\n",
       "  </thead>\n",
       "  <tbody>\n",
       "    <tr>\n",
       "      <th>0</th>\n",
       "      <td>Pd52CjgyEU3Rb8co6QfTPw</td>\n",
       "      <td>\"Flight Deck Bar &amp; Grill\"</td>\n",
       "      <td>Southeast</td>\n",
       "      <td>\"6730 S Las Vegas Blvd\"</td>\n",
       "      <td>36.066914</td>\n",
       "      <td>-115.170848</td>\n",
       "      <td>4.0</td>\n",
       "      <td>13</td>\n",
       "      <td>1</td>\n",
       "      <td>Nightlife;Bars;Barbeque;Sports Bars;American (...</td>\n",
       "      <td>...</td>\n",
       "      <td>0</td>\n",
       "      <td>0</td>\n",
       "      <td>2</td>\n",
       "      <td>1</td>\n",
       "      <td>1</td>\n",
       "      <td>0</td>\n",
       "      <td>0</td>\n",
       "      <td>2017-03-27</td>\n",
       "      <td>2017</td>\n",
       "      <td>3</td>\n",
       "    </tr>\n",
       "    <tr>\n",
       "      <th>14</th>\n",
       "      <td>4srfPk1s8nlm1YusyDUbjg</td>\n",
       "      <td>\"Subway\"</td>\n",
       "      <td>Southeast</td>\n",
       "      <td>\"6889 S Eastern Ave, Ste 101\"</td>\n",
       "      <td>36.064652</td>\n",
       "      <td>-115.118954</td>\n",
       "      <td>2.5</td>\n",
       "      <td>6</td>\n",
       "      <td>1</td>\n",
       "      <td>Fast Food;Restaurants;Sandwiches</td>\n",
       "      <td>...</td>\n",
       "      <td>0</td>\n",
       "      <td>22</td>\n",
       "      <td>144</td>\n",
       "      <td>82</td>\n",
       "      <td>82</td>\n",
       "      <td>18</td>\n",
       "      <td>53</td>\n",
       "      <td>2017-09-27</td>\n",
       "      <td>2017</td>\n",
       "      <td>9</td>\n",
       "    </tr>\n",
       "    <tr>\n",
       "      <th>17</th>\n",
       "      <td>4srfPk1s8nlm1YusyDUbjg</td>\n",
       "      <td>\"Subway\"</td>\n",
       "      <td>Southeast</td>\n",
       "      <td>\"6889 S Eastern Ave, Ste 101\"</td>\n",
       "      <td>36.064652</td>\n",
       "      <td>-115.118954</td>\n",
       "      <td>2.5</td>\n",
       "      <td>6</td>\n",
       "      <td>1</td>\n",
       "      <td>Fast Food;Restaurants;Sandwiches</td>\n",
       "      <td>...</td>\n",
       "      <td>0</td>\n",
       "      <td>1</td>\n",
       "      <td>3</td>\n",
       "      <td>2</td>\n",
       "      <td>2</td>\n",
       "      <td>2</td>\n",
       "      <td>3</td>\n",
       "      <td>2017-09-14</td>\n",
       "      <td>2017</td>\n",
       "      <td>9</td>\n",
       "    </tr>\n",
       "    <tr>\n",
       "      <th>18</th>\n",
       "      <td>4srfPk1s8nlm1YusyDUbjg</td>\n",
       "      <td>\"Subway\"</td>\n",
       "      <td>Southeast</td>\n",
       "      <td>\"6889 S Eastern Ave, Ste 101\"</td>\n",
       "      <td>36.064652</td>\n",
       "      <td>-115.118954</td>\n",
       "      <td>2.5</td>\n",
       "      <td>6</td>\n",
       "      <td>1</td>\n",
       "      <td>Fast Food;Restaurants;Sandwiches</td>\n",
       "      <td>...</td>\n",
       "      <td>0</td>\n",
       "      <td>0</td>\n",
       "      <td>0</td>\n",
       "      <td>0</td>\n",
       "      <td>0</td>\n",
       "      <td>0</td>\n",
       "      <td>0</td>\n",
       "      <td>2017-09-28</td>\n",
       "      <td>2017</td>\n",
       "      <td>9</td>\n",
       "    </tr>\n",
       "    <tr>\n",
       "      <th>23</th>\n",
       "      <td>n7V4cD-KqqE3OXk0irJTyA</td>\n",
       "      <td>\"GameWorks\"</td>\n",
       "      <td>Southeast</td>\n",
       "      <td>\"6587 Las Vegas Blvd S, Ste 171\"</td>\n",
       "      <td>36.068259</td>\n",
       "      <td>-115.178877</td>\n",
       "      <td>3.0</td>\n",
       "      <td>349</td>\n",
       "      <td>1</td>\n",
       "      <td>Arcades;Arts &amp; Entertainment;Gastropubs;Restau...</td>\n",
       "      <td>...</td>\n",
       "      <td>0</td>\n",
       "      <td>0</td>\n",
       "      <td>0</td>\n",
       "      <td>0</td>\n",
       "      <td>0</td>\n",
       "      <td>0</td>\n",
       "      <td>0</td>\n",
       "      <td>2017-03-03</td>\n",
       "      <td>2017</td>\n",
       "      <td>3</td>\n",
       "    </tr>\n",
       "  </tbody>\n",
       "</table>\n",
       "<p>5 rows × 42 columns</p>\n",
       "</div>"
      ],
      "text/plain": [
       "               business_id                     name_x neighborhood  \\\n",
       "0   Pd52CjgyEU3Rb8co6QfTPw  \"Flight Deck Bar & Grill\"    Southeast   \n",
       "14  4srfPk1s8nlm1YusyDUbjg                   \"Subway\"    Southeast   \n",
       "17  4srfPk1s8nlm1YusyDUbjg                   \"Subway\"    Southeast   \n",
       "18  4srfPk1s8nlm1YusyDUbjg                   \"Subway\"    Southeast   \n",
       "23  n7V4cD-KqqE3OXk0irJTyA                \"GameWorks\"    Southeast   \n",
       "\n",
       "                             address   latitude   longitude  star_bus  \\\n",
       "0            \"6730 S Las Vegas Blvd\"  36.066914 -115.170848       4.0   \n",
       "14     \"6889 S Eastern Ave, Ste 101\"  36.064652 -115.118954       2.5   \n",
       "17     \"6889 S Eastern Ave, Ste 101\"  36.064652 -115.118954       2.5   \n",
       "18     \"6889 S Eastern Ave, Ste 101\"  36.064652 -115.118954       2.5   \n",
       "23  \"6587 Las Vegas Blvd S, Ste 171\"  36.068259 -115.178877       3.0   \n",
       "\n",
       "    cts_bus  is_open                                         categories  ...  \\\n",
       "0        13        1  Nightlife;Bars;Barbeque;Sports Bars;American (...  ...   \n",
       "14        6        1                   Fast Food;Restaurants;Sandwiches  ...   \n",
       "17        6        1                   Fast Food;Restaurants;Sandwiches  ...   \n",
       "18        6        1                   Fast Food;Restaurants;Sandwiches  ...   \n",
       "23      349        1  Arcades;Arts & Entertainment;Gastropubs;Restau...  ...   \n",
       "\n",
       "   compliment_list compliment_note  compliment_plain compliment_cool  \\\n",
       "0                0               0                 2               1   \n",
       "14               0              22               144              82   \n",
       "17               0               1                 3               2   \n",
       "18               0               0                 0               0   \n",
       "23               0               0                 0               0   \n",
       "\n",
       "   compliment_funny  compliment_writer  compliment_photos       DATE date_yr  \\\n",
       "0                 1                  0                  0 2017-03-27    2017   \n",
       "14               82                 18                 53 2017-09-27    2017   \n",
       "17                2                  2                  3 2017-09-14    2017   \n",
       "18                0                  0                  0 2017-09-28    2017   \n",
       "23                0                  0                  0 2017-03-03    2017   \n",
       "\n",
       "    date_mt  \n",
       "0         3  \n",
       "14        9  \n",
       "17        9  \n",
       "18        9  \n",
       "23        3  \n",
       "\n",
       "[5 rows x 42 columns]"
      ]
     },
     "execution_count": 13,
     "metadata": {},
     "output_type": "execute_result"
    }
   ],
   "source": [
    "# skim data\n",
    "agg.head(5)"
   ]
  },
  {
   "cell_type": "code",
   "execution_count": 10,
   "metadata": {},
   "outputs": [
    {
     "data": {
      "text/plain": [
       "Index(['business_id', 'name_x', 'neighborhood', 'address', 'latitude',\n",
       "       'longitude', 'star_bus', 'cts_bus', 'is_open', 'categories',\n",
       "       'review_id', 'user_id', 'star_customer', 'date', 'text', 'useful_x',\n",
       "       'funny_x', 'cool_x', 'name_y', 'review_count_y', 'yelping_since',\n",
       "       'friends', 'useful_y', 'funny_y', 'cool_y', 'fans', 'elite',\n",
       "       'average_stars', 'compliment_hot', 'compliment_more',\n",
       "       'compliment_profile', 'compliment_cute', 'compliment_list',\n",
       "       'compliment_note', 'compliment_plain', 'compliment_cool',\n",
       "       'compliment_funny', 'compliment_writer', 'compliment_photos', 'DATE',\n",
       "       'date_yr', 'date_mt'],\n",
       "      dtype='object')"
      ]
     },
     "execution_count": 10,
     "metadata": {},
     "output_type": "execute_result"
    }
   ],
   "source": [
    "# current columns\n",
    "agg.columns"
   ]
  },
  {
   "cell_type": "code",
   "execution_count": 62,
   "metadata": {},
   "outputs": [],
   "source": [
    "#Subset the data to speed up execution\n",
    "#sample = 10000\n",
    "#agg = agg.iloc[:sample]"
   ]
  },
  {
   "cell_type": "markdown",
   "metadata": {},
   "source": [
    "### Baseline utility: predicted rescaled satisfaction scores"
   ]
  },
  {
   "cell_type": "markdown",
   "metadata": {},
   "source": [
    "y is the measure for customer satisfaction. We reweighed and rescaled the star ratings."
   ]
  },
  {
   "cell_type": "code",
   "execution_count": 16,
   "metadata": {},
   "outputs": [
    {
     "data": {
      "application/javascript": [
       "\n",
       "        if (window._pyforest_update_imports_cell) { window._pyforest_update_imports_cell('import pandas as pd\\nimport numpy as np'); }\n",
       "    "
      ],
      "text/plain": [
       "<IPython.core.display.Javascript object>"
      ]
     },
     "metadata": {},
     "output_type": "display_data"
    },
    {
     "data": {
      "text/plain": [
       "0.5476607687570102"
      ]
     },
     "execution_count": 16,
     "metadata": {},
     "output_type": "execute_result"
    }
   ],
   "source": [
    "# individual ratings for particular restaurants are positive correlated with their average ratings for all reviews\n",
    "np.corrcoef(agg['average_stars'],  agg[\"star_customer\"])[0,1]"
   ]
  },
  {
   "cell_type": "code",
   "execution_count": 18,
   "metadata": {},
   "outputs": [
    {
     "data": {
      "application/javascript": [
       "\n",
       "        if (window._pyforest_update_imports_cell) { window._pyforest_update_imports_cell('import matplotlib.pyplot as plt\\nimport pandas as pd\\nimport numpy as np\\nimport seaborn as sns'); }\n",
       "    "
      ],
      "text/plain": [
       "<IPython.core.display.Javascript object>"
      ]
     },
     "metadata": {},
     "output_type": "display_data"
    },
    {
     "data": {
      "application/javascript": [
       "\n",
       "        if (window._pyforest_update_imports_cell) { window._pyforest_update_imports_cell('import matplotlib.pyplot as plt\\nimport pandas as pd\\nimport numpy as np\\nimport seaborn as sns'); }\n",
       "    "
      ],
      "text/plain": [
       "<IPython.core.display.Javascript object>"
      ]
     },
     "metadata": {},
     "output_type": "display_data"
    },
    {
     "data": {
      "text/plain": [
       "Text(0.5, 0.98, 'Hexbin plot of Customer Current and Previous Ratings')"
      ]
     },
     "execution_count": 18,
     "metadata": {},
     "output_type": "execute_result"
    },
    {
     "data": {
      "image/png": "[encoded data removed]",
      "text/plain": [
       "<Figure size 432x432 with 3 Axes>"
      ]
     },
     "metadata": {
      "needs_background": "light"
     },
     "output_type": "display_data"
    }
   ],
   "source": [
    "# Hexbin plot\n",
    "agguser = agg[:10000].groupby('user_id')[['star_customer', 'average_stars']].mean()\n",
    "\n",
    "sns.jointplot(agguser['average_stars'], agguser[\"star_customer\"], \n",
    "              kind='hex', color='maroon')\n",
    "\n",
    "plt.suptitle(\"Hexbin plot of Customer Current and Previous Ratings\", fontsize=15)\n",
    "#plt.savefig('HexbinPlot of Customer Current and Previous Ratings .png')"
   ]
  },
  {
   "cell_type": "code",
   "execution_count": 19,
   "metadata": {},
   "outputs": [
    {
     "data": {
      "text/html": [
       "<div>\n",
       "<style scoped>\n",
       "    .dataframe tbody tr th:only-of-type {\n",
       "        vertical-align: middle;\n",
       "    }\n",
       "\n",
       "    .dataframe tbody tr th {\n",
       "        vertical-align: top;\n",
       "    }\n",
       "\n",
       "    .dataframe thead th {\n",
       "        text-align: right;\n",
       "    }\n",
       "</style>\n",
       "<table border=\"1\" class=\"dataframe\">\n",
       "  <thead>\n",
       "    <tr style=\"text-align: right;\">\n",
       "      <th></th>\n",
       "      <th>average_stars</th>\n",
       "      <th>star_customer</th>\n",
       "    </tr>\n",
       "  </thead>\n",
       "  <tbody>\n",
       "    <tr>\n",
       "      <th>0</th>\n",
       "      <td>3.00</td>\n",
       "      <td>4</td>\n",
       "    </tr>\n",
       "    <tr>\n",
       "      <th>14</th>\n",
       "      <td>4.58</td>\n",
       "      <td>4</td>\n",
       "    </tr>\n",
       "    <tr>\n",
       "      <th>17</th>\n",
       "      <td>3.74</td>\n",
       "      <td>5</td>\n",
       "    </tr>\n",
       "    <tr>\n",
       "      <th>18</th>\n",
       "      <td>1.89</td>\n",
       "      <td>1</td>\n",
       "    </tr>\n",
       "    <tr>\n",
       "      <th>23</th>\n",
       "      <td>3.83</td>\n",
       "      <td>5</td>\n",
       "    </tr>\n",
       "  </tbody>\n",
       "</table>\n",
       "</div>"
      ],
      "text/plain": [
       "    average_stars  star_customer\n",
       "0            3.00              4\n",
       "14           4.58              4\n",
       "17           3.74              5\n",
       "18           1.89              1\n",
       "23           3.83              5"
      ]
     },
     "execution_count": 19,
     "metadata": {},
     "output_type": "execute_result"
    }
   ],
   "source": [
    "agg[['average_stars',\"star_customer\"]].head(5)"
   ]
  },
  {
   "cell_type": "markdown",
   "metadata": {},
   "source": [
    "##### Potential issue\n",
    "\n",
    "Customers have different rating standards. So a rating of 3 could mean different satisfaction by two customoers, if one has average ratings of 5 (implying dissatisfaction) and the other has average rating of 1 (implying satisfaction). I solve this by reweighting the individual ratings by their average ratings."
   ]
  },
  {
   "cell_type": "code",
   "execution_count": 20,
   "metadata": {},
   "outputs": [
    {
     "data": {
      "application/javascript": [
       "\n",
       "        if (window._pyforest_update_imports_cell) { window._pyforest_update_imports_cell('import matplotlib.pyplot as plt\\nimport pandas as pd\\nimport numpy as np\\nimport seaborn as sns'); }\n",
       "    "
      ],
      "text/plain": [
       "<IPython.core.display.Javascript object>"
      ]
     },
     "metadata": {},
     "output_type": "display_data"
    },
    {
     "data": {
      "application/javascript": [
       "\n",
       "        if (window._pyforest_update_imports_cell) { window._pyforest_update_imports_cell('import matplotlib.pyplot as plt\\nimport pandas as pd\\nimport numpy as np\\nimport seaborn as sns'); }\n",
       "    "
      ],
      "text/plain": [
       "<IPython.core.display.Javascript object>"
      ]
     },
     "metadata": {},
     "output_type": "display_data"
    }
   ],
   "source": [
    "# reweighed and rescaled consumer satisfaction measure\n",
    "\n",
    "# a. Account for the \"extra\" part deviated from the average ratings\n",
    "agg['y2'] = agg['star_customer'] + (agg['star_customer']-agg['average_stars'])/agg['average_stars']\n",
    "\n",
    "# b. Normalization\n",
    "agg['normy'] = (agg['y2'] - np.mean(agg['y2']))/np.std(agg['y2'])\n",
    "\n",
    "# c. Rescale to 0-100 \n",
    "agg['y'] = ((100 - 0) / (max(agg['normy'] ) - min(agg['normy'] ))) * (agg['normy'] - min(agg['normy'])) + 0 "
   ]
  },
  {
   "cell_type": "markdown",
   "metadata": {},
   "source": [
    "##### Test cases"
   ]
  },
  {
   "cell_type": "code",
   "execution_count": 21,
   "metadata": {
    "scrolled": true
   },
   "outputs": [
    {
     "data": {
      "text/html": [
       "<div>\n",
       "<style scoped>\n",
       "    .dataframe tbody tr th:only-of-type {\n",
       "        vertical-align: middle;\n",
       "    }\n",
       "\n",
       "    .dataframe tbody tr th {\n",
       "        vertical-align: top;\n",
       "    }\n",
       "\n",
       "    .dataframe thead th {\n",
       "        text-align: right;\n",
       "    }\n",
       "</style>\n",
       "<table border=\"1\" class=\"dataframe\">\n",
       "  <thead>\n",
       "    <tr style=\"text-align: right;\">\n",
       "      <th></th>\n",
       "      <th>average_stars</th>\n",
       "      <th>star_customer</th>\n",
       "      <th>y2</th>\n",
       "      <th>normy</th>\n",
       "      <th>y</th>\n",
       "    </tr>\n",
       "  </thead>\n",
       "  <tbody>\n",
       "    <tr>\n",
       "      <th>116773</th>\n",
       "      <td>1.36</td>\n",
       "      <td>5</td>\n",
       "      <td>7.676471</td>\n",
       "      <td>2.209572</td>\n",
       "      <td>100.0</td>\n",
       "    </tr>\n",
       "  </tbody>\n",
       "</table>\n",
       "</div>"
      ],
      "text/plain": [
       "        average_stars  star_customer        y2     normy      y\n",
       "116773           1.36              5  7.676471  2.209572  100.0"
      ]
     },
     "execution_count": 21,
     "metadata": {},
     "output_type": "execute_result"
    }
   ],
   "source": [
    "# case when relative rating is high\n",
    "agg[['average_stars',\"star_customer\", \"y2\", \"normy\", \"y\"]][agg['y']==100]"
   ]
  },
  {
   "cell_type": "code",
   "execution_count": 22,
   "metadata": {},
   "outputs": [
    {
     "data": {
      "text/html": [
       "<div>\n",
       "<style scoped>\n",
       "    .dataframe tbody tr th:only-of-type {\n",
       "        vertical-align: middle;\n",
       "    }\n",
       "\n",
       "    .dataframe tbody tr th {\n",
       "        vertical-align: top;\n",
       "    }\n",
       "\n",
       "    .dataframe thead th {\n",
       "        text-align: right;\n",
       "    }\n",
       "</style>\n",
       "<table border=\"1\" class=\"dataframe\">\n",
       "  <thead>\n",
       "    <tr style=\"text-align: right;\">\n",
       "      <th></th>\n",
       "      <th>average_stars</th>\n",
       "      <th>star_customer</th>\n",
       "      <th>y2</th>\n",
       "      <th>normy</th>\n",
       "      <th>y</th>\n",
       "    </tr>\n",
       "  </thead>\n",
       "  <tbody>\n",
       "    <tr>\n",
       "      <th>588474</th>\n",
       "      <td>4.9</td>\n",
       "      <td>1</td>\n",
       "      <td>0.204082</td>\n",
       "      <td>-2.11435</td>\n",
       "      <td>0.0</td>\n",
       "    </tr>\n",
       "  </tbody>\n",
       "</table>\n",
       "</div>"
      ],
      "text/plain": [
       "        average_stars  star_customer        y2    normy    y\n",
       "588474            4.9              1  0.204082 -2.11435  0.0"
      ]
     },
     "execution_count": 22,
     "metadata": {},
     "output_type": "execute_result"
    }
   ],
   "source": [
    "# case when relative rating is low\n",
    "agg[['average_stars',\"star_customer\", \"y2\", \"normy\", \"y\"]][agg['y']==0]"
   ]
  },
  {
   "cell_type": "markdown",
   "metadata": {},
   "source": [
    "##### Summary statistics"
   ]
  },
  {
   "cell_type": "code",
   "execution_count": 23,
   "metadata": {},
   "outputs": [
    {
     "data": {
      "text/html": [
       "<div>\n",
       "<style scoped>\n",
       "    .dataframe tbody tr th:only-of-type {\n",
       "        vertical-align: middle;\n",
       "    }\n",
       "\n",
       "    .dataframe tbody tr th {\n",
       "        vertical-align: top;\n",
       "    }\n",
       "\n",
       "    .dataframe thead th {\n",
       "        text-align: right;\n",
       "    }\n",
       "</style>\n",
       "<table border=\"1\" class=\"dataframe\">\n",
       "  <thead>\n",
       "    <tr style=\"text-align: right;\">\n",
       "      <th></th>\n",
       "      <th>star_customer</th>\n",
       "      <th>y</th>\n",
       "    </tr>\n",
       "  </thead>\n",
       "  <tbody>\n",
       "    <tr>\n",
       "      <th>count</th>\n",
       "      <td>181144.000000</td>\n",
       "      <td>181144.000000</td>\n",
       "    </tr>\n",
       "    <tr>\n",
       "      <th>mean</th>\n",
       "      <td>3.847006</td>\n",
       "      <td>48.898888</td>\n",
       "    </tr>\n",
       "    <tr>\n",
       "      <th>std</th>\n",
       "      <td>1.427706</td>\n",
       "      <td>23.127218</td>\n",
       "    </tr>\n",
       "    <tr>\n",
       "      <th>min</th>\n",
       "      <td>1.000000</td>\n",
       "      <td>0.000000</td>\n",
       "    </tr>\n",
       "    <tr>\n",
       "      <th>25%</th>\n",
       "      <td>3.000000</td>\n",
       "      <td>34.516514</td>\n",
       "    </tr>\n",
       "    <tr>\n",
       "      <th>50%</th>\n",
       "      <td>4.000000</td>\n",
       "      <td>55.686422</td>\n",
       "    </tr>\n",
       "    <tr>\n",
       "      <th>75%</th>\n",
       "      <td>5.000000</td>\n",
       "      <td>66.730929</td>\n",
       "    </tr>\n",
       "    <tr>\n",
       "      <th>max</th>\n",
       "      <td>5.000000</td>\n",
       "      <td>100.000000</td>\n",
       "    </tr>\n",
       "  </tbody>\n",
       "</table>\n",
       "</div>"
      ],
      "text/plain": [
       "       star_customer              y\n",
       "count  181144.000000  181144.000000\n",
       "mean        3.847006      48.898888\n",
       "std         1.427706      23.127218\n",
       "min         1.000000       0.000000\n",
       "25%         3.000000      34.516514\n",
       "50%         4.000000      55.686422\n",
       "75%         5.000000      66.730929\n",
       "max         5.000000     100.000000"
      ]
     },
     "execution_count": 23,
     "metadata": {},
     "output_type": "execute_result"
    }
   ],
   "source": [
    "# statistics of original scores and transformed scores\n",
    "agg[['star_customer','y']].describe()"
   ]
  },
  {
   "cell_type": "code",
   "execution_count": 25,
   "metadata": {},
   "outputs": [],
   "source": [
    "# abbreviation\n",
    "\n",
    "# Y is the categorical star rating\n",
    "Y = agg[\"star_customer\"]\n",
    "# y is the reweighted numerical grade with 0-100 scale\n",
    "y = agg['y']"
   ]
  },
  {
   "cell_type": "code",
   "execution_count": 26,
   "metadata": {},
   "outputs": [
    {
     "data": {
      "application/javascript": [
       "\n",
       "        if (window._pyforest_update_imports_cell) { window._pyforest_update_imports_cell('import matplotlib.pyplot as plt\\nimport pandas as pd\\nimport numpy as np\\nimport seaborn as sns'); }\n",
       "    "
      ],
      "text/plain": [
       "<IPython.core.display.Javascript object>"
      ]
     },
     "metadata": {},
     "output_type": "display_data"
    },
    {
     "data": {
      "application/javascript": [
       "\n",
       "        if (window._pyforest_update_imports_cell) { window._pyforest_update_imports_cell('import matplotlib.pyplot as plt\\nimport pandas as pd\\nimport numpy as np\\nimport seaborn as sns'); }\n",
       "    "
      ],
      "text/plain": [
       "<IPython.core.display.Javascript object>"
      ]
     },
     "metadata": {},
     "output_type": "display_data"
    },
    {
     "data": {
      "application/javascript": [
       "\n",
       "        if (window._pyforest_update_imports_cell) { window._pyforest_update_imports_cell('import matplotlib.pyplot as plt\\nimport pandas as pd\\nimport numpy as np\\nimport seaborn as sns'); }\n",
       "    "
      ],
      "text/plain": [
       "<IPython.core.display.Javascript object>"
      ]
     },
     "metadata": {},
     "output_type": "display_data"
    },
    {
     "data": {
      "application/javascript": [
       "\n",
       "        if (window._pyforest_update_imports_cell) { window._pyforest_update_imports_cell('import matplotlib.pyplot as plt\\nimport pandas as pd\\nimport numpy as np\\nimport seaborn as sns'); }\n",
       "    "
      ],
      "text/plain": [
       "<IPython.core.display.Javascript object>"
      ]
     },
     "metadata": {},
     "output_type": "display_data"
    },
    {
     "data": {
      "text/plain": [
       "Text(0.5, 0.98, 'Histogram of the Consumer Satisfaction Score')"
      ]
     },
     "execution_count": 26,
     "metadata": {},
     "output_type": "execute_result"
    },
    {
     "data": {
      "image/png": "[encoded data removed]",
      "text/plain": [
       "<Figure size 432x288 with 1 Axes>"
      ]
     },
     "metadata": {
      "needs_background": "light"
     },
     "output_type": "display_data"
    }
   ],
   "source": [
    "kwargs = dict(hist_kws={'alpha':.3}, kde_kws={'linewidth':3})\n",
    "\n",
    "sns.distplot(y, bins=10, color=\"maroon\", label=\"score\", **kwargs)\n",
    "plt.xlim(0,100)\n",
    "plt.xlabel(\"Score\")\n",
    "plt.suptitle(\"Histogram of the Consumer Satisfaction Score\", fontsize=15)\n",
    "#plt.savefig(\"Histogram of the Consumer Satisfaction Score.png\")"
   ]
  },
  {
   "cell_type": "code",
   "execution_count": 27,
   "metadata": {},
   "outputs": [
    {
     "data": {
      "application/javascript": [
       "\n",
       "        if (window._pyforest_update_imports_cell) { window._pyforest_update_imports_cell('import matplotlib.pyplot as plt\\nimport pandas as pd\\nimport numpy as np\\nimport seaborn as sns'); }\n",
       "    "
      ],
      "text/plain": [
       "<IPython.core.display.Javascript object>"
      ]
     },
     "metadata": {},
     "output_type": "display_data"
    },
    {
     "data": {
      "application/javascript": [
       "\n",
       "        if (window._pyforest_update_imports_cell) { window._pyforest_update_imports_cell('import matplotlib.pyplot as plt\\nimport pandas as pd\\nimport numpy as np\\nimport seaborn as sns'); }\n",
       "    "
      ],
      "text/plain": [
       "<IPython.core.display.Javascript object>"
      ]
     },
     "metadata": {},
     "output_type": "display_data"
    },
    {
     "data": {
      "application/javascript": [
       "\n",
       "        if (window._pyforest_update_imports_cell) { window._pyforest_update_imports_cell('import matplotlib.pyplot as plt\\nimport pandas as pd\\nimport numpy as np\\nimport seaborn as sns'); }\n",
       "    "
      ],
      "text/plain": [
       "<IPython.core.display.Javascript object>"
      ]
     },
     "metadata": {},
     "output_type": "display_data"
    },
    {
     "data": {
      "text/plain": [
       "Text(0.5, 1.0, 'Pie Chart of Stars Ratios')"
      ]
     },
     "execution_count": 27,
     "metadata": {},
     "output_type": "execute_result"
    },
    {
     "data": {
      "image/png": "[encoded data removed]",
      "text/plain": [
       "<Figure size 432x288 with 1 Axes>"
      ]
     },
     "metadata": {},
     "output_type": "display_data"
    }
   ],
   "source": [
    "labels = Y.value_counts().index\n",
    "fig1, ax1 = plt.subplots()\n",
    "explode = (0.1, 0.1, 0.1, 0.1, 0.1)\n",
    "ax1.pie(Y.value_counts(),  explode = explode, labels = Y.value_counts().index,\n",
    "         autopct='%1.0f%%', startangle = 90)\n",
    "ax1.axis('equal') \n",
    "plt.legend()\n",
    "plt.title(\"Pie Chart of Stars Ratios\", fontsize = 15)\n",
    "#plt.savefig(\"Pie Chart of Stars Ratios\")"
   ]
  },
  {
   "cell_type": "markdown",
   "metadata": {},
   "source": [
    "### Independent variables (users' inputs)"
   ]
  },
  {
   "cell_type": "markdown",
   "metadata": {},
   "source": [
    "##### Restaurants Current Total Stars and Review Counts \n",
    "\n",
    "This serves as prior info for consumers\n",
    "\n",
    "Customers think the restaurants' reputations are highly predictive of their dining experience."
   ]
  },
  {
   "cell_type": "code",
   "execution_count": 28,
   "metadata": {},
   "outputs": [],
   "source": [
    "X = agg[['cts_bus', 'star_bus', 'y2']]"
   ]
  },
  {
   "cell_type": "code",
   "execution_count": 30,
   "metadata": {},
   "outputs": [
    {
     "data": {
      "text/html": [
       "<div>\n",
       "<style scoped>\n",
       "    .dataframe tbody tr th:only-of-type {\n",
       "        vertical-align: middle;\n",
       "    }\n",
       "\n",
       "    .dataframe tbody tr th {\n",
       "        vertical-align: top;\n",
       "    }\n",
       "\n",
       "    .dataframe thead th {\n",
       "        text-align: right;\n",
       "    }\n",
       "</style>\n",
       "<table border=\"1\" class=\"dataframe\">\n",
       "  <thead>\n",
       "    <tr style=\"text-align: right;\">\n",
       "      <th></th>\n",
       "      <th>y2</th>\n",
       "      <th>star_bus</th>\n",
       "    </tr>\n",
       "    <tr>\n",
       "      <th>quarter</th>\n",
       "      <th></th>\n",
       "      <th></th>\n",
       "    </tr>\n",
       "  </thead>\n",
       "  <tbody>\n",
       "    <tr>\n",
       "      <th>0</th>\n",
       "      <td>3.876744</td>\n",
       "      <td>3.852100</td>\n",
       "    </tr>\n",
       "    <tr>\n",
       "      <th>1</th>\n",
       "      <td>3.839799</td>\n",
       "      <td>3.848572</td>\n",
       "    </tr>\n",
       "    <tr>\n",
       "      <th>2</th>\n",
       "      <td>3.847568</td>\n",
       "      <td>3.860315</td>\n",
       "    </tr>\n",
       "    <tr>\n",
       "      <th>3</th>\n",
       "      <td>3.874425</td>\n",
       "      <td>3.877037</td>\n",
       "    </tr>\n",
       "  </tbody>\n",
       "</table>\n",
       "</div>"
      ],
      "text/plain": [
       "               y2  star_bus\n",
       "quarter                    \n",
       "0        3.876744  3.852100\n",
       "1        3.839799  3.848572\n",
       "2        3.847568  3.860315\n",
       "3        3.874425  3.877037"
      ]
     },
     "execution_count": 30,
     "metadata": {},
     "output_type": "execute_result"
    }
   ],
   "source": [
    "# create quarter index\n",
    "def quarter(df):\n",
    "    \n",
    "    ind = (df[\"date_yr\"]-2017)*4\n",
    "    \n",
    "    if df[\"date_mt\"]>=1 and df[\"date_mt\"]<=3:\n",
    "        return ind+0\n",
    "    elif df[\"date_mt\"]>=4 and df[\"date_mt\"]<=6:\n",
    "        return ind+1\n",
    "    elif df[\"date_mt\"]>=7 and df[\"date_mt\"]<=9:\n",
    "        return ind+2\n",
    "    else:\n",
    "        return ind+3\n",
    "    \n",
    "agg[\"quarter\"] = agg.apply(quarter, axis=1)\n",
    "aggdate = agg.groupby([\"quarter\"])[[\"y2\", \"star_bus\"]].mean()\n",
    "aggdate"
   ]
  },
  {
   "cell_type": "code",
   "execution_count": 33,
   "metadata": {},
   "outputs": [
    {
     "data": {
      "application/javascript": [
       "\n",
       "        if (window._pyforest_update_imports_cell) { window._pyforest_update_imports_cell('import matplotlib.pyplot as plt\\nimport pandas as pd\\nimport numpy as np\\nimport seaborn as sns'); }\n",
       "    "
      ],
      "text/plain": [
       "<IPython.core.display.Javascript object>"
      ]
     },
     "metadata": {},
     "output_type": "display_data"
    },
    {
     "data": {
      "application/javascript": [
       "\n",
       "        if (window._pyforest_update_imports_cell) { window._pyforest_update_imports_cell('import matplotlib.pyplot as plt\\nimport pandas as pd\\nimport numpy as np\\nimport seaborn as sns'); }\n",
       "    "
      ],
      "text/plain": [
       "<IPython.core.display.Javascript object>"
      ]
     },
     "metadata": {},
     "output_type": "display_data"
    },
    {
     "data": {
      "application/javascript": [
       "\n",
       "        if (window._pyforest_update_imports_cell) { window._pyforest_update_imports_cell('import matplotlib.pyplot as plt\\nimport pandas as pd\\nimport numpy as np\\nimport seaborn as sns'); }\n",
       "    "
      ],
      "text/plain": [
       "<IPython.core.display.Javascript object>"
      ]
     },
     "metadata": {},
     "output_type": "display_data"
    },
    {
     "data": {
      "application/javascript": [
       "\n",
       "        if (window._pyforest_update_imports_cell) { window._pyforest_update_imports_cell('import matplotlib.pyplot as plt\\nimport pandas as pd\\nimport numpy as np\\nimport seaborn as sns'); }\n",
       "    "
      ],
      "text/plain": [
       "<IPython.core.display.Javascript object>"
      ]
     },
     "metadata": {},
     "output_type": "display_data"
    },
    {
     "data": {
      "application/javascript": [
       "\n",
       "        if (window._pyforest_update_imports_cell) { window._pyforest_update_imports_cell('import matplotlib.pyplot as plt\\nimport pandas as pd\\nimport numpy as np\\nimport seaborn as sns'); }\n",
       "    "
      ],
      "text/plain": [
       "<IPython.core.display.Javascript object>"
      ]
     },
     "metadata": {},
     "output_type": "display_data"
    },
    {
     "data": {
      "application/javascript": [
       "\n",
       "        if (window._pyforest_update_imports_cell) { window._pyforest_update_imports_cell('import matplotlib.pyplot as plt\\nimport pandas as pd\\nimport numpy as np\\nimport seaborn as sns'); }\n",
       "    "
      ],
      "text/plain": [
       "<IPython.core.display.Javascript object>"
      ]
     },
     "metadata": {},
     "output_type": "display_data"
    },
    {
     "data": {
      "application/javascript": [
       "\n",
       "        if (window._pyforest_update_imports_cell) { window._pyforest_update_imports_cell('import matplotlib.pyplot as plt\\nimport pandas as pd\\nimport numpy as np\\nimport seaborn as sns'); }\n",
       "    "
      ],
      "text/plain": [
       "<IPython.core.display.Javascript object>"
      ]
     },
     "metadata": {},
     "output_type": "display_data"
    },
    {
     "data": {
      "image/png": "[encoded data removed]",
      "text/plain": [
       "<Figure size 432x288 with 1 Axes>"
      ]
     },
     "metadata": {
      "needs_background": "light"
     },
     "output_type": "display_data"
    }
   ],
   "source": [
    "plt.plot(aggdate.index, aggdate[\"y2\"], '-r', label='Consumers Rating')\n",
    "plt.plot(aggdate.index, aggdate[\"star_bus\"], '--b', label='Restaurants Rating')\n",
    "plt.suptitle(\"Average Consumers and Business Ratings by Quarters\", fontsize=15)\n",
    "plt.legend()\n",
    "plt.xlabel(\"Quarters in 2017\")\n",
    "plt.ylabel(\"Score\")\n",
    "plt.savefig(\"Average Consumers and Business Ratings by Quarters.png\")"
   ]
  },
  {
   "cell_type": "markdown",
   "metadata": {},
   "source": [
    "##### Detrending"
   ]
  },
  {
   "cell_type": "markdown",
   "metadata": {},
   "source": [
    "Problem: average rating increases every year. One possible reason: restaurants give incentives to customers who give high ratings (then the ratings and reviews might be biased)\n",
    "\n",
    "!! This part is particularly useful when I used all reviews when there is a 12 years gap. Since I now focus only on reviews in 2017, this part is optional and not significant."
   ]
  },
  {
   "cell_type": "markdown",
   "metadata": {},
   "source": [
    "Across different years, the means of the scores seem to be growing. Thus the scores is not stationary. We need to de-trend this variable for the analysis. This could be done by calculating the average growth rate in scores across all quarters and dividing each score by (1 + avg_growth_rate) ** (quarter-0).\n",
    "\n",
    "This method is adopted from detrending the inflation effect in macroeconomics."
   ]
  },
  {
   "cell_type": "code",
   "execution_count": 34,
   "metadata": {},
   "outputs": [
    {
     "name": "stderr",
     "output_type": "stream",
     "text": [
      "C:\\Users\\lliu9\\Anaconda3\\lib\\site-packages\\ipykernel_launcher.py:13: SettingWithCopyWarning: \n",
      "A value is trying to be set on a copy of a slice from a DataFrame.\n",
      "Try using .loc[row_indexer,col_indexer] = value instead\n",
      "\n",
      "See the caveats in the documentation: http://pandas.pydata.org/pandas-docs/stable/user_guide/indexing.html#returning-a-view-versus-a-copy\n",
      "  del sys.path[0]\n",
      "C:\\Users\\lliu9\\Anaconda3\\lib\\site-packages\\ipykernel_launcher.py:14: SettingWithCopyWarning: \n",
      "A value is trying to be set on a copy of a slice from a DataFrame.\n",
      "Try using .loc[row_indexer,col_indexer] = value instead\n",
      "\n",
      "See the caveats in the documentation: http://pandas.pydata.org/pandas-docs/stable/user_guide/indexing.html#returning-a-view-versus-a-copy\n",
      "  \n"
     ]
    }
   ],
   "source": [
    "avg_score_by_quarter =  agg.groupby([\"quarter\"])[[\"y2\"]].mean().values\n",
    "\n",
    "# Calculate the average growth rate in salaries across all quarters\n",
    "avg_growth_rate = ((avg_score_by_quarter[1:] - avg_score_by_quarter[:-1]) / avg_score_by_quarter[:-1]).mean()\n",
    "#avg_growth_rate = 2.73\n",
    "\n",
    "# Divide each salary by (1 + avg_growth_rate) ** (grad_year - baseline)\n",
    "agg['rate'] = (1 + avg_growth_rate) ** (agg.quarter-0)\n",
    "agg['y2_new'] = agg['y2']/agg['rate']\n",
    "agg['star_bus_new'] = agg['star_bus']/agg['rate']\n",
    "\n",
    "# Replace with new adjusted numbers\n",
    "X['star_bus'] = agg['star_bus_new']\n",
    "X['y2'] = agg['y2_new']"
   ]
  },
  {
   "cell_type": "code",
   "execution_count": 35,
   "metadata": {},
   "outputs": [
    {
     "data": {
      "application/javascript": [
       "\n",
       "        if (window._pyforest_update_imports_cell) { window._pyforest_update_imports_cell('import matplotlib.pyplot as plt\\nimport pandas as pd\\nimport numpy as np\\nimport seaborn as sns'); }\n",
       "    "
      ],
      "text/plain": [
       "<IPython.core.display.Javascript object>"
      ]
     },
     "metadata": {},
     "output_type": "display_data"
    },
    {
     "data": {
      "application/javascript": [
       "\n",
       "        if (window._pyforest_update_imports_cell) { window._pyforest_update_imports_cell('import matplotlib.pyplot as plt\\nimport pandas as pd\\nimport numpy as np\\nimport seaborn as sns'); }\n",
       "    "
      ],
      "text/plain": [
       "<IPython.core.display.Javascript object>"
      ]
     },
     "metadata": {},
     "output_type": "display_data"
    },
    {
     "data": {
      "application/javascript": [
       "\n",
       "        if (window._pyforest_update_imports_cell) { window._pyforest_update_imports_cell('import matplotlib.pyplot as plt\\nimport pandas as pd\\nimport numpy as np\\nimport seaborn as sns'); }\n",
       "    "
      ],
      "text/plain": [
       "<IPython.core.display.Javascript object>"
      ]
     },
     "metadata": {},
     "output_type": "display_data"
    },
    {
     "data": {
      "application/javascript": [
       "\n",
       "        if (window._pyforest_update_imports_cell) { window._pyforest_update_imports_cell('import matplotlib.pyplot as plt\\nimport pandas as pd\\nimport numpy as np\\nimport seaborn as sns'); }\n",
       "    "
      ],
      "text/plain": [
       "<IPython.core.display.Javascript object>"
      ]
     },
     "metadata": {},
     "output_type": "display_data"
    },
    {
     "data": {
      "application/javascript": [
       "\n",
       "        if (window._pyforest_update_imports_cell) { window._pyforest_update_imports_cell('import matplotlib.pyplot as plt\\nimport pandas as pd\\nimport numpy as np\\nimport seaborn as sns'); }\n",
       "    "
      ],
      "text/plain": [
       "<IPython.core.display.Javascript object>"
      ]
     },
     "metadata": {},
     "output_type": "display_data"
    },
    {
     "data": {
      "application/javascript": [
       "\n",
       "        if (window._pyforest_update_imports_cell) { window._pyforest_update_imports_cell('import matplotlib.pyplot as plt\\nimport pandas as pd\\nimport numpy as np\\nimport seaborn as sns'); }\n",
       "    "
      ],
      "text/plain": [
       "<IPython.core.display.Javascript object>"
      ]
     },
     "metadata": {},
     "output_type": "display_data"
    },
    {
     "data": {
      "application/javascript": [
       "\n",
       "        if (window._pyforest_update_imports_cell) { window._pyforest_update_imports_cell('import matplotlib.pyplot as plt\\nimport pandas as pd\\nimport numpy as np\\nimport seaborn as sns'); }\n",
       "    "
      ],
      "text/plain": [
       "<IPython.core.display.Javascript object>"
      ]
     },
     "metadata": {},
     "output_type": "display_data"
    },
    {
     "data": {
      "image/png": "[encoded data removed]",
      "text/plain": [
       "<Figure size 432x288 with 1 Axes>"
      ]
     },
     "metadata": {
      "needs_background": "light"
     },
     "output_type": "display_data"
    }
   ],
   "source": [
    "aggdate = agg.groupby([\"quarter\"])[[\"y2_new\", \"star_bus_new\"]].mean()\n",
    "plt.plot(aggdate.index, aggdate[\"y2_new\"], '-r', label='Consumers Rating')\n",
    "plt.plot(aggdate.index, aggdate[\"star_bus_new\"], '--b', label='Restaurants Rating')\n",
    "plt.suptitle(\"Average Consumers and Business Ratings by Quarters\", fontsize=15)\n",
    "plt.legend()\n",
    "plt.xlabel(\"Quarters from 2015 to 2017\")\n",
    "plt.ylabel(\"Score\")\n",
    "plt.savefig(\"Average Consumers and Business Ratings by Quarters.png\")"
   ]
  },
  {
   "cell_type": "code",
   "execution_count": 36,
   "metadata": {},
   "outputs": [
    {
     "data": {
      "application/javascript": [
       "\n",
       "        if (window._pyforest_update_imports_cell) { window._pyforest_update_imports_cell('import matplotlib.pyplot as plt\\nimport pandas as pd\\nimport numpy as np\\nimport seaborn as sns'); }\n",
       "    "
      ],
      "text/plain": [
       "<IPython.core.display.Javascript object>"
      ]
     },
     "metadata": {},
     "output_type": "display_data"
    },
    {
     "data": {
      "text/plain": [
       "0.08843825205720601"
      ]
     },
     "execution_count": 36,
     "metadata": {},
     "output_type": "execute_result"
    }
   ],
   "source": [
    "np.corrcoef(X[\"star_bus\"], X[\"cts_bus\"])[0,1]"
   ]
  },
  {
   "cell_type": "code",
   "execution_count": 114,
   "metadata": {},
   "outputs": [
    {
     "data": {
      "image/png": "[encoded data removed]",
      "text/plain": [
       "<Figure size 432x432 with 3 Axes>"
      ]
     },
     "metadata": {},
     "output_type": "display_data"
    }
   ],
   "source": [
    "# hexagonal bins\n",
    "sns.jointplot(bus['stars'], bus['review_count'],kind=\"reg\", color=\"maroon\")\n",
    "plt.suptitle(\"Jointplot of Review Counts and Stars for Restaurants\", fontsize=15)\n",
    "plt.savefig(\"stars_review.png\")"
   ]
  },
  {
   "cell_type": "code",
   "execution_count": 39,
   "metadata": {},
   "outputs": [
    {
     "data": {
      "application/javascript": [
       "\n",
       "        if (window._pyforest_update_imports_cell) { window._pyforest_update_imports_cell('import matplotlib.pyplot as plt\\nimport pandas as pd\\nimport numpy as np\\nimport seaborn as sns'); }\n",
       "    "
      ],
      "text/plain": [
       "<IPython.core.display.Javascript object>"
      ]
     },
     "metadata": {},
     "output_type": "display_data"
    },
    {
     "data": {
      "application/javascript": [
       "\n",
       "        if (window._pyforest_update_imports_cell) { window._pyforest_update_imports_cell('import matplotlib.pyplot as plt\\nimport pandas as pd\\nimport numpy as np\\nimport seaborn as sns'); }\n",
       "    "
      ],
      "text/plain": [
       "<IPython.core.display.Javascript object>"
      ]
     },
     "metadata": {},
     "output_type": "display_data"
    },
    {
     "name": "stderr",
     "output_type": "stream",
     "text": [
      "C:\\Users\\lliu9\\Anaconda3\\lib\\site-packages\\ipykernel_launcher.py:3: SettingWithCopyWarning: \n",
      "A value is trying to be set on a copy of a slice from a DataFrame.\n",
      "Try using .loc[row_indexer,col_indexer] = value instead\n",
      "\n",
      "See the caveats in the documentation: http://pandas.pydata.org/pandas-docs/stable/user_guide/indexing.html#returning-a-view-versus-a-copy\n",
      "  This is separate from the ipykernel package so we can avoid doing imports until\n",
      "C:\\Users\\lliu9\\Anaconda3\\lib\\site-packages\\ipykernel_launcher.py:6: SettingWithCopyWarning: \n",
      "A value is trying to be set on a copy of a slice from a DataFrame.\n",
      "Try using .loc[row_indexer,col_indexer] = value instead\n",
      "\n",
      "See the caveats in the documentation: http://pandas.pydata.org/pandas-docs/stable/user_guide/indexing.html#returning-a-view-versus-a-copy\n",
      "  \n"
     ]
    }
   ],
   "source": [
    "# Rescale y2 to 0-100 scale again\n",
    "# b. Normalization\n",
    "X['normy'] = (X['y2'] - np.mean(X['y2']))/np.std(X['y2'])\n",
    "\n",
    "# c. Rescale to 0-100 \n",
    "X['y'] = ((100 - 0) / (max(X['normy'] ) - min(X['normy'] ))) * (X['normy'] - min(X['normy'])) + 0 "
   ]
  },
  {
   "cell_type": "markdown",
   "metadata": {},
   "source": [
    "##### Gender"
   ]
  },
  {
   "cell_type": "code",
   "execution_count": 43,
   "metadata": {},
   "outputs": [
    {
     "name": "stdout",
     "output_type": "stream",
     "text": [
      "Ratio of females inferred from the names: 0.45\n"
     ]
    }
   ],
   "source": [
    "guess = gender.Detector()\n",
    "agg[\"guess\"] = [guess.get_gender(i) for i in agg[\"name_y\"]]\n",
    "X['gender'] = np.where(agg[\"guess\"].str.contains(\"female\"), 1, 0)\n",
    "print(\"Ratio of females inferred from the names:\",\n",
    "      round(X['gender'].sum()/X.shape[0], 2))"
   ]
  },
  {
   "cell_type": "code",
   "execution_count": 44,
   "metadata": {},
   "outputs": [
    {
     "data": {
      "text/plain": [
       "Text(0.5, 0.98, 'Histogram of Satisfaction Scores by Gender')"
      ]
     },
     "execution_count": 44,
     "metadata": {},
     "output_type": "execute_result"
    },
    {
     "data": {
      "image/png": "[encoded data removed]",
      "text/plain": [
       "<Figure size 432x288 with 1 Axes>"
      ]
     },
     "metadata": {},
     "output_type": "display_data"
    }
   ],
   "source": [
    "sns.distplot(X[X['gender']==1]['y'], bins=10,  color=\"skyblue\", label=\"Female\")\n",
    "sns.distplot(X[X['gender']==0]['y'], bins=10, color=\"maroon\", label=\"Male\")\n",
    "plt.legend()\n",
    "plt.xlabel('Satisfaction Score')\n",
    "plt.suptitle('Histogram of Satisfaction Scores by Gender', fontsize=15)\n",
    "#plt.savefig('Histogram of Satisfaction Scores by Gender.png')"
   ]
  },
  {
   "cell_type": "code",
   "execution_count": 45,
   "metadata": {},
   "outputs": [
    {
     "data": {
      "text/html": [
       "<div>\n",
       "<style scoped>\n",
       "    .dataframe tbody tr th:only-of-type {\n",
       "        vertical-align: middle;\n",
       "    }\n",
       "\n",
       "    .dataframe tbody tr th {\n",
       "        vertical-align: top;\n",
       "    }\n",
       "\n",
       "    .dataframe thead th {\n",
       "        text-align: right;\n",
       "    }\n",
       "</style>\n",
       "<table border=\"1\" class=\"dataframe\">\n",
       "  <thead>\n",
       "    <tr style=\"text-align: right;\">\n",
       "      <th></th>\n",
       "      <th>cts_bus</th>\n",
       "      <th>star_bus</th>\n",
       "      <th>y2</th>\n",
       "      <th>normy</th>\n",
       "      <th>y</th>\n",
       "    </tr>\n",
       "    <tr>\n",
       "      <th>gender</th>\n",
       "      <th></th>\n",
       "      <th></th>\n",
       "      <th></th>\n",
       "      <th></th>\n",
       "      <th></th>\n",
       "    </tr>\n",
       "  </thead>\n",
       "  <tbody>\n",
       "    <tr>\n",
       "      <th>0</th>\n",
       "      <td>771.53</td>\n",
       "      <td>3.85</td>\n",
       "      <td>3.82</td>\n",
       "      <td>-0.02</td>\n",
       "      <td>48.45</td>\n",
       "    </tr>\n",
       "    <tr>\n",
       "      <th>1</th>\n",
       "      <td>791.59</td>\n",
       "      <td>3.87</td>\n",
       "      <td>3.90</td>\n",
       "      <td>0.02</td>\n",
       "      <td>49.47</td>\n",
       "    </tr>\n",
       "  </tbody>\n",
       "</table>\n",
       "</div>"
      ],
      "text/plain": [
       "        cts_bus  star_bus    y2  normy      y\n",
       "gender                                       \n",
       "0        771.53      3.85  3.82  -0.02  48.45\n",
       "1        791.59      3.87  3.90   0.02  49.47"
      ]
     },
     "execution_count": 45,
     "metadata": {},
     "output_type": "execute_result"
    }
   ],
   "source": [
    "# dataframe for plot\n",
    "XG = X.groupby('gender').mean().round(2)\n",
    "XG.head()"
   ]
  },
  {
   "cell_type": "code",
   "execution_count": 70,
   "metadata": {},
   "outputs": [],
   "source": [
    "def render_mpl_table(data, col_width=3.0, row_height=0.625, font_size=14,\n",
    "                     header_color='#40466e', row_colors=['#f1f1f2', 'w'], edge_color='w',\n",
    "                     bbox=[0, 0, 1, 1], header_columns=0,\n",
    "                     ax=None, **kwargs):\n",
    "    if ax is None:\n",
    "        size = (np.array(data.shape[::-1]) + np.array([0, 1])) * np.array([col_width, row_height])\n",
    "        fig, ax = plt.subplots(figsize=size)\n",
    "        ax.axis('off')\n",
    "\n",
    "    mpl_table = ax.table(cellText=data.values, bbox=bbox, colLabels=data.columns, **kwargs)\n",
    "\n",
    "    mpl_table.auto_set_font_size(False)\n",
    "    mpl_table.set_fontsize(font_size)\n",
    "\n",
    "    for k, cell in  six.iteritems(mpl_table._cells):\n",
    "        cell.set_edgecolor(edge_color)\n",
    "        if k[0] == 0 or k[1] < header_columns:\n",
    "            cell.set_text_props(weight='bold', color='w')\n",
    "            cell.set_facecolor(header_color)\n",
    "        else:\n",
    "            cell.set_facecolor(row_colors[k[0]%len(row_colors) ])\n",
    "    return ax\n",
    "\n",
    "#render_mpl_table(XG, header_columns=0, col_width=2.0)\n",
    "#plt.savefig('gendertable.png')"
   ]
  },
  {
   "cell_type": "markdown",
   "metadata": {},
   "source": [
    "##### Weekend "
   ]
  },
  {
   "cell_type": "code",
   "execution_count": 46,
   "metadata": {},
   "outputs": [
    {
     "data": {
      "text/plain": [
       "0     0\n",
       "14    2\n",
       "17    3\n",
       "18    3\n",
       "23    4\n",
       "Name: dayofweek, dtype: int64"
      ]
     },
     "execution_count": 46,
     "metadata": {},
     "output_type": "execute_result"
    }
   ],
   "source": [
    "# Monday 0 to Sunday 6\n",
    "# Hypothesis: reviews written on Friday, Saturday, and Sunday are different from the ones written during weekdays\n",
    "agg[\"dayofweek\"] = agg[\"DATE\"].dt.dayofweek\n",
    "agg[\"dayofweek\"].head()"
   ]
  },
  {
   "cell_type": "code",
   "execution_count": 47,
   "metadata": {},
   "outputs": [],
   "source": [
    "def weekend(df):\n",
    "    \n",
    "    if df[\"dayofweek\"]==4:\n",
    "        return 1\n",
    "    elif df[\"dayofweek\"]==5:\n",
    "        return 1\n",
    "    elif df[\"dayofweek\"]==6:\n",
    "        return 1   \n",
    "    else:\n",
    "        return 0"
   ]
  },
  {
   "cell_type": "code",
   "execution_count": 48,
   "metadata": {},
   "outputs": [
    {
     "data": {
      "text/plain": [
       "0    98722\n",
       "1    82422\n",
       "Name: weekend, dtype: int64"
      ]
     },
     "execution_count": 48,
     "metadata": {},
     "output_type": "execute_result"
    }
   ],
   "source": [
    "X[\"weekend\"] = agg.apply(weekend, axis=1)\n",
    "X[\"weekend\"].value_counts()"
   ]
  },
  {
   "cell_type": "code",
   "execution_count": 50,
   "metadata": {},
   "outputs": [
    {
     "data": {
      "text/plain": [
       "DescribeResult(nobs=98722, minmax=(0.0, 100.0), mean=49.05889029897076, variance=525.2944618678182, skewness=-0.9402636163501465, kurtosis=-0.43563771670467055)"
      ]
     },
     "execution_count": 50,
     "metadata": {},
     "output_type": "execute_result"
    }
   ],
   "source": [
    "stats.describe(X[X[\"weekend\"]==0]['y'])"
   ]
  },
  {
   "cell_type": "code",
   "execution_count": 51,
   "metadata": {},
   "outputs": [
    {
     "data": {
      "text/plain": [
       "DescribeResult(nobs=82422, minmax=(0.022007274868150524, 99.34065738775402), mean=48.73452147219568, variance=546.9177788331199, skewness=-0.9145230553491156, kurtosis=-0.5384020224468955)"
      ]
     },
     "execution_count": 51,
     "metadata": {},
     "output_type": "execute_result"
    }
   ],
   "source": [
    "stats.describe(X[X[\"weekend\"]==1]['y'])"
   ]
  },
  {
   "cell_type": "code",
   "execution_count": 52,
   "metadata": {},
   "outputs": [
    {
     "data": {
      "text/plain": [
       "Text(0.5, 0.98, 'Histogram of Satisfaction Scores by Weekend/Weekday')"
      ]
     },
     "execution_count": 52,
     "metadata": {},
     "output_type": "execute_result"
    },
    {
     "data": {
      "image/png": "[encoded data removed]",
      "text/plain": [
       "<Figure size 432x288 with 1 Axes>"
      ]
     },
     "metadata": {},
     "output_type": "display_data"
    }
   ],
   "source": [
    "sns.distplot(X[X['weekend']==1]['y'], bins=10, color=\"skyblue\", label=\"weekend\")\n",
    "sns.distplot(X[X['weekend']==0]['y'], bins=10, color=\"maroon\", label=\"weekday\")\n",
    "plt.legend()\n",
    "plt.xlabel('Satisfaction Score')\n",
    "plt.suptitle('Histogram of Satisfaction Scores by Weekend/Weekday', fontsize=15)\n",
    "#plt.savefig('Histogram of Satisfaction Scores by WeekendWeekday.png')"
   ]
  },
  {
   "cell_type": "markdown",
   "metadata": {},
   "source": [
    "##### Vegan-friendly"
   ]
  },
  {
   "cell_type": "markdown",
   "metadata": {},
   "source": [
    "https://www.allrecipes.com/recipes/265/everyday-cooking/vegetarian/main-dishes/"
   ]
  },
  {
   "cell_type": "code",
   "execution_count": 94,
   "metadata": {},
   "outputs": [],
   "source": [
    "veg_keywords = [\"vegan\", \"animal-free\", \"vegetarian\",  \n",
    "                \"flexitarian\", \"pescetarian\", \"freegan\", \"veggie\",\n",
    "                \"vegetables\", \"tofu\", \"chickpea\", \"eggplant\", \n",
    "                \"salad\", \"falafels\", \"bean\", \"spinach\", \n",
    "                \"zucchini\", \"spinach\", \"pepper\", \"lentil\", \n",
    "                \"mushroom\", \"onion\"]\n",
    "\n",
    "def vegan(df):\n",
    "    \n",
    "    vocas = [i.lower() for i in df['text'].split()]\n",
    "    \n",
    "    for key in veg_keywords:         \n",
    "        if key in vocas:\n",
    "            return 1  \n",
    "    return 0\n",
    "        \n",
    "# create new column for food categories\n",
    "X[\"vegan\"] = agg.apply(vegan, axis=1)"
   ]
  },
  {
   "cell_type": "code",
   "execution_count": 95,
   "metadata": {},
   "outputs": [
    {
     "data": {
      "text/plain": [
       "0    159734\n",
       "1     21410\n",
       "Name: vegan, dtype: int64"
      ]
     },
     "execution_count": 95,
     "metadata": {},
     "output_type": "execute_result"
    }
   ],
   "source": [
    "X[\"vegan\"].value_counts()"
   ]
  },
  {
   "cell_type": "markdown",
   "metadata": {},
   "source": [
    "##### Kids-friendly"
   ]
  },
  {
   "cell_type": "code",
   "execution_count": 104,
   "metadata": {},
   "outputs": [],
   "source": [
    "kid_keywords = [\"child\", \"children\", \"kid\", \"kids\", \n",
    "                \"kid's\", \"kid-friendly\", \"baby\"]\n",
    "\n",
    "def kid(df):\n",
    "    \n",
    "    vocas = [i.lower() for i in df['text'].split()]\n",
    "    \n",
    "    for key in kid_keywords:         \n",
    "        if key in vocas:\n",
    "            return 1  \n",
    "    return 0\n",
    "        \n",
    "# create new column for food categories\n",
    "X[\"kid\"] = agg.apply(kid, axis=1)"
   ]
  },
  {
   "cell_type": "code",
   "execution_count": 105,
   "metadata": {},
   "outputs": [
    {
     "data": {
      "text/plain": [
       "0    176338\n",
       "1      4806\n",
       "Name: kid, dtype: int64"
      ]
     },
     "execution_count": 105,
     "metadata": {},
     "output_type": "execute_result"
    }
   ],
   "source": [
    "X[\"kid\"].value_counts()"
   ]
  },
  {
   "cell_type": "markdown",
   "metadata": {},
   "source": [
    "##### With group"
   ]
  },
  {
   "cell_type": "code",
   "execution_count": 53,
   "metadata": {},
   "outputs": [],
   "source": [
    "keywords = [\"we\", \"our\", \"us\", \"daughter\", \"son\", \"children\", \"kids\", \"family\",\n",
    "           \"friends\", \"friend\", \"guests\", \"buddy\", \"colleagues\", \"wife\", \"husband\",\n",
    "            \"partner\", \"birthday\", \"group\", \"party\"]\n",
    "\n",
    "def withgroup(df):\n",
    "    \n",
    "    vocas = [i.lower() for i in df['text'].split()]\n",
    "    \n",
    "    for key in keywords:         \n",
    "        if key in vocas:\n",
    "            return 1  \n",
    "    return 0\n",
    "        \n",
    "# create new column for food categories\n",
    "X[\"group\"] = agg.apply(withgroup, axis=1)"
   ]
  },
  {
   "cell_type": "code",
   "execution_count": 54,
   "metadata": {},
   "outputs": [
    {
     "data": {
      "text/plain": [
       "1    91905\n",
       "0    89239\n",
       "Name: group, dtype: int64"
      ]
     },
     "execution_count": 54,
     "metadata": {},
     "output_type": "execute_result"
    }
   ],
   "source": [
    "X[\"group\"].value_counts()"
   ]
  },
  {
   "cell_type": "code",
   "execution_count": 55,
   "metadata": {},
   "outputs": [
    {
     "data": {
      "text/plain": [
       "DescribeResult(nobs=89239, minmax=(0.0, 99.34065738775402), mean=49.68830348720767, variance=525.9589375468757, skewness=-0.9865176389781612, kurtosis=-0.35176737136964853)"
      ]
     },
     "execution_count": 55,
     "metadata": {},
     "output_type": "execute_result"
    }
   ],
   "source": [
    "stats.describe(X[X[\"group\"]==0]['y'])"
   ]
  },
  {
   "cell_type": "code",
   "execution_count": 56,
   "metadata": {},
   "outputs": [
    {
     "data": {
      "text/plain": [
       "DescribeResult(nobs=91905, minmax=(0.022007274868150524, 100.0), mean=48.15683566706249, variance=542.9373786847711, skewness=-0.8748305040280878, kurtosis=-0.5972288646327879)"
      ]
     },
     "execution_count": 56,
     "metadata": {},
     "output_type": "execute_result"
    }
   ],
   "source": [
    "stats.describe(X[X[\"group\"]==1]['y'])"
   ]
  },
  {
   "cell_type": "code",
   "execution_count": 57,
   "metadata": {},
   "outputs": [
    {
     "data": {
      "text/plain": [
       "Text(0.5, 0.98, 'Histogram of Satisfaction Scores by (Not) With Groups')"
      ]
     },
     "execution_count": 57,
     "metadata": {},
     "output_type": "execute_result"
    },
    {
     "data": {
      "image/png": "[encoded data removed]",
      "text/plain": [
       "<Figure size 432x288 with 1 Axes>"
      ]
     },
     "metadata": {},
     "output_type": "display_data"
    }
   ],
   "source": [
    "sns.distplot(X[X['group']==1]['y'], bins=10, color=\"skyblue\", label=\"group\")\n",
    "sns.distplot(X[X['group']==0]['y'], bins=10, color=\"maroon\", label=\"individual\")\n",
    "plt.legend()\n",
    "plt.xlabel('Satisfaction Score')\n",
    "plt.suptitle('Histogram of Satisfaction Scores by (Not) With Groups', fontsize=15)\n",
    "#plt.savefig('Histogram of Satisfaction Scores by (Not) With Groups.png')"
   ]
  },
  {
   "cell_type": "markdown",
   "metadata": {},
   "source": [
    "##### Food Categories"
   ]
  },
  {
   "cell_type": "code",
   "execution_count": 58,
   "metadata": {},
   "outputs": [],
   "source": [
    "Ameri = [\"American (New)\", \"American (Traditional)\", \"Burgers\", \"Chicken Wings\",\n",
    "        \"Fast Food\", \"Hot Dogs\", \"Salad\", \"Sandwiches\", \"Barbeque\"\n",
    "         \"Smokehouse\", \"Pizza\", \"Cheesesteaks\", \"Cafeteria\"]\n",
    "Europ = [\"Italian\", \"French\", \"British\", \"Hungarian\", \"lombian\",\"Portuguese\", \"German\",\n",
    "         \"Russian\", \"Spanish\", \"Ukrainian\", \"Fish & Chips\", \n",
    "         \"Greek\", \"Irish\", \"Modern European\", \"Polish\", \"Bulgarian\", \"Armenian\"]\n",
    "SouAM = [\"Mexican\", \"Argentine\", \"Cajun\", \"Caribbean\", \"Peruvian\",\n",
    "         \"Honduran\", \"Salvadoran\", \"Venezuelan\", \"Puerto Rican\", \"Tex-Mex\", \n",
    "         \"New Mexican Cuisine\", \"Nicaraguan\", \"Tacos\", \"Latin American\"]\n",
    "Asian = [\"Thai\", \"Japanese\", \"Fusion\", \"Korean\",\n",
    "          \"Filipino\",\"Hawaiian\", \"Curry\", \"Asian\", \"Pan Asian\",\n",
    "         \"Soba\", \"Vietnamese\", \"Singaporean\", \"Mongolian\", \n",
    "         \"Guamanian\", \"Himalayan/Nepalese\", \"Malaysian\",\n",
    "         \"Middle Eastern\", \"Sushi Bars\", \"Hong Kong Style Cafe\", \"Bubble Tea\"]\n",
    "Indian = ['Indian']\n",
    "Chinese = [\"Chinese\",  \"Taiwanese\", \"Cantonese\", \"Shanghainese\", \"Szechuan\",\n",
    "          \"Dim Sum\", \"Ramen\", \"Hot Pot\"]\n",
    "MidEas = [\"Mediterranean\",\"Kebab\", \"Pakistani\", \"Persian/Iranian\", \"Falafel\", \"Lebanese\"]\n",
    "Drinks = [\"Beer\", \"Coffee\", \"Wine Bars\", \"Pubs\",  \"Wineries\", \n",
    "          \"Wine & Spirits\", \"Tea Rooms\", \"Irish Pub\", \"Juice Bars & Smoothies\", \"Bars\"]\n",
    "\n",
    "def fooddummy(df, keywords):\n",
    "    for key in keywords: \n",
    "        if key in df['categories']:\n",
    "            return 1     \n",
    "    return 0\n",
    "\n",
    "# Full List (Too slow to run through)\n",
    "FoodCate = [\"Ameri\", \"Europ\", \"SouAM\", \"Asian\", \n",
    "            \"Indian\", \"Chinese\", \"MidEas\", \"Drinks\"]\n",
    "FoodCateKeys = [Ameri, Europ, SouAM, Asian, \n",
    "                Indian, Chinese, MidEas, Drinks]\n",
    "\n",
    "#Simplified List (Just pick two most unique categories)\n",
    "#FoodCate = [\"Asian\", \"Drinks\"]\n",
    "#FoodCateKeys = [Asian, Drinks]\n",
    "\n",
    "#c reate new column for food categories\n",
    "for index, name in enumerate(FoodCate):\n",
    "    X[name] = agg.apply(fooddummy, args=(FoodCateKeys[index],), axis=1)"
   ]
  },
  {
   "cell_type": "code",
   "execution_count": 59,
   "metadata": {},
   "outputs": [],
   "source": [
    "def category(df):\n",
    "    \n",
    "    if df['Ameri'] == 1:\n",
    "        return 'American'\n",
    "    elif df['Europ'] == 1:\n",
    "        return 'Europe'\n",
    "    elif df['SouAM'] == 1:\n",
    "        return 'South American'\n",
    "    elif df['Asian'] == 1:\n",
    "        return 'Asian'\n",
    "    elif df['Indian'] == 1:\n",
    "        return 'Indian'\n",
    "    elif df['Chinese'] == 1:\n",
    "        return 'Chinese'\n",
    "    elif df['MidEas'] == 1:\n",
    "        return 'Middle East'\n",
    "    elif df['Drinks'] == 1:\n",
    "        return 'Bars & Drinks'\n",
    "    else:\n",
    "        return 'Others'\n",
    "    \n",
    "X['category'] = X.apply(category, axis = 1)"
   ]
  },
  {
   "cell_type": "code",
   "execution_count": 60,
   "metadata": {},
   "outputs": [
    {
     "data": {
      "text/plain": [
       "American          88382\n",
       "Asian             34509\n",
       "Europe            15237\n",
       "South American    15033\n",
       "Others            13998\n",
       "Bars & Drinks      6608\n",
       "Chinese            4902\n",
       "Indian             1636\n",
       "Middle East         839\n",
       "Name: category, dtype: int64"
      ]
     },
     "execution_count": 60,
     "metadata": {},
     "output_type": "execute_result"
    }
   ],
   "source": [
    "X['category'].value_counts()"
   ]
  },
  {
   "cell_type": "markdown",
   "metadata": {},
   "source": [
    "###### Overlapping densities visualization"
   ]
  },
  {
   "cell_type": "markdown",
   "metadata": {},
   "source": [
    "https://seaborn.pydata.org/generated/seaborn.kdeplot.html\n",
    "\n",
    "https://seaborn.pydata.org/examples/kde_ridgeplot.html    "
   ]
  },
  {
   "cell_type": "code",
   "execution_count": 61,
   "metadata": {},
   "outputs": [
    {
     "data": {
      "text/plain": [
       "Text(0.5, 8.959999999999994, 'score')"
      ]
     },
     "execution_count": 61,
     "metadata": {},
     "output_type": "execute_result"
    },
    {
     "data": {
      "text/plain": [
       "<Figure size 576x720 with 0 Axes>"
      ]
     },
     "metadata": {},
     "output_type": "display_data"
    },
    {
     "data": {
      "image/png": "[encoded data removed]",
      "text/plain": [
       "<Figure size 432x648 with 9 Axes>"
      ]
     },
     "metadata": {},
     "output_type": "display_data"
    }
   ],
   "source": [
    "sns.set(style=\"white\", rc={\"axes.facecolor\": (0, 0, 0, 0)})\n",
    "plt.figure(figsize = (8,10))\n",
    "\n",
    "# Initialize the FacetGrid object\n",
    "pal = sns.cubehelix_palette(10, rot=-.25, light=.7)\n",
    "g = sns.FacetGrid(X, row=\"category\", hue=\"category\", aspect=6, height=1, palette=pal)\n",
    "\n",
    "# Draw the densities in a few steps\n",
    "g.map(sns.kdeplot, \"y\", clip_on=False, shade=True, color=\"r\", gridsize=8, alpha=0.5, lw=2, bw=.2)\n",
    "g.map(sns.kdeplot, \"y\", clip_on=False, color=\"r\", gridsize=8,  lw=2, bw=.2)\n",
    "g.map(plt.axhline, y=0, lw=2, color=\"r\", clip_on=False)\n",
    "\n",
    "\n",
    "# Define and use a simple function to label the plot in axes coordinates\n",
    "def label(x, color, label):\n",
    "    ax = plt.gca()\n",
    "    ax.text(0, .4, label, fontweight=\"bold\", color=\"b\",\n",
    "            ha=\"left\", va=\"center\", transform=ax.transAxes)\n",
    "\n",
    "g.map(label, \"y\")\n",
    "\n",
    "# Set the subplots to overlap\n",
    "g.fig.subplots_adjust(hspace=-0.0)\n",
    "\n",
    "# Remove axes details that don't play well with overlap\n",
    "g.set_titles(\"\")\n",
    "g.set(yticks=[])\n",
    "g.despine(bottom=True, left=True)\n",
    "plt.suptitle('Densities of Scores by Restaurants Categories', fontsize=15)\n",
    "plt.xlabel('score')\n",
    "#plt.savefig(\"DensitiesCategories.png\")"
   ]
  },
  {
   "cell_type": "code",
   "execution_count": 48,
   "metadata": {},
   "outputs": [],
   "source": [
    "#Coorelation Matrix Heatmap\n",
    "\n",
    "#plt.matshow(X.corr())\n",
    "#plt.xticks(range(len(X.columns)), X.columns)\n",
    "#plt.yticks(range(len(X.columns)), X.columns)\n",
    "#plt.colorbar()"
   ]
  },
  {
   "cell_type": "markdown",
   "metadata": {},
   "source": [
    "### Machine Learning"
   ]
  },
  {
   "cell_type": "markdown",
   "metadata": {},
   "source": [
    "The ML algorithm will predict our satisfaction (utility) from dining at a particular restaurant. The predicted score will be used to rank the filtered options."
   ]
  },
  {
   "cell_type": "markdown",
   "metadata": {},
   "source": [
    "#### Preview data"
   ]
  },
  {
   "cell_type": "code",
   "execution_count": 62,
   "metadata": {},
   "outputs": [
    {
     "data": {
      "text/html": [
       "<div>\n",
       "<style scoped>\n",
       "    .dataframe tbody tr th:only-of-type {\n",
       "        vertical-align: middle;\n",
       "    }\n",
       "\n",
       "    .dataframe tbody tr th {\n",
       "        vertical-align: top;\n",
       "    }\n",
       "\n",
       "    .dataframe thead th {\n",
       "        text-align: right;\n",
       "    }\n",
       "</style>\n",
       "<table border=\"1\" class=\"dataframe\">\n",
       "  <thead>\n",
       "    <tr style=\"text-align: right;\">\n",
       "      <th></th>\n",
       "      <th>cts_bus</th>\n",
       "      <th>star_bus</th>\n",
       "      <th>y2</th>\n",
       "      <th>normy</th>\n",
       "      <th>gender</th>\n",
       "      <th>weekend</th>\n",
       "      <th>group</th>\n",
       "      <th>Ameri</th>\n",
       "      <th>Europ</th>\n",
       "      <th>SouAM</th>\n",
       "      <th>Asian</th>\n",
       "      <th>Indian</th>\n",
       "      <th>Chinese</th>\n",
       "      <th>MidEas</th>\n",
       "      <th>Drinks</th>\n",
       "    </tr>\n",
       "  </thead>\n",
       "  <tbody>\n",
       "    <tr>\n",
       "      <th>0</th>\n",
       "      <td>13</td>\n",
       "      <td>4.000000</td>\n",
       "      <td>4.333333</td>\n",
       "      <td>0.274417</td>\n",
       "      <td>1</td>\n",
       "      <td>0</td>\n",
       "      <td>0</td>\n",
       "      <td>1</td>\n",
       "      <td>0</td>\n",
       "      <td>0</td>\n",
       "      <td>0</td>\n",
       "      <td>0</td>\n",
       "      <td>0</td>\n",
       "      <td>0</td>\n",
       "      <td>1</td>\n",
       "    </tr>\n",
       "    <tr>\n",
       "      <th>14</th>\n",
       "      <td>6</td>\n",
       "      <td>2.500878</td>\n",
       "      <td>3.874722</td>\n",
       "      <td>0.009107</td>\n",
       "      <td>0</td>\n",
       "      <td>0</td>\n",
       "      <td>1</td>\n",
       "      <td>1</td>\n",
       "      <td>0</td>\n",
       "      <td>0</td>\n",
       "      <td>0</td>\n",
       "      <td>0</td>\n",
       "      <td>0</td>\n",
       "      <td>0</td>\n",
       "      <td>0</td>\n",
       "    </tr>\n",
       "    <tr>\n",
       "      <th>17</th>\n",
       "      <td>6</td>\n",
       "      <td>2.500878</td>\n",
       "      <td>5.338772</td>\n",
       "      <td>0.856068</td>\n",
       "      <td>0</td>\n",
       "      <td>0</td>\n",
       "      <td>0</td>\n",
       "      <td>1</td>\n",
       "      <td>0</td>\n",
       "      <td>0</td>\n",
       "      <td>0</td>\n",
       "      <td>0</td>\n",
       "      <td>0</td>\n",
       "      <td>0</td>\n",
       "      <td>0</td>\n",
       "    </tr>\n",
       "    <tr>\n",
       "      <th>18</th>\n",
       "      <td>6</td>\n",
       "      <td>2.500878</td>\n",
       "      <td>0.529286</td>\n",
       "      <td>-1.926246</td>\n",
       "      <td>0</td>\n",
       "      <td>0</td>\n",
       "      <td>0</td>\n",
       "      <td>1</td>\n",
       "      <td>0</td>\n",
       "      <td>0</td>\n",
       "      <td>0</td>\n",
       "      <td>0</td>\n",
       "      <td>0</td>\n",
       "      <td>0</td>\n",
       "      <td>0</td>\n",
       "    </tr>\n",
       "    <tr>\n",
       "      <th>23</th>\n",
       "      <td>349</td>\n",
       "      <td>3.000000</td>\n",
       "      <td>5.305483</td>\n",
       "      <td>0.836811</td>\n",
       "      <td>0</td>\n",
       "      <td>1</td>\n",
       "      <td>0</td>\n",
       "      <td>1</td>\n",
       "      <td>0</td>\n",
       "      <td>0</td>\n",
       "      <td>0</td>\n",
       "      <td>0</td>\n",
       "      <td>0</td>\n",
       "      <td>0</td>\n",
       "      <td>0</td>\n",
       "    </tr>\n",
       "  </tbody>\n",
       "</table>\n",
       "</div>"
      ],
      "text/plain": [
       "    cts_bus  star_bus        y2     normy  gender  weekend  group  Ameri  \\\n",
       "0        13  4.000000  4.333333  0.274417       1        0      0      1   \n",
       "14        6  2.500878  3.874722  0.009107       0        0      1      1   \n",
       "17        6  2.500878  5.338772  0.856068       0        0      0      1   \n",
       "18        6  2.500878  0.529286 -1.926246       0        0      0      1   \n",
       "23      349  3.000000  5.305483  0.836811       0        1      0      1   \n",
       "\n",
       "    Europ  SouAM  Asian  Indian  Chinese  MidEas  Drinks  \n",
       "0       0      0      0       0        0       0       1  \n",
       "14      0      0      0       0        0       0       0  \n",
       "17      0      0      0       0        0       0       0  \n",
       "18      0      0      0       0        0       0       0  \n",
       "23      0      0      0       0        0       0       0  "
      ]
     },
     "execution_count": 62,
     "metadata": {},
     "output_type": "execute_result"
    }
   ],
   "source": [
    "X = X.drop([\"y\", \"category\"], axis=1)\n",
    "X.head()"
   ]
  },
  {
   "cell_type": "code",
   "execution_count": 63,
   "metadata": {},
   "outputs": [
    {
     "data": {
      "text/plain": [
       "0     55.260128\n",
       "14    49.104521\n",
       "17    68.690439\n",
       "18     4.349598\n",
       "23    68.270019\n",
       "35    50.346709\n",
       "40     1.997691\n",
       "48    64.181862\n",
       "53    44.107960\n",
       "55     5.282390\n",
       "Name: y, dtype: float64"
      ]
     },
     "execution_count": 63,
     "metadata": {},
     "output_type": "execute_result"
    }
   ],
   "source": [
    "y[:10]"
   ]
  },
  {
   "cell_type": "code",
   "execution_count": 111,
   "metadata": {},
   "outputs": [
    {
     "data": {
      "text/plain": [
       "((181144, 15), (181144,))"
      ]
     },
     "execution_count": 111,
     "metadata": {},
     "output_type": "execute_result"
    }
   ],
   "source": [
    "# make sure the rows number match!\n",
    "(X.shape,y.shape)"
   ]
  },
  {
   "cell_type": "markdown",
   "metadata": {},
   "source": [
    "#### Predictive Models"
   ]
  },
  {
   "cell_type": "markdown",
   "metadata": {},
   "source": [
    "##### Feature importance using Random Forest"
   ]
  },
  {
   "cell_type": "code",
   "execution_count": 112,
   "metadata": {},
   "outputs": [
    {
     "name": "stdout",
     "output_type": "stream",
     "text": [
      "cts_bus 0.2907590221699483\n",
      "star_bus 0.3944183387044239\n",
      "gender 0.056872200771530046\n",
      "weekend 0.07254058687820933\n",
      "group 0.019226259316879223\n",
      "Ameri 0.022267132812273514\n",
      "Europ 0.011876855944651916\n",
      "SouAM 0.01631572129207803\n",
      "Asian 0.018349306662787047\n",
      "Indian 0.0022685118517696886\n",
      "Chinese 0.011556502265713427\n",
      "MidEas 0.005624146475634684\n",
      "Drinks 0.02262861240840721\n",
      "vegan 0.04251403699888592\n",
      "kid 0.012782765446807922\n"
     ]
    }
   ],
   "source": [
    "from sklearn.ensemble import RandomForestRegressor\n",
    "rfc = RandomForestRegressor(n_estimators = 100,n_jobs = 4).fit(X, y)\n",
    "\n",
    "for name,score in zip(X.columns, rfc.feature_importances_):\n",
    "    print(name,score)"
   ]
  },
  {
   "cell_type": "code",
   "execution_count": 113,
   "metadata": {
    "scrolled": true
   },
   "outputs": [
    {
     "data": {
      "image/png": "[encoded data removed]",
      "text/plain": [
       "<Figure size 504x720 with 1 Axes>"
      ]
     },
     "metadata": {},
     "output_type": "display_data"
    }
   ],
   "source": [
    "imp = pd.DataFrame({\"features\":X.columns, \"score\": rfc.feature_importances_})\n",
    "imp = imp.sort_values(by='score', ascending=False)\n",
    "imp = imp.round(2)\n",
    "render_mpl_table(imp, header_columns=0, col_width=3.5)\n",
    "plt.savefig('importance.png')"
   ]
  },
  {
   "cell_type": "code",
   "execution_count": 114,
   "metadata": {
    "scrolled": true
   },
   "outputs": [
    {
     "data": {
      "text/plain": [
       "Text(0.5, 0, 'scores')"
      ]
     },
     "execution_count": 114,
     "metadata": {},
     "output_type": "execute_result"
    },
    {
     "data": {
      "image/png": "[encoded data removed]",
      "text/plain": [
       "<Figure size 432x288 with 1 Axes>"
      ]
     },
     "metadata": {},
     "output_type": "display_data"
    }
   ],
   "source": [
    "plt.hlines(y=imp[\"features\"], xmin=0, xmax=imp['score'],\n",
    "           linestyles ='dashed', color='maroon')\n",
    "\n",
    "plt.plot(imp['score'], imp[\"features\"], \">\", color='maroon')\n",
    " \n",
    "plt.yticks(imp[\"features\"])\n",
    "plt.title(\"Relative Features Importance\", loc='center', fontsize=15)\n",
    "plt.xlabel('scores')\n",
    "#plt.savefig(\"Relative Features Importance.png\")"
   ]
  },
  {
   "cell_type": "markdown",
   "metadata": {},
   "source": [
    "Random Forest measures the relative importance of each predictor by counting the number of associated training samples in the 500 trees. "
   ]
  },
  {
   "cell_type": "code",
   "execution_count": 115,
   "metadata": {},
   "outputs": [
    {
     "data": {
      "text/html": [
       "<div>\n",
       "<style scoped>\n",
       "    .dataframe tbody tr th:only-of-type {\n",
       "        vertical-align: middle;\n",
       "    }\n",
       "\n",
       "    .dataframe tbody tr th {\n",
       "        vertical-align: top;\n",
       "    }\n",
       "\n",
       "    .dataframe thead th {\n",
       "        text-align: right;\n",
       "    }\n",
       "</style>\n",
       "<table border=\"1\" class=\"dataframe\">\n",
       "  <thead>\n",
       "    <tr style=\"text-align: right;\">\n",
       "      <th></th>\n",
       "      <th>cts_bus</th>\n",
       "      <th>star_bus</th>\n",
       "      <th>gender</th>\n",
       "      <th>weekend</th>\n",
       "      <th>group</th>\n",
       "      <th>Ameri</th>\n",
       "      <th>Europ</th>\n",
       "      <th>SouAM</th>\n",
       "      <th>Asian</th>\n",
       "      <th>Indian</th>\n",
       "      <th>Chinese</th>\n",
       "      <th>MidEas</th>\n",
       "      <th>Drinks</th>\n",
       "      <th>vegan</th>\n",
       "      <th>kid</th>\n",
       "    </tr>\n",
       "  </thead>\n",
       "  <tbody>\n",
       "    <tr>\n",
       "      <th>0</th>\n",
       "      <td>13</td>\n",
       "      <td>4.000000</td>\n",
       "      <td>1</td>\n",
       "      <td>0</td>\n",
       "      <td>0</td>\n",
       "      <td>1</td>\n",
       "      <td>0</td>\n",
       "      <td>0</td>\n",
       "      <td>0</td>\n",
       "      <td>0</td>\n",
       "      <td>0</td>\n",
       "      <td>0</td>\n",
       "      <td>1</td>\n",
       "      <td>0</td>\n",
       "      <td>0</td>\n",
       "    </tr>\n",
       "    <tr>\n",
       "      <th>14</th>\n",
       "      <td>6</td>\n",
       "      <td>2.500878</td>\n",
       "      <td>0</td>\n",
       "      <td>0</td>\n",
       "      <td>1</td>\n",
       "      <td>1</td>\n",
       "      <td>0</td>\n",
       "      <td>0</td>\n",
       "      <td>0</td>\n",
       "      <td>0</td>\n",
       "      <td>0</td>\n",
       "      <td>0</td>\n",
       "      <td>0</td>\n",
       "      <td>0</td>\n",
       "      <td>0</td>\n",
       "    </tr>\n",
       "    <tr>\n",
       "      <th>17</th>\n",
       "      <td>6</td>\n",
       "      <td>2.500878</td>\n",
       "      <td>0</td>\n",
       "      <td>0</td>\n",
       "      <td>0</td>\n",
       "      <td>1</td>\n",
       "      <td>0</td>\n",
       "      <td>0</td>\n",
       "      <td>0</td>\n",
       "      <td>0</td>\n",
       "      <td>0</td>\n",
       "      <td>0</td>\n",
       "      <td>0</td>\n",
       "      <td>0</td>\n",
       "      <td>0</td>\n",
       "    </tr>\n",
       "    <tr>\n",
       "      <th>18</th>\n",
       "      <td>6</td>\n",
       "      <td>2.500878</td>\n",
       "      <td>0</td>\n",
       "      <td>0</td>\n",
       "      <td>0</td>\n",
       "      <td>1</td>\n",
       "      <td>0</td>\n",
       "      <td>0</td>\n",
       "      <td>0</td>\n",
       "      <td>0</td>\n",
       "      <td>0</td>\n",
       "      <td>0</td>\n",
       "      <td>0</td>\n",
       "      <td>0</td>\n",
       "      <td>0</td>\n",
       "    </tr>\n",
       "    <tr>\n",
       "      <th>23</th>\n",
       "      <td>349</td>\n",
       "      <td>3.000000</td>\n",
       "      <td>0</td>\n",
       "      <td>1</td>\n",
       "      <td>0</td>\n",
       "      <td>1</td>\n",
       "      <td>0</td>\n",
       "      <td>0</td>\n",
       "      <td>0</td>\n",
       "      <td>0</td>\n",
       "      <td>0</td>\n",
       "      <td>0</td>\n",
       "      <td>0</td>\n",
       "      <td>0</td>\n",
       "      <td>0</td>\n",
       "    </tr>\n",
       "  </tbody>\n",
       "</table>\n",
       "</div>"
      ],
      "text/plain": [
       "    cts_bus  star_bus  gender  weekend  group  Ameri  Europ  SouAM  Asian  \\\n",
       "0        13  4.000000       1        0      0      1      0      0      0   \n",
       "14        6  2.500878       0        0      1      1      0      0      0   \n",
       "17        6  2.500878       0        0      0      1      0      0      0   \n",
       "18        6  2.500878       0        0      0      1      0      0      0   \n",
       "23      349  3.000000       0        1      0      1      0      0      0   \n",
       "\n",
       "    Indian  Chinese  MidEas  Drinks  vegan  kid  \n",
       "0        0        0       0       1      0    0  \n",
       "14       0        0       0       0      0    0  \n",
       "17       0        0       0       0      0    0  \n",
       "18       0        0       0       0      0    0  \n",
       "23       0        0       0       0      0    0  "
      ]
     },
     "execution_count": 115,
     "metadata": {},
     "output_type": "execute_result"
    }
   ],
   "source": [
    "#X=X.drop([\"Ameri\", \"Europ\", \"SouAM\", \"Asian\", \"MidEas\", \"Drinks\"], axis=1)\n",
    "X.head()"
   ]
  },
  {
   "cell_type": "markdown",
   "metadata": {},
   "source": [
    "##### Training and testing sets"
   ]
  },
  {
   "cell_type": "code",
   "execution_count": 116,
   "metadata": {},
   "outputs": [],
   "source": [
    "# Divide the data into training and test set, with ratio 3:1 (test=25%).\n",
    "X_train, X_test, y_train, y_test = train_test_split(X, y, random_state=0)\n",
    "scaler = MinMaxScaler()\n",
    "X_train = scaler.fit_transform(X_train)\n",
    "X_test = scaler.fit_transform(X_test)"
   ]
  },
  {
   "cell_type": "markdown",
   "metadata": {},
   "source": [
    " experiment with only most important features\n",
    "X_train, X_test, y_train, y_test = train_test_split(X[[\"sentiment\", \"stars_x\"]] , y, random_state=0)"
   ]
  },
  {
   "cell_type": "markdown",
   "metadata": {},
   "source": [
    "##### Linear Regression"
   ]
  },
  {
   "cell_type": "code",
   "execution_count": 119,
   "metadata": {},
   "outputs": [],
   "source": [
    "lin = LinearRegression().fit(X_train, y_train)"
   ]
  },
  {
   "cell_type": "code",
   "execution_count": 120,
   "metadata": {},
   "outputs": [
    {
     "name": "stdout",
     "output_type": "stream",
     "text": [
      "Mean: 446.92\n",
      "Standard deviation: 2.62\n"
     ]
    }
   ],
   "source": [
    "linkf = cross_val_score(lin, X_train, y_train, cv=5, \n",
    "                      scoring=\"neg_mean_squared_error\")\n",
    "print(\"Mean:\",round(-linkf.mean(),2))\n",
    "print(\"Standard deviation:\",round(linkf.std(),2))"
   ]
  },
  {
   "cell_type": "code",
   "execution_count": 121,
   "metadata": {},
   "outputs": [
    {
     "name": "stdout",
     "output_type": "stream",
     "text": [
      "Mean: 447.48\n",
      "Standard deviation: 11.81\n"
     ]
    }
   ],
   "source": [
    "# What happends if we use the full data?\n",
    "linfull = LinearRegression().fit(X, y)\n",
    "linkffull = cross_val_score(linfull, X, y, cv=5, \n",
    "                      scoring=\"neg_mean_squared_error\")\n",
    "print(\"Mean:\",round(-linkffull.mean(),2))\n",
    "print(\"Standard deviation:\",round(linkffull.std(),2))"
   ]
  },
  {
   "cell_type": "code",
   "execution_count": 122,
   "metadata": {},
   "outputs": [
    {
     "data": {
      "text/plain": [
       "array([ 2.40279583e-01,  6.14069213e+01,  9.07844995e-01, -3.27212835e-01,\n",
       "       -1.84112164e+00, -7.81952271e-01,  1.05445434e+00,  2.74485519e-02,\n",
       "       -2.61304608e-03, -1.89289888e+00, -1.38613637e-01,  1.92170590e-02,\n",
       "        3.58824124e-01,  4.19780411e-02, -2.33978439e+00])"
      ]
     },
     "execution_count": 122,
     "metadata": {},
     "output_type": "execute_result"
    }
   ],
   "source": [
    "lin.coef_"
   ]
  },
  {
   "cell_type": "code",
   "execution_count": 123,
   "metadata": {},
   "outputs": [
    {
     "data": {
      "text/plain": [
       "5.887402334775217"
      ]
     },
     "execution_count": 123,
     "metadata": {},
     "output_type": "execute_result"
    }
   ],
   "source": [
    "lin.intercept_"
   ]
  },
  {
   "cell_type": "code",
   "execution_count": 125,
   "metadata": {},
   "outputs": [
    {
     "name": "stdout",
     "output_type": "stream",
     "text": [
      "                            OLS Regression Results                            \n",
      "==============================================================================\n",
      "Dep. Variable:                      y   R-squared:                       0.164\n",
      "Model:                            OLS   Adj. R-squared:                  0.164\n",
      "Method:                 Least Squares   F-statistic:                     1781.\n",
      "Date:                Mon, 16 Mar 2020   Prob (F-statistic):               0.00\n",
      "Time:                        21:18:50   Log-Likelihood:            -6.0729e+05\n",
      "No. Observations:              135858   AIC:                         1.215e+06\n",
      "Df Residuals:                  135842   BIC:                         1.215e+06\n",
      "Df Model:                          15                                         \n",
      "Covariance Type:            nonrobust                                         \n",
      "==============================================================================\n",
      "                 coef    std err          t      P>|t|      [0.025      0.975]\n",
      "------------------------------------------------------------------------------\n",
      "const          5.8874      0.321     18.338      0.000       5.258       6.517\n",
      "x1             0.2403      0.379      0.635      0.526      -0.502       0.982\n",
      "x2            61.4069      0.398    154.355      0.000      60.627      62.187\n",
      "x3             0.9078      0.116      7.822      0.000       0.680       1.135\n",
      "x4            -0.3272      0.115     -2.840      0.005      -0.553      -0.101\n",
      "x5            -1.8411      0.117    -15.719      0.000      -2.071      -1.612\n",
      "x6            -0.7820      0.133     -5.866      0.000      -1.043      -0.521\n",
      "x7             1.0545      0.180      5.843      0.000       0.701       1.408\n",
      "x8             0.0274      0.190      0.144      0.885      -0.345       0.400\n",
      "x9            -0.0026      0.161     -0.016      0.987      -0.318       0.312\n",
      "x10           -1.8929      0.562     -3.369      0.001      -2.994      -0.792\n",
      "x11           -0.1386      0.234     -0.593      0.553      -0.596       0.319\n",
      "x12            0.0192      0.352      0.055      0.957      -0.672       0.710\n",
      "x13            0.3588      0.124      2.899      0.004       0.116       0.601\n",
      "x14            0.0420      0.179      0.234      0.815      -0.309       0.393\n",
      "x15           -2.3398      0.361     -6.485      0.000      -3.047      -1.633\n",
      "==============================================================================\n",
      "Omnibus:                    10807.420   Durbin-Watson:                   2.004\n",
      "Prob(Omnibus):                  0.000   Jarque-Bera (JB):            13615.103\n",
      "Skew:                          -0.774   Prob(JB):                         0.00\n",
      "Kurtosis:                       2.915   Cond. No.                         16.5\n",
      "==============================================================================\n",
      "\n",
      "Warnings:\n",
      "[1] Standard Errors assume that the covariance matrix of the errors is correctly specified.\n"
     ]
    }
   ],
   "source": [
    "import statsmodels.api as sm\n",
    "X2 = sm.add_constant(X_train)\n",
    "model = sm.OLS(y_train, X2).fit()\n",
    "#predictions = model.predict(X) \n",
    "print_model = model.summary()\n",
    "print(print_model)"
   ]
  },
  {
   "cell_type": "markdown",
   "metadata": {},
   "source": [
    "##### Lasso Regression\n"
   ]
  },
  {
   "cell_type": "code",
   "execution_count": 126,
   "metadata": {},
   "outputs": [],
   "source": [
    "las = Lasso().fit(X_train, y_train)"
   ]
  },
  {
   "cell_type": "code",
   "execution_count": 134,
   "metadata": {},
   "outputs": [
    {
     "name": "stdout",
     "output_type": "stream",
     "text": [
      "GridBestEstimatorLasso= Lasso(alpha=0.0, copy_X=True, fit_intercept=True, max_iter=1000,\n",
      "   normalize=False, positive=False, precompute=False, random_state=None,\n",
      "   selection='cyclic', tol=0.0001, warm_start=False)\n",
      "GridBestParamsLasso= {'alpha': 0.0}\n",
      "GridBestScoreLasso= 446.92039299656125\n"
     ]
    }
   ],
   "source": [
    "alpha_grid = {\"alpha\":np.linspace(0,20,20)}\n",
    "grid_search2 = GridSearchCV(las, param_grid=alpha_grid, n_jobs = 4, cv=5,\n",
    "                       scoring='neg_mean_squared_error').fit(X_train,y_train)\n",
    "\n",
    "print('GridBestEstimatorLasso=', grid_search2.best_estimator_)\n",
    "print('GridBestParamsLasso=', grid_search2.best_params_)\n",
    "print('GridBestScoreLasso=', -grid_search2.best_score_)"
   ]
  },
  {
   "cell_type": "code",
   "execution_count": 128,
   "metadata": {},
   "outputs": [
    {
     "name": "stdout",
     "output_type": "stream",
     "text": [
      "Mean: 446.92\n",
      "Standard deviation: 2.62\n"
     ]
    }
   ],
   "source": [
    "las = Lasso(alpha=grid_search2.best_params_['alpha']).fit(X_train, y_train)\n",
    "laskf = cross_val_score(las, X_train, y_train, cv=5, \n",
    "                      scoring=\"neg_mean_squared_error\")\n",
    "print(\"Mean:\", round(-laskf.mean(),2))\n",
    "print(\"Standard deviation:\",round(laskf.std(),2))"
   ]
  },
  {
   "cell_type": "code",
   "execution_count": 133,
   "metadata": {},
   "outputs": [
    {
     "data": {
      "text/plain": [
       "array([ 2.40279583e-01,  6.14069213e+01,  9.07844995e-01, -3.27212835e-01,\n",
       "       -1.84112164e+00, -7.81952271e-01,  1.05445434e+00,  2.74485519e-02,\n",
       "       -2.61304608e-03, -1.89289888e+00, -1.38613637e-01,  1.92170590e-02,\n",
       "        3.58824124e-01,  4.19780411e-02, -2.33978439e+00])"
      ]
     },
     "execution_count": 133,
     "metadata": {},
     "output_type": "execute_result"
    }
   ],
   "source": [
    "las.coef_"
   ]
  },
  {
   "cell_type": "markdown",
   "metadata": {},
   "source": [
    "##### Ridge Regression"
   ]
  },
  {
   "cell_type": "code",
   "execution_count": 130,
   "metadata": {},
   "outputs": [],
   "source": [
    "rid = Ridge(alpha=1).fit(X_train, y_train)"
   ]
  },
  {
   "cell_type": "code",
   "execution_count": 135,
   "metadata": {},
   "outputs": [
    {
     "name": "stdout",
     "output_type": "stream",
     "text": [
      "GridBestEstimatorRidge= Ridge(alpha=1.0, copy_X=True, fit_intercept=True, max_iter=None,\n",
      "   normalize=False, random_state=None, solver='auto', tol=0.001)\n",
      "GridBestParamsRidge {'alpha': 1.0}\n",
      "GridBestScoreRidge= 446.92037958902625\n"
     ]
    }
   ],
   "source": [
    "alpha_grid = {\"alpha\": np.linspace(1,20,20)}\n",
    "grid_search1 = GridSearchCV(rid, param_grid = alpha_grid, n_jobs = 4, cv = 5,\n",
    "                       scoring='neg_mean_squared_error').fit(X_train,y_train)\n",
    "print('GridBestEstimatorRidge=', grid_search1.best_estimator_)\n",
    "print('GridBestParamsRidge', grid_search1.best_params_)\n",
    "print('GridBestScoreRidge=', -grid_search1.best_score_)"
   ]
  },
  {
   "cell_type": "code",
   "execution_count": 136,
   "metadata": {},
   "outputs": [
    {
     "name": "stdout",
     "output_type": "stream",
     "text": [
      "Mean: 446.92\n",
      "Standard deviation: 2.62\n"
     ]
    }
   ],
   "source": [
    "rid = Ridge(alpha=grid_search1.best_params_['alpha']).fit(X_train, y_train)\n",
    "ridkf = cross_val_score(rid, X_train, y_train, cv=5, scoring=\"neg_mean_squared_error\")\n",
    "print(\"Mean:\",round(-ridkf.mean(),2))\n",
    "print(\"Standard deviation:\",round(ridkf.std(),2))"
   ]
  },
  {
   "cell_type": "markdown",
   "metadata": {},
   "source": [
    "##### Bayesian Ridge Regression"
   ]
  },
  {
   "cell_type": "markdown",
   "metadata": {},
   "source": [
    "https://scikit-learn.org/stable/auto_examples/linear_model/plot_bayesian_ridge.html#sphx-glr-auto-examples-linear-model-plot-bayesian-ridge-py"
   ]
  },
  {
   "cell_type": "markdown",
   "metadata": {},
   "source": [
    "http://citeseerx.ist.psu.edu/viewdoc/download?doi=10.1.1.27.9072&rep=rep1&type=pdf"
   ]
  },
  {
   "cell_type": "code",
   "execution_count": 137,
   "metadata": {},
   "outputs": [
    {
     "name": "stdout",
     "output_type": "stream",
     "text": [
      "Mean: 446.92\n",
      "Standard deviation: 2.62\n"
     ]
    }
   ],
   "source": [
    "bay = BayesianRidge().fit(X_train, y_train)\n",
    "baykf=cross_val_score(bay, X_train, y_train, cv=5, \n",
    "                      scoring=\"neg_mean_squared_error\")\n",
    "print(\"Mean:\",round(-baykf.mean(),2))\n",
    "print(\"Standard deviation:\",round(baykf.std(),2))"
   ]
  },
  {
   "cell_type": "markdown",
   "metadata": {},
   "source": [
    "##### Elastic Net"
   ]
  },
  {
   "cell_type": "code",
   "execution_count": 156,
   "metadata": {},
   "outputs": [
    {
     "name": "stdout",
     "output_type": "stream",
     "text": [
      "GridBestEstimator= ElasticNet(alpha=0.0, copy_X=True, fit_intercept=True, l1_ratio=0.5,\n",
      "      max_iter=1000, normalize=False, positive=False, precompute=False,\n",
      "      random_state=None, selection='cyclic', tol=0.0001, warm_start=False)\n",
      "GridBestParams= {'l1_ratio': 0.5, 'alpha': 0.0}\n",
      "GridBestScore= 446.92039299656125\n",
      "Mean: 446.92\n",
      "Standard deviation: 2.62\n"
     ]
    }
   ],
   "source": [
    "ela = ElasticNet(alpha=1,l1_ratio=0.5).fit(X_train, y_train)\n",
    "\n",
    "alpha_ratio_grid = {\"alpha\": np.linspace(0,1,5),\n",
    "                  \"l1_ratio\": np.linspace(0,1,5)}\n",
    "\n",
    "grid_search3 = RandomizedSearchCV(ela, param_distributions = alpha_ratio_grid, \n",
    "                       n_jobs = 4, cv = 5, random_state = 25,\n",
    "                       scoring='neg_mean_squared_error').fit(X_train,y_train)\n",
    "\n",
    "print('GridBestEstimator=', grid_search3.best_estimator_)\n",
    "print('GridBestParams=', grid_search3.best_params_)\n",
    "print('GridBestScore=', -grid_search3.best_score_)\n",
    "\n",
    "ela = ElasticNet(alpha=grid_search3.best_params_['alpha'],\n",
    "                l1_ratio=grid_search3.best_params_['l1_ratio']).fit(X_train, y_train)\n",
    "\n",
    "elakf = cross_val_score(ela, X_train, y_train, cv=5, scoring=\"neg_mean_squared_error\")\n",
    "print(\"Mean:\",round(-elakf.mean(),2))\n",
    "print(\"Standard deviation:\",round(elakf.std(),2))"
   ]
  },
  {
   "cell_type": "markdown",
   "metadata": {},
   "source": [
    "##### Decision Tree"
   ]
  },
  {
   "cell_type": "code",
   "execution_count": 138,
   "metadata": {},
   "outputs": [],
   "source": [
    "tree = DecisionTreeRegressor().fit(X_train, y_train)"
   ]
  },
  {
   "cell_type": "code",
   "execution_count": 139,
   "metadata": {},
   "outputs": [
    {
     "name": "stdout",
     "output_type": "stream",
     "text": [
      "RandBestEstimatorTree= DecisionTreeRegressor(criterion='mse', max_depth=6, max_features=None,\n",
      "           max_leaf_nodes=None, min_impurity_decrease=0.0,\n",
      "           min_impurity_split=None, min_samples_leaf=64,\n",
      "           min_samples_split=92, min_weight_fraction_leaf=0.0,\n",
      "           presort=False, random_state=None, splitter='best')\n",
      "RandBestParamsTree= {'max_depth': 6, 'min_samples_leaf': 64, 'min_samples_split': 92}\n",
      "RandBestScoreTree= -445.76729320852263\n"
     ]
    }
   ],
   "source": [
    "param_dist_tree = {'max_depth': sp_randint(2, 100),\n",
    "               'min_samples_split': sp_randint(2, 100),\n",
    "               'min_samples_leaf': sp_randint(2, 100)}\n",
    "\n",
    "random_search_tree = RandomizedSearchCV(tree, param_distributions = param_dist_tree,\n",
    "                       n_jobs = 4, cv = 5, random_state = 25,\n",
    "                       scoring='neg_mean_squared_error').fit(X_train, y_train)\n",
    "\n",
    "print('RandBestEstimatorTree=', random_search_tree.best_estimator_)\n",
    "print('RandBestParamsTree=', random_search_tree.best_params_)\n",
    "print('RandBestScoreTree=', -random_search_tree.best_score_)"
   ]
  },
  {
   "cell_type": "code",
   "execution_count": 140,
   "metadata": {},
   "outputs": [],
   "source": [
    "bptree = random_search_tree.best_params_\n",
    "tree = DecisionTreeRegressor(max_depth = bptree['max_depth'],\n",
    "                             min_samples_leaf = bptree['min_samples_leaf'],\n",
    "                             min_samples_split = bptree['min_samples_split']).fit(X_train, y_train)"
   ]
  },
  {
   "cell_type": "code",
   "execution_count": 141,
   "metadata": {},
   "outputs": [
    {
     "name": "stdout",
     "output_type": "stream",
     "text": [
      "Mean: 445.77\n",
      "Standard deviation: 2.38\n"
     ]
    }
   ],
   "source": [
    "treekf=cross_val_score(tree, X_train, y_train, cv=5, \n",
    "                      scoring=\"neg_mean_squared_error\")\n",
    "print(\"Mean:\",round(-treekf.mean(),2))\n",
    "print(\"Standard deviation:\", round(treekf.std(),2))"
   ]
  },
  {
   "cell_type": "markdown",
   "metadata": {},
   "source": [
    "##### Random Forest"
   ]
  },
  {
   "cell_type": "code",
   "execution_count": 142,
   "metadata": {},
   "outputs": [],
   "source": [
    "rfr = RandomForestRegressor().fit(X_train, y_train)"
   ]
  },
  {
   "cell_type": "code",
   "execution_count": 144,
   "metadata": {},
   "outputs": [
    {
     "name": "stdout",
     "output_type": "stream",
     "text": [
      "RandBestEstimatorrfr= RandomForestRegressor(bootstrap=True, criterion='mse', max_depth=12,\n",
      "           max_features=4, max_leaf_nodes=None, min_impurity_decrease=0.0,\n",
      "           min_impurity_split=None, min_samples_leaf=3,\n",
      "           min_samples_split=13, min_weight_fraction_leaf=0.0,\n",
      "           n_estimators=141, n_jobs=None, oob_score=False,\n",
      "           random_state=None, verbose=0, warm_start=False)\n",
      "RandBestParamsrfr= {'max_depth': 12, 'max_features': 4, 'min_samples_leaf': 3, 'min_samples_split': 13, 'n_estimators': 141}\n",
      "RandBestScorerfr= 443.06375699763913\n"
     ]
    }
   ],
   "source": [
    "param_dist_rfr = {'n_estimators':sp_randint(10, 200),\n",
    "               'max_depth': sp_randint(5, 20),\n",
    "               'min_samples_split': sp_randint(0, 20),\n",
    "               'min_samples_leaf': sp_randint(0, 20),\n",
    "               'max_features':sp_randint(1,5)}\n",
    "\n",
    "random_search_rfr = RandomizedSearchCV(rfr, param_distributions = param_dist_rfr,\n",
    "                        n_jobs = 4, cv = 5, random_state = 25,\n",
    "                       scoring = 'neg_mean_squared_error').fit(X_train, y_train)\n",
    "\n",
    "print('RandBestEstimatorrfr=', random_search_rfr.best_estimator_)\n",
    "print('RandBestParamsrfr=', random_search_rfr.best_params_)\n",
    "print('RandBestScorerfr=', -random_search_rfr.best_score_)"
   ]
  },
  {
   "cell_type": "code",
   "execution_count": 146,
   "metadata": {},
   "outputs": [],
   "source": [
    "bprfr = random_search_rfr.best_params_\n",
    "rfr = RandomForestRegressor(max_depth = bprfr['max_depth'],\n",
    "                             max_features = bprfr['max_features'],\n",
    "                             min_samples_leaf = bprfr['min_samples_leaf'],\n",
    "                             min_samples_split = bprfr['min_samples_split']).fit(X_train, y_train)"
   ]
  },
  {
   "cell_type": "code",
   "execution_count": 147,
   "metadata": {},
   "outputs": [
    {
     "name": "stdout",
     "output_type": "stream",
     "text": [
      "Mean: 445.27\n",
      "Standard deviation: 2.28\n"
     ]
    }
   ],
   "source": [
    "rfrkf = cross_val_score(rfr, X_train, y_train, cv=5, \n",
    "                      scoring=\"neg_mean_squared_error\")\n",
    "print(\"Mean:\",round(-rfrkf.mean(),2))\n",
    "print(\"Standard deviation:\",round(rfrkf.std(),2))"
   ]
  },
  {
   "cell_type": "markdown",
   "metadata": {},
   "source": [
    "##### Gradient Boosting"
   ]
  },
  {
   "cell_type": "code",
   "execution_count": 148,
   "metadata": {},
   "outputs": [
    {
     "name": "stdout",
     "output_type": "stream",
     "text": [
      "Mean: 444.99\n",
      "Standard deviation: 2.53\n"
     ]
    }
   ],
   "source": [
    "gra = GradientBoostingRegressor(random_state=10, n_estimators=50,).fit(X_train,y_train) \n",
    "grakf = cross_val_score(gra, X_train, y_train, cv=5, \n",
    "                        scoring = \"neg_mean_squared_error\")\n",
    "print(\"Mean:\",round(-grakf.mean(),2))\n",
    "print(\"Standard deviation:\",round(grakf.std(),2))"
   ]
  },
  {
   "cell_type": "code",
   "execution_count": 149,
   "metadata": {},
   "outputs": [
    {
     "name": "stdout",
     "output_type": "stream",
     "text": [
      "RandBestEstimatorxgb= GradientBoostingRegressor(alpha=0.35555555555555557, criterion='friedman_mse',\n",
      "             init=None, learning_rate=0.46666666666666673, loss='ls',\n",
      "             max_depth=3, max_features=None, max_leaf_nodes=None,\n",
      "             min_impurity_decrease=0.0, min_impurity_split=None,\n",
      "             min_samples_leaf=1, min_samples_split=2,\n",
      "             min_weight_fraction_leaf=0.0, n_estimators=50,\n",
      "             n_iter_no_change=None, presort='auto', random_state=None,\n",
      "             subsample=1.0, tol=0.0001, validation_fraction=0.1, verbose=0,\n",
      "             warm_start=False)\n",
      "RandBestParamsxgb= {'alpha': 0.35555555555555557, 'learning_rate': 0.46666666666666673, 'max_depth': 3, 'n_estimators': 50}\n",
      "RandBestScorexgb= 443.43591534088335\n"
     ]
    }
   ],
   "source": [
    "param_dist_gra = {'max_depth': sp_randint(1, 5),\n",
    "                  'n_estimators': sp_randint(20,100),\n",
    "                   'learning_rate': np.linspace(0.2, 0.8, 10),\n",
    "                   'alpha': np.linspace(0.2, 0.9, 10) }\n",
    "\n",
    "random_search_gra = RandomizedSearchCV(estimator = GradientBoostingRegressor(),\n",
    "                    param_distributions = param_dist_gra, n_jobs = 4,iid=False, \n",
    "                    cv=5, random_state=25, scoring='neg_mean_squared_error').fit(X_train, y_train)\n",
    "\n",
    "print('RandBestEstimatorxgb=', random_search_gra.best_estimator_)\n",
    "print('RandBestParamsxgb=', random_search_gra.best_params_)\n",
    "print('RandBestScorexgb=', -random_search_gra.best_score_)"
   ]
  },
  {
   "cell_type": "code",
   "execution_count": 150,
   "metadata": {},
   "outputs": [],
   "source": [
    "bpgra = random_search_gra.best_params_\n",
    "gra = GradientBoostingRegressor(alpha = bpgra['alpha'],\n",
    "                    learning_rate = bpgra['learning_rate'],\n",
    "                    max_depth = bpgra['max_depth'],\n",
    "                    n_estimators = bpgra['n_estimators']).fit(X_train, y_train)"
   ]
  },
  {
   "cell_type": "code",
   "execution_count": 189,
   "metadata": {},
   "outputs": [
    {
     "data": {
      "text/plain": [
       "GradientBoostingRegressor(alpha=0.35555555555555557, criterion='friedman_mse',\n",
       "             init=None, learning_rate=0.46666666666666673, loss='ls',\n",
       "             max_depth=3, max_features=None, max_leaf_nodes=None,\n",
       "             min_impurity_decrease=0.0, min_impurity_split=None,\n",
       "             min_samples_leaf=1, min_samples_split=2,\n",
       "             min_weight_fraction_leaf=0.0, n_estimators=50,\n",
       "             n_iter_no_change=None, presort='auto', random_state=None,\n",
       "             subsample=1.0, tol=0.0001, validation_fraction=0.1, verbose=0,\n",
       "             warm_start=False)"
      ]
     },
     "execution_count": 189,
     "metadata": {},
     "output_type": "execute_result"
    }
   ],
   "source": [
    "gra"
   ]
  },
  {
   "cell_type": "code",
   "execution_count": 151,
   "metadata": {},
   "outputs": [
    {
     "name": "stdout",
     "output_type": "stream",
     "text": [
      "Mean: 443.44\n",
      "Standard deviation: 2.4\n"
     ]
    }
   ],
   "source": [
    "grakf = cross_val_score(gra, X_train, y_train, cv = 5, \n",
    "                      scoring=\"neg_mean_squared_error\")\n",
    "print(\"Mean:\", round(-grakf.mean(),2))\n",
    "print(\"Standard deviation:\", round(grakf.std(),2))"
   ]
  },
  {
   "cell_type": "markdown",
   "metadata": {},
   "source": [
    "##### Multi-layer Perceptron"
   ]
  },
  {
   "cell_type": "code",
   "execution_count": 152,
   "metadata": {},
   "outputs": [],
   "source": [
    "from sklearn.neural_network import MLPRegressor\n",
    "mlp= MLPRegressor(activation='tanh', solver='lbfgs', alpha=0.1).fit(X_train, y_train)"
   ]
  },
  {
   "cell_type": "code",
   "execution_count": 153,
   "metadata": {},
   "outputs": [
    {
     "name": "stdout",
     "output_type": "stream",
     "text": [
      "RandBestEstimator5= MLPRegressor(activation='logistic', alpha=5.954451165110356,\n",
      "       batch_size='auto', beta_1=0.9, beta_2=0.999, early_stopping=False,\n",
      "       epsilon=1e-08, hidden_layer_sizes=11, learning_rate='constant',\n",
      "       learning_rate_init=0.001, max_iter=200, momentum=0.9,\n",
      "       n_iter_no_change=10, nesterovs_momentum=True, power_t=0.5,\n",
      "       random_state=None, shuffle=True, solver='lbfgs', tol=0.0001,\n",
      "       validation_fraction=0.1, verbose=False, warm_start=False)\n",
      "RandBestParams5= {'activation': 'logistic', 'alpha': 5.954451165110356, 'hidden_layer_sizes': 11}\n",
      "RandBestScore5= 445.18803970764736\n"
     ]
    }
   ],
   "source": [
    "param_dist_mlp = {'hidden_layer_sizes':sp_randint(10, 100),\n",
    "               'activation':[\"logistic\", \"relu\"],\n",
    "               'alpha': sp_uniform(0.1, 10.0)}\n",
    "\n",
    "random_search_mlp = RandomizedSearchCV(mlp, param_distributions = param_dist_mlp,\n",
    "                       n_jobs = 4, cv = 5, random_state=25,\n",
    "                       scoring='neg_mean_squared_error').fit(X_train, y_train)\n",
    "\n",
    "print('RandBestEstimator5=', random_search_mlp.best_estimator_)\n",
    "print('RandBestParams5=', random_search_mlp.best_params_)\n",
    "print('RandBestScore5=', -random_search_mlp.best_score_)"
   ]
  },
  {
   "cell_type": "code",
   "execution_count": 154,
   "metadata": {},
   "outputs": [],
   "source": [
    "bpmlp = random_search_mlp.best_params_\n",
    "mlp = MLPRegressor(hidden_layer_sizes = bpmlp['hidden_layer_sizes'],\n",
    "                           activation = bpmlp['activation'],\n",
    "                                alpha = bpmlp['alpha']).fit(X_train, y_train)"
   ]
  },
  {
   "cell_type": "code",
   "execution_count": 155,
   "metadata": {},
   "outputs": [
    {
     "name": "stdout",
     "output_type": "stream",
     "text": [
      "Mean: 447.23\n",
      "Standard deviation: 2.43\n"
     ]
    }
   ],
   "source": [
    "mlpkf = cross_val_score(mlp, X_train, y_train, cv=5, \n",
    "                      scoring=\"neg_mean_squared_error\")\n",
    "print(\"Mean:\", round(-mlpkf.mean(),2))\n",
    "print(\"Standard deviation:\", round(mlpkf.std(),2))"
   ]
  },
  {
   "cell_type": "code",
   "execution_count": null,
   "metadata": {},
   "outputs": [],
   "source": []
  },
  {
   "cell_type": "code",
   "execution_count": null,
   "metadata": {},
   "outputs": [],
   "source": []
  },
  {
   "cell_type": "markdown",
   "metadata": {},
   "source": [
    "#### Model Comparsion"
   ]
  },
  {
   "cell_type": "markdown",
   "metadata": {},
   "source": [
    "#### Note:\n",
    "Models that we didn't report as they produced higher MSE:\n",
    "KNN, XGboost, Adaboost, SVM"
   ]
  },
  {
   "cell_type": "code",
   "execution_count": 157,
   "metadata": {},
   "outputs": [
    {
     "data": {
      "image/png": "[encoded data removed]",
      "text/plain": [
       "<Figure size 864x405 with 1 Axes>"
      ]
     },
     "metadata": {},
     "output_type": "display_data"
    }
   ],
   "source": [
    "results = pd.DataFrame({'CV MSE':[-treekf.mean(), -rfrkf.mean(), -grakf.mean(),\n",
    "                                -laskf.mean(), -ridkf.mean(), -baykf.mean(), -elakf.mean(), -mlpkf.mean()],\n",
    "                      \n",
    "                      'CV Std':[treekf.std(), rfrkf.std(), grakf.std(), \n",
    "                                laskf.std(), ridkf.std(), baykf.std(), elakf.std(), mlpkf.std()], \n",
    "                      \n",
    "                     'Name':[\"Regression Tree\",\"Random Forest\",\"Gradient Boosting\", \n",
    "                             \"Lasso Regression\", \"Ridge Regression\", \"Bayesian Ridge\", \n",
    "                            \"Elastic Net\",  \"Multi-layer Perceptrons\"],\n",
    "                     \n",
    "                     'Class':['Tree', 'Tree', 'Boosting', 'Linear', 'Linear', \n",
    "                              'Bayeisan', 'Linear', 'Neural Nets'],})\n",
    "                     \n",
    "results = results.sort_values(by=['CV MSE']).round(2)\n",
    "render_mpl_table(results, header_columns=0, col_width=3.0)\n",
    "plt.savefig('regres.png')"
   ]
  },
  {
   "cell_type": "code",
   "execution_count": 159,
   "metadata": {},
   "outputs": [
    {
     "data": {
      "image/png": "[encoded data removed]",
      "text/plain": [
       "<Figure size 864x864 with 1 Axes>"
      ]
     },
     "metadata": {},
     "output_type": "display_data"
    }
   ],
   "source": [
    "plt.figure(figsize = (12,12))\n",
    "\n",
    "ax=sns.scatterplot(x = 'CV MSE', y = 'CV Std', hue = 'Class', style = 'Class',\n",
    "                   data = results)\n",
    "#plt.legend()\n",
    "#ax.set_xlim(min(results['CV MSE']), max(results['CV MSE']))\n",
    "#ax.set_ylim(min(results['CV Std']), max(results['CV Std']), 1000)\n",
    "for line in range(0,results.shape[0]):\n",
    "     ax.text(results['CV MSE'][line], results['CV Std'][line], \n",
    "             results.index[line], horizontalalignment = 'center', \n",
    "             verticalalignment = 'bottom',\n",
    "             bbox = dict(facecolor = 'maroon', alpha = 0.1, pad = 1), fontsize = 15)\n",
    "plt.savefig('Model Scatter.png')"
   ]
  },
  {
   "cell_type": "code",
   "execution_count": 158,
   "metadata": {},
   "outputs": [
    {
     "data": {
      "text/html": [
       "<div>\n",
       "<style scoped>\n",
       "    .dataframe tbody tr th:only-of-type {\n",
       "        vertical-align: middle;\n",
       "    }\n",
       "\n",
       "    .dataframe tbody tr th {\n",
       "        vertical-align: top;\n",
       "    }\n",
       "\n",
       "    .dataframe thead th {\n",
       "        text-align: right;\n",
       "    }\n",
       "</style>\n",
       "<table border=\"1\" class=\"dataframe\">\n",
       "  <thead>\n",
       "    <tr style=\"text-align: right;\">\n",
       "      <th></th>\n",
       "      <th>CV MSE</th>\n",
       "      <th>CV Std</th>\n",
       "      <th>Name</th>\n",
       "      <th>Class</th>\n",
       "    </tr>\n",
       "  </thead>\n",
       "  <tbody>\n",
       "    <tr>\n",
       "      <th>2</th>\n",
       "      <td>443.44</td>\n",
       "      <td>2.40</td>\n",
       "      <td>Gradient Boosting</td>\n",
       "      <td>Boosting</td>\n",
       "    </tr>\n",
       "    <tr>\n",
       "      <th>1</th>\n",
       "      <td>445.27</td>\n",
       "      <td>2.28</td>\n",
       "      <td>Random Forest</td>\n",
       "      <td>Tree</td>\n",
       "    </tr>\n",
       "    <tr>\n",
       "      <th>0</th>\n",
       "      <td>445.77</td>\n",
       "      <td>2.38</td>\n",
       "      <td>Regression Tree</td>\n",
       "      <td>Tree</td>\n",
       "    </tr>\n",
       "    <tr>\n",
       "      <th>4</th>\n",
       "      <td>446.92</td>\n",
       "      <td>2.62</td>\n",
       "      <td>Ridge Regression</td>\n",
       "      <td>Linear</td>\n",
       "    </tr>\n",
       "    <tr>\n",
       "      <th>3</th>\n",
       "      <td>446.92</td>\n",
       "      <td>2.62</td>\n",
       "      <td>Lasso Regression</td>\n",
       "      <td>Linear</td>\n",
       "    </tr>\n",
       "    <tr>\n",
       "      <th>6</th>\n",
       "      <td>446.92</td>\n",
       "      <td>2.62</td>\n",
       "      <td>Elastic Net</td>\n",
       "      <td>Linear</td>\n",
       "    </tr>\n",
       "    <tr>\n",
       "      <th>5</th>\n",
       "      <td>446.92</td>\n",
       "      <td>2.62</td>\n",
       "      <td>Bayesian Ridge</td>\n",
       "      <td>Bayeisan</td>\n",
       "    </tr>\n",
       "    <tr>\n",
       "      <th>7</th>\n",
       "      <td>447.23</td>\n",
       "      <td>2.43</td>\n",
       "      <td>Multi-layer Perceptrons</td>\n",
       "      <td>Neural Nets</td>\n",
       "    </tr>\n",
       "  </tbody>\n",
       "</table>\n",
       "</div>"
      ],
      "text/plain": [
       "   CV MSE  CV Std                     Name        Class\n",
       "2  443.44    2.40        Gradient Boosting     Boosting\n",
       "1  445.27    2.28            Random Forest         Tree\n",
       "0  445.77    2.38          Regression Tree         Tree\n",
       "4  446.92    2.62         Ridge Regression       Linear\n",
       "3  446.92    2.62         Lasso Regression       Linear\n",
       "6  446.92    2.62              Elastic Net       Linear\n",
       "5  446.92    2.62           Bayesian Ridge     Bayeisan\n",
       "7  447.23    2.43  Multi-layer Perceptrons  Neural Nets"
      ]
     },
     "execution_count": 158,
     "metadata": {},
     "output_type": "execute_result"
    }
   ],
   "source": [
    "results"
   ]
  },
  {
   "cell_type": "code",
   "execution_count": 165,
   "metadata": {},
   "outputs": [
    {
     "data": {
      "text/plain": [
       "<Figure size 432x432 with 0 Axes>"
      ]
     },
     "metadata": {},
     "output_type": "display_data"
    },
    {
     "data": {
      "image/png": "[encoded data removed]",
      "text/plain": [
       "<Figure size 432x288 with 1 Axes>"
      ]
     },
     "metadata": {},
     "output_type": "display_data"
    }
   ],
   "source": [
    "#plt.rcdefaults()\n",
    "plt.figure(figsize = (6,6))\n",
    "\n",
    "fig, ax = plt.subplots()\n",
    "\n",
    "ax.barh(results['Name'], results['CV MSE'], xerr = results['CV Std'],\n",
    "        align = 'center', color = 'r', alpha=0.5, ls = \":\")\n",
    "ax.set_xlim([420,460])\n",
    "#ax.set_yticklabels(results['Name'])\n",
    "ax.invert_yaxis()  # labels read top-to-bottom\n",
    "ax.set_xlabel('CV MSE')\n",
    "ax.set_title('Model Performance')\n",
    "plt.savefig('Performance.png')"
   ]
  },
  {
   "cell_type": "code",
   "execution_count": 166,
   "metadata": {},
   "outputs": [
    {
     "data": {
      "image/png": "[encoded data removed]",
      "text/plain": [
       "<Figure size 576x576 with 1 Axes>"
      ]
     },
     "metadata": {},
     "output_type": "display_data"
    }
   ],
   "source": [
    "plt.figure(figsize = (8,8))\n",
    "\n",
    "ind = results['Name']\n",
    "mse = results['CV MSE']\n",
    "err = results['CV Std']*1.96/np.sqrt(len(X))\n",
    "\n",
    "plt.errorbar(ind, mse, err, linestyle = 'None', marker = '*',  mfc = 'maroon',\n",
    "         mec='maroon', ms = 10, mew = 1, ls=':')\n",
    "\n",
    "plt.xticks(rotation = 30)\n",
    "plt.ylabel('MSE')\n",
    "plt.title('Model Performance: Confidence Interval of MSE', fontsize = 15)\n",
    "plt.savefig('Model Performance.png')"
   ]
  },
  {
   "cell_type": "markdown",
   "metadata": {},
   "source": [
    "#### Performance on test set"
   ]
  },
  {
   "cell_type": "code",
   "execution_count": 168,
   "metadata": {},
   "outputs": [
    {
     "data": {
      "text/plain": [
       "443.5375475814575"
      ]
     },
     "execution_count": 168,
     "metadata": {},
     "output_type": "execute_result"
    }
   ],
   "source": [
    "mean_squared_error(gra.predict(X_test), y_test)"
   ]
  },
  {
   "cell_type": "code",
   "execution_count": 171,
   "metadata": {},
   "outputs": [
    {
     "name": "stdout",
     "output_type": "stream",
     "text": [
      "Minutes to run 122.91877293189367\n"
     ]
    }
   ],
   "source": [
    "end = time.time()\n",
    "print(\"Minutes to run\",(end-start)/60)"
   ]
  },
  {
   "cell_type": "markdown",
   "metadata": {},
   "source": [
    "### Export data and model"
   ]
  },
  {
   "cell_type": "code",
   "execution_count": 173,
   "metadata": {},
   "outputs": [
    {
     "data": {
      "text/html": [
       "<div>\n",
       "<style scoped>\n",
       "    .dataframe tbody tr th:only-of-type {\n",
       "        vertical-align: middle;\n",
       "    }\n",
       "\n",
       "    .dataframe tbody tr th {\n",
       "        vertical-align: top;\n",
       "    }\n",
       "\n",
       "    .dataframe thead th {\n",
       "        text-align: right;\n",
       "    }\n",
       "</style>\n",
       "<table border=\"1\" class=\"dataframe\">\n",
       "  <thead>\n",
       "    <tr style=\"text-align: right;\">\n",
       "      <th></th>\n",
       "      <th>cts_bus</th>\n",
       "      <th>star_bus</th>\n",
       "      <th>gender</th>\n",
       "      <th>weekend</th>\n",
       "      <th>group</th>\n",
       "      <th>Ameri</th>\n",
       "      <th>Europ</th>\n",
       "      <th>SouAM</th>\n",
       "      <th>Asian</th>\n",
       "      <th>Indian</th>\n",
       "      <th>Chinese</th>\n",
       "      <th>MidEas</th>\n",
       "      <th>Drinks</th>\n",
       "      <th>vegan</th>\n",
       "      <th>kid</th>\n",
       "    </tr>\n",
       "  </thead>\n",
       "  <tbody>\n",
       "    <tr>\n",
       "      <th>0</th>\n",
       "      <td>13</td>\n",
       "      <td>4.000000</td>\n",
       "      <td>1</td>\n",
       "      <td>0</td>\n",
       "      <td>0</td>\n",
       "      <td>1</td>\n",
       "      <td>0</td>\n",
       "      <td>0</td>\n",
       "      <td>0</td>\n",
       "      <td>0</td>\n",
       "      <td>0</td>\n",
       "      <td>0</td>\n",
       "      <td>1</td>\n",
       "      <td>0</td>\n",
       "      <td>0</td>\n",
       "    </tr>\n",
       "    <tr>\n",
       "      <th>14</th>\n",
       "      <td>6</td>\n",
       "      <td>2.500878</td>\n",
       "      <td>0</td>\n",
       "      <td>0</td>\n",
       "      <td>1</td>\n",
       "      <td>1</td>\n",
       "      <td>0</td>\n",
       "      <td>0</td>\n",
       "      <td>0</td>\n",
       "      <td>0</td>\n",
       "      <td>0</td>\n",
       "      <td>0</td>\n",
       "      <td>0</td>\n",
       "      <td>0</td>\n",
       "      <td>0</td>\n",
       "    </tr>\n",
       "    <tr>\n",
       "      <th>17</th>\n",
       "      <td>6</td>\n",
       "      <td>2.500878</td>\n",
       "      <td>0</td>\n",
       "      <td>0</td>\n",
       "      <td>0</td>\n",
       "      <td>1</td>\n",
       "      <td>0</td>\n",
       "      <td>0</td>\n",
       "      <td>0</td>\n",
       "      <td>0</td>\n",
       "      <td>0</td>\n",
       "      <td>0</td>\n",
       "      <td>0</td>\n",
       "      <td>0</td>\n",
       "      <td>0</td>\n",
       "    </tr>\n",
       "    <tr>\n",
       "      <th>18</th>\n",
       "      <td>6</td>\n",
       "      <td>2.500878</td>\n",
       "      <td>0</td>\n",
       "      <td>0</td>\n",
       "      <td>0</td>\n",
       "      <td>1</td>\n",
       "      <td>0</td>\n",
       "      <td>0</td>\n",
       "      <td>0</td>\n",
       "      <td>0</td>\n",
       "      <td>0</td>\n",
       "      <td>0</td>\n",
       "      <td>0</td>\n",
       "      <td>0</td>\n",
       "      <td>0</td>\n",
       "    </tr>\n",
       "    <tr>\n",
       "      <th>23</th>\n",
       "      <td>349</td>\n",
       "      <td>3.000000</td>\n",
       "      <td>0</td>\n",
       "      <td>1</td>\n",
       "      <td>0</td>\n",
       "      <td>1</td>\n",
       "      <td>0</td>\n",
       "      <td>0</td>\n",
       "      <td>0</td>\n",
       "      <td>0</td>\n",
       "      <td>0</td>\n",
       "      <td>0</td>\n",
       "      <td>0</td>\n",
       "      <td>0</td>\n",
       "      <td>0</td>\n",
       "    </tr>\n",
       "  </tbody>\n",
       "</table>\n",
       "</div>"
      ],
      "text/plain": [
       "    cts_bus  star_bus  gender  weekend  group  Ameri  Europ  SouAM  Asian  \\\n",
       "0        13  4.000000       1        0      0      1      0      0      0   \n",
       "14        6  2.500878       0        0      1      1      0      0      0   \n",
       "17        6  2.500878       0        0      0      1      0      0      0   \n",
       "18        6  2.500878       0        0      0      1      0      0      0   \n",
       "23      349  3.000000       0        1      0      1      0      0      0   \n",
       "\n",
       "    Indian  Chinese  MidEas  Drinks  vegan  kid  \n",
       "0        0        0       0       1      0    0  \n",
       "14       0        0       0       0      0    0  \n",
       "17       0        0       0       0      0    0  \n",
       "18       0        0       0       0      0    0  \n",
       "23       0        0       0       0      0    0  "
      ]
     },
     "execution_count": 173,
     "metadata": {},
     "output_type": "execute_result"
    }
   ],
   "source": [
    "X.head()"
   ]
  },
  {
   "cell_type": "code",
   "execution_count": 195,
   "metadata": {},
   "outputs": [],
   "source": [
    "# save X data\n",
    "X.to_csv(\"X.csv\", encoding = 'utf-8', index = False)"
   ]
  },
  {
   "cell_type": "code",
   "execution_count": 196,
   "metadata": {},
   "outputs": [],
   "source": [
    "# save business data\n",
    "agg.to_csv(\"agg.csv\", encoding='utf-8', index = False)"
   ]
  },
  {
   "cell_type": "code",
   "execution_count": 197,
   "metadata": {},
   "outputs": [
    {
     "data": {
      "application/javascript": [
       "\n",
       "        if (window._pyforest_update_imports_cell) { window._pyforest_update_imports_cell('import pandas as pd\\nimport numpy as np\\nimport pickle\\nimport matplotlib.pyplot as plt\\nimport seaborn as sns'); }\n",
       "    "
      ],
      "text/plain": [
       "<IPython.core.display.Javascript object>"
      ]
     },
     "metadata": {},
     "output_type": "display_data"
    }
   ],
   "source": [
    "# save the model to disk\n",
    "pickle.dump(gra, open('gradient_boosting_model.sav', 'wb'))"
   ]
  }
 ],
 "metadata": {
  "kernelspec": {
   "display_name": "Python 3",
   "language": "python",
   "name": "python3"
  },
  "language_info": {
   "codemirror_mode": {
    "name": "ipython",
    "version": 3
   },
   "file_extension": ".py",
   "mimetype": "text/x-python",
   "name": "python",
   "nbconvert_exporter": "python",
   "pygments_lexer": "ipython3",
   "version": "3.7.2"
  },
  "toc": {
   "base_numbering": 1,
   "nav_menu": {
    "height": "558px",
    "width": "293px"
   },
   "number_sections": true,
   "sideBar": true,
   "skip_h1_title": false,
   "title_cell": "Table of Contents",
   "title_sidebar": "Contents",
   "toc_cell": false,
   "toc_position": {},
   "toc_section_display": true,
   "toc_window_display": false
  }
 },
 "nbformat": 4,
 "nbformat_minor": 2
}
