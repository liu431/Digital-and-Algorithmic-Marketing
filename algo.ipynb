{
 "cells": [
  {
   "cell_type": "markdown",
   "metadata": {},
   "source": [
    "## Preference-Based Recommendation System for Groups\n",
    "\n",
    "Algorithmic Marketing Class Project\n",
    "\n",
    "Name: Li Liu, Suresh Govindaraj, Xi Zhao\n",
    "\n",
    "Date: March 2020"
   ]
  },
  {
   "cell_type": "markdown",
   "metadata": {},
   "source": [
    "A group of people went to have an amazing restaurant dining experience in Las Vegas. Some of them were attracted by a French restaurant 30 min away. Some of them thought the nearby sushi place was good enough. They opened Yelp and set the filters. But it didn't help them decide because the app showed each of them very different results.\n",
    "\n",
    "Here comes our system. We want to help them decide which ones work best for them all.\n",
    "\n",
    "Using our utility maximization framework, our system recommends the restaurants that will most likely maximize their total utilities.\n",
    "\n",
    "Suppose we have three people: A, B, C are choosing from N restaurants (R indicates restaurants factors).\n",
    "\n",
    "For each restaurant i (i=1...N), each person would have a utility for i: $u_A(R_i)$, $u_B(R_i)$, $u_C(R_i)$\n",
    "\n",
    "We need to have a match function for predicting the total utilities from eating at this restaurant, such that $m_{R_i}(A,B,C) = U_{i}(u(R_i), R_i, Weights, Preferences)$\n",
    "\n",
    "Our core algorithm will account for the following factors:\n",
    "\n",
    "* Each restaurant has a baseline utility for the group (Think of $\\beta_0$). We use machine learning to predict this utility by using the existing _**Yelp reviews data**_.\n",
    "\n",
    "Then we will use _**users' input data**_ to adjust the baseline utility based on the groups' preferences and consensus ($\\sum_k(\\prod_m(p_m*w_m)X_k)$): \n",
    "\n",
    "* People have different voting weights (Ex. parents make the final decision instead of kids)\n",
    "\n",
    "* People have own preferences (Ex. not important at all, neutral, very important)\n",
    "\n",
    "* People care about others. The total utility depends on others' preference. If A knows B and C hate pizza, the utility for A to choose a pizza place will be lower than the case if A dining alone. \n",
    "\n",
    "When A, B, C open the system, they will be asked to choose their preferences for distance and cuisine types. If the factor is not important for A at all, the $p_{A}=0.1$. If the factor is neutral for A, the $p_{A}=0.5$. If the factor is very important for A, the $p_{A}=1$. Also, they have different voting weights w, $w_A, w_b, w_C$, and $w_A+w_b+w_C=1$, \n",
    "\n",
    "Generally, suppose we have M (m=1...M) people to choose from N (i=1...N) restaurants and the system asks them to answer K (k=1...K)questions:\n",
    "\n",
    "$$U_{i} = \\beta_0 + \\beta_1X_1+ \\beta_2X_2+...+\\beta_kX_k+\\epsilon$$\n",
    "$$\\hat{U_{i}}= \\hat{f}(Restaurant Reputations, Weekend, Group...) + \\sum_k(\\prod_m(p_m*w_m)X_k)$$\n",
    "\n",
    "Then we have scores for all restaurants from i=1 to N. We can sort them and recommend the top ones for the group."
   ]
  },
  {
   "cell_type": "code",
   "execution_count": null,
   "metadata": {},
   "outputs": [],
   "source": []
  },
  {
   "cell_type": "markdown",
   "metadata": {},
   "source": [
    "#### Import packages"
   ]
  },
  {
   "cell_type": "code",
   "execution_count": 51,
   "metadata": {},
   "outputs": [],
   "source": [
    "import numpy as np\n",
    "import pandas as pd\n",
    "import matplotlib.pyplot as plt\n",
    "import seaborn as sns\n",
    "%matplotlib inline\n",
    "from wordcloud.wordcloud import WordCloud, STOPWORDS\n",
    "from PIL import Image\n",
    "from vaderSentiment.vaderSentiment import SentimentIntensityAnalyzer\n",
    "analyser = SentimentIntensityAnalyzer()\n",
    "import gender_guesser.detector as gender\n",
    "import warnings\n",
    "warnings.filterwarnings(\"ignore\")\n",
    "from dask import compute, delayed\n",
    "import dask.multiprocessing\n",
    "import multiprocessing\n",
    "import time\n",
    "from sklearn.model_selection import train_test_split\n",
    "from sklearn.preprocessing import MinMaxScaler\n",
    "import six\n",
    "import statsmodels.api as sm\n",
    "from sklearn.tree import export_graphviz\n",
    "import graphviz\n",
    "from scipy.stats import randint as sp_randint\n",
    "from scipy.stats import uniform as sp_uniform\n",
    "from sklearn.model_selection import RandomizedSearchCV\n",
    "from scipy import stats\n",
    "from sklearn.tree import DecisionTreeRegressor\n",
    "from sklearn.ensemble import RandomForestRegressor, GradientBoostingRegressor, AdaBoostRegressor\n",
    "from sklearn.linear_model import LinearRegression, Ridge, Lasso, ElasticNet, BayesianRidge\n",
    "from sklearn.model_selection import train_test_split, KFold, cross_val_score, cross_val_predict\n",
    "from sklearn.metrics import mean_squared_error\n",
    "from sklearn.model_selection import RandomizedSearchCV, GridSearchCV\n",
    "from sklearn.preprocessing import StandardScaler\n",
    "sns.set_style(\"white\")\n",
    "plt.style.use('seaborn-deep')\n",
    "\n",
    "start=time.time()"
   ]
  },
  {
   "cell_type": "markdown",
   "metadata": {},
   "source": [
    "#### Read in data"
   ]
  },
  {
   "cell_type": "code",
   "execution_count": 143,
   "metadata": {},
   "outputs": [
    {
     "name": "stdout",
     "output_type": "stream",
     "text": [
      "total review text (5261668, 9)\n"
     ]
    },
    {
     "data": {
      "text/html": [
       "<div>\n",
       "<style scoped>\n",
       "    .dataframe tbody tr th:only-of-type {\n",
       "        vertical-align: middle;\n",
       "    }\n",
       "\n",
       "    .dataframe tbody tr th {\n",
       "        vertical-align: top;\n",
       "    }\n",
       "\n",
       "    .dataframe thead th {\n",
       "        text-align: right;\n",
       "    }\n",
       "</style>\n",
       "<table border=\"1\" class=\"dataframe\">\n",
       "  <thead>\n",
       "    <tr style=\"text-align: right;\">\n",
       "      <th></th>\n",
       "      <th>review_id</th>\n",
       "      <th>user_id</th>\n",
       "      <th>business_id</th>\n",
       "      <th>stars</th>\n",
       "      <th>date</th>\n",
       "      <th>text</th>\n",
       "      <th>useful</th>\n",
       "      <th>funny</th>\n",
       "      <th>cool</th>\n",
       "    </tr>\n",
       "  </thead>\n",
       "  <tbody>\n",
       "    <tr>\n",
       "      <th>0</th>\n",
       "      <td>vkVSCC7xljjrAI4UGfnKEQ</td>\n",
       "      <td>bv2nCi5Qv5vroFiqKGopiw</td>\n",
       "      <td>AEx2SYEUJmTxVVB18LlCwA</td>\n",
       "      <td>5</td>\n",
       "      <td>2016-05-28</td>\n",
       "      <td>Super simple place but amazing nonetheless. It...</td>\n",
       "      <td>0</td>\n",
       "      <td>0</td>\n",
       "      <td>0</td>\n",
       "    </tr>\n",
       "    <tr>\n",
       "      <th>1</th>\n",
       "      <td>n6QzIUObkYshz4dz2QRJTw</td>\n",
       "      <td>bv2nCi5Qv5vroFiqKGopiw</td>\n",
       "      <td>VR6GpWIda3SfvPC-lg9H3w</td>\n",
       "      <td>5</td>\n",
       "      <td>2016-05-28</td>\n",
       "      <td>Small unassuming place that changes their menu...</td>\n",
       "      <td>0</td>\n",
       "      <td>0</td>\n",
       "      <td>0</td>\n",
       "    </tr>\n",
       "  </tbody>\n",
       "</table>\n",
       "</div>"
      ],
      "text/plain": [
       "                review_id                 user_id             business_id  \\\n",
       "0  vkVSCC7xljjrAI4UGfnKEQ  bv2nCi5Qv5vroFiqKGopiw  AEx2SYEUJmTxVVB18LlCwA   \n",
       "1  n6QzIUObkYshz4dz2QRJTw  bv2nCi5Qv5vroFiqKGopiw  VR6GpWIda3SfvPC-lg9H3w   \n",
       "\n",
       "   stars        date                                               text  \\\n",
       "0      5  2016-05-28  Super simple place but amazing nonetheless. It...   \n",
       "1      5  2016-05-28  Small unassuming place that changes their menu...   \n",
       "\n",
       "   useful  funny  cool  \n",
       "0       0      0     0  \n",
       "1       0      0     0  "
      ]
     },
     "execution_count": 143,
     "metadata": {},
     "output_type": "execute_result"
    }
   ],
   "source": [
    "# review \n",
    "rev = pd.read_csv(\"yelp_review.csv\")\n",
    "print(\"total review text\", rev.shape)\n",
    "rev.head(2)"
   ]
  },
  {
   "cell_type": "markdown",
   "metadata": {},
   "source": [
    "#### Subset the data \n",
    "\n",
    "1. Only restaurants in Las Vegas\n",
    "\n",
    "2. Join data from business and users"
   ]
  },
  {
   "cell_type": "code",
   "execution_count": 144,
   "metadata": {},
   "outputs": [
    {
     "name": "stdout",
     "output_type": "stream",
     "text": [
      "total business (174567, 13)\n",
      "total open restaurants (3990, 10)\n"
     ]
    }
   ],
   "source": [
    "# business\n",
    "bus = pd.read_csv(\"yelp_business.csv\")\n",
    "print(\"total business\",bus.shape)\n",
    "\n",
    "# select restaurants in LV\n",
    "LV = bus[bus[\"city\"] == \"Las Vegas\"]\n",
    "LVR = LV[LV['categories'].str.contains('Restaurants') == True] \n",
    "\n",
    "# select only open restaurants; drop uninformative features\n",
    "LVR = LVR[LVR[\"is_open\"]==1]\n",
    "LVR = LVR.drop([\"city\", \"state\", \"postal_code\"], axis=1)\n",
    "\n",
    "print(\"total open restaurants\", LVR.shape)"
   ]
  },
  {
   "cell_type": "code",
   "execution_count": 54,
   "metadata": {},
   "outputs": [
    {
     "data": {
      "text/plain": [
       "(1326100, 22)"
      ]
     },
     "execution_count": 54,
     "metadata": {},
     "output_type": "execute_result"
    }
   ],
   "source": [
    "# user data\n",
    "user = pd.read_csv(\"yelp_user.csv\")\n",
    "user.shape"
   ]
  },
  {
   "cell_type": "code",
   "execution_count": 55,
   "metadata": {},
   "outputs": [
    {
     "data": {
      "text/plain": [
       "Index(['user_id', 'name', 'review_count', 'yelping_since', 'friends', 'useful',\n",
       "       'funny', 'cool', 'fans', 'elite', 'average_stars', 'compliment_hot',\n",
       "       'compliment_more', 'compliment_profile', 'compliment_cute',\n",
       "       'compliment_list', 'compliment_note', 'compliment_plain',\n",
       "       'compliment_cool', 'compliment_funny', 'compliment_writer',\n",
       "       'compliment_photos'],\n",
       "      dtype='object')"
      ]
     },
     "execution_count": 55,
     "metadata": {},
     "output_type": "execute_result"
    }
   ],
   "source": [
    "user.columns"
   ]
  },
  {
   "cell_type": "markdown",
   "metadata": {},
   "source": [
    "##### Aggregate data \n",
    "Each line represents a review for a restaurant by one user"
   ]
  },
  {
   "cell_type": "code",
   "execution_count": 56,
   "metadata": {},
   "outputs": [
    {
     "data": {
      "text/plain": [
       "(795588, 39)"
      ]
     },
     "execution_count": 56,
     "metadata": {},
     "output_type": "execute_result"
    }
   ],
   "source": [
    "agg = pd.merge(LVR, rev, how=\"left\", on=\"business_id\")\n",
    "agg = pd.merge(agg, user, how=\"left\", on=\"user_id\")\n",
    "agg.rename(columns = {'stars_x':\"star_bus\", \"review_count_x\": \"cts_bus\",\n",
    "                      \"stars_y\": \"star_customer\"},\n",
    "           inplace = True)\n",
    "agg.shape"
   ]
  },
  {
   "cell_type": "markdown",
   "metadata": {},
   "source": [
    "##### Only keep the most relevant reviews\n",
    "\n",
    "Restaurants normally update and improve products and services constantly to satisfy customers' needs, especially at Las Vegas. We will only keep the reviews in the last two years."
   ]
  },
  {
   "cell_type": "code",
   "execution_count": 57,
   "metadata": {},
   "outputs": [],
   "source": [
    "agg[\"DATE\"] = pd.to_datetime(agg[\"date\"], format = '%Y/%m/%d')\n",
    "agg[\"date_yr\"] = agg[\"DATE\"].dt.year\n",
    "agg[\"date_mt\"] = agg[\"DATE\"].dt.month"
   ]
  },
  {
   "cell_type": "code",
   "execution_count": 58,
   "metadata": {},
   "outputs": [
    {
     "data": {
      "text/plain": [
       "count                  795588\n",
       "unique                   4317\n",
       "top       2017-08-12 00:00:00\n",
       "freq                      766\n",
       "first     2005-01-26 00:00:00\n",
       "last      2017-12-11 00:00:00\n",
       "Name: DATE, dtype: object"
      ]
     },
     "execution_count": 58,
     "metadata": {},
     "output_type": "execute_result"
    }
   ],
   "source": [
    "agg[\"DATE\"].describe()"
   ]
  },
  {
   "cell_type": "code",
   "execution_count": 145,
   "metadata": {},
   "outputs": [
    {
     "data": {
      "text/plain": [
       "(344012, 51)"
      ]
     },
     "execution_count": 145,
     "metadata": {},
     "output_type": "execute_result"
    }
   ],
   "source": [
    "agg = agg[agg[\"date_yr\"]>=2016]\n",
    "agg.shape"
   ]
  },
  {
   "cell_type": "code",
   "execution_count": 146,
   "metadata": {},
   "outputs": [
    {
     "data": {
      "text/html": [
       "<div>\n",
       "<style scoped>\n",
       "    .dataframe tbody tr th:only-of-type {\n",
       "        vertical-align: middle;\n",
       "    }\n",
       "\n",
       "    .dataframe tbody tr th {\n",
       "        vertical-align: top;\n",
       "    }\n",
       "\n",
       "    .dataframe thead th {\n",
       "        text-align: right;\n",
       "    }\n",
       "</style>\n",
       "<table border=\"1\" class=\"dataframe\">\n",
       "  <thead>\n",
       "    <tr style=\"text-align: right;\">\n",
       "      <th></th>\n",
       "      <th>business_id</th>\n",
       "      <th>name_x</th>\n",
       "      <th>neighborhood</th>\n",
       "      <th>address</th>\n",
       "      <th>latitude</th>\n",
       "      <th>longitude</th>\n",
       "      <th>star_bus</th>\n",
       "      <th>cts_bus</th>\n",
       "      <th>is_open</th>\n",
       "      <th>categories</th>\n",
       "      <th>...</th>\n",
       "      <th>date_mt</th>\n",
       "      <th>y2</th>\n",
       "      <th>normy</th>\n",
       "      <th>y</th>\n",
       "      <th>quarter</th>\n",
       "      <th>rate</th>\n",
       "      <th>y2_new</th>\n",
       "      <th>star_bus_new</th>\n",
       "      <th>guess</th>\n",
       "      <th>dayofweek</th>\n",
       "    </tr>\n",
       "  </thead>\n",
       "  <tbody>\n",
       "    <tr>\n",
       "      <th>0</th>\n",
       "      <td>Pd52CjgyEU3Rb8co6QfTPw</td>\n",
       "      <td>\"Flight Deck Bar &amp; Grill\"</td>\n",
       "      <td>Southeast</td>\n",
       "      <td>\"6730 S Las Vegas Blvd\"</td>\n",
       "      <td>36.066914</td>\n",
       "      <td>-115.170848</td>\n",
       "      <td>4.0</td>\n",
       "      <td>13</td>\n",
       "      <td>1</td>\n",
       "      <td>Nightlife;Bars;Barbeque;Sports Bars;American (...</td>\n",
       "      <td>...</td>\n",
       "      <td>3</td>\n",
       "      <td>4.333333</td>\n",
       "      <td>0.299161</td>\n",
       "      <td>55.059464</td>\n",
       "      <td>8</td>\n",
       "      <td>1.025495</td>\n",
       "      <td>4.225601</td>\n",
       "      <td>3.900554</td>\n",
       "      <td>female</td>\n",
       "      <td>0</td>\n",
       "    </tr>\n",
       "    <tr>\n",
       "      <th>1</th>\n",
       "      <td>Pd52CjgyEU3Rb8co6QfTPw</td>\n",
       "      <td>\"Flight Deck Bar &amp; Grill\"</td>\n",
       "      <td>Southeast</td>\n",
       "      <td>\"6730 S Las Vegas Blvd\"</td>\n",
       "      <td>36.066914</td>\n",
       "      <td>-115.170848</td>\n",
       "      <td>4.0</td>\n",
       "      <td>13</td>\n",
       "      <td>1</td>\n",
       "      <td>Nightlife;Bars;Barbeque;Sports Bars;American (...</td>\n",
       "      <td>...</td>\n",
       "      <td>8</td>\n",
       "      <td>5.362398</td>\n",
       "      <td>0.897184</td>\n",
       "      <td>68.781015</td>\n",
       "      <td>6</td>\n",
       "      <td>1.019061</td>\n",
       "      <td>5.262096</td>\n",
       "      <td>3.925182</td>\n",
       "      <td>male</td>\n",
       "      <td>5</td>\n",
       "    </tr>\n",
       "    <tr>\n",
       "      <th>2</th>\n",
       "      <td>Pd52CjgyEU3Rb8co6QfTPw</td>\n",
       "      <td>\"Flight Deck Bar &amp; Grill\"</td>\n",
       "      <td>Southeast</td>\n",
       "      <td>\"6730 S Las Vegas Blvd\"</td>\n",
       "      <td>36.066914</td>\n",
       "      <td>-115.170848</td>\n",
       "      <td>4.0</td>\n",
       "      <td>13</td>\n",
       "      <td>1</td>\n",
       "      <td>Nightlife;Bars;Barbeque;Sports Bars;American (...</td>\n",
       "      <td>...</td>\n",
       "      <td>1</td>\n",
       "      <td>0.250000</td>\n",
       "      <td>-2.073795</td>\n",
       "      <td>0.612276</td>\n",
       "      <td>4</td>\n",
       "      <td>1.012667</td>\n",
       "      <td>0.246873</td>\n",
       "      <td>3.949964</td>\n",
       "      <td>female</td>\n",
       "      <td>5</td>\n",
       "    </tr>\n",
       "    <tr>\n",
       "      <th>3</th>\n",
       "      <td>Pd52CjgyEU3Rb8co6QfTPw</td>\n",
       "      <td>\"Flight Deck Bar &amp; Grill\"</td>\n",
       "      <td>Southeast</td>\n",
       "      <td>\"6730 S Las Vegas Blvd\"</td>\n",
       "      <td>36.066914</td>\n",
       "      <td>-115.170848</td>\n",
       "      <td>4.0</td>\n",
       "      <td>13</td>\n",
       "      <td>1</td>\n",
       "      <td>Nightlife;Bars;Barbeque;Sports Bars;American (...</td>\n",
       "      <td>...</td>\n",
       "      <td>8</td>\n",
       "      <td>1.500000</td>\n",
       "      <td>-1.347380</td>\n",
       "      <td>17.279782</td>\n",
       "      <td>6</td>\n",
       "      <td>1.019061</td>\n",
       "      <td>1.471943</td>\n",
       "      <td>3.925182</td>\n",
       "      <td>male</td>\n",
       "      <td>0</td>\n",
       "    </tr>\n",
       "    <tr>\n",
       "      <th>5</th>\n",
       "      <td>Pd52CjgyEU3Rb8co6QfTPw</td>\n",
       "      <td>\"Flight Deck Bar &amp; Grill\"</td>\n",
       "      <td>Southeast</td>\n",
       "      <td>\"6730 S Las Vegas Blvd\"</td>\n",
       "      <td>36.066914</td>\n",
       "      <td>-115.170848</td>\n",
       "      <td>4.0</td>\n",
       "      <td>13</td>\n",
       "      <td>1</td>\n",
       "      <td>Nightlife;Bars;Barbeque;Sports Bars;American (...</td>\n",
       "      <td>...</td>\n",
       "      <td>10</td>\n",
       "      <td>4.101928</td>\n",
       "      <td>0.164684</td>\n",
       "      <td>51.973909</td>\n",
       "      <td>7</td>\n",
       "      <td>1.022273</td>\n",
       "      <td>4.012556</td>\n",
       "      <td>3.912849</td>\n",
       "      <td>unknown</td>\n",
       "      <td>5</td>\n",
       "    </tr>\n",
       "  </tbody>\n",
       "</table>\n",
       "<p>5 rows × 51 columns</p>\n",
       "</div>"
      ],
      "text/plain": [
       "              business_id                     name_x neighborhood  \\\n",
       "0  Pd52CjgyEU3Rb8co6QfTPw  \"Flight Deck Bar & Grill\"    Southeast   \n",
       "1  Pd52CjgyEU3Rb8co6QfTPw  \"Flight Deck Bar & Grill\"    Southeast   \n",
       "2  Pd52CjgyEU3Rb8co6QfTPw  \"Flight Deck Bar & Grill\"    Southeast   \n",
       "3  Pd52CjgyEU3Rb8co6QfTPw  \"Flight Deck Bar & Grill\"    Southeast   \n",
       "5  Pd52CjgyEU3Rb8co6QfTPw  \"Flight Deck Bar & Grill\"    Southeast   \n",
       "\n",
       "                   address   latitude   longitude  star_bus  cts_bus  is_open  \\\n",
       "0  \"6730 S Las Vegas Blvd\"  36.066914 -115.170848       4.0       13        1   \n",
       "1  \"6730 S Las Vegas Blvd\"  36.066914 -115.170848       4.0       13        1   \n",
       "2  \"6730 S Las Vegas Blvd\"  36.066914 -115.170848       4.0       13        1   \n",
       "3  \"6730 S Las Vegas Blvd\"  36.066914 -115.170848       4.0       13        1   \n",
       "5  \"6730 S Las Vegas Blvd\"  36.066914 -115.170848       4.0       13        1   \n",
       "\n",
       "                                          categories  ... date_mt        y2  \\\n",
       "0  Nightlife;Bars;Barbeque;Sports Bars;American (...  ...       3  4.333333   \n",
       "1  Nightlife;Bars;Barbeque;Sports Bars;American (...  ...       8  5.362398   \n",
       "2  Nightlife;Bars;Barbeque;Sports Bars;American (...  ...       1  0.250000   \n",
       "3  Nightlife;Bars;Barbeque;Sports Bars;American (...  ...       8  1.500000   \n",
       "5  Nightlife;Bars;Barbeque;Sports Bars;American (...  ...      10  4.101928   \n",
       "\n",
       "      normy          y quarter      rate    y2_new  star_bus_new    guess  \\\n",
       "0  0.299161  55.059464       8  1.025495  4.225601      3.900554   female   \n",
       "1  0.897184  68.781015       6  1.019061  5.262096      3.925182     male   \n",
       "2 -2.073795   0.612276       4  1.012667  0.246873      3.949964   female   \n",
       "3 -1.347380  17.279782       6  1.019061  1.471943      3.925182     male   \n",
       "5  0.164684  51.973909       7  1.022273  4.012556      3.912849  unknown   \n",
       "\n",
       "   dayofweek  \n",
       "0          0  \n",
       "1          5  \n",
       "2          5  \n",
       "3          0  \n",
       "5          5  \n",
       "\n",
       "[5 rows x 51 columns]"
      ]
     },
     "execution_count": 146,
     "metadata": {},
     "output_type": "execute_result"
    }
   ],
   "source": [
    "# skim data\n",
    "agg.head(5)"
   ]
  },
  {
   "cell_type": "code",
   "execution_count": 61,
   "metadata": {},
   "outputs": [
    {
     "data": {
      "text/plain": [
       "Index(['business_id', 'name_x', 'neighborhood', 'address', 'latitude',\n",
       "       'longitude', 'star_bus', 'cts_bus', 'is_open', 'categories',\n",
       "       'review_id', 'user_id', 'star_customer', 'date', 'text', 'useful_x',\n",
       "       'funny_x', 'cool_x', 'name_y', 'review_count_y', 'yelping_since',\n",
       "       'friends', 'useful_y', 'funny_y', 'cool_y', 'fans', 'elite',\n",
       "       'average_stars', 'compliment_hot', 'compliment_more',\n",
       "       'compliment_profile', 'compliment_cute', 'compliment_list',\n",
       "       'compliment_note', 'compliment_plain', 'compliment_cool',\n",
       "       'compliment_funny', 'compliment_writer', 'compliment_photos', 'DATE',\n",
       "       'date_yr', 'date_mt'],\n",
       "      dtype='object')"
      ]
     },
     "execution_count": 61,
     "metadata": {},
     "output_type": "execute_result"
    }
   ],
   "source": [
    "# current columns\n",
    "agg.columns"
   ]
  },
  {
   "cell_type": "code",
   "execution_count": 62,
   "metadata": {},
   "outputs": [],
   "source": [
    "#Subset the data to speed up execution\n",
    "#sample = 10000\n",
    "#agg = agg.iloc[:sample]"
   ]
  },
  {
   "cell_type": "markdown",
   "metadata": {},
   "source": [
    "### Predicted utility: (rescaled) customers ratings"
   ]
  },
  {
   "cell_type": "markdown",
   "metadata": {},
   "source": [
    "y is the measure for customer satisfaction. We reweighed and rescaled the star ratings."
   ]
  },
  {
   "cell_type": "code",
   "execution_count": 147,
   "metadata": {},
   "outputs": [
    {
     "data": {
      "text/plain": [
       "0.5357548482299939"
      ]
     },
     "execution_count": 147,
     "metadata": {},
     "output_type": "execute_result"
    }
   ],
   "source": [
    "# individual ratings for particular restaurants are positive correlated with their average ratings for all reviews\n",
    "np.corrcoef(agg['average_stars'],  agg[\"star_customer\"])[0,1]"
   ]
  },
  {
   "cell_type": "code",
   "execution_count": 148,
   "metadata": {},
   "outputs": [
    {
     "data": {
      "text/plain": [
       "Text(0.5, 0.98, 'Hexbin plot of Customer Current and Previous Ratings')"
      ]
     },
     "execution_count": 148,
     "metadata": {},
     "output_type": "execute_result"
    },
    {
     "data": {
      "image/png": "[encoded data removed]",
      "text/plain": [
       "<Figure size 432x432 with 3 Axes>"
      ]
     },
     "metadata": {},
     "output_type": "display_data"
    }
   ],
   "source": [
    "# Hexbin plot\n",
    "agguser = agg[:10000].groupby('user_id')[['star_customer', 'average_stars']].mean()\n",
    "\n",
    "sns.jointplot(agguser['average_stars'], agguser[\"star_customer\"], \n",
    "              kind='hex', color='maroon')\n",
    "\n",
    "plt.suptitle(\"Hexbin plot of Customer Current and Previous Ratings\", fontsize=15)\n",
    "#plt.savefig('HexbinPlot of Customer Current and Previous Ratings .png')"
   ]
  },
  {
   "cell_type": "code",
   "execution_count": 149,
   "metadata": {},
   "outputs": [
    {
     "data": {
      "text/html": [
       "<div>\n",
       "<style scoped>\n",
       "    .dataframe tbody tr th:only-of-type {\n",
       "        vertical-align: middle;\n",
       "    }\n",
       "\n",
       "    .dataframe tbody tr th {\n",
       "        vertical-align: top;\n",
       "    }\n",
       "\n",
       "    .dataframe thead th {\n",
       "        text-align: right;\n",
       "    }\n",
       "</style>\n",
       "<table border=\"1\" class=\"dataframe\">\n",
       "  <thead>\n",
       "    <tr style=\"text-align: right;\">\n",
       "      <th></th>\n",
       "      <th>average_stars</th>\n",
       "      <th>star_customer</th>\n",
       "    </tr>\n",
       "  </thead>\n",
       "  <tbody>\n",
       "    <tr>\n",
       "      <th>0</th>\n",
       "      <td>3.00</td>\n",
       "      <td>4</td>\n",
       "    </tr>\n",
       "    <tr>\n",
       "      <th>1</th>\n",
       "      <td>3.67</td>\n",
       "      <td>5</td>\n",
       "    </tr>\n",
       "    <tr>\n",
       "      <th>2</th>\n",
       "      <td>4.00</td>\n",
       "      <td>1</td>\n",
       "    </tr>\n",
       "    <tr>\n",
       "      <th>3</th>\n",
       "      <td>4.00</td>\n",
       "      <td>2</td>\n",
       "    </tr>\n",
       "    <tr>\n",
       "      <th>5</th>\n",
       "      <td>3.63</td>\n",
       "      <td>4</td>\n",
       "    </tr>\n",
       "  </tbody>\n",
       "</table>\n",
       "</div>"
      ],
      "text/plain": [
       "   average_stars  star_customer\n",
       "0           3.00              4\n",
       "1           3.67              5\n",
       "2           4.00              1\n",
       "3           4.00              2\n",
       "5           3.63              4"
      ]
     },
     "execution_count": 149,
     "metadata": {},
     "output_type": "execute_result"
    }
   ],
   "source": [
    "agg[['average_stars',\"star_customer\"]].head(5)"
   ]
  },
  {
   "cell_type": "markdown",
   "metadata": {},
   "source": [
    "##### Potential issue\n",
    "\n",
    "Customers have different rating standards. So a rating of 3 could mean different satisfaction by two customoers, if one has average ratings of 5 (implying dissatisfaction) and the other has average rating of 1 (implying satisfaction). I solve this by reweighting the individual ratings by their average ratings."
   ]
  },
  {
   "cell_type": "code",
   "execution_count": 66,
   "metadata": {},
   "outputs": [],
   "source": [
    "# reweighed and rescaled consumer satisfaction measure\n",
    "\n",
    "# a. Account for the \"extra\" part deviated from the average ratings\n",
    "agg['y2'] = agg['star_customer'] + (agg['star_customer']-agg['average_stars'])/agg['average_stars']\n",
    "\n",
    "# b. Normalization\n",
    "agg['normy'] = (agg['y2'] - np.mean(agg['y2']))/np.std(agg['y2'])\n",
    "\n",
    "# c. Rescale to 0-100 \n",
    "agg['y'] = ((100 - 0) / (max(agg['normy'] ) - min(agg['normy'] ))) * (agg['normy'] - min(agg['normy'])) + 0 "
   ]
  },
  {
   "cell_type": "markdown",
   "metadata": {},
   "source": [
    "##### Test cases"
   ]
  },
  {
   "cell_type": "code",
   "execution_count": 67,
   "metadata": {
    "scrolled": true
   },
   "outputs": [
    {
     "data": {
      "text/html": [
       "<div>\n",
       "<style scoped>\n",
       "    .dataframe tbody tr th:only-of-type {\n",
       "        vertical-align: middle;\n",
       "    }\n",
       "\n",
       "    .dataframe tbody tr th {\n",
       "        vertical-align: top;\n",
       "    }\n",
       "\n",
       "    .dataframe thead th {\n",
       "        text-align: right;\n",
       "    }\n",
       "</style>\n",
       "<table border=\"1\" class=\"dataframe\">\n",
       "  <thead>\n",
       "    <tr style=\"text-align: right;\">\n",
       "      <th></th>\n",
       "      <th>average_stars</th>\n",
       "      <th>star_customer</th>\n",
       "      <th>y2</th>\n",
       "      <th>normy</th>\n",
       "      <th>y</th>\n",
       "    </tr>\n",
       "  </thead>\n",
       "  <tbody>\n",
       "    <tr>\n",
       "      <th>760832</th>\n",
       "      <td>1.35</td>\n",
       "      <td>5</td>\n",
       "      <td>7.703704</td>\n",
       "      <td>2.257792</td>\n",
       "      <td>100.0</td>\n",
       "    </tr>\n",
       "  </tbody>\n",
       "</table>\n",
       "</div>"
      ],
      "text/plain": [
       "        average_stars  star_customer        y2     normy      y\n",
       "760832           1.35              5  7.703704  2.257792  100.0"
      ]
     },
     "execution_count": 67,
     "metadata": {},
     "output_type": "execute_result"
    }
   ],
   "source": [
    "# case when relative rating is high\n",
    "agg[['average_stars',\"star_customer\", \"y2\", \"normy\", \"y\"]][agg['y']==100]"
   ]
  },
  {
   "cell_type": "code",
   "execution_count": 68,
   "metadata": {},
   "outputs": [
    {
     "data": {
      "text/html": [
       "<div>\n",
       "<style scoped>\n",
       "    .dataframe tbody tr th:only-of-type {\n",
       "        vertical-align: middle;\n",
       "    }\n",
       "\n",
       "    .dataframe tbody tr th {\n",
       "        vertical-align: top;\n",
       "    }\n",
       "\n",
       "    .dataframe thead th {\n",
       "        text-align: right;\n",
       "    }\n",
       "</style>\n",
       "<table border=\"1\" class=\"dataframe\">\n",
       "  <thead>\n",
       "    <tr style=\"text-align: right;\">\n",
       "      <th></th>\n",
       "      <th>average_stars</th>\n",
       "      <th>star_customer</th>\n",
       "      <th>y2</th>\n",
       "      <th>normy</th>\n",
       "      <th>y</th>\n",
       "    </tr>\n",
       "  </thead>\n",
       "  <tbody>\n",
       "    <tr>\n",
       "      <th>588474</th>\n",
       "      <td>4.9</td>\n",
       "      <td>1</td>\n",
       "      <td>0.204082</td>\n",
       "      <td>-2.10048</td>\n",
       "      <td>0.0</td>\n",
       "    </tr>\n",
       "  </tbody>\n",
       "</table>\n",
       "</div>"
      ],
      "text/plain": [
       "        average_stars  star_customer        y2    normy    y\n",
       "588474            4.9              1  0.204082 -2.10048  0.0"
      ]
     },
     "execution_count": 68,
     "metadata": {},
     "output_type": "execute_result"
    }
   ],
   "source": [
    "# case when relative rating is low\n",
    "agg[['average_stars',\"star_customer\", \"y2\", \"normy\", \"y\"]][agg['y']==0]"
   ]
  },
  {
   "cell_type": "markdown",
   "metadata": {},
   "source": [
    "##### Summary statistics"
   ]
  },
  {
   "cell_type": "code",
   "execution_count": 69,
   "metadata": {},
   "outputs": [
    {
     "data": {
      "text/html": [
       "<div>\n",
       "<style scoped>\n",
       "    .dataframe tbody tr th:only-of-type {\n",
       "        vertical-align: middle;\n",
       "    }\n",
       "\n",
       "    .dataframe tbody tr th {\n",
       "        vertical-align: top;\n",
       "    }\n",
       "\n",
       "    .dataframe thead th {\n",
       "        text-align: right;\n",
       "    }\n",
       "</style>\n",
       "<table border=\"1\" class=\"dataframe\">\n",
       "  <thead>\n",
       "    <tr style=\"text-align: right;\">\n",
       "      <th></th>\n",
       "      <th>star_customer</th>\n",
       "      <th>y</th>\n",
       "    </tr>\n",
       "  </thead>\n",
       "  <tbody>\n",
       "    <tr>\n",
       "      <th>count</th>\n",
       "      <td>482617.000000</td>\n",
       "      <td>482617.000000</td>\n",
       "    </tr>\n",
       "    <tr>\n",
       "      <th>mean</th>\n",
       "      <td>3.812118</td>\n",
       "      <td>48.195251</td>\n",
       "    </tr>\n",
       "    <tr>\n",
       "      <th>std</th>\n",
       "      <td>1.414832</td>\n",
       "      <td>22.944898</td>\n",
       "    </tr>\n",
       "    <tr>\n",
       "      <th>min</th>\n",
       "      <td>1.000000</td>\n",
       "      <td>0.000000</td>\n",
       "    </tr>\n",
       "    <tr>\n",
       "      <th>25%</th>\n",
       "      <td>3.000000</td>\n",
       "      <td>34.310001</td>\n",
       "    </tr>\n",
       "    <tr>\n",
       "      <th>50%</th>\n",
       "      <td>4.000000</td>\n",
       "      <td>52.876118</td>\n",
       "    </tr>\n",
       "    <tr>\n",
       "      <th>75%</th>\n",
       "      <td>5.000000</td>\n",
       "      <td>66.488611</td>\n",
       "    </tr>\n",
       "    <tr>\n",
       "      <th>max</th>\n",
       "      <td>5.000000</td>\n",
       "      <td>100.000000</td>\n",
       "    </tr>\n",
       "  </tbody>\n",
       "</table>\n",
       "</div>"
      ],
      "text/plain": [
       "       star_customer              y\n",
       "count  482617.000000  482617.000000\n",
       "mean        3.812118      48.195251\n",
       "std         1.414832      22.944898\n",
       "min         1.000000       0.000000\n",
       "25%         3.000000      34.310001\n",
       "50%         4.000000      52.876118\n",
       "75%         5.000000      66.488611\n",
       "max         5.000000     100.000000"
      ]
     },
     "execution_count": 69,
     "metadata": {},
     "output_type": "execute_result"
    }
   ],
   "source": [
    "# statistics of original scores and transformed scores\n",
    "agg[['star_customer','y']].describe()"
   ]
  },
  {
   "cell_type": "code",
   "execution_count": 70,
   "metadata": {},
   "outputs": [
    {
     "data": {
      "text/plain": [
       "52.87611793038332"
      ]
     },
     "execution_count": 70,
     "metadata": {},
     "output_type": "execute_result"
    }
   ],
   "source": [
    "# Since median>mean, y is left skewed\n",
    "np.median(agg['y'])"
   ]
  },
  {
   "cell_type": "code",
   "execution_count": 71,
   "metadata": {},
   "outputs": [],
   "source": [
    "# abbreviation\n",
    "\n",
    "# Y is the categorical star rating\n",
    "Y = agg[\"star_customer\"]\n",
    "# y is the reweighted numerical grade with 0-100 scale\n",
    "y = agg['y']"
   ]
  },
  {
   "cell_type": "code",
   "execution_count": 72,
   "metadata": {},
   "outputs": [
    {
     "data": {
      "text/plain": [
       "Text(0.5, 0.98, 'Histogram of the Consumer Satisfaction Score')"
      ]
     },
     "execution_count": 72,
     "metadata": {},
     "output_type": "execute_result"
    },
    {
     "data": {
      "image/png": "[encoded data removed]",
      "text/plain": [
       "<Figure size 432x288 with 1 Axes>"
      ]
     },
     "metadata": {},
     "output_type": "display_data"
    }
   ],
   "source": [
    "kwargs = dict(hist_kws={'alpha':.3}, kde_kws={'linewidth':3})\n",
    "\n",
    "sns.distplot(y, bins=10, color=\"maroon\", label=\"score\", **kwargs)\n",
    "plt.xlim(0,100)\n",
    "plt.xlabel(\"Score\")\n",
    "plt.suptitle(\"Histogram of the Consumer Satisfaction Score\", fontsize=15)\n",
    "#plt.savefig(\"Histogram of the Consumer Satisfaction Score.png\")"
   ]
  },
  {
   "cell_type": "code",
   "execution_count": 73,
   "metadata": {},
   "outputs": [
    {
     "data": {
      "text/plain": [
       "Text(0.5, 1.0, 'Pie Chart of Stars Ratios')"
      ]
     },
     "execution_count": 73,
     "metadata": {},
     "output_type": "execute_result"
    },
    {
     "data": {
      "image/png": "[encoded data removed]",
      "text/plain": [
       "<Figure size 432x288 with 1 Axes>"
      ]
     },
     "metadata": {},
     "output_type": "display_data"
    }
   ],
   "source": [
    "#5    330703\n",
    "#4    202367\n",
    "#3    103878\n",
    "#1     88280\n",
    "#2     70360\n",
    "\n",
    "labels = Y.value_counts().index\n",
    "fig1, ax1 = plt.subplots()\n",
    "explode = (0.1, 0.1, 0.1, 0.1, 0.1)\n",
    "ax1.pie(Y.value_counts(),  explode = explode, labels = Y.value_counts().index,\n",
    "         autopct='%1.0f%%', startangle = 90)\n",
    "ax1.axis('equal') \n",
    "plt.legend()\n",
    "plt.title(\"Pie Chart of Stars Ratios\", fontsize = 15)\n",
    "#plt.savefig(\"Pie Chart of Stars Ratios\")"
   ]
  },
  {
   "cell_type": "markdown",
   "metadata": {},
   "source": [
    "### Independent variables"
   ]
  },
  {
   "cell_type": "markdown",
   "metadata": {},
   "source": [
    "##### Restaurants Current Total Stars and Review Counts (Prior info for consumers)"
   ]
  },
  {
   "cell_type": "code",
   "execution_count": 101,
   "metadata": {},
   "outputs": [],
   "source": [
    "X = agg[['cts_bus', 'star_bus', 'y2']]"
   ]
  },
  {
   "cell_type": "code",
   "execution_count": 95,
   "metadata": {},
   "outputs": [
    {
     "data": {
      "text/html": [
       "<div>\n",
       "<style scoped>\n",
       "    .dataframe tbody tr th:only-of-type {\n",
       "        vertical-align: middle;\n",
       "    }\n",
       "\n",
       "    .dataframe tbody tr th {\n",
       "        vertical-align: top;\n",
       "    }\n",
       "\n",
       "    .dataframe thead th {\n",
       "        text-align: right;\n",
       "    }\n",
       "</style>\n",
       "<table border=\"1\" class=\"dataframe\">\n",
       "  <thead>\n",
       "    <tr style=\"text-align: right;\">\n",
       "      <th></th>\n",
       "      <th>y2</th>\n",
       "      <th>star_bus</th>\n",
       "    </tr>\n",
       "    <tr>\n",
       "      <th>quarter</th>\n",
       "      <th></th>\n",
       "      <th></th>\n",
       "    </tr>\n",
       "  </thead>\n",
       "  <tbody>\n",
       "    <tr>\n",
       "      <th>0</th>\n",
       "      <td>3.743951</td>\n",
       "      <td>3.766855</td>\n",
       "    </tr>\n",
       "    <tr>\n",
       "      <th>1</th>\n",
       "      <td>3.781223</td>\n",
       "      <td>3.778276</td>\n",
       "    </tr>\n",
       "    <tr>\n",
       "      <th>2</th>\n",
       "      <td>3.806789</td>\n",
       "      <td>3.785802</td>\n",
       "    </tr>\n",
       "    <tr>\n",
       "      <th>3</th>\n",
       "      <td>3.796185</td>\n",
       "      <td>3.792980</td>\n",
       "    </tr>\n",
       "    <tr>\n",
       "      <th>4</th>\n",
       "      <td>3.806769</td>\n",
       "      <td>3.798143</td>\n",
       "    </tr>\n",
       "    <tr>\n",
       "      <th>5</th>\n",
       "      <td>3.821308</td>\n",
       "      <td>3.816116</td>\n",
       "    </tr>\n",
       "    <tr>\n",
       "      <th>6</th>\n",
       "      <td>3.795333</td>\n",
       "      <td>3.801882</td>\n",
       "    </tr>\n",
       "    <tr>\n",
       "      <th>7</th>\n",
       "      <td>3.794240</td>\n",
       "      <td>3.822413</td>\n",
       "    </tr>\n",
       "    <tr>\n",
       "      <th>8</th>\n",
       "      <td>3.876744</td>\n",
       "      <td>3.852100</td>\n",
       "    </tr>\n",
       "    <tr>\n",
       "      <th>9</th>\n",
       "      <td>3.839799</td>\n",
       "      <td>3.848572</td>\n",
       "    </tr>\n",
       "    <tr>\n",
       "      <th>10</th>\n",
       "      <td>3.847568</td>\n",
       "      <td>3.860315</td>\n",
       "    </tr>\n",
       "    <tr>\n",
       "      <th>11</th>\n",
       "      <td>3.874425</td>\n",
       "      <td>3.877037</td>\n",
       "    </tr>\n",
       "  </tbody>\n",
       "</table>\n",
       "</div>"
      ],
      "text/plain": [
       "               y2  star_bus\n",
       "quarter                    \n",
       "0        3.743951  3.766855\n",
       "1        3.781223  3.778276\n",
       "2        3.806789  3.785802\n",
       "3        3.796185  3.792980\n",
       "4        3.806769  3.798143\n",
       "5        3.821308  3.816116\n",
       "6        3.795333  3.801882\n",
       "7        3.794240  3.822413\n",
       "8        3.876744  3.852100\n",
       "9        3.839799  3.848572\n",
       "10       3.847568  3.860315\n",
       "11       3.874425  3.877037"
      ]
     },
     "execution_count": 95,
     "metadata": {},
     "output_type": "execute_result"
    }
   ],
   "source": [
    "# create quarter index\n",
    "def quarter(df):\n",
    "    \n",
    "    ind = (df[\"date_yr\"]-2015)*4\n",
    "    \n",
    "    if df[\"date_mt\"]>=1 and df[\"date_mt\"]<=3:\n",
    "        return ind+0\n",
    "    elif df[\"date_mt\"]>=4 and df[\"date_mt\"]<=6:\n",
    "        return ind+1\n",
    "    elif df[\"date_mt\"]>=7 and df[\"date_mt\"]<=9:\n",
    "        return ind+2\n",
    "    else:\n",
    "        return ind+3\n",
    "    \n",
    "agg[\"quarter\"] = agg.apply(quarter, axis=1)\n",
    "aggdate = agg.groupby([\"quarter\"])[[\"y2\", \"star_bus\"]].mean()\n",
    "aggdate"
   ]
  },
  {
   "cell_type": "code",
   "execution_count": 96,
   "metadata": {},
   "outputs": [
    {
     "data": {
      "image/png": "[encoded data removed]",
      "text/plain": [
       "<Figure size 432x288 with 1 Axes>"
      ]
     },
     "metadata": {},
     "output_type": "display_data"
    }
   ],
   "source": [
    "plt.plot(aggdate.index, aggdate[\"y2\"], '-r', label='Consumers Rating')\n",
    "plt.plot(aggdate.index, aggdate[\"star_bus\"], '--b', label='Restaurants Rating')\n",
    "plt.suptitle(\"Average Consumers and Business Ratings by Quarters\", fontsize=15)\n",
    "plt.legend()\n",
    "plt.xlabel(\"Quarters from 2015 to 2017\")\n",
    "plt.ylabel(\"Score\")\n",
    "plt.savefig(\"Average Consumers and Business Ratings by Quarters.png\")"
   ]
  },
  {
   "cell_type": "markdown",
   "metadata": {},
   "source": [
    "##### Detrending"
   ]
  },
  {
   "cell_type": "markdown",
   "metadata": {},
   "source": [
    "Problem: average rating increases every year. One possible reason: restaurants give incentives to customers who give high ratings (then the ratings and reviews might be biased)"
   ]
  },
  {
   "cell_type": "markdown",
   "metadata": {},
   "source": [
    "Across different years, the means of the scores seem to be growing. Thus the scores is not stationary. We need to de-trend this variable for the analysis. This could be done by calculating the average growth rate in scores across all 9 quarters and dividing each score by (1 + avg_growth_rate) ** (quarter-0).\n",
    "\n",
    "This method is adopted from detrending the inflation effect in macroeconomics."
   ]
  },
  {
   "cell_type": "code",
   "execution_count": 104,
   "metadata": {},
   "outputs": [],
   "source": [
    "avg_score_by_quarter =  agg.groupby([\"quarter\"])[[\"y2\"]].mean().values\n",
    "\n",
    "# Calculate the average growth rate in salaries across all quarters\n",
    "avg_growth_rate = ((avg_score_by_quarter[1:] - avg_score_by_quarter[:-1]) / avg_score_by_quarter[:-1]).mean()\n",
    "#avg_growth_rate = 2.73\n",
    "\n",
    "# Divide each salary by (1 + avg_growth_rate) ** (grad_year - baseline)\n",
    "agg['rate'] = (1 + avg_growth_rate) ** (agg.quarter-0)\n",
    "agg['y2_new'] = agg['y2']/agg['rate']\n",
    "agg['star_bus_new'] = agg['star_bus']/agg['rate']\n",
    "\n",
    "# Replace with new adjusted numbers\n",
    "X['star_bus'] = agg['star_bus_new']\n",
    "X['y2'] = agg['y2_new']"
   ]
  },
  {
   "cell_type": "code",
   "execution_count": 106,
   "metadata": {},
   "outputs": [
    {
     "data": {
      "image/png": "[encoded data removed]",
      "text/plain": [
       "<Figure size 432x288 with 1 Axes>"
      ]
     },
     "metadata": {},
     "output_type": "display_data"
    }
   ],
   "source": [
    "aggdate = agg.groupby([\"quarter\"])[[\"y2_new\", \"star_bus_new\"]].mean()\n",
    "plt.plot(aggdate.index, aggdate[\"y2_new\"], '-r', label='Consumers Rating')\n",
    "plt.plot(aggdate.index, aggdate[\"star_bus_new\"], '--b', label='Restaurants Rating')\n",
    "plt.suptitle(\"Average Consumers and Business Ratings by Quarters\", fontsize=15)\n",
    "plt.legend()\n",
    "plt.xlabel(\"Quarters from 2015 to 2017\")\n",
    "plt.ylabel(\"Score\")\n",
    "plt.savefig(\"Average Consumers and Business Ratings by Quarters.png\")"
   ]
  },
  {
   "cell_type": "code",
   "execution_count": 109,
   "metadata": {},
   "outputs": [
    {
     "data": {
      "text/plain": [
       "0.13972262480063175"
      ]
     },
     "execution_count": 109,
     "metadata": {},
     "output_type": "execute_result"
    }
   ],
   "source": [
    "np.corrcoef(X[\"star_bus\"], X[\"cts_bus\"])[0,1]"
   ]
  },
  {
   "cell_type": "code",
   "execution_count": 112,
   "metadata": {},
   "outputs": [
    {
     "data": {
      "text/plain": [
       "0.40080014271491926"
      ]
     },
     "execution_count": 112,
     "metadata": {},
     "output_type": "execute_result"
    }
   ],
   "source": [
    "np.corrcoef(X[\"star_bus\"], y)[0,1]"
   ]
  },
  {
   "cell_type": "code",
   "execution_count": 113,
   "metadata": {},
   "outputs": [
    {
     "data": {
      "text/plain": [
       "0.049121058473458136"
      ]
     },
     "execution_count": 113,
     "metadata": {},
     "output_type": "execute_result"
    }
   ],
   "source": [
    "np.corrcoef(X[\"cts_bus\"],y)[0,1]"
   ]
  },
  {
   "cell_type": "code",
   "execution_count": 114,
   "metadata": {},
   "outputs": [
    {
     "data": {
      "image/png": "[encoded data removed]",
      "text/plain": [
       "<Figure size 432x432 with 3 Axes>"
      ]
     },
     "metadata": {},
     "output_type": "display_data"
    }
   ],
   "source": [
    "# hexagonal bins\n",
    "sns.jointplot(bus['stars'], bus['review_count'],kind=\"reg\", color=\"maroon\")\n",
    "plt.suptitle(\"Jointplot of Review Counts and Stars for Restaurants\", fontsize=15)\n",
    "plt.savefig(\"stars_review.png\")"
   ]
  },
  {
   "cell_type": "code",
   "execution_count": 118,
   "metadata": {},
   "outputs": [],
   "source": [
    "# Rescale y2 to 0-100 scale again\n",
    "# b. Normalization\n",
    "X['normy'] = (X['y2'] - np.mean(X['y2']))/np.std(X['y2'])\n",
    "\n",
    "# c. Rescale to 0-100 \n",
    "X['y'] = ((100 - 0) / (max(X['normy'] ) - min(X['normy'] ))) * (X['normy'] - min(X['normy'])) + 0 "
   ]
  },
  {
   "cell_type": "markdown",
   "metadata": {},
   "source": [
    "##### Gender"
   ]
  },
  {
   "cell_type": "code",
   "execution_count": 120,
   "metadata": {},
   "outputs": [
    {
     "name": "stdout",
     "output_type": "stream",
     "text": [
      "Ratio of females inferred from the names: 0.44\n"
     ]
    }
   ],
   "source": [
    "guess = gender.Detector()\n",
    "agg[\"guess\"] = [guess.get_gender(i) for i in agg[\"name_y\"]]\n",
    "X['gender'] = np.where(agg[\"guess\"].str.contains(\"female\"), 1, 0)\n",
    "print(\"Ratio of females inferred from the names:\",\n",
    "      round(X['gender'].sum()/X.shape[0], 2))"
   ]
  },
  {
   "cell_type": "code",
   "execution_count": 121,
   "metadata": {},
   "outputs": [
    {
     "data": {
      "text/plain": [
       "Text(0.5, 0.98, 'Histogram of Satisfaction Scores by Gender')"
      ]
     },
     "execution_count": 121,
     "metadata": {},
     "output_type": "execute_result"
    },
    {
     "data": {
      "image/png": "[encoded data removed]",
      "text/plain": [
       "<Figure size 432x288 with 1 Axes>"
      ]
     },
     "metadata": {},
     "output_type": "display_data"
    }
   ],
   "source": [
    "sns.distplot(X[X['gender']==1]['y'], bins=10,  color=\"skyblue\", label=\"Female\")\n",
    "sns.distplot(X[X['gender']==0]['y'], bins=10, color=\"maroon\", label=\"Male\")\n",
    "plt.legend()\n",
    "plt.xlabel('Satisfaction Score')\n",
    "plt.suptitle('Histogram of Satisfaction Scores by Gender', fontsize=15)\n",
    "#plt.savefig('Histogram of Satisfaction Scores by Gender.png')"
   ]
  },
  {
   "cell_type": "code",
   "execution_count": 122,
   "metadata": {},
   "outputs": [
    {
     "data": {
      "text/html": [
       "<div>\n",
       "<style scoped>\n",
       "    .dataframe tbody tr th:only-of-type {\n",
       "        vertical-align: middle;\n",
       "    }\n",
       "\n",
       "    .dataframe tbody tr th {\n",
       "        vertical-align: top;\n",
       "    }\n",
       "\n",
       "    .dataframe thead th {\n",
       "        text-align: right;\n",
       "    }\n",
       "</style>\n",
       "<table border=\"1\" class=\"dataframe\">\n",
       "  <thead>\n",
       "    <tr style=\"text-align: right;\">\n",
       "      <th></th>\n",
       "      <th>cts_bus</th>\n",
       "      <th>star_bus</th>\n",
       "      <th>y2</th>\n",
       "      <th>normy</th>\n",
       "      <th>y</th>\n",
       "    </tr>\n",
       "    <tr>\n",
       "      <th>gender</th>\n",
       "      <th></th>\n",
       "      <th></th>\n",
       "      <th></th>\n",
       "      <th></th>\n",
       "      <th></th>\n",
       "    </tr>\n",
       "  </thead>\n",
       "  <tbody>\n",
       "    <tr>\n",
       "      <th>0</th>\n",
       "      <td>883.43</td>\n",
       "      <td>3.74</td>\n",
       "      <td>3.72</td>\n",
       "      <td>-0.02</td>\n",
       "      <td>47.08</td>\n",
       "    </tr>\n",
       "    <tr>\n",
       "      <th>1</th>\n",
       "      <td>903.01</td>\n",
       "      <td>3.76</td>\n",
       "      <td>3.79</td>\n",
       "      <td>0.02</td>\n",
       "      <td>48.01</td>\n",
       "    </tr>\n",
       "  </tbody>\n",
       "</table>\n",
       "</div>"
      ],
      "text/plain": [
       "        cts_bus  star_bus    y2  normy      y\n",
       "gender                                       \n",
       "0        883.43      3.74  3.72  -0.02  47.08\n",
       "1        903.01      3.76  3.79   0.02  48.01"
      ]
     },
     "execution_count": 122,
     "metadata": {},
     "output_type": "execute_result"
    }
   ],
   "source": [
    "# dataframe for plot\n",
    "XG = X.groupby('gender').mean().round(2)\n",
    "XG.head()"
   ]
  },
  {
   "cell_type": "code",
   "execution_count": 34,
   "metadata": {},
   "outputs": [],
   "source": [
    "def render_mpl_table(data, col_width=3.0, row_height=0.625, font_size=14,\n",
    "                     header_color='#40466e', row_colors=['#f1f1f2', 'w'], edge_color='w',\n",
    "                     bbox=[0, 0, 1, 1], header_columns=0,\n",
    "                     ax=None, **kwargs):\n",
    "    if ax is None:\n",
    "        size = (np.array(data.shape[::-1]) + np.array([0, 1])) * np.array([col_width, row_height])\n",
    "        fig, ax = plt.subplots(figsize=size)\n",
    "        ax.axis('off')\n",
    "\n",
    "    mpl_table = ax.table(cellText=data.values, bbox=bbox, colLabels=data.columns, **kwargs)\n",
    "\n",
    "    mpl_table.auto_set_font_size(False)\n",
    "    mpl_table.set_fontsize(font_size)\n",
    "\n",
    "    for k, cell in  six.iteritems(mpl_table._cells):\n",
    "        cell.set_edgecolor(edge_color)\n",
    "        if k[0] == 0 or k[1] < header_columns:\n",
    "            cell.set_text_props(weight='bold', color='w')\n",
    "            cell.set_facecolor(header_color)\n",
    "        else:\n",
    "            cell.set_facecolor(row_colors[k[0]%len(row_colors) ])\n",
    "    return ax\n",
    "\n",
    "#render_mpl_table(XG, header_columns=0, col_width=2.0)\n",
    "#plt.savefig('gendertable.png')"
   ]
  },
  {
   "cell_type": "markdown",
   "metadata": {},
   "source": [
    "##### Weekend "
   ]
  },
  {
   "cell_type": "code",
   "execution_count": 125,
   "metadata": {},
   "outputs": [
    {
     "data": {
      "text/plain": [
       "0    0\n",
       "1    5\n",
       "2    5\n",
       "3    0\n",
       "4    2\n",
       "Name: dayofweek, dtype: int64"
      ]
     },
     "execution_count": 125,
     "metadata": {},
     "output_type": "execute_result"
    }
   ],
   "source": [
    "# Monday 0 to Sunday 6\n",
    "# Hypothesis: reviews written on Friday, Saturday, and Sunday are different from the ones written during weekdays\n",
    "agg[\"dayofweek\"] = agg[\"DATE\"].dt.dayofweek\n",
    "agg[\"dayofweek\"].head()"
   ]
  },
  {
   "cell_type": "code",
   "execution_count": 126,
   "metadata": {},
   "outputs": [],
   "source": [
    "def weekend(df):\n",
    "    \n",
    "    if df[\"dayofweek\"]==4:\n",
    "        return 1\n",
    "    elif df[\"dayofweek\"]==5:\n",
    "        return 1\n",
    "    elif df[\"dayofweek\"]==6:\n",
    "        return 1   \n",
    "    else:\n",
    "        return 0"
   ]
  },
  {
   "cell_type": "code",
   "execution_count": 127,
   "metadata": {},
   "outputs": [
    {
     "data": {
      "text/plain": [
       "0    266320\n",
       "1    216297\n",
       "Name: weekend, dtype: int64"
      ]
     },
     "execution_count": 127,
     "metadata": {},
     "output_type": "execute_result"
    }
   ],
   "source": [
    "# 0: 457519; 1: 338069\n",
    "# Percentage 0f 1: 42.49%\n",
    "X[\"weekend\"] = agg.apply(weekend, axis=1)\n",
    "X[\"weekend\"].value_counts()"
   ]
  },
  {
   "cell_type": "code",
   "execution_count": 128,
   "metadata": {},
   "outputs": [
    {
     "data": {
      "text/html": [
       "<div>\n",
       "<style scoped>\n",
       "    .dataframe tbody tr th:only-of-type {\n",
       "        vertical-align: middle;\n",
       "    }\n",
       "\n",
       "    .dataframe tbody tr th {\n",
       "        vertical-align: top;\n",
       "    }\n",
       "\n",
       "    .dataframe thead th {\n",
       "        text-align: right;\n",
       "    }\n",
       "</style>\n",
       "<table border=\"1\" class=\"dataframe\">\n",
       "  <thead>\n",
       "    <tr style=\"text-align: right;\">\n",
       "      <th></th>\n",
       "      <th>cts_bus</th>\n",
       "      <th>star_bus</th>\n",
       "      <th>y2</th>\n",
       "      <th>normy</th>\n",
       "      <th>y</th>\n",
       "      <th>gender</th>\n",
       "      <th>weekend</th>\n",
       "    </tr>\n",
       "  </thead>\n",
       "  <tbody>\n",
       "    <tr>\n",
       "      <th>0</th>\n",
       "      <td>13</td>\n",
       "      <td>3.900554</td>\n",
       "      <td>4.225601</td>\n",
       "      <td>0.282242</td>\n",
       "      <td>53.861259</td>\n",
       "      <td>1</td>\n",
       "      <td>0</td>\n",
       "    </tr>\n",
       "    <tr>\n",
       "      <th>1</th>\n",
       "      <td>13</td>\n",
       "      <td>3.925182</td>\n",
       "      <td>5.262096</td>\n",
       "      <td>0.895892</td>\n",
       "      <td>67.719390</td>\n",
       "      <td>0</td>\n",
       "      <td>1</td>\n",
       "    </tr>\n",
       "    <tr>\n",
       "      <th>2</th>\n",
       "      <td>13</td>\n",
       "      <td>3.949964</td>\n",
       "      <td>0.246873</td>\n",
       "      <td>-2.073337</td>\n",
       "      <td>0.664964</td>\n",
       "      <td>1</td>\n",
       "      <td>1</td>\n",
       "    </tr>\n",
       "    <tr>\n",
       "      <th>3</th>\n",
       "      <td>13</td>\n",
       "      <td>3.925182</td>\n",
       "      <td>1.471943</td>\n",
       "      <td>-1.348043</td>\n",
       "      <td>17.044371</td>\n",
       "      <td>0</td>\n",
       "      <td>0</td>\n",
       "    </tr>\n",
       "    <tr>\n",
       "      <th>4</th>\n",
       "      <td>13</td>\n",
       "      <td>3.962414</td>\n",
       "      <td>0.279832</td>\n",
       "      <td>-2.053824</td>\n",
       "      <td>1.105628</td>\n",
       "      <td>0</td>\n",
       "      <td>0</td>\n",
       "    </tr>\n",
       "  </tbody>\n",
       "</table>\n",
       "</div>"
      ],
      "text/plain": [
       "   cts_bus  star_bus        y2     normy          y  gender  weekend\n",
       "0       13  3.900554  4.225601  0.282242  53.861259       1        0\n",
       "1       13  3.925182  5.262096  0.895892  67.719390       0        1\n",
       "2       13  3.949964  0.246873 -2.073337   0.664964       1        1\n",
       "3       13  3.925182  1.471943 -1.348043  17.044371       0        0\n",
       "4       13  3.962414  0.279832 -2.053824   1.105628       0        0"
      ]
     },
     "execution_count": 128,
     "metadata": {},
     "output_type": "execute_result"
    }
   ],
   "source": [
    "X.head()"
   ]
  },
  {
   "cell_type": "code",
   "execution_count": 129,
   "metadata": {},
   "outputs": [
    {
     "data": {
      "text/plain": [
       "DescribeResult(nobs=266320, minmax=(0.0, 100.0), mean=47.56661976455047, variance=500.25481060352666, skewness=-0.8917597831238238, kurtosis=-0.48951395712408985)"
      ]
     },
     "execution_count": 129,
     "metadata": {},
     "output_type": "execute_result"
    }
   ],
   "source": [
    "stats.describe(X[X[\"weekend\"]==0]['y'])"
   ]
  },
  {
   "cell_type": "code",
   "execution_count": 130,
   "metadata": {},
   "outputs": [
    {
     "data": {
      "text/plain": [
       "DescribeResult(nobs=216297, minmax=(0.030069659778084998, 97.38117256882376), mean=47.389785018615946, variance=521.9795058304924, skewness=-0.8812164191957148, kurtosis=-0.5680509298119563)"
      ]
     },
     "execution_count": 130,
     "metadata": {},
     "output_type": "execute_result"
    }
   ],
   "source": [
    "stats.describe(X[X[\"weekend\"]==1]['y'])"
   ]
  },
  {
   "cell_type": "code",
   "execution_count": 131,
   "metadata": {},
   "outputs": [
    {
     "data": {
      "text/plain": [
       "Text(0.5, 0.98, 'Histogram of Satisfaction Scores by Weekend/Weekday')"
      ]
     },
     "execution_count": 131,
     "metadata": {},
     "output_type": "execute_result"
    },
    {
     "data": {
      "image/png": "[encoded data removed]",
      "text/plain": [
       "<Figure size 432x288 with 1 Axes>"
      ]
     },
     "metadata": {},
     "output_type": "display_data"
    }
   ],
   "source": [
    "sns.distplot(X[X['weekend']==1]['y'], bins=10, color=\"skyblue\", label=\"weekend\")\n",
    "sns.distplot(X[X['weekend']==0]['y'], bins=10, color=\"maroon\", label=\"weekday\")\n",
    "plt.legend()\n",
    "plt.xlabel('Satisfaction Score')\n",
    "plt.suptitle('Histogram of Satisfaction Scores by Weekend/Weekday', fontsize=15)\n",
    "#plt.savefig('Histogram of Satisfaction Scores by WeekendWeekday.png')"
   ]
  },
  {
   "cell_type": "markdown",
   "metadata": {},
   "source": [
    "##### With group"
   ]
  },
  {
   "cell_type": "code",
   "execution_count": 133,
   "metadata": {},
   "outputs": [],
   "source": [
    "keywords = [\"we\", \"our\", \"us\", \"daughter\", \"son\", \"children\", \"family\",\n",
    "           \"friends\", \"friend\", \"guests\", \"buddy\", \"colleagues\", \"wife\", \"husband\", \"party\"]\n",
    "\n",
    "def withgroup(df):\n",
    "    \n",
    "    vocas = [i.lower() for i in df['text'].split()]\n",
    "    \n",
    "    for key in keywords:         \n",
    "        if key in vocas:\n",
    "            return 1  \n",
    "    return 0\n",
    "        \n",
    "# create new column for food categories\n",
    "X[\"group\"] = agg.apply(withgroup, axis=1)"
   ]
  },
  {
   "cell_type": "code",
   "execution_count": 134,
   "metadata": {},
   "outputs": [
    {
     "data": {
      "text/plain": [
       "0    242655\n",
       "1    239962\n",
       "Name: group, dtype: int64"
      ]
     },
     "execution_count": 134,
     "metadata": {},
     "output_type": "execute_result"
    }
   ],
   "source": [
    "X[\"group\"].value_counts()"
   ]
  },
  {
   "cell_type": "code",
   "execution_count": 135,
   "metadata": {},
   "outputs": [
    {
     "data": {
      "text/plain": [
       "DescribeResult(nobs=242655, minmax=(0.0, 100.0), mean=48.51740306121596, variance=493.2602189006325, skewness=-0.9675061923723042, kurtosis=-0.33693895801044116)"
      ]
     },
     "execution_count": 135,
     "metadata": {},
     "output_type": "execute_result"
    }
   ],
   "source": [
    "stats.describe(X[X[\"group\"]==0]['y'])"
   ]
  },
  {
   "cell_type": "code",
   "execution_count": 136,
   "metadata": {},
   "outputs": [
    {
     "data": {
      "text/plain": [
       "DescribeResult(nobs=239962, minmax=(0.030069659778084998, 97.44833274012053), mean=46.445770855582516, variance=524.7678432513867, skewness=-0.8098678101162553, kurtosis=-0.6884107540039688)"
      ]
     },
     "execution_count": 136,
     "metadata": {},
     "output_type": "execute_result"
    }
   ],
   "source": [
    "stats.describe(X[X[\"group\"]==1]['y'])"
   ]
  },
  {
   "cell_type": "code",
   "execution_count": 137,
   "metadata": {},
   "outputs": [
    {
     "data": {
      "text/plain": [
       "Text(0.5, 0.98, 'Histogram of Satisfaction Scores by (Not) With Groups')"
      ]
     },
     "execution_count": 137,
     "metadata": {},
     "output_type": "execute_result"
    },
    {
     "data": {
      "image/png": "[encoded data removed]",
      "text/plain": [
       "<Figure size 432x288 with 1 Axes>"
      ]
     },
     "metadata": {},
     "output_type": "display_data"
    }
   ],
   "source": [
    "sns.distplot(X[X['group']==1]['y'], bins=10, color=\"skyblue\", label=\"group\")\n",
    "sns.distplot(X[X['group']==0]['y'], bins=10, color=\"maroon\", label=\"individual\")\n",
    "plt.legend()\n",
    "plt.xlabel('Satisfaction Score')\n",
    "plt.suptitle('Histogram of Satisfaction Scores by (Not) With Groups', fontsize=15)\n",
    "#plt.savefig('Histogram of Satisfaction Scores by (Not) With Groups.png')"
   ]
  },
  {
   "cell_type": "markdown",
   "metadata": {},
   "source": [
    "##### Food Categories"
   ]
  },
  {
   "cell_type": "code",
   "execution_count": 141,
   "metadata": {},
   "outputs": [],
   "source": [
    "Ameri = [\"American (New)\", \"American (Traditional)\", \"Burgers\", \"Chicken Wings\",\n",
    "        \"Fast Food\", \"Hot Dogs\", \"Salad\", \"Sandwiches\", \"Barbeque\"\n",
    "         \"Smokehouse\", \"Pizza\", \"Cheesesteaks\", \"Cafeteria\"]\n",
    "Europ = [\"Italian\", \"French\", \"British\", \"Hungarian\", \"lombian\",\"Portuguese\", \"German\",\n",
    "         \"Russian\", \"Spanish\", \"Ukrainian\", \"Fish & Chips\", \n",
    "         \"Greek\", \"Irish\", \"Modern European\", \"Polish\", \"Bulgarian\", \"Armenian\"]\n",
    "SouAM = [\"Mexican\", \"Argentine\", \"Cajun\", \"Caribbean\", \"Peruvian\",\n",
    "         \"Honduran\", \"Salvadoran\", \"Venezuelan\", \"Puerto Rican\", \"Tex-Mex\", \n",
    "         \"New Mexican Cuisine\", \"Nicaraguan\", \"Tacos\", \"Latin American\"]\n",
    "Asian = [\"Thai\", \"Japanese\", \"Fusion\", \"Korean\",\n",
    "          \"Filipino\",\"Hawaiian\", \"Curry\", \"Asian\", \"Pan Asian\",\n",
    "         \"Soba\", \"Vietnamese\", \"Singaporean\", \"Mongolian\", \n",
    "         \"Guamanian\", \"Himalayan/Nepalese\", \"Malaysian\",\n",
    "         \"Middle Eastern\", \"Sushi Bars\", \"Hong Kong Style Cafe\", \"Bubble Tea\"]\n",
    "Indian = ['Indian']\n",
    "Chinese = [\"Chinese\",  \"Taiwanese\", \"Cantonese\", \"Shanghainese\", \"Szechuan\",\n",
    "          \"Dim Sum\", \"Ramen\", \"Hot Pot\"]\n",
    "MidEas = [\"Mediterranean\",\"Kebab\", \"Pakistani\", \"Persian/Iranian\", \"Falafel\", \"Lebanese\"]\n",
    "Drinks = [\"Beer\", \"Coffee\", \"Wine Bars\", \"Pubs\",  \"Wineries\", \n",
    "          \"Wine & Spirits\", \"Tea Rooms\", \"Irish Pub\", \"Juice Bars & Smoothies\", \"Bars\"]\n",
    "\n",
    "def fooddummy(df, keywords):\n",
    "    for key in keywords: \n",
    "        if key in df['categories']:\n",
    "            return 1     \n",
    "    return 0\n",
    "\n",
    "# Full List (Too slow to run through)\n",
    "FoodCate = [\"Ameri\", \"Europ\", \"SouAM\", \"Asian\", \n",
    "            \"Indian\", \"Chinese\", \"MidEas\", \"Drinks\"]\n",
    "FoodCateKeys = [Ameri, Europ, SouAM, Asian, \n",
    "                Indian, Chinese, MidEas, Drinks]\n",
    "\n",
    "#Simplified List (Just pick two most unique categories)\n",
    "#FoodCate = [\"Asian\", \"Drinks\"]\n",
    "#FoodCateKeys = [Asian, Drinks]\n",
    "\n",
    "#c reate new column for food categories\n",
    "for index, name in enumerate(FoodCate):\n",
    "    X[name] = agg.apply(fooddummy, args=(FoodCateKeys[index],), axis=1)"
   ]
  },
  {
   "cell_type": "code",
   "execution_count": 142,
   "metadata": {},
   "outputs": [],
   "source": [
    "def category(df):\n",
    "    \n",
    "    if df['Ameri']==1:\n",
    "        return 'American'\n",
    "    elif df['Europ']==1:\n",
    "        return 'Europe'\n",
    "    elif df['SouAM']==1:\n",
    "        return 'South American'\n",
    "    elif df['Asian']==1:\n",
    "        return 'Asian'\n",
    "    elif df['Indian']==1:\n",
    "        return 'Indian'\n",
    "    elif df['Chinese']==1:\n",
    "        return 'Chinese'\n",
    "    elif df['MidEas']==1:\n",
    "        return 'Middle East'\n",
    "    elif df['Drinks']==1:\n",
    "        return 'Bars & Drinks'\n",
    "    else:\n",
    "        return 'Others'\n",
    "    \n",
    "X['category'] = X.apply(category, axis = 1)"
   ]
  },
  {
   "cell_type": "code",
   "execution_count": 46,
   "metadata": {},
   "outputs": [
    {
     "data": {
      "text/plain": [
       "American          379859\n",
       "Asian             173051\n",
       "Europe             81179\n",
       "Others             69998\n",
       "South American     60540\n",
       "Bars & Drinks      27944\n",
       "Middle East         3017\n",
       "Name: category, dtype: int64"
      ]
     },
     "execution_count": 46,
     "metadata": {},
     "output_type": "execute_result"
    }
   ],
   "source": [
    "X['category'].value_counts()"
   ]
  },
  {
   "cell_type": "markdown",
   "metadata": {},
   "source": [
    "###### Overlapping densities visualization"
   ]
  },
  {
   "cell_type": "markdown",
   "metadata": {},
   "source": [
    "https://seaborn.pydata.org/generated/seaborn.kdeplot.html\n",
    "\n",
    "https://seaborn.pydata.org/examples/kde_ridgeplot.html    "
   ]
  },
  {
   "cell_type": "code",
   "execution_count": 50,
   "metadata": {},
   "outputs": [
    {
     "data": {
      "text/plain": [
       "Text(0.5, 8.959999999999866, 'score')"
      ]
     },
     "execution_count": 50,
     "metadata": {},
     "output_type": "execute_result"
    },
    {
     "data": {
      "text/plain": [
       "<Figure size 576x720 with 0 Axes>"
      ]
     },
     "metadata": {},
     "output_type": "display_data"
    },
    {
     "data": {
      "image/png": "[encoded data removed]",
      "text/plain": [
       "<Figure size 432x504 with 7 Axes>"
      ]
     },
     "metadata": {},
     "output_type": "display_data"
    }
   ],
   "source": [
    "sns.set(style=\"white\", rc={\"axes.facecolor\": (0, 0, 0, 0)})\n",
    "plt.figure(figsize = (8,10))\n",
    "\n",
    "# Initialize the FacetGrid object\n",
    "pal = sns.cubehelix_palette(10, rot=-.25, light=.7)\n",
    "g = sns.FacetGrid(X, row=\"category\", hue=\"category\", aspect=6, height=1, palette=pal)\n",
    "\n",
    "# Draw the densities in a few steps\n",
    "g.map(sns.kdeplot, \"y\", clip_on=False, shade=True, color=\"r\", gridsize=8, alpha=0.5, lw=2, bw=.2)\n",
    "g.map(sns.kdeplot, \"y\", clip_on=False, color=\"r\", gridsize=8,  lw=2, bw=.2)\n",
    "g.map(plt.axhline, y=0, lw=2, color=\"r\", clip_on=False)\n",
    "\n",
    "\n",
    "# Define and use a simple function to label the plot in axes coordinates\n",
    "def label(x, color, label):\n",
    "    ax = plt.gca()\n",
    "    ax.text(0, .4, label, fontweight=\"bold\", color=\"b\",\n",
    "            ha=\"left\", va=\"center\", transform=ax.transAxes)\n",
    "\n",
    "g.map(label, \"y\")\n",
    "\n",
    "# Set the subplots to overlap\n",
    "g.fig.subplots_adjust(hspace=-0.0)\n",
    "\n",
    "# Remove axes details that don't play well with overlap\n",
    "g.set_titles(\"\")\n",
    "g.set(yticks=[])\n",
    "g.despine(bottom=True, left=True)\n",
    "plt.suptitle('Densities of Scores by Restaurants Categories', fontsize=15)\n",
    "plt.xlabel('score')\n",
    "#plt.savefig(\"DensitiesCategories.png\")"
   ]
  },
  {
   "cell_type": "code",
   "execution_count": 48,
   "metadata": {},
   "outputs": [],
   "source": [
    "#Coorelation Matrix Heatmap\n",
    "\n",
    "#plt.matshow(X.corr())\n",
    "#plt.xticks(range(len(X.columns)), X.columns)\n",
    "#plt.yticks(range(len(X.columns)), X.columns)\n",
    "#plt.colorbar()"
   ]
  },
  {
   "cell_type": "markdown",
   "metadata": {},
   "source": [
    "### Machine Learning"
   ]
  },
  {
   "cell_type": "markdown",
   "metadata": {},
   "source": [
    "The ML algorithm will predict our satisfaction (utility) from dining at a particular restaurant. The predicted score will be used to rank the filtered options."
   ]
  },
  {
   "cell_type": "markdown",
   "metadata": {},
   "source": [
    "#### Preview data"
   ]
  },
  {
   "cell_type": "code",
   "execution_count": 51,
   "metadata": {},
   "outputs": [
    {
     "data": {
      "text/html": [
       "<div>\n",
       "<style scoped>\n",
       "    .dataframe tbody tr th:only-of-type {\n",
       "        vertical-align: middle;\n",
       "    }\n",
       "\n",
       "    .dataframe tbody tr th {\n",
       "        vertical-align: top;\n",
       "    }\n",
       "\n",
       "    .dataframe thead th {\n",
       "        text-align: right;\n",
       "    }\n",
       "</style>\n",
       "<table border=\"1\" class=\"dataframe\">\n",
       "  <thead>\n",
       "    <tr style=\"text-align: right;\">\n",
       "      <th></th>\n",
       "      <th>cts_bus</th>\n",
       "      <th>star_bus</th>\n",
       "      <th>gender</th>\n",
       "      <th>weekend</th>\n",
       "      <th>group</th>\n",
       "      <th>Ameri</th>\n",
       "      <th>Europ</th>\n",
       "      <th>SouAM</th>\n",
       "      <th>Asian</th>\n",
       "      <th>MidEas</th>\n",
       "      <th>Drinks</th>\n",
       "    </tr>\n",
       "  </thead>\n",
       "  <tbody>\n",
       "    <tr>\n",
       "      <th>0</th>\n",
       "      <td>13</td>\n",
       "      <td>4.0</td>\n",
       "      <td>1</td>\n",
       "      <td>0</td>\n",
       "      <td>0</td>\n",
       "      <td>1</td>\n",
       "      <td>0</td>\n",
       "      <td>0</td>\n",
       "      <td>0</td>\n",
       "      <td>0</td>\n",
       "      <td>1</td>\n",
       "    </tr>\n",
       "    <tr>\n",
       "      <th>1</th>\n",
       "      <td>13</td>\n",
       "      <td>4.0</td>\n",
       "      <td>0</td>\n",
       "      <td>1</td>\n",
       "      <td>1</td>\n",
       "      <td>1</td>\n",
       "      <td>0</td>\n",
       "      <td>0</td>\n",
       "      <td>0</td>\n",
       "      <td>0</td>\n",
       "      <td>1</td>\n",
       "    </tr>\n",
       "    <tr>\n",
       "      <th>2</th>\n",
       "      <td>13</td>\n",
       "      <td>4.0</td>\n",
       "      <td>1</td>\n",
       "      <td>1</td>\n",
       "      <td>1</td>\n",
       "      <td>1</td>\n",
       "      <td>0</td>\n",
       "      <td>0</td>\n",
       "      <td>0</td>\n",
       "      <td>0</td>\n",
       "      <td>1</td>\n",
       "    </tr>\n",
       "    <tr>\n",
       "      <th>3</th>\n",
       "      <td>13</td>\n",
       "      <td>4.0</td>\n",
       "      <td>0</td>\n",
       "      <td>0</td>\n",
       "      <td>1</td>\n",
       "      <td>1</td>\n",
       "      <td>0</td>\n",
       "      <td>0</td>\n",
       "      <td>0</td>\n",
       "      <td>0</td>\n",
       "      <td>1</td>\n",
       "    </tr>\n",
       "    <tr>\n",
       "      <th>4</th>\n",
       "      <td>13</td>\n",
       "      <td>4.0</td>\n",
       "      <td>0</td>\n",
       "      <td>0</td>\n",
       "      <td>0</td>\n",
       "      <td>1</td>\n",
       "      <td>0</td>\n",
       "      <td>0</td>\n",
       "      <td>0</td>\n",
       "      <td>0</td>\n",
       "      <td>1</td>\n",
       "    </tr>\n",
       "  </tbody>\n",
       "</table>\n",
       "</div>"
      ],
      "text/plain": [
       "   cts_bus  star_bus  gender  weekend  group  Ameri  Europ  SouAM  Asian  \\\n",
       "0       13       4.0       1        0      0      1      0      0      0   \n",
       "1       13       4.0       0        1      1      1      0      0      0   \n",
       "2       13       4.0       1        1      1      1      0      0      0   \n",
       "3       13       4.0       0        0      1      1      0      0      0   \n",
       "4       13       4.0       0        0      0      1      0      0      0   \n",
       "\n",
       "   MidEas  Drinks  \n",
       "0       0       1  \n",
       "1       0       1  \n",
       "2       0       1  \n",
       "3       0       1  \n",
       "4       0       1  "
      ]
     },
     "execution_count": 51,
     "metadata": {},
     "output_type": "execute_result"
    }
   ],
   "source": [
    "X = X.drop([\"y\", \"category\"], axis=1)\n",
    "X.head()"
   ]
  },
  {
   "cell_type": "code",
   "execution_count": 49,
   "metadata": {},
   "outputs": [
    {
     "data": {
      "text/plain": [
       "0    51.171588\n",
       "1    63.924229\n",
       "2     0.569042\n",
       "3    16.059617\n",
       "4     0.971621\n",
       "5    48.303911\n",
       "6    59.433228\n",
       "7    47.040768\n",
       "8    59.433228\n",
       "9    59.433228\n",
       "Name: y, dtype: float64"
      ]
     },
     "execution_count": 49,
     "metadata": {},
     "output_type": "execute_result"
    }
   ],
   "source": [
    "y[:10]"
   ]
  },
  {
   "cell_type": "code",
   "execution_count": 52,
   "metadata": {},
   "outputs": [
    {
     "data": {
      "text/plain": [
       "((795588, 11), (795588,))"
      ]
     },
     "execution_count": 52,
     "metadata": {},
     "output_type": "execute_result"
    }
   ],
   "source": [
    "#make sure the rows number match!\n",
    "(X.shape,y.shape)"
   ]
  },
  {
   "cell_type": "markdown",
   "metadata": {},
   "source": [
    "#### Predictive Models"
   ]
  },
  {
   "cell_type": "markdown",
   "metadata": {},
   "source": [
    "##### Feature importance using Random Forest"
   ]
  },
  {
   "cell_type": "code",
   "execution_count": 53,
   "metadata": {},
   "outputs": [
    {
     "name": "stdout",
     "output_type": "stream",
     "text": [
      "cts_bus 0.16534131210167702\n",
      "star_bus 0.7090972852750612\n",
      "gender 0.020648427832941484\n",
      "weekend 0.033040524879725655\n",
      "group 0.017751471135395686\n",
      "Ameri 0.012062897641024204\n",
      "Europ 0.007286078036036789\n",
      "SouAM 0.010035831794529968\n",
      "Asian 0.011018035175814572\n",
      "MidEas 0.003078170308981855\n",
      "Drinks 0.010639965818811749\n"
     ]
    }
   ],
   "source": [
    "from sklearn.ensemble import RandomForestRegressor\n",
    "rfc= RandomForestRegressor(n_estimators=100,n_jobs=4).fit(X, y)\n",
    "for name,score in zip(X.columns,rfc.feature_importances_):\n",
    "    print(name,score)"
   ]
  },
  {
   "cell_type": "code",
   "execution_count": 56,
   "metadata": {
    "scrolled": true
   },
   "outputs": [
    {
     "data": {
      "image/png": "[encoded data removed]",
      "text/plain": [
       "<Figure size 504x540 with 1 Axes>"
      ]
     },
     "metadata": {},
     "output_type": "display_data"
    }
   ],
   "source": [
    "imp = pd.DataFrame({\"features\":X.columns, \"score\": rfc.feature_importances_})\n",
    "imp = imp.sort_values(by='score', ascending=False)\n",
    "imp = imp.round(2)\n",
    "render_mpl_table(imp, header_columns=0, col_width=3.5)\n",
    "plt.savefig('importance.png')"
   ]
  },
  {
   "cell_type": "code",
   "execution_count": 111,
   "metadata": {
    "scrolled": true
   },
   "outputs": [
    {
     "data": {
      "image/png": "[encoded data removed]",
      "text/plain": [
       "<Figure size 432x288 with 1 Axes>"
      ]
     },
     "metadata": {},
     "output_type": "display_data"
    }
   ],
   "source": [
    "plt.hlines(y=imp[\"features\"], xmin=0, xmax=imp['score'],\n",
    "           linestyles ='dashed', color='maroon')\n",
    "\n",
    "plt.plot(imp['score'], imp[\"features\"], \">\", color='maroon')\n",
    " \n",
    "plt.yticks(imp[\"features\"])\n",
    "plt.title(\"Relative Features Importance\", loc='center', fontsize=15)\n",
    "plt.xlabel('scores')\n",
    "#plt.savefig(\"Relative Features Importance.png\")"
   ]
  },
  {
   "cell_type": "markdown",
   "metadata": {},
   "source": [
    "Random Forest measures the relative importance of each predictor by counting the number of associated training samples in the 500 trees. The five most importance features are ..."
   ]
  },
  {
   "cell_type": "markdown",
   "metadata": {},
   "source": [
    "The food categories are not important at all for predicting customer satisfaction. So we delete them from machine learning models."
   ]
  },
  {
   "cell_type": "code",
   "execution_count": 58,
   "metadata": {},
   "outputs": [
    {
     "data": {
      "text/html": [
       "<div>\n",
       "<style scoped>\n",
       "    .dataframe tbody tr th:only-of-type {\n",
       "        vertical-align: middle;\n",
       "    }\n",
       "\n",
       "    .dataframe tbody tr th {\n",
       "        vertical-align: top;\n",
       "    }\n",
       "\n",
       "    .dataframe thead th {\n",
       "        text-align: right;\n",
       "    }\n",
       "</style>\n",
       "<table border=\"1\" class=\"dataframe\">\n",
       "  <thead>\n",
       "    <tr style=\"text-align: right;\">\n",
       "      <th></th>\n",
       "      <th>cts_bus</th>\n",
       "      <th>star_bus</th>\n",
       "      <th>gender</th>\n",
       "      <th>weekend</th>\n",
       "      <th>group</th>\n",
       "    </tr>\n",
       "  </thead>\n",
       "  <tbody>\n",
       "    <tr>\n",
       "      <th>0</th>\n",
       "      <td>13</td>\n",
       "      <td>4.0</td>\n",
       "      <td>1</td>\n",
       "      <td>0</td>\n",
       "      <td>0</td>\n",
       "    </tr>\n",
       "    <tr>\n",
       "      <th>1</th>\n",
       "      <td>13</td>\n",
       "      <td>4.0</td>\n",
       "      <td>0</td>\n",
       "      <td>1</td>\n",
       "      <td>1</td>\n",
       "    </tr>\n",
       "    <tr>\n",
       "      <th>2</th>\n",
       "      <td>13</td>\n",
       "      <td>4.0</td>\n",
       "      <td>1</td>\n",
       "      <td>1</td>\n",
       "      <td>1</td>\n",
       "    </tr>\n",
       "    <tr>\n",
       "      <th>3</th>\n",
       "      <td>13</td>\n",
       "      <td>4.0</td>\n",
       "      <td>0</td>\n",
       "      <td>0</td>\n",
       "      <td>1</td>\n",
       "    </tr>\n",
       "    <tr>\n",
       "      <th>4</th>\n",
       "      <td>13</td>\n",
       "      <td>4.0</td>\n",
       "      <td>0</td>\n",
       "      <td>0</td>\n",
       "      <td>0</td>\n",
       "    </tr>\n",
       "  </tbody>\n",
       "</table>\n",
       "</div>"
      ],
      "text/plain": [
       "   cts_bus  star_bus  gender  weekend  group\n",
       "0       13       4.0       1        0      0\n",
       "1       13       4.0       0        1      1\n",
       "2       13       4.0       1        1      1\n",
       "3       13       4.0       0        0      1\n",
       "4       13       4.0       0        0      0"
      ]
     },
     "execution_count": 58,
     "metadata": {},
     "output_type": "execute_result"
    }
   ],
   "source": [
    "X=X.drop([\"Ameri\", \"Europ\", \"SouAM\", \"Asian\", \"MidEas\", \"Drinks\"], axis=1)\n",
    "X.head()"
   ]
  },
  {
   "cell_type": "markdown",
   "metadata": {},
   "source": [
    "##### Training and testing sets"
   ]
  },
  {
   "cell_type": "code",
   "execution_count": 56,
   "metadata": {},
   "outputs": [],
   "source": [
    "#Divide the data into training and test set, with ratio 3:1 (test=25%).\n",
    "X_train, X_test, y_train, y_test = train_test_split(X, y, random_state=0)\n",
    "scaler = MinMaxScaler()\n",
    "X_train = scaler.fit_transform(X_train)\n",
    "X_test = scaler.fit_transform(X_test)"
   ]
  },
  {
   "cell_type": "markdown",
   "metadata": {},
   "source": [
    " experiment with only most important features\n",
    "X_train, X_test, y_train, y_test = train_test_split(X[[\"sentiment\", \"stars_x\"]] , y, random_state=0)"
   ]
  },
  {
   "cell_type": "markdown",
   "metadata": {},
   "source": [
    "##### Linear Regression"
   ]
  },
  {
   "cell_type": "code",
   "execution_count": 57,
   "metadata": {},
   "outputs": [],
   "source": [
    "lin = LinearRegression().fit(X_train, y_train)"
   ]
  },
  {
   "cell_type": "code",
   "execution_count": 58,
   "metadata": {},
   "outputs": [
    {
     "name": "stdout",
     "output_type": "stream",
     "text": [
      "Mean: 358.43\n",
      "Standard deviation: 1.06\n"
     ]
    }
   ],
   "source": [
    "linkf = cross_val_score(lin, X_train, y_train, cv=5, \n",
    "                      scoring=\"neg_mean_squared_error\")\n",
    "print(\"Mean:\",round(-linkf.mean(),2))\n",
    "print(\"Standard deviation:\",round(linkf.std(),2))"
   ]
  },
  {
   "cell_type": "code",
   "execution_count": 91,
   "metadata": {},
   "outputs": [
    {
     "name": "stdout",
     "output_type": "stream",
     "text": [
      "Mean: 358.5\n",
      "Standard deviation: 7.94\n"
     ]
    }
   ],
   "source": [
    "linfull = LinearRegression().fit(X, y)\n",
    "linkffull = cross_val_score(linfull, X, y, cv=5, \n",
    "                      scoring=\"neg_mean_squared_error\")\n",
    "print(\"Mean:\",round(-linkffull.mean(),2))\n",
    "print(\"Standard deviation:\",round(linkffull.std(),2))"
   ]
  },
  {
   "cell_type": "code",
   "execution_count": 62,
   "metadata": {},
   "outputs": [
    {
     "data": {
      "text/plain": [
       "array([ 0.75585888, 56.16279381,  0.76078494, -0.18947821, -2.50833473])"
      ]
     },
     "execution_count": 62,
     "metadata": {},
     "output_type": "execute_result"
    }
   ],
   "source": [
    "lin.coef_"
   ]
  },
  {
   "cell_type": "code",
   "execution_count": 59,
   "metadata": {},
   "outputs": [
    {
     "data": {
      "text/plain": [
       "6.555260234425063"
      ]
     },
     "execution_count": 59,
     "metadata": {},
     "output_type": "execute_result"
    }
   ],
   "source": [
    "lin.intercept_"
   ]
  },
  {
   "cell_type": "code",
   "execution_count": 60,
   "metadata": {},
   "outputs": [],
   "source": [
    "lin_full = LinearRegression().fit(X, y)"
   ]
  },
  {
   "cell_type": "code",
   "execution_count": 61,
   "metadata": {},
   "outputs": [
    {
     "name": "stdout",
     "output_type": "stream",
     "text": [
      "                            OLS Regression Results                            \n",
      "==============================================================================\n",
      "Dep. Variable:                      y   R-squared:                       0.157\n",
      "Model:                            OLS   Adj. R-squared:                  0.157\n",
      "Method:                 Least Squares   F-statistic:                 1.014e+04\n",
      "Date:                Mon, 23 Sep 2019   Prob (F-statistic):               0.00\n",
      "Time:                        15:04:55   Log-Likelihood:            -2.6014e+06\n",
      "No. Observations:              596691   AIC:                         5.203e+06\n",
      "Df Residuals:                  596679   BIC:                         5.203e+06\n",
      "Df Model:                          11                                         \n",
      "Covariance Type:            nonrobust                                         \n",
      "==============================================================================\n",
      "                 coef    std err          t      P>|t|      [0.025      0.975]\n",
      "------------------------------------------------------------------------------\n",
      "const          6.5553      0.136     48.330      0.000       6.289       6.821\n",
      "x1             0.8203      0.139      5.891      0.000       0.547       1.093\n",
      "x2            55.8328      0.175    319.479      0.000      55.490      56.175\n",
      "x3             0.7660      0.050     15.402      0.000       0.669       0.864\n",
      "x4            -0.1862      0.050     -3.753      0.000      -0.283      -0.089\n",
      "x5            -2.5347      0.050    -51.182      0.000      -2.632      -2.438\n",
      "x6            -0.6189      0.058    -10.764      0.000      -0.732      -0.506\n",
      "x7             0.3205      0.076      4.245      0.000       0.173       0.468\n",
      "x8            -0.0594      0.084     -0.704      0.481      -0.225       0.106\n",
      "x9             0.0894      0.068      1.317      0.188      -0.044       0.222\n",
      "x10            0.0083      0.155      0.054      0.957      -0.296       0.313\n",
      "x11            0.1013      0.052      1.935      0.053      -0.001       0.204\n",
      "==============================================================================\n",
      "Omnibus:                    43230.738   Durbin-Watson:                   1.999\n",
      "Prob(Omnibus):                  0.000   Jarque-Bera (JB):            53284.196\n",
      "Skew:                          -0.730   Prob(JB):                         0.00\n",
      "Kurtosis:                       2.891   Cond. No.                         14.3\n",
      "==============================================================================\n",
      "\n",
      "Warnings:\n",
      "[1] Standard Errors assume that the covariance matrix of the errors is correctly specified.\n"
     ]
    }
   ],
   "source": [
    "import statsmodels.api as sm\n",
    "X2=sm.add_constant(X_train)\n",
    "model = sm.OLS(y_train, X2).fit()\n",
    "#predictions = model.predict(X) \n",
    "print_model = model.summary()\n",
    "print(print_model)"
   ]
  },
  {
   "cell_type": "markdown",
   "metadata": {},
   "source": [
    "##### Lasso Regression\n"
   ]
  },
  {
   "cell_type": "code",
   "execution_count": 62,
   "metadata": {},
   "outputs": [],
   "source": [
    "las = Lasso().fit(X_train, y_train)"
   ]
  },
  {
   "cell_type": "code",
   "execution_count": 69,
   "metadata": {},
   "outputs": [
    {
     "name": "stdout",
     "output_type": "stream",
     "text": [
      "GridBestEstimatorLasso= Lasso(alpha=0.0, copy_X=True, fit_intercept=True, max_iter=1000,\n",
      "   normalize=False, positive=False, precompute=False, random_state=None,\n",
      "   selection='cyclic', tol=0.0001, warm_start=False)\n",
      "GridBestParamsLasso= {'alpha': 0.0}\n",
      "GridBestScoreLasso= 358.4295280251278\n"
     ]
    }
   ],
   "source": [
    "alpha_grid = {\"alpha\":np.linspace(0,5,200)}\n",
    "grid_search2 = GridSearchCV(las, param_grid=alpha_grid, n_jobs=4, cv=5,\n",
    "                       scoring='neg_mean_squared_error').fit(X_train,y_train)\n",
    "print('GridBestEstimatorLasso=', grid_search2.best_estimator_)\n",
    "print('GridBestParamsLasso=', grid_search2.best_params_)\n",
    "print('GridBestScoreLasso=', -grid_search2.best_score_)"
   ]
  },
  {
   "cell_type": "code",
   "execution_count": 70,
   "metadata": {},
   "outputs": [
    {
     "name": "stdout",
     "output_type": "stream",
     "text": [
      "Mean: 358.43\n",
      "Standard deviation: 1.06\n"
     ]
    }
   ],
   "source": [
    "las = Lasso(alpha=grid_search2.best_params_['alpha']).fit(X_train, y_train)\n",
    "laskf = cross_val_score(las, X_train, y_train, cv=5, \n",
    "                      scoring=\"neg_mean_squared_error\")\n",
    "print(\"Mean:\", round(-laskf.mean(),2))\n",
    "print(\"Standard deviation:\",round(laskf.std(),2))"
   ]
  },
  {
   "cell_type": "code",
   "execution_count": 71,
   "metadata": {},
   "outputs": [
    {
     "data": {
      "text/plain": [
       "array([ 8.20274356e-01,  5.58328182e+01,  7.66031335e-01, -1.86186706e-01,\n",
       "       -2.53465278e+00, -6.18930388e-01,  3.20490485e-01, -5.93524694e-02,\n",
       "        8.93589861e-02,  8.31330807e-03,  1.01268814e-01])"
      ]
     },
     "execution_count": 71,
     "metadata": {},
     "output_type": "execute_result"
    }
   ],
   "source": [
    "las.coef_"
   ]
  },
  {
   "cell_type": "markdown",
   "metadata": {},
   "source": [
    "##### Ridge Regression"
   ]
  },
  {
   "cell_type": "code",
   "execution_count": 72,
   "metadata": {},
   "outputs": [],
   "source": [
    "rid = Ridge(alpha=1).fit(X_train, y_train)"
   ]
  },
  {
   "cell_type": "code",
   "execution_count": 73,
   "metadata": {},
   "outputs": [
    {
     "name": "stdout",
     "output_type": "stream",
     "text": [
      "GridBestEstimatorRidge= Ridge(alpha=1.0, copy_X=True, fit_intercept=True, max_iter=None,\n",
      "   normalize=False, random_state=None, solver='auto', tol=0.001)\n",
      "GridBestParamsRidge {'alpha': 1.0}\n",
      "GridBestScoreRidge= 358.4295284663578\n"
     ]
    }
   ],
   "source": [
    "alpha_grid = {\"alpha\":np.linspace(1,50,1000)}\n",
    "grid_search1 = GridSearchCV(rid, param_grid=alpha_grid, n_jobs=4, cv=5,\n",
    "                       scoring='neg_mean_squared_error').fit(X_train,y_train)\n",
    "print('GridBestEstimatorRidge=', grid_search1.best_estimator_)\n",
    "print('GridBestParamsRidge', grid_search1.best_params_)\n",
    "print('GridBestScoreRidge=', -grid_search1.best_score_)"
   ]
  },
  {
   "cell_type": "code",
   "execution_count": 74,
   "metadata": {},
   "outputs": [
    {
     "name": "stdout",
     "output_type": "stream",
     "text": [
      "Mean: 358.43\n",
      "Standard deviation: 1.06\n"
     ]
    }
   ],
   "source": [
    "rid = Ridge(alpha=grid_search1.best_params_['alpha']).fit(X_train, y_train)\n",
    "ridkf = cross_val_score(rid, X_train, y_train, cv=5, scoring=\"neg_mean_squared_error\")\n",
    "print(\"Mean:\",round(-ridkf.mean(),2))\n",
    "print(\"Standard deviation:\",round(ridkf.std(),2))"
   ]
  },
  {
   "cell_type": "markdown",
   "metadata": {},
   "source": [
    "##### Bayesian Ridge Regression"
   ]
  },
  {
   "cell_type": "markdown",
   "metadata": {},
   "source": [
    "https://scikit-learn.org/stable/auto_examples/linear_model/plot_bayesian_ridge.html#sphx-glr-auto-examples-linear-model-plot-bayesian-ridge-py"
   ]
  },
  {
   "cell_type": "markdown",
   "metadata": {},
   "source": [
    "http://citeseerx.ist.psu.edu/viewdoc/download?doi=10.1.1.27.9072&rep=rep1&type=pdf"
   ]
  },
  {
   "cell_type": "code",
   "execution_count": 75,
   "metadata": {},
   "outputs": [
    {
     "name": "stdout",
     "output_type": "stream",
     "text": [
      "Mean: 358.43\n",
      "Standard deviation: 1.06\n"
     ]
    }
   ],
   "source": [
    "bay = BayesianRidge().fit(X_train, y_train)\n",
    "baykf=cross_val_score(bay, X_train, y_train, cv=5, \n",
    "                      scoring=\"neg_mean_squared_error\")\n",
    "print(\"Mean:\",round(-baykf.mean(),2))\n",
    "print(\"Standard deviation:\",round(baykf.std(),2))"
   ]
  },
  {
   "cell_type": "markdown",
   "metadata": {},
   "source": [
    "##### Decision Tree"
   ]
  },
  {
   "cell_type": "code",
   "execution_count": 76,
   "metadata": {},
   "outputs": [],
   "source": [
    "tree = DecisionTreeRegressor().fit(X_train, y_train)"
   ]
  },
  {
   "cell_type": "code",
   "execution_count": 77,
   "metadata": {},
   "outputs": [
    {
     "name": "stdout",
     "output_type": "stream",
     "text": [
      "RandBestEstimatorTree= DecisionTreeRegressor(criterion='mse', max_depth=6, max_features=None,\n",
      "           max_leaf_nodes=None, min_impurity_decrease=0.0,\n",
      "           min_impurity_split=None, min_samples_leaf=64,\n",
      "           min_samples_split=92, min_weight_fraction_leaf=0.0,\n",
      "           presort=False, random_state=None, splitter='best')\n",
      "RandBestParamsTree= {'max_depth': 6, 'min_samples_leaf': 64, 'min_samples_split': 92}\n",
      "RandBestScoreTree= -357.7829235913748\n"
     ]
    }
   ],
   "source": [
    "param_dist_tree = {'max_depth': sp_randint(2, 100),\n",
    "               'min_samples_split': sp_randint(2, 100),\n",
    "               'min_samples_leaf': sp_randint(2, 100)}\n",
    "\n",
    "random_search_tree = RandomizedSearchCV(tree, param_distributions=param_dist_tree,\n",
    "                       n_jobs=4, cv=5, random_state=25,\n",
    "                       scoring='neg_mean_squared_error').fit(X_train, y_train)\n",
    "\n",
    "print('RandBestEstimatorTree=', random_search_tree.best_estimator_)\n",
    "print('RandBestParamsTree=', random_search_tree.best_params_)\n",
    "print('RandBestScoreTree=', random_search_tree.best_score_)"
   ]
  },
  {
   "cell_type": "code",
   "execution_count": 78,
   "metadata": {},
   "outputs": [],
   "source": [
    "bptree=random_search_tree.best_params_\n",
    "tree = DecisionTreeRegressor(max_depth = bptree['max_depth'],\n",
    "                             min_samples_leaf = bptree['min_samples_leaf'],\n",
    "                             min_samples_split = bptree['min_samples_split']).fit(X_train, y_train)"
   ]
  },
  {
   "cell_type": "code",
   "execution_count": 79,
   "metadata": {},
   "outputs": [
    {
     "name": "stdout",
     "output_type": "stream",
     "text": [
      "Mean: 357.78\n",
      "Standard deviation: 1.04\n"
     ]
    }
   ],
   "source": [
    "treekf=cross_val_score(tree, X_train, y_train, cv=5, \n",
    "                      scoring=\"neg_mean_squared_error\")\n",
    "print(\"Mean:\",round(-treekf.mean(),2))\n",
    "print(\"Standard deviation:\",round(treekf.std(),2))"
   ]
  },
  {
   "cell_type": "markdown",
   "metadata": {},
   "source": [
    "##### Random Forest"
   ]
  },
  {
   "cell_type": "code",
   "execution_count": 80,
   "metadata": {},
   "outputs": [],
   "source": [
    "rfr = RandomForestRegressor().fit(X_train, y_train)"
   ]
  },
  {
   "cell_type": "code",
   "execution_count": 81,
   "metadata": {},
   "outputs": [
    {
     "name": "stdout",
     "output_type": "stream",
     "text": [
      "RandBestEstimatorrfr= RandomForestRegressor(bootstrap=True, criterion='mse', max_depth=11,\n",
      "           max_features=4, max_leaf_nodes=None, min_impurity_decrease=0.0,\n",
      "           min_impurity_split=None, min_samples_leaf=17,\n",
      "           min_samples_split=18, min_weight_fraction_leaf=0.0,\n",
      "           n_estimators=102, n_jobs=None, oob_score=False,\n",
      "           random_state=None, verbose=0, warm_start=False)\n",
      "RandBestParamsrfr= {'max_depth': 11, 'max_features': 4, 'min_samples_leaf': 17, 'min_samples_split': 18, 'n_estimators': 102}\n",
      "RandBestScorerfr= 356.97362798750225\n"
     ]
    }
   ],
   "source": [
    "param_dist_rfr = {'n_estimators':sp_randint(10, 200),\n",
    "               'max_depth': sp_randint(5, 20),\n",
    "               'min_samples_split': sp_randint(0, 20),\n",
    "               'min_samples_leaf': sp_randint(0, 20),\n",
    "               'max_features':sp_randint(1,5)}\n",
    "\n",
    "random_search_rfr = RandomizedSearchCV(rfr, param_distributions=param_dist_rfr,\n",
    "                        n_jobs=4, cv=5, random_state=25,\n",
    "                       scoring='neg_mean_squared_error').fit(X_train, y_train)\n",
    "\n",
    "print('RandBestEstimatorrfr=', random_search_rfr.best_estimator_)\n",
    "print('RandBestParamsrfr=', random_search_rfr.best_params_)\n",
    "print('RandBestScorerfr=', -random_search_rfr.best_score_)"
   ]
  },
  {
   "cell_type": "code",
   "execution_count": 82,
   "metadata": {},
   "outputs": [],
   "source": [
    "bprfr=random_search_rfr.best_params_\n",
    "rfr = RandomForestRegressor(max_depth = bprfr['max_depth'],\n",
    "                             max_features = bprfr['max_features'],\n",
    "                             min_samples_leaf = bprfr['min_samples_leaf'],\n",
    "                             min_samples_split = bprfr['min_samples_split']).fit(X_train, y_train)"
   ]
  },
  {
   "cell_type": "code",
   "execution_count": 83,
   "metadata": {},
   "outputs": [
    {
     "name": "stdout",
     "output_type": "stream",
     "text": [
      "Mean: 357.28\n",
      "Standard deviation: 0.92\n"
     ]
    }
   ],
   "source": [
    "rfrkf=cross_val_score(rfr, X_train, y_train, cv=5, \n",
    "                      scoring=\"neg_mean_squared_error\")\n",
    "print(\"Mean:\",round(-rfrkf.mean(),2))\n",
    "print(\"Standard deviation:\",round(rfrkf.std(),2))"
   ]
  },
  {
   "cell_type": "markdown",
   "metadata": {},
   "source": [
    "##### Gradient Boosting"
   ]
  },
  {
   "cell_type": "code",
   "execution_count": 85,
   "metadata": {},
   "outputs": [
    {
     "name": "stdout",
     "output_type": "stream",
     "text": [
      "Mean: 357.81\n",
      "Standard deviation: 1.04\n"
     ]
    }
   ],
   "source": [
    "gra = GradientBoostingRegressor(random_state=10, n_estimators=50,).fit(X_train,y_train) \n",
    "grakf = cross_val_score(gra, X_train, y_train, cv=5, \n",
    "                        scoring = \"neg_mean_squared_error\")\n",
    "print(\"Mean:\",round(-grakf.mean(),2))\n",
    "print(\"Standard deviation:\",round(grakf.std(),2))"
   ]
  },
  {
   "cell_type": "code",
   "execution_count": 86,
   "metadata": {},
   "outputs": [
    {
     "name": "stdout",
     "output_type": "stream",
     "text": [
      "RandBestEstimatorxgb= GradientBoostingRegressor(alpha=0.2777777777777778, criterion='friedman_mse',\n",
      "             init=None, learning_rate=0.6000000000000001, loss='ls',\n",
      "             max_depth=4, max_features=None, max_leaf_nodes=None,\n",
      "             min_impurity_decrease=0.0, min_impurity_split=None,\n",
      "             min_samples_leaf=1, min_samples_split=2,\n",
      "             min_weight_fraction_leaf=0.0, n_estimators=68,\n",
      "             n_iter_no_change=None, presort='auto', random_state=None,\n",
      "             subsample=1.0, tol=0.0001, validation_fraction=0.1, verbose=0,\n",
      "             warm_start=False)\n",
      "RandBestParamsxgb= {'alpha': 0.2777777777777778, 'learning_rate': 0.6000000000000001, 'max_depth': 4, 'n_estimators': 68}\n",
      "RandBestScorexgb= 356.6571864381902\n"
     ]
    }
   ],
   "source": [
    "param_dist_gra = {'max_depth': sp_randint(1, 5),\n",
    "                  'n_estimators': sp_randint(20,100),\n",
    "                   'learning_rate': np.linspace(0.2, 0.8, 10),\n",
    "                   'alpha': np.linspace(0.2, 0.9, 10) }\n",
    "\n",
    "random_search_gra = RandomizedSearchCV(estimator = GradientBoostingRegressor(),\n",
    "                    param_distributions = param_dist_gra, n_jobs=4,iid=False, \n",
    "                    cv=5, random_state=25, scoring='neg_mean_squared_error').fit(X_train, y_train)\n",
    "\n",
    "print('RandBestEstimatorxgb=', random_search_gra.best_estimator_)\n",
    "print('RandBestParamsxgb=', random_search_gra.best_params_)\n",
    "print('RandBestScorexgb=', -random_search_gra.best_score_)"
   ]
  },
  {
   "cell_type": "code",
   "execution_count": 87,
   "metadata": {},
   "outputs": [],
   "source": [
    "bpgra = random_search_gra.best_params_\n",
    "gra = GradientBoostingRegressor(alpha=bpgra['alpha'],\n",
    "                    learning_rate=bpgra['learning_rate'],\n",
    "                    max_depth=bpgra['max_depth'],\n",
    "                    n_estimators=bpgra['n_estimators']).fit(X_train, y_train)"
   ]
  },
  {
   "cell_type": "code",
   "execution_count": 88,
   "metadata": {},
   "outputs": [
    {
     "name": "stdout",
     "output_type": "stream",
     "text": [
      "Mean: 356.66\n",
      "Standard deviation: 1.1\n"
     ]
    }
   ],
   "source": [
    "grakf=cross_val_score(gra, X_train, y_train, cv=5, \n",
    "                      scoring=\"neg_mean_squared_error\")\n",
    "print(\"Mean:\", round(-grakf.mean(),2))\n",
    "print(\"Standard deviation:\", round(grakf.std(),2))"
   ]
  },
  {
   "cell_type": "markdown",
   "metadata": {},
   "source": [
    "##### Multi-layer Perceptron"
   ]
  },
  {
   "cell_type": "code",
   "execution_count": 89,
   "metadata": {},
   "outputs": [
    {
     "ename": "KeyboardInterrupt",
     "evalue": "",
     "output_type": "error",
     "traceback": [
      "\u001b[1;31m---------------------------------------------------------------------------\u001b[0m",
      "\u001b[1;31mKeyboardInterrupt\u001b[0m                         Traceback (most recent call last)",
      "\u001b[1;32m<ipython-input-89-5e469382460e>\u001b[0m in \u001b[0;36m<module>\u001b[1;34m\u001b[0m\n\u001b[0;32m      1\u001b[0m \u001b[1;32mfrom\u001b[0m \u001b[0msklearn\u001b[0m\u001b[1;33m.\u001b[0m\u001b[0mneural_network\u001b[0m \u001b[1;32mimport\u001b[0m \u001b[0mMLPRegressor\u001b[0m\u001b[1;33m\u001b[0m\u001b[1;33m\u001b[0m\u001b[0m\n\u001b[1;32m----> 2\u001b[1;33m \u001b[0mmlp\u001b[0m\u001b[1;33m=\u001b[0m \u001b[0mMLPRegressor\u001b[0m\u001b[1;33m(\u001b[0m\u001b[0mactivation\u001b[0m\u001b[1;33m=\u001b[0m\u001b[1;34m'tanh'\u001b[0m\u001b[1;33m,\u001b[0m \u001b[0msolver\u001b[0m\u001b[1;33m=\u001b[0m\u001b[1;34m'lbfgs'\u001b[0m\u001b[1;33m,\u001b[0m \u001b[0malpha\u001b[0m\u001b[1;33m=\u001b[0m\u001b[1;36m0.1\u001b[0m\u001b[1;33m)\u001b[0m\u001b[1;33m.\u001b[0m\u001b[0mfit\u001b[0m\u001b[1;33m(\u001b[0m\u001b[0mX_train\u001b[0m\u001b[1;33m,\u001b[0m \u001b[0my_train\u001b[0m\u001b[1;33m)\u001b[0m\u001b[1;33m\u001b[0m\u001b[1;33m\u001b[0m\u001b[0m\n\u001b[0m",
      "\u001b[1;32m~\\Anaconda3\\lib\\site-packages\\sklearn\\neural_network\\multilayer_perceptron.py\u001b[0m in \u001b[0;36mfit\u001b[1;34m(self, X, y)\u001b[0m\n\u001b[0;32m    616\u001b[0m         \u001b[0mself\u001b[0m \u001b[1;33m:\u001b[0m \u001b[0mreturns\u001b[0m \u001b[0ma\u001b[0m \u001b[0mtrained\u001b[0m \u001b[0mMLP\u001b[0m \u001b[0mmodel\u001b[0m\u001b[1;33m.\u001b[0m\u001b[1;33m\u001b[0m\u001b[1;33m\u001b[0m\u001b[0m\n\u001b[0;32m    617\u001b[0m         \"\"\"\n\u001b[1;32m--> 618\u001b[1;33m         \u001b[1;32mreturn\u001b[0m \u001b[0mself\u001b[0m\u001b[1;33m.\u001b[0m\u001b[0m_fit\u001b[0m\u001b[1;33m(\u001b[0m\u001b[0mX\u001b[0m\u001b[1;33m,\u001b[0m \u001b[0my\u001b[0m\u001b[1;33m,\u001b[0m \u001b[0mincremental\u001b[0m\u001b[1;33m=\u001b[0m\u001b[1;32mFalse\u001b[0m\u001b[1;33m)\u001b[0m\u001b[1;33m\u001b[0m\u001b[1;33m\u001b[0m\u001b[0m\n\u001b[0m\u001b[0;32m    619\u001b[0m \u001b[1;33m\u001b[0m\u001b[0m\n\u001b[0;32m    620\u001b[0m     \u001b[1;33m@\u001b[0m\u001b[0mproperty\u001b[0m\u001b[1;33m\u001b[0m\u001b[1;33m\u001b[0m\u001b[0m\n",
      "\u001b[1;32m~\\Anaconda3\\lib\\site-packages\\sklearn\\neural_network\\multilayer_perceptron.py\u001b[0m in \u001b[0;36m_fit\u001b[1;34m(self, X, y, incremental)\u001b[0m\n\u001b[0;32m    374\u001b[0m         \u001b[1;32melif\u001b[0m \u001b[0mself\u001b[0m\u001b[1;33m.\u001b[0m\u001b[0msolver\u001b[0m \u001b[1;33m==\u001b[0m \u001b[1;34m'lbfgs'\u001b[0m\u001b[1;33m:\u001b[0m\u001b[1;33m\u001b[0m\u001b[1;33m\u001b[0m\u001b[0m\n\u001b[0;32m    375\u001b[0m             self._fit_lbfgs(X, y, activations, deltas, coef_grads,\n\u001b[1;32m--> 376\u001b[1;33m                             intercept_grads, layer_units)\n\u001b[0m\u001b[0;32m    377\u001b[0m         \u001b[1;32mreturn\u001b[0m \u001b[0mself\u001b[0m\u001b[1;33m\u001b[0m\u001b[1;33m\u001b[0m\u001b[0m\n\u001b[0;32m    378\u001b[0m \u001b[1;33m\u001b[0m\u001b[0m\n",
      "\u001b[1;32m~\\Anaconda3\\lib\\site-packages\\sklearn\\neural_network\\multilayer_perceptron.py\u001b[0m in \u001b[0;36m_fit_lbfgs\u001b[1;34m(self, X, y, activations, deltas, coef_grads, intercept_grads, layer_units)\u001b[0m\n\u001b[0;32m    464\u001b[0m             \u001b[0miprint\u001b[0m\u001b[1;33m=\u001b[0m\u001b[0miprint\u001b[0m\u001b[1;33m,\u001b[0m\u001b[1;33m\u001b[0m\u001b[1;33m\u001b[0m\u001b[0m\n\u001b[0;32m    465\u001b[0m             \u001b[0mpgtol\u001b[0m\u001b[1;33m=\u001b[0m\u001b[0mself\u001b[0m\u001b[1;33m.\u001b[0m\u001b[0mtol\u001b[0m\u001b[1;33m,\u001b[0m\u001b[1;33m\u001b[0m\u001b[1;33m\u001b[0m\u001b[0m\n\u001b[1;32m--> 466\u001b[1;33m             args=(X, y, activations, deltas, coef_grads, intercept_grads))\n\u001b[0m\u001b[0;32m    467\u001b[0m \u001b[1;33m\u001b[0m\u001b[0m\n\u001b[0;32m    468\u001b[0m         \u001b[0mself\u001b[0m\u001b[1;33m.\u001b[0m\u001b[0m_unpack\u001b[0m\u001b[1;33m(\u001b[0m\u001b[0moptimal_parameters\u001b[0m\u001b[1;33m)\u001b[0m\u001b[1;33m\u001b[0m\u001b[1;33m\u001b[0m\u001b[0m\n",
      "\u001b[1;32m~\\Anaconda3\\lib\\site-packages\\scipy\\optimize\\lbfgsb.py\u001b[0m in \u001b[0;36mfmin_l_bfgs_b\u001b[1;34m(func, x0, fprime, args, approx_grad, bounds, m, factr, pgtol, epsilon, iprint, maxfun, maxiter, disp, callback, maxls)\u001b[0m\n\u001b[0;32m    197\u001b[0m \u001b[1;33m\u001b[0m\u001b[0m\n\u001b[0;32m    198\u001b[0m     res = _minimize_lbfgsb(fun, x0, args=args, jac=jac, bounds=bounds,\n\u001b[1;32m--> 199\u001b[1;33m                            **opts)\n\u001b[0m\u001b[0;32m    200\u001b[0m     d = {'grad': res['jac'],\n\u001b[0;32m    201\u001b[0m          \u001b[1;34m'task'\u001b[0m\u001b[1;33m:\u001b[0m \u001b[0mres\u001b[0m\u001b[1;33m[\u001b[0m\u001b[1;34m'message'\u001b[0m\u001b[1;33m]\u001b[0m\u001b[1;33m,\u001b[0m\u001b[1;33m\u001b[0m\u001b[1;33m\u001b[0m\u001b[0m\n",
      "\u001b[1;32m~\\Anaconda3\\lib\\site-packages\\scipy\\optimize\\lbfgsb.py\u001b[0m in \u001b[0;36m_minimize_lbfgsb\u001b[1;34m(fun, x0, args, jac, bounds, disp, maxcor, ftol, gtol, eps, maxfun, maxiter, iprint, callback, maxls, **unknown_options)\u001b[0m\n\u001b[0;32m    333\u001b[0m             \u001b[1;31m# until the completion of the current minimization iteration.\u001b[0m\u001b[1;33m\u001b[0m\u001b[1;33m\u001b[0m\u001b[1;33m\u001b[0m\u001b[0m\n\u001b[0;32m    334\u001b[0m             \u001b[1;31m# Overwrite f and g:\u001b[0m\u001b[1;33m\u001b[0m\u001b[1;33m\u001b[0m\u001b[1;33m\u001b[0m\u001b[0m\n\u001b[1;32m--> 335\u001b[1;33m             \u001b[0mf\u001b[0m\u001b[1;33m,\u001b[0m \u001b[0mg\u001b[0m \u001b[1;33m=\u001b[0m \u001b[0mfunc_and_grad\u001b[0m\u001b[1;33m(\u001b[0m\u001b[0mx\u001b[0m\u001b[1;33m)\u001b[0m\u001b[1;33m\u001b[0m\u001b[1;33m\u001b[0m\u001b[0m\n\u001b[0m\u001b[0;32m    336\u001b[0m         \u001b[1;32melif\u001b[0m \u001b[0mtask_str\u001b[0m\u001b[1;33m.\u001b[0m\u001b[0mstartswith\u001b[0m\u001b[1;33m(\u001b[0m\u001b[1;34mb'NEW_X'\u001b[0m\u001b[1;33m)\u001b[0m\u001b[1;33m:\u001b[0m\u001b[1;33m\u001b[0m\u001b[1;33m\u001b[0m\u001b[0m\n\u001b[0;32m    337\u001b[0m             \u001b[1;31m# new iteration\u001b[0m\u001b[1;33m\u001b[0m\u001b[1;33m\u001b[0m\u001b[1;33m\u001b[0m\u001b[0m\n",
      "\u001b[1;32m~\\Anaconda3\\lib\\site-packages\\scipy\\optimize\\lbfgsb.py\u001b[0m in \u001b[0;36mfunc_and_grad\u001b[1;34m(x)\u001b[0m\n\u001b[0;32m    283\u001b[0m     \u001b[1;32melse\u001b[0m\u001b[1;33m:\u001b[0m\u001b[1;33m\u001b[0m\u001b[1;33m\u001b[0m\u001b[0m\n\u001b[0;32m    284\u001b[0m         \u001b[1;32mdef\u001b[0m \u001b[0mfunc_and_grad\u001b[0m\u001b[1;33m(\u001b[0m\u001b[0mx\u001b[0m\u001b[1;33m)\u001b[0m\u001b[1;33m:\u001b[0m\u001b[1;33m\u001b[0m\u001b[1;33m\u001b[0m\u001b[0m\n\u001b[1;32m--> 285\u001b[1;33m             \u001b[0mf\u001b[0m \u001b[1;33m=\u001b[0m \u001b[0mfun\u001b[0m\u001b[1;33m(\u001b[0m\u001b[0mx\u001b[0m\u001b[1;33m,\u001b[0m \u001b[1;33m*\u001b[0m\u001b[0margs\u001b[0m\u001b[1;33m)\u001b[0m\u001b[1;33m\u001b[0m\u001b[1;33m\u001b[0m\u001b[0m\n\u001b[0m\u001b[0;32m    286\u001b[0m             \u001b[0mg\u001b[0m \u001b[1;33m=\u001b[0m \u001b[0mjac\u001b[0m\u001b[1;33m(\u001b[0m\u001b[0mx\u001b[0m\u001b[1;33m,\u001b[0m \u001b[1;33m*\u001b[0m\u001b[0margs\u001b[0m\u001b[1;33m)\u001b[0m\u001b[1;33m\u001b[0m\u001b[1;33m\u001b[0m\u001b[0m\n\u001b[0;32m    287\u001b[0m             \u001b[1;32mreturn\u001b[0m \u001b[0mf\u001b[0m\u001b[1;33m,\u001b[0m \u001b[0mg\u001b[0m\u001b[1;33m\u001b[0m\u001b[1;33m\u001b[0m\u001b[0m\n",
      "\u001b[1;32m~\\Anaconda3\\lib\\site-packages\\scipy\\optimize\\optimize.py\u001b[0m in \u001b[0;36mfunction_wrapper\u001b[1;34m(*wrapper_args)\u001b[0m\n\u001b[0;32m    291\u001b[0m     \u001b[1;32mdef\u001b[0m \u001b[0mfunction_wrapper\u001b[0m\u001b[1;33m(\u001b[0m\u001b[1;33m*\u001b[0m\u001b[0mwrapper_args\u001b[0m\u001b[1;33m)\u001b[0m\u001b[1;33m:\u001b[0m\u001b[1;33m\u001b[0m\u001b[1;33m\u001b[0m\u001b[0m\n\u001b[0;32m    292\u001b[0m         \u001b[0mncalls\u001b[0m\u001b[1;33m[\u001b[0m\u001b[1;36m0\u001b[0m\u001b[1;33m]\u001b[0m \u001b[1;33m+=\u001b[0m \u001b[1;36m1\u001b[0m\u001b[1;33m\u001b[0m\u001b[1;33m\u001b[0m\u001b[0m\n\u001b[1;32m--> 293\u001b[1;33m         \u001b[1;32mreturn\u001b[0m \u001b[0mfunction\u001b[0m\u001b[1;33m(\u001b[0m\u001b[1;33m*\u001b[0m\u001b[1;33m(\u001b[0m\u001b[0mwrapper_args\u001b[0m \u001b[1;33m+\u001b[0m \u001b[0margs\u001b[0m\u001b[1;33m)\u001b[0m\u001b[1;33m)\u001b[0m\u001b[1;33m\u001b[0m\u001b[1;33m\u001b[0m\u001b[0m\n\u001b[0m\u001b[0;32m    294\u001b[0m \u001b[1;33m\u001b[0m\u001b[0m\n\u001b[0;32m    295\u001b[0m     \u001b[1;32mreturn\u001b[0m \u001b[0mncalls\u001b[0m\u001b[1;33m,\u001b[0m \u001b[0mfunction_wrapper\u001b[0m\u001b[1;33m\u001b[0m\u001b[1;33m\u001b[0m\u001b[0m\n",
      "\u001b[1;32m~\\Anaconda3\\lib\\site-packages\\scipy\\optimize\\optimize.py\u001b[0m in \u001b[0;36m__call__\u001b[1;34m(self, x, *args)\u001b[0m\n\u001b[0;32m     61\u001b[0m     \u001b[1;32mdef\u001b[0m \u001b[0m__call__\u001b[0m\u001b[1;33m(\u001b[0m\u001b[0mself\u001b[0m\u001b[1;33m,\u001b[0m \u001b[0mx\u001b[0m\u001b[1;33m,\u001b[0m \u001b[1;33m*\u001b[0m\u001b[0margs\u001b[0m\u001b[1;33m)\u001b[0m\u001b[1;33m:\u001b[0m\u001b[1;33m\u001b[0m\u001b[1;33m\u001b[0m\u001b[0m\n\u001b[0;32m     62\u001b[0m         \u001b[0mself\u001b[0m\u001b[1;33m.\u001b[0m\u001b[0mx\u001b[0m \u001b[1;33m=\u001b[0m \u001b[0mnumpy\u001b[0m\u001b[1;33m.\u001b[0m\u001b[0masarray\u001b[0m\u001b[1;33m(\u001b[0m\u001b[0mx\u001b[0m\u001b[1;33m)\u001b[0m\u001b[1;33m.\u001b[0m\u001b[0mcopy\u001b[0m\u001b[1;33m(\u001b[0m\u001b[1;33m)\u001b[0m\u001b[1;33m\u001b[0m\u001b[1;33m\u001b[0m\u001b[0m\n\u001b[1;32m---> 63\u001b[1;33m         \u001b[0mfg\u001b[0m \u001b[1;33m=\u001b[0m \u001b[0mself\u001b[0m\u001b[1;33m.\u001b[0m\u001b[0mfun\u001b[0m\u001b[1;33m(\u001b[0m\u001b[0mx\u001b[0m\u001b[1;33m,\u001b[0m \u001b[1;33m*\u001b[0m\u001b[0margs\u001b[0m\u001b[1;33m)\u001b[0m\u001b[1;33m\u001b[0m\u001b[1;33m\u001b[0m\u001b[0m\n\u001b[0m\u001b[0;32m     64\u001b[0m         \u001b[0mself\u001b[0m\u001b[1;33m.\u001b[0m\u001b[0mjac\u001b[0m \u001b[1;33m=\u001b[0m \u001b[0mfg\u001b[0m\u001b[1;33m[\u001b[0m\u001b[1;36m1\u001b[0m\u001b[1;33m]\u001b[0m\u001b[1;33m\u001b[0m\u001b[1;33m\u001b[0m\u001b[0m\n\u001b[0;32m     65\u001b[0m         \u001b[1;32mreturn\u001b[0m \u001b[0mfg\u001b[0m\u001b[1;33m[\u001b[0m\u001b[1;36m0\u001b[0m\u001b[1;33m]\u001b[0m\u001b[1;33m\u001b[0m\u001b[1;33m\u001b[0m\u001b[0m\n",
      "\u001b[1;32m~\\Anaconda3\\lib\\site-packages\\sklearn\\neural_network\\multilayer_perceptron.py\u001b[0m in \u001b[0;36m_loss_grad_lbfgs\u001b[1;34m(self, packed_coef_inter, X, y, activations, deltas, coef_grads, intercept_grads)\u001b[0m\n\u001b[0;32m    173\u001b[0m         \u001b[0mself\u001b[0m\u001b[1;33m.\u001b[0m\u001b[0m_unpack\u001b[0m\u001b[1;33m(\u001b[0m\u001b[0mpacked_coef_inter\u001b[0m\u001b[1;33m)\u001b[0m\u001b[1;33m\u001b[0m\u001b[1;33m\u001b[0m\u001b[0m\n\u001b[0;32m    174\u001b[0m         loss, coef_grads, intercept_grads = self._backprop(\n\u001b[1;32m--> 175\u001b[1;33m             X, y, activations, deltas, coef_grads, intercept_grads)\n\u001b[0m\u001b[0;32m    176\u001b[0m         \u001b[0mself\u001b[0m\u001b[1;33m.\u001b[0m\u001b[0mn_iter_\u001b[0m \u001b[1;33m+=\u001b[0m \u001b[1;36m1\u001b[0m\u001b[1;33m\u001b[0m\u001b[1;33m\u001b[0m\u001b[0m\n\u001b[0;32m    177\u001b[0m         \u001b[0mgrad\u001b[0m \u001b[1;33m=\u001b[0m \u001b[0m_pack\u001b[0m\u001b[1;33m(\u001b[0m\u001b[0mcoef_grads\u001b[0m\u001b[1;33m,\u001b[0m \u001b[0mintercept_grads\u001b[0m\u001b[1;33m)\u001b[0m\u001b[1;33m\u001b[0m\u001b[1;33m\u001b[0m\u001b[0m\n",
      "\u001b[1;32m~\\Anaconda3\\lib\\site-packages\\sklearn\\neural_network\\multilayer_perceptron.py\u001b[0m in \u001b[0;36m_backprop\u001b[1;34m(self, X, y, activations, deltas, coef_grads, intercept_grads)\u001b[0m\n\u001b[0;32m    218\u001b[0m \u001b[1;33m\u001b[0m\u001b[0m\n\u001b[0;32m    219\u001b[0m         \u001b[1;31m# Forward propagate\u001b[0m\u001b[1;33m\u001b[0m\u001b[1;33m\u001b[0m\u001b[1;33m\u001b[0m\u001b[0m\n\u001b[1;32m--> 220\u001b[1;33m         \u001b[0mactivations\u001b[0m \u001b[1;33m=\u001b[0m \u001b[0mself\u001b[0m\u001b[1;33m.\u001b[0m\u001b[0m_forward_pass\u001b[0m\u001b[1;33m(\u001b[0m\u001b[0mactivations\u001b[0m\u001b[1;33m)\u001b[0m\u001b[1;33m\u001b[0m\u001b[1;33m\u001b[0m\u001b[0m\n\u001b[0m\u001b[0;32m    221\u001b[0m \u001b[1;33m\u001b[0m\u001b[0m\n\u001b[0;32m    222\u001b[0m         \u001b[1;31m# Get loss\u001b[0m\u001b[1;33m\u001b[0m\u001b[1;33m\u001b[0m\u001b[1;33m\u001b[0m\u001b[0m\n",
      "\u001b[1;32m~\\Anaconda3\\lib\\site-packages\\sklearn\\neural_network\\multilayer_perceptron.py\u001b[0m in \u001b[0;36m_forward_pass\u001b[1;34m(self, activations)\u001b[0m\n\u001b[0;32m    105\u001b[0m             \u001b[1;31m# For the hidden layers\u001b[0m\u001b[1;33m\u001b[0m\u001b[1;33m\u001b[0m\u001b[1;33m\u001b[0m\u001b[0m\n\u001b[0;32m    106\u001b[0m             \u001b[1;32mif\u001b[0m \u001b[1;33m(\u001b[0m\u001b[0mi\u001b[0m \u001b[1;33m+\u001b[0m \u001b[1;36m1\u001b[0m\u001b[1;33m)\u001b[0m \u001b[1;33m!=\u001b[0m \u001b[1;33m(\u001b[0m\u001b[0mself\u001b[0m\u001b[1;33m.\u001b[0m\u001b[0mn_layers_\u001b[0m \u001b[1;33m-\u001b[0m \u001b[1;36m1\u001b[0m\u001b[1;33m)\u001b[0m\u001b[1;33m:\u001b[0m\u001b[1;33m\u001b[0m\u001b[1;33m\u001b[0m\u001b[0m\n\u001b[1;32m--> 107\u001b[1;33m                 \u001b[0mactivations\u001b[0m\u001b[1;33m[\u001b[0m\u001b[0mi\u001b[0m \u001b[1;33m+\u001b[0m \u001b[1;36m1\u001b[0m\u001b[1;33m]\u001b[0m \u001b[1;33m=\u001b[0m \u001b[0mhidden_activation\u001b[0m\u001b[1;33m(\u001b[0m\u001b[0mactivations\u001b[0m\u001b[1;33m[\u001b[0m\u001b[0mi\u001b[0m \u001b[1;33m+\u001b[0m \u001b[1;36m1\u001b[0m\u001b[1;33m]\u001b[0m\u001b[1;33m)\u001b[0m\u001b[1;33m\u001b[0m\u001b[1;33m\u001b[0m\u001b[0m\n\u001b[0m\u001b[0;32m    108\u001b[0m \u001b[1;33m\u001b[0m\u001b[0m\n\u001b[0;32m    109\u001b[0m         \u001b[1;31m# For the last layer\u001b[0m\u001b[1;33m\u001b[0m\u001b[1;33m\u001b[0m\u001b[1;33m\u001b[0m\u001b[0m\n",
      "\u001b[1;32m~\\Anaconda3\\lib\\site-packages\\sklearn\\neural_network\\_base.py\u001b[0m in \u001b[0;36mtanh\u001b[1;34m(X)\u001b[0m\n\u001b[0;32m     56\u001b[0m         \u001b[0mThe\u001b[0m \u001b[0mtransformed\u001b[0m \u001b[0mdata\u001b[0m\u001b[1;33m.\u001b[0m\u001b[1;33m\u001b[0m\u001b[1;33m\u001b[0m\u001b[0m\n\u001b[0;32m     57\u001b[0m     \"\"\"\n\u001b[1;32m---> 58\u001b[1;33m     \u001b[1;32mreturn\u001b[0m \u001b[0mnp\u001b[0m\u001b[1;33m.\u001b[0m\u001b[0mtanh\u001b[0m\u001b[1;33m(\u001b[0m\u001b[0mX\u001b[0m\u001b[1;33m,\u001b[0m \u001b[0mout\u001b[0m\u001b[1;33m=\u001b[0m\u001b[0mX\u001b[0m\u001b[1;33m)\u001b[0m\u001b[1;33m\u001b[0m\u001b[1;33m\u001b[0m\u001b[0m\n\u001b[0m\u001b[0;32m     59\u001b[0m \u001b[1;33m\u001b[0m\u001b[0m\n\u001b[0;32m     60\u001b[0m \u001b[1;33m\u001b[0m\u001b[0m\n",
      "\u001b[1;31mKeyboardInterrupt\u001b[0m: "
     ]
    }
   ],
   "source": [
    "from sklearn.neural_network import MLPRegressor\n",
    "mlp= MLPRegressor(activation='tanh', solver='lbfgs', alpha=0.1).fit(X_train, y_train)"
   ]
  },
  {
   "cell_type": "code",
   "execution_count": null,
   "metadata": {},
   "outputs": [],
   "source": [
    "param_dist_mlp = {'hidden_layer_sizes':sp_randint(10, 100),\n",
    "               'activation':[\"logistic\", \"relu\"],\n",
    "               'alpha': sp_uniform(0.1, 10.0)}\n",
    "\n",
    "random_search_mlp = RandomizedSearchCV(mlp, param_distributions = param_dist_mlp,\n",
    "                       n_jobs=4, cv=5, random_state=25,\n",
    "                       scoring='neg_mean_squared_error').fit(X_train, y_train)\n",
    "\n",
    "print('RandBestEstimator5=', random_search_mlp.best_estimator_)\n",
    "print('RandBestParams5=', random_search_mlp.best_params_)\n",
    "print('RandBestScore5=', -random_search_mlp.best_score_)"
   ]
  },
  {
   "cell_type": "code",
   "execution_count": null,
   "metadata": {},
   "outputs": [],
   "source": [
    "bpmlp = random_search_mlp.best_params_\n",
    "mlp = MLPRegressor(hidden_layer_sizes = bpmlp['hidden_layer_sizes'],\n",
    "                           activation = bpmlp['activation'],\n",
    "                                alpha = bpmlp['alpha']).fit(X_train, y_train)"
   ]
  },
  {
   "cell_type": "code",
   "execution_count": null,
   "metadata": {},
   "outputs": [],
   "source": [
    "mlpkf = cross_val_score(mlp, X_train, y_train, cv=5, \n",
    "                      scoring=\"neg_mean_squared_error\")\n",
    "print(\"Mean:\", round(-mlpkf.mean(),2))\n",
    "print(\"Standard deviation:\", round(mlpkf.std(),2))"
   ]
  },
  {
   "cell_type": "markdown",
   "metadata": {},
   "source": [
    "##### Elastic Net"
   ]
  },
  {
   "cell_type": "code",
   "execution_count": null,
   "metadata": {},
   "outputs": [],
   "source": [
    "ela = ElasticNet(alpha=1,l1_ratio=0.5).fit(X_train, y_train)"
   ]
  },
  {
   "cell_type": "code",
   "execution_count": null,
   "metadata": {},
   "outputs": [],
   "source": [
    "alpha_ratio_grid = {\"alpha\": np.linspace(0,1,5),\n",
    "                  \"l1_ratio\": np.linspace(0,1,5)}\n",
    "\n",
    "grid_search3 = RandomizedSearchCV(ela, param_distributions = alpha_ratio_grid, \n",
    "                       n_jobs = 4, cv = 5, random_state = 25,\n",
    "                       scoring='neg_mean_squared_error').fit(X_train,y_train)\n",
    "\n",
    "print('GridBestEstimator=', grid_search3.best_estimator_)\n",
    "print('GridBestParams=', grid_search3.best_params_)\n",
    "print('GridBestScore=', -grid_search3.best_score_)"
   ]
  },
  {
   "cell_type": "code",
   "execution_count": null,
   "metadata": {},
   "outputs": [],
   "source": [
    "ela = ElasticNet(alpha=grid_search3.best_params_['alpha'],\n",
    "                l1_ratio=grid_search3.best_params_['l1_ratio']).fit(X_train, y_train)\n",
    "\n",
    "elakf = cross_val_score(ela, X_train, y_train, cv=5, scoring=\"neg_mean_squared_error\")\n",
    "print(\"Mean:\",round(-elakf.mean(),2))\n",
    "print(\"Standard deviation:\",round(elakf.std(),2))"
   ]
  },
  {
   "cell_type": "markdown",
   "metadata": {},
   "source": [
    "#### Model Comparsion"
   ]
  },
  {
   "cell_type": "markdown",
   "metadata": {},
   "source": [
    "#### Note:\n",
    "Models that we didn't report as they produce higher MSE:\n",
    "KNN, XGboost, Adaboost, SVM"
   ]
  },
  {
   "cell_type": "code",
   "execution_count": 124,
   "metadata": {},
   "outputs": [
    {
     "data": {
      "image/png": "[encoded data removed]",
      "text/plain": [
       "<Figure size 864x405 with 1 Axes>"
      ]
     },
     "metadata": {},
     "output_type": "display_data"
    }
   ],
   "source": [
    "results = pd.DataFrame({'CV MSE':[-treekf.mean(), -rfrkf.mean(), -grakf.mean(),\n",
    "                                -laskf.mean(), -ridkf.mean(), -baykf.mean(), -elakf.mean(), -mlpkf.mean()],\n",
    "                      \n",
    "                      'CV Std':[treekf.std(), rfrkf.std(), grakf.std(), \n",
    "                                laskf.std(), ridkf.std(), baykf.std(), elakf.std(), mlpkf.std()], \n",
    "                      \n",
    "                     'Name':[\"Regression Tree\",\"Random Forest\",\"Gradient Boosting\", \n",
    "                             \"Lasso Regression\", \"Ridge Regression\", \"Bayesian Ridge\", \n",
    "                            \"Elastic Net\",  \"Multi-layer Perceptrons\"],\n",
    "                     \n",
    "                     'Class':['Tree', 'Tree', 'Boosting', 'Linear', 'Linear', \n",
    "                              'Bayeisan', 'Linear', 'Neural Nets'],})\n",
    "                     \n",
    "results = results.sort_values(by=['CV MSE']).round(2)\n",
    "render_mpl_table(results, header_columns=0, col_width=3.0)\n",
    "plt.savefig('regres.png')"
   ]
  },
  {
   "cell_type": "code",
   "execution_count": 125,
   "metadata": {},
   "outputs": [
    {
     "data": {
      "image/png": "[encoded data removed]",
      "text/plain": [
       "<Figure size 864x864 with 1 Axes>"
      ]
     },
     "metadata": {},
     "output_type": "display_data"
    }
   ],
   "source": [
    "plt.figure(figsize = (12,12))\n",
    "\n",
    "ax=sns.scatterplot(x='CV MSE', y='CV Std', hue='Class', style='Class',\n",
    "                   data=results)\n",
    "#plt.legend()\n",
    "#ax.set_xlim(min(results['CV MSE']), max(results['CV MSE']))\n",
    "#ax.set_ylim(min(results['CV Std']), max(results['CV Std']), 1000)\n",
    "for line in range(0,results.shape[0]):\n",
    "     ax.text(results['CV MSE'][line], results['CV Std'][line], \n",
    "             results.index[line], horizontalalignment='center', \n",
    "             verticalalignment='bottom',\n",
    "             bbox=dict(facecolor='maroon', alpha=0.1, pad=1), fontsize=15)\n",
    "plt.savefig('Model Scatter.png')"
   ]
  },
  {
   "cell_type": "code",
   "execution_count": 126,
   "metadata": {},
   "outputs": [
    {
     "data": {
      "text/html": [
       "<div>\n",
       "<style scoped>\n",
       "    .dataframe tbody tr th:only-of-type {\n",
       "        vertical-align: middle;\n",
       "    }\n",
       "\n",
       "    .dataframe tbody tr th {\n",
       "        vertical-align: top;\n",
       "    }\n",
       "\n",
       "    .dataframe thead th {\n",
       "        text-align: right;\n",
       "    }\n",
       "</style>\n",
       "<table border=\"1\" class=\"dataframe\">\n",
       "  <thead>\n",
       "    <tr style=\"text-align: right;\">\n",
       "      <th></th>\n",
       "      <th>CV MSE</th>\n",
       "      <th>CV Std</th>\n",
       "      <th>Name</th>\n",
       "      <th>Class</th>\n",
       "    </tr>\n",
       "  </thead>\n",
       "  <tbody>\n",
       "    <tr>\n",
       "      <th>2</th>\n",
       "      <td>356.73</td>\n",
       "      <td>1.09</td>\n",
       "      <td>Gradient Boosting</td>\n",
       "      <td>Boosting</td>\n",
       "    </tr>\n",
       "    <tr>\n",
       "      <th>1</th>\n",
       "      <td>357.74</td>\n",
       "      <td>1.04</td>\n",
       "      <td>Random Forest</td>\n",
       "      <td>Tree</td>\n",
       "    </tr>\n",
       "    <tr>\n",
       "      <th>0</th>\n",
       "      <td>357.93</td>\n",
       "      <td>1.02</td>\n",
       "      <td>Regression Tree</td>\n",
       "      <td>Tree</td>\n",
       "    </tr>\n",
       "    <tr>\n",
       "      <th>7</th>\n",
       "      <td>358.47</td>\n",
       "      <td>1.06</td>\n",
       "      <td>Multi-layer Perceptrons</td>\n",
       "      <td>Neural Nets</td>\n",
       "    </tr>\n",
       "    <tr>\n",
       "      <th>3</th>\n",
       "      <td>358.55</td>\n",
       "      <td>1.06</td>\n",
       "      <td>Lasso Regression</td>\n",
       "      <td>Linear</td>\n",
       "    </tr>\n",
       "    <tr>\n",
       "      <th>6</th>\n",
       "      <td>358.55</td>\n",
       "      <td>1.06</td>\n",
       "      <td>Elastic Net</td>\n",
       "      <td>Linear</td>\n",
       "    </tr>\n",
       "    <tr>\n",
       "      <th>5</th>\n",
       "      <td>358.55</td>\n",
       "      <td>1.06</td>\n",
       "      <td>Bayesian Ridge</td>\n",
       "      <td>Bayeisan</td>\n",
       "    </tr>\n",
       "    <tr>\n",
       "      <th>4</th>\n",
       "      <td>358.55</td>\n",
       "      <td>1.06</td>\n",
       "      <td>Ridge Regression</td>\n",
       "      <td>Linear</td>\n",
       "    </tr>\n",
       "  </tbody>\n",
       "</table>\n",
       "</div>"
      ],
      "text/plain": [
       "   CV MSE  CV Std                     Name        Class\n",
       "2  356.73    1.09        Gradient Boosting     Boosting\n",
       "1  357.74    1.04            Random Forest         Tree\n",
       "0  357.93    1.02          Regression Tree         Tree\n",
       "7  358.47    1.06  Multi-layer Perceptrons  Neural Nets\n",
       "3  358.55    1.06         Lasso Regression       Linear\n",
       "6  358.55    1.06              Elastic Net       Linear\n",
       "5  358.55    1.06           Bayesian Ridge     Bayeisan\n",
       "4  358.55    1.06         Ridge Regression       Linear"
      ]
     },
     "execution_count": 126,
     "metadata": {},
     "output_type": "execute_result"
    }
   ],
   "source": [
    "results"
   ]
  },
  {
   "cell_type": "code",
   "execution_count": 176,
   "metadata": {},
   "outputs": [
    {
     "data": {
      "text/plain": [
       "<Figure size 600x600 with 0 Axes>"
      ]
     },
     "metadata": {},
     "output_type": "display_data"
    },
    {
     "data": {
      "image/png": "[encoded data removed]",
      "text/plain": [
       "<Figure size 640x480 with 1 Axes>"
      ]
     },
     "metadata": {},
     "output_type": "display_data"
    }
   ],
   "source": [
    "#plt.rcdefaults()\n",
    "plt.figure(figsize = (6,6))\n",
    "\n",
    "fig, ax = plt.subplots()\n",
    "\n",
    "ax.barh(results['Name'], results['CV MSE'], xerr=results['CV Std'],\n",
    "        align='center', color='r', alpha=0.5, ls=\":\")\n",
    "ax.set_xlim([355,360])\n",
    "#ax.set_yticklabels(results['Name'])\n",
    "ax.invert_yaxis()  # labels read top-to-bottom\n",
    "ax.set_xlabel('CV MSE')\n",
    "ax.set_title('Model Performance')\n",
    "plt.savefig('Performance.png')"
   ]
  },
  {
   "cell_type": "code",
   "execution_count": 127,
   "metadata": {},
   "outputs": [
    {
     "data": {
      "image/png": "[encoded data removed]",
      "text/plain": [
       "<Figure size 576x576 with 1 Axes>"
      ]
     },
     "metadata": {},
     "output_type": "display_data"
    }
   ],
   "source": [
    "plt.figure(figsize = (8,8))\n",
    "\n",
    "ind = results['Name']\n",
    "mse = results['CV MSE']\n",
    "err = results['CV Std']*1.96/np.sqrt(len(X))\n",
    "\n",
    "plt.errorbar(ind, mse, err, linestyle='None', marker='*',  mfc='maroon',\n",
    "         mec='maroon', ms=10, mew=1, ls=':')\n",
    "plt.xticks(rotation=30)\n",
    "plt.ylabel('MSE')\n",
    "plt.title('Model Performance: Confidence Interval of MSE', fontsize=15)\n",
    "plt.savefig('Model Performance.png')"
   ]
  },
  {
   "cell_type": "markdown",
   "metadata": {},
   "source": [
    "#### Performance on test set"
   ]
  },
  {
   "cell_type": "code",
   "execution_count": 180,
   "metadata": {},
   "outputs": [
    {
     "data": {
      "text/plain": [
       "357.7008311464775"
      ]
     },
     "execution_count": 180,
     "metadata": {},
     "output_type": "execute_result"
    }
   ],
   "source": [
    "mean_squared_error(rfr.predict(X_test), y_test)"
   ]
  },
  {
   "cell_type": "code",
   "execution_count": 96,
   "metadata": {},
   "outputs": [
    {
     "data": {
      "text/plain": [
       "356.56518122288804"
      ]
     },
     "execution_count": 96,
     "metadata": {},
     "output_type": "execute_result"
    }
   ],
   "source": [
    "mean_squared_error(gra.predict(X_test), y_test)"
   ]
  },
  {
   "cell_type": "code",
   "execution_count": 97,
   "metadata": {},
   "outputs": [
    {
     "data": {
      "text/plain": [
       "357.7008311464775"
      ]
     },
     "execution_count": 97,
     "metadata": {},
     "output_type": "execute_result"
    }
   ],
   "source": [
    "mean_squared_error(rfr.predict(X_test), y_test)"
   ]
  },
  {
   "cell_type": "code",
   "execution_count": 178,
   "metadata": {},
   "outputs": [
    {
     "data": {
      "text/plain": [
       "358.22110938924834"
      ]
     },
     "execution_count": 178,
     "metadata": {},
     "output_type": "execute_result"
    }
   ],
   "source": [
    "mean_squared_error(lin.predict(X_test), y_test)"
   ]
  },
  {
   "cell_type": "code",
   "execution_count": 105,
   "metadata": {},
   "outputs": [
    {
     "name": "stdout",
     "output_type": "stream",
     "text": [
      "Minutes to run 93.93365021149317\n"
     ]
    }
   ],
   "source": [
    "end = time.time()\n",
    "print(\"Minutes to run\",(end-start)/60)"
   ]
  },
  {
   "cell_type": "markdown",
   "metadata": {},
   "source": [
    "#### Visualization"
   ]
  },
  {
   "cell_type": "code",
   "execution_count": 177,
   "metadata": {},
   "outputs": [
    {
     "data": {
      "text/plain": [
       "18.920887928424502"
      ]
     },
     "execution_count": 177,
     "metadata": {},
     "output_type": "execute_result"
    }
   ],
   "source": [
    "np.sqrt(358)"
   ]
  },
  {
   "cell_type": "code",
   "execution_count": 159,
   "metadata": {},
   "outputs": [
    {
     "data": {
      "text/plain": [
       "Index(['cts_bus', 'star_bus', 'gender', 'weekend', 'group'], dtype='object')"
      ]
     },
     "execution_count": 159,
     "metadata": {},
     "output_type": "execute_result"
    }
   ],
   "source": [
    "X.columns"
   ]
  },
  {
   "cell_type": "code",
   "execution_count": null,
   "metadata": {},
   "outputs": [],
   "source": [
    "from sklearn.tree import export_graphviz\n",
    "import graphviz\n",
    "tree_viz = export_graphviz(\n",
    "    tree,\n",
    "    out_file=\"tree.png\",\n",
    "    feature_names=['cts_bus', 'star_bus', 'gender', 'weekend', 'group'],\n",
    "    class_names=y,\n",
    "    rounded=True,\n",
    "    filled=True,\n",
    "    precision=1\n",
    ")\n",
    "\n",
    "graph = graphviz.Source(tree_viz)\n",
    "graph.render('tree_viz')\n",
    "#graph"
   ]
  }
 ],
 "metadata": {
  "kernelspec": {
   "display_name": "Python 3",
   "language": "python",
   "name": "python3"
  },
  "language_info": {
   "codemirror_mode": {
    "name": "ipython",
    "version": 3
   },
   "file_extension": ".py",
   "mimetype": "text/x-python",
   "name": "python",
   "nbconvert_exporter": "python",
   "pygments_lexer": "ipython3",
   "version": "3.7.2"
  },
  "toc": {
   "base_numbering": 1,
   "nav_menu": {
    "height": "558px",
    "width": "293px"
   },
   "number_sections": true,
   "sideBar": true,
   "skip_h1_title": false,
   "title_cell": "Table of Contents",
   "title_sidebar": "Contents",
   "toc_cell": false,
   "toc_position": {},
   "toc_section_display": true,
   "toc_window_display": false
  }
 },
 "nbformat": 4,
 "nbformat_minor": 2
}
